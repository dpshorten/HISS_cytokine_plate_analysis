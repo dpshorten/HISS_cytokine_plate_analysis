{
 "cells": [
  {
   "cell_type": "code",
   "execution_count": null,
   "id": "initial_id",
   "metadata": {
    "ExecuteTime": {
     "end_time": "2024-09-12T06:29:41.371163Z",
     "start_time": "2024-09-12T06:29:41.354754Z"
    }
   },
   "outputs": [],
   "source": [
    "import pickle\n",
    "import os\n",
    "import yaml\n",
    "import sys\n",
    "import seaborn as sns\n",
    "import numpy as np\n",
    "from scipy.optimize import curve_fit\n",
    "import matplotlib.pyplot as plt\n",
    "\n",
    "import pandas as pd\n",
    "pd.options.mode.chained_assignment = None\n",
    "\n",
    "sys.path.append('../python/')\n",
    "import plate_util\n",
    "import calibration_curves"
   ]
  },
  {
   "cell_type": "code",
   "execution_count": null,
   "id": "b191b34548520abd",
   "metadata": {
    "ExecuteTime": {
     "end_time": "2024-09-12T06:29:41.479566Z",
     "start_time": "2024-09-12T06:29:41.371914Z"
    }
   },
   "outputs": [],
   "source": [
    "dict_parameters = yaml.safe_load(open(\"../parameters/july_2024_data_parameters.yaml\", \"r\"))"
   ]
  },
  {
   "cell_type": "code",
   "execution_count": null,
   "id": "41624904b882b9eb",
   "metadata": {
    "ExecuteTime": {
     "end_time": "2024-09-12T06:29:41.507768Z",
     "start_time": "2024-09-12T06:29:41.481595Z"
    }
   },
   "outputs": [],
   "source": [
    "pd_df_plate_data = pd.read_csv(\n",
    "        open(\n",
    "            os.path.join(\n",
    "                dict_parameters[\"output directory path\"],\n",
    "                dict_parameters[\"plate data with locations file name\"]\n",
    "            ),\n",
    "            \"rb\"\n",
    "        )\n",
    "    )"
   ]
  },
  {
   "cell_type": "code",
   "execution_count": null,
   "id": "6204213c81cdbbc6",
   "metadata": {
    "ExecuteTime": {
     "end_time": "2024-09-12T06:29:41.529562Z",
     "start_time": "2024-09-12T06:29:41.509453Z"
    }
   },
   "outputs": [],
   "source": [
    "pd_df_plate_data"
   ]
  },
  {
   "cell_type": "code",
   "execution_count": null,
   "id": "4ac3682424421292",
   "metadata": {
    "ExecuteTime": {
     "end_time": "2024-09-12T06:29:41.630241Z",
     "start_time": "2024-09-12T06:29:41.530359Z"
    }
   },
   "outputs": [],
   "source": [
    "pd_df_calibration_concentrations = plate_util.read_and_clean_calibration_concentrations(dict_parameters)"
   ]
  },
  {
   "cell_type": "code",
   "execution_count": null,
   "id": "699581c23ab8435d",
   "metadata": {
    "ExecuteTime": {
     "end_time": "2024-09-12T06:29:41.642573Z",
     "start_time": "2024-09-12T06:29:41.631219Z"
    }
   },
   "outputs": [],
   "source": [
    "pd_df_calibration_concentrations"
   ]
  },
  {
   "cell_type": "code",
   "execution_count": null,
   "id": "8d008ece055f86e5",
   "metadata": {
    "ExecuteTime": {
     "end_time": "2024-09-12T06:29:41.650893Z",
     "start_time": "2024-09-12T06:29:41.643635Z"
    }
   },
   "outputs": [],
   "source": [
    "pd_df_plate_data_with_calibration_concentrations = calibration_curves.merge_calibration_concentrations_with_plate_data(\n",
    "    pd_df_plate_data,\n",
    "    pd_df_calibration_concentrations\n",
    ")"
   ]
  },
  {
   "cell_type": "code",
   "execution_count": null,
   "id": "5bc4120b09ba604e",
   "metadata": {
    "ExecuteTime": {
     "end_time": "2024-09-12T06:29:41.667984Z",
     "start_time": "2024-09-12T06:29:41.652626Z"
    }
   },
   "outputs": [],
   "source": [
    "pd_df_plate_data_with_calibration_concentrations"
   ]
  },
  {
   "cell_type": "code",
   "execution_count": null,
   "id": "b87383afb81f1d44",
   "metadata": {
    "ExecuteTime": {
     "end_time": "2024-09-12T06:29:43.203299Z",
     "start_time": "2024-09-12T06:29:41.668839Z"
    }
   },
   "outputs": [],
   "source": [
    "dict_calibration_results = calibration_curves.fit_calibration_curves(\n",
    "    dict_parameters, \n",
    "    pd_df_plate_data_with_calibration_concentrations\n",
    ")"
   ]
  },
  {
   "cell_type": "code",
   "execution_count": null,
   "id": "8f23ed3fb8c00b1f",
   "metadata": {
    "ExecuteTime": {
     "end_time": "2024-09-12T06:29:43.224675Z",
     "start_time": "2024-09-12T06:29:43.204350Z"
    }
   },
   "outputs": [],
   "source": [
    "dict_calibration_results"
   ]
  },
  {
   "cell_type": "code",
   "execution_count": null,
   "id": "d5db9a1b2a9a7f",
   "metadata": {
    "ExecuteTime": {
     "end_time": "2024-09-12T06:29:43.228595Z",
     "start_time": "2024-09-12T06:29:43.226667Z"
    }
   },
   "outputs": [],
   "source": []
  },
  {
   "cell_type": "code",
   "execution_count": null,
   "id": "2b2e24b6df227c72",
   "metadata": {
    "ExecuteTime": {
     "end_time": "2024-09-12T06:29:43.232075Z",
     "start_time": "2024-09-12T06:29:43.230440Z"
    }
   },
   "outputs": [],
   "source": []
  }
 ],
 "metadata": {
  "kernelspec": {
   "display_name": "Python 3",
   "language": "python",
   "name": "python3"
  },
  "language_info": {
   "codemirror_mode": {
    "name": "ipython",
    "version": 2
   },
   "file_extension": ".py",
   "mimetype": "text/x-python",
   "name": "python",
   "nbconvert_exporter": "python",
   "pygments_lexer": "ipython2",
   "version": "2.7.6"
  }
 },
 "nbformat": 4,
 "nbformat_minor": 5
}
