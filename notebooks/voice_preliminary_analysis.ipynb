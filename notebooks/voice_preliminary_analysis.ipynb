{
 "cells": [
  {
   "cell_type": "code",
   "execution_count": null,
   "id": "initial_id",
   "metadata": {
    "ExecuteTime": {
     "end_time": "2024-11-28T00:44:29.541414Z",
     "start_time": "2024-11-28T00:44:27.447010Z"
    }
   },
   "outputs": [],
   "source": [
    "import pandas as pd\n",
    "import matplotlib.pyplot as plt\n",
    "from sklearn.cluster import KMeans\n",
    "from sklearn.preprocessing import StandardScaler\n",
    "from scipy import stats"
   ]
  },
  {
   "cell_type": "code",
   "execution_count": null,
   "id": "f60d6e17211b9db3",
   "metadata": {
    "ExecuteTime": {
     "end_time": "2024-11-28T00:44:30.079994Z",
     "start_time": "2024-11-28T00:44:29.544291Z"
    }
   },
   "outputs": [],
   "source": [
    "pd_df_voice_data = pd.read_excel('../data/KNOW_19_07_2024_Report - ADL 04SEP2024.xlsx')"
   ]
  },
  {
   "cell_type": "code",
   "execution_count": null,
   "id": "c3dfa134da49a7a3",
   "metadata": {
    "ExecuteTime": {
     "end_time": "2024-11-28T00:44:30.114793Z",
     "start_time": "2024-11-28T00:44:30.081707Z"
    }
   },
   "outputs": [],
   "source": [
    "pd_df_voice_data"
   ]
  },
  {
   "cell_type": "code",
   "execution_count": null,
   "id": "90c496bd55c46ea3",
   "metadata": {
    "ExecuteTime": {
     "end_time": "2024-11-28T00:44:30.122483Z",
     "start_time": "2024-11-28T00:44:30.117763Z"
    }
   },
   "outputs": [],
   "source": [
    "pd_df_voice_data_for_clustering = pd_df_voice_data.drop(\n",
    "    columns = pd_df_voice_data.columns[0:11]\n",
    ")"
   ]
  },
  {
   "cell_type": "code",
   "execution_count": null,
   "id": "c634cccef6f9e5c4",
   "metadata": {
    "ExecuteTime": {
     "end_time": "2024-11-28T00:44:30.147798Z",
     "start_time": "2024-11-28T00:44:30.123923Z"
    }
   },
   "outputs": [],
   "source": [
    "pd_df_voice_data_for_clustering"
   ]
  },
  {
   "cell_type": "code",
   "execution_count": null,
   "id": "92d1bbc9dc094dfb",
   "metadata": {
    "ExecuteTime": {
     "end_time": "2024-11-28T00:44:30.188515Z",
     "start_time": "2024-11-28T00:44:30.149997Z"
    }
   },
   "outputs": [],
   "source": [
    "pd_df_voice_data_for_clustering = pd_df_voice_data_for_clustering.fillna(pd_df_voice_data_for_clustering.mean())"
   ]
  },
  {
   "cell_type": "code",
   "execution_count": null,
   "id": "dc818c0dcc22c972",
   "metadata": {
    "ExecuteTime": {
     "end_time": "2024-11-28T00:44:30.205277Z",
     "start_time": "2024-11-28T00:44:30.189811Z"
    }
   },
   "outputs": [],
   "source": [
    "scaler_object = StandardScaler()\n",
    "pd_df_features_scaled = scaler_object.fit_transform(pd_df_voice_data_for_clustering)"
   ]
  },
  {
   "cell_type": "code",
   "execution_count": null,
   "id": "2053c8e23ac6b008",
   "metadata": {
    "ExecuteTime": {
     "end_time": "2024-11-28T00:44:30.498199Z",
     "start_time": "2024-11-28T00:44:30.207094Z"
    }
   },
   "outputs": [],
   "source": [
    "num_max_clusters = 10\n",
    "list_inertias = []\n",
    "list_k_values = list(range(1, num_max_clusters + 1))\n",
    "\n",
    "for k in list_k_values:\n",
    "    kmeans_object = KMeans(n_clusters=k, random_state=42)\n",
    "    kmeans_object.fit(pd_df_voice_data_for_clustering)\n",
    "    list_inertias.append(kmeans_object.inertia_)"
   ]
  },
  {
   "cell_type": "code",
   "execution_count": null,
   "id": "d3c64aa75dffb410",
   "metadata": {
    "ExecuteTime": {
     "end_time": "2024-11-28T00:44:30.802899Z",
     "start_time": "2024-11-28T00:44:30.501267Z"
    }
   },
   "outputs": [],
   "source": [
    "# Plot the elbow curve\n",
    "plt.figure(figsize=(10, 6))\n",
    "plt.plot(list_k_values, list_inertias, 'bo-')\n",
    "plt.xlabel('Number of Clusters (k)')\n",
    "plt.ylabel('Inertia')\n",
    "#plt.yscale('log')\n",
    "plt.title('Elbow Method for Optimal k')\n",
    "plt.grid(True)\n",
    "plt.show()"
   ]
  },
  {
   "cell_type": "code",
   "execution_count": null,
   "id": "41364cca8eae3064",
   "metadata": {
    "ExecuteTime": {
     "end_time": "2024-11-28T00:44:30.821334Z",
     "start_time": "2024-11-28T00:44:30.806063Z"
    }
   },
   "outputs": [],
   "source": [
    "kmeans_object = KMeans(n_clusters=2, random_state=42)\n",
    "kmeans_object.fit(pd_df_voice_data_for_clustering)\n",
    "pd_df_voice_data['Cluster'] = kmeans_object.labels_"
   ]
  },
  {
   "cell_type": "code",
   "execution_count": null,
   "id": "432dfb4bcb5cdda7",
   "metadata": {
    "ExecuteTime": {
     "end_time": "2024-11-28T00:44:30.855197Z",
     "start_time": "2024-11-28T00:44:30.822912Z"
    }
   },
   "outputs": [],
   "source": [
    "pd_df_voice_data"
   ]
  },
  {
   "cell_type": "code",
   "execution_count": null,
   "id": "bd3cb0b9b192cc82",
   "metadata": {
    "ExecuteTime": {
     "end_time": "2024-11-28T00:44:30.863500Z",
     "start_time": "2024-11-28T00:44:30.857152Z"
    }
   },
   "outputs": [],
   "source": [
    "# reorder columns so that Cluster is the first column\n",
    "pd_df_voice_data = pd_df_voice_data[['Cluster'] + [col for col in pd_df_voice_data.columns if col != 'Cluster']]"
   ]
  },
  {
   "cell_type": "code",
   "execution_count": null,
   "id": "4a805db11e210bb5",
   "metadata": {
    "ExecuteTime": {
     "end_time": "2024-11-28T00:44:30.893806Z",
     "start_time": "2024-11-28T00:44:30.865128Z"
    }
   },
   "outputs": [],
   "source": [
    "pd_df_voice_data"
   ]
  },
  {
   "cell_type": "code",
   "execution_count": null,
   "id": "77a616841b23fc2d",
   "metadata": {
    "ExecuteTime": {
     "end_time": "2024-11-28T00:44:30.922956Z",
     "start_time": "2024-11-28T00:44:30.895512Z"
    }
   },
   "outputs": [],
   "source": [
    "pd_df_voice_data[pd_df_voice_data['Cluster'] == 0] "
   ]
  },
  {
   "cell_type": "code",
   "execution_count": null,
   "id": "3e7db7cbba97ff0c",
   "metadata": {
    "ExecuteTime": {
     "end_time": "2024-11-28T00:44:31.149603Z",
     "start_time": "2024-11-28T00:44:30.924519Z"
    }
   },
   "outputs": [],
   "source": [
    "list_test_statistics = []\n",
    "list_p_values = []\n",
    "for str_feature in pd_df_voice_data_for_clustering.columns:\n",
    "    list_groups = [group[str_feature].values for name, group in pd_df_voice_data.groupby('Cluster')]\n",
    "    #statistic, p_val = stats.f_oneway(*list_groups)\n",
    "    statistic, p_val = stats.ttest_ind(list_groups[0], list_groups[1])\n",
    "    list_test_statistics.append(statistic)\n",
    "    list_p_values.append(p_val)"
   ]
  },
  {
   "cell_type": "code",
   "execution_count": null,
   "id": "cf6858391ff938bc",
   "metadata": {
    "ExecuteTime": {
     "end_time": "2024-11-28T00:44:31.157215Z",
     "start_time": "2024-11-28T00:44:31.151424Z"
    }
   },
   "outputs": [],
   "source": [
    "pd_df_stat_importance = pd.DataFrame({\n",
    "    'Feature': pd_df_voice_data_for_clustering.columns,\n",
    "    'Test Statistic': list_test_statistics,\n",
    "    'P_Value': list_p_values\n",
    "}).sort_values('Test Statistic', ascending=False)"
   ]
  },
  {
   "cell_type": "code",
   "execution_count": null,
   "id": "6ea9bd3d4dc67a80",
   "metadata": {
    "ExecuteTime": {
     "end_time": "2024-11-28T00:44:31.171439Z",
     "start_time": "2024-11-28T00:44:31.158773Z"
    }
   },
   "outputs": [],
   "source": [
    "pd_df_stat_importance"
   ]
  },
  {
   "cell_type": "code",
   "execution_count": null,
   "id": "7bf6c1f4a24d61ff",
   "metadata": {
    "ExecuteTime": {
     "end_time": "2024-11-28T00:44:31.320694Z",
     "start_time": "2024-11-28T00:44:31.173077Z"
    }
   },
   "outputs": [],
   "source": [
    "plt.scatter(pd_df_voice_data['READ_SYL_COUNT'], pd_df_voice_data['READ_SPEECH_PERCENT'], c=pd_df_voice_data['Cluster'])\n",
    "plt.show()"
   ]
  },
  {
   "cell_type": "code",
   "execution_count": null,
   "id": "3c4b4f02094d89d9",
   "metadata": {
    "ExecuteTime": {
     "end_time": "2024-11-28T00:44:31.325562Z",
     "start_time": "2024-11-28T00:44:31.322712Z"
    }
   },
   "outputs": [],
   "source": []
  }
 ],
 "metadata": {
  "kernelspec": {
   "display_name": "Python 3",
   "language": "python",
   "name": "python3"
  },
  "language_info": {
   "codemirror_mode": {
    "name": "ipython",
    "version": 2
   },
   "file_extension": ".py",
   "mimetype": "text/x-python",
   "name": "python",
   "nbconvert_exporter": "python",
   "pygments_lexer": "ipython2",
   "version": "2.7.6"
  }
 },
 "nbformat": 4,
 "nbformat_minor": 5
}
