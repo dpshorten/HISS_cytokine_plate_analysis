{
 "cells": [
  {
   "cell_type": "code",
   "execution_count": null,
   "id": "initial_id",
   "metadata": {
    "ExecuteTime": {
     "end_time": "2024-08-05T21:41:10.470895Z",
     "start_time": "2024-08-05T21:41:10.298157Z"
    }
   },
   "outputs": [],
   "source": [
    "import sys\n",
    "import os\n",
    "import yaml\n",
    "import dash\n",
    "from dash import dcc, html\n",
    "from dash.dependencies import Input, Output\n",
    "import plotly.express as px\n",
    "import seaborn as sns\n",
    "\n",
    "import pandas as pd\n",
    "pd.options.mode.chained_assignment = None\n",
    "\n",
    "sys.path.append('../python/')\n",
    "\n",
    "# Plotly Dash doesn't display error messages well, so we use logging \n",
    "import logging\n",
    "logging.basicConfig(level=logging.DEBUG, filename=\"dash_logs.log\")"
   ]
  },
  {
   "cell_type": "code",
   "execution_count": null,
   "id": "c8b706f08fef718",
   "metadata": {
    "ExecuteTime": {
     "end_time": "2024-08-05T21:41:10.480963Z",
     "start_time": "2024-08-05T21:41:10.472061Z"
    }
   },
   "outputs": [],
   "source": [
    "dict_parameters = yaml.safe_load(open(\"../parameters/july_2024_data_parameters.yaml\", \"r\"))"
   ]
  },
  {
   "cell_type": "code",
   "execution_count": null,
   "id": "449798204b14c8a8",
   "metadata": {
    "ExecuteTime": {
     "end_time": "2024-08-05T21:41:10.505020Z",
     "start_time": "2024-08-05T21:41:10.482321Z"
    }
   },
   "outputs": [],
   "source": [
    "pd_df_estimated_concentrations = pd.read_csv(\n",
    "        open(\n",
    "            os.path.join(\n",
    "                dict_parameters[\"output directory path\"],\n",
    "                dict_parameters[\"estimated concentrations file name\"]\n",
    "            ),\n",
    "            \"rb\"\n",
    "        ),\n",
    "    )"
   ]
  },
  {
   "cell_type": "code",
   "execution_count": null,
   "id": "f9238eb2fa3f02ca",
   "metadata": {
    "ExecuteTime": {
     "end_time": "2024-08-05T21:41:10.529179Z",
     "start_time": "2024-08-05T21:41:10.507431Z"
    }
   },
   "outputs": [],
   "source": [
    "pd_df_estimated_concentrations"
   ]
  },
  {
   "cell_type": "markdown",
   "id": "3df7329ccf047d90",
   "metadata": {},
   "source": [
    "Filter to have only the Melbourne samples"
   ]
  },
  {
   "cell_type": "code",
   "execution_count": null,
   "id": "59f682facf2af35e",
   "metadata": {
    "ExecuteTime": {
     "end_time": "2024-08-05T21:41:10.533773Z",
     "start_time": "2024-08-05T21:41:10.530060Z"
    }
   },
   "outputs": [],
   "source": [
    "pd_df_estimated_concentrations = pd_df_estimated_concentrations[\n",
    "    pd_df_estimated_concentrations[\"sample name annotations\"].str.contains('\\d{3,4}[ _][A-Za-z]', regex=True)\n",
    "]"
   ]
  },
  {
   "cell_type": "code",
   "execution_count": null,
   "id": "f31d87b9d6de7369",
   "metadata": {
    "ExecuteTime": {
     "end_time": "2024-08-05T21:41:10.554962Z",
     "start_time": "2024-08-05T21:41:10.535202Z"
    }
   },
   "outputs": [],
   "source": [
    "pd_df_estimated_concentrations"
   ]
  },
  {
   "cell_type": "markdown",
   "id": "a981de646c5bf989",
   "metadata": {},
   "source": [
    "Discard unnecessary columns"
   ]
  },
  {
   "cell_type": "code",
   "execution_count": null,
   "id": "127c32f65294aad7",
   "metadata": {
    "ExecuteTime": {
     "end_time": "2024-08-05T21:41:10.569676Z",
     "start_time": "2024-08-05T21:41:10.556229Z"
    }
   },
   "outputs": [],
   "source": [
    "list_columns_to_keep = [\"sample name annotations\"]\n",
    "for str_analyte in dict_parameters[\"list of analytes\"]:\n",
    "        list_columns_to_keep.append(dict_parameters[\"column name prefix for estimated concentrations\"] + str_analyte)\n",
    "pd_df_estimated_concentrations = pd_df_estimated_concentrations[list_columns_to_keep]\n",
    "pd_df_estimated_concentrations"
   ]
  },
  {
   "cell_type": "markdown",
   "id": "80dd6a8c33f5a75",
   "metadata": {},
   "source": [
    "Take the mean if there are multiple reads per sample"
   ]
  },
  {
   "cell_type": "code",
   "execution_count": null,
   "id": "9548bc780fb8d642",
   "metadata": {
    "ExecuteTime": {
     "end_time": "2024-08-05T21:41:10.578047Z",
     "start_time": "2024-08-05T21:41:10.571598Z"
    }
   },
   "outputs": [],
   "source": [
    "pd_df_estimated_concentrations = pd_df_estimated_concentrations.groupby(\"sample name annotations\").mean().reset_index()"
   ]
  },
  {
   "cell_type": "code",
   "execution_count": null,
   "id": "29cd5f8c79838de3",
   "metadata": {
    "ExecuteTime": {
     "end_time": "2024-08-05T21:41:10.593127Z",
     "start_time": "2024-08-05T21:41:10.579249Z"
    }
   },
   "outputs": [],
   "source": [
    "pd_df_estimated_concentrations"
   ]
  },
  {
   "cell_type": "markdown",
   "id": "815bdf260ad7dfa9",
   "metadata": {},
   "source": [
    "Extract the patient number and time code from the sample name"
   ]
  },
  {
   "cell_type": "code",
   "execution_count": null,
   "id": "b319c79573cc419f",
   "metadata": {
    "ExecuteTime": {
     "end_time": "2024-08-05T21:41:10.599737Z",
     "start_time": "2024-08-05T21:41:10.594309Z"
    }
   },
   "outputs": [],
   "source": [
    "pd_df_estimated_concentrations[[\"patient number\", \"time code\"]] = (\n",
    "    pd_df_estimated_concentrations[\"sample name annotations\"]\n",
    "    .str.strip()\n",
    "    .str.split(r\"[_ ]\", expand = True)    \n",
    ")\n",
    "pd_df_estimated_concentrations = pd_df_estimated_concentrations.drop(columns = [\"sample name annotations\"])"
   ]
  },
  {
   "cell_type": "code",
   "execution_count": null,
   "id": "f2f122a5630c613b",
   "metadata": {
    "ExecuteTime": {
     "end_time": "2024-08-05T21:41:10.604322Z",
     "start_time": "2024-08-05T21:41:10.600781Z"
    }
   },
   "outputs": [],
   "source": [
    "list_first_columns = [\n",
    "    \"patient number\", \"time code\",\n",
    "]\n",
    "pd_df_estimated_concentrations = (\n",
    "    pd_df_estimated_concentrations[\n",
    "        list_first_columns +\n",
    "        [column_name for column_name in pd_df_estimated_concentrations.columns if column_name not in list_first_columns]\n",
    "    ]\n",
    ")"
   ]
  },
  {
   "cell_type": "code",
   "execution_count": null,
   "id": "1c4e5c860106ae42",
   "metadata": {
    "ExecuteTime": {
     "end_time": "2024-08-05T21:41:10.618375Z",
     "start_time": "2024-08-05T21:41:10.605211Z"
    }
   },
   "outputs": [],
   "source": [
    "pd_df_estimated_concentrations.sort_values(by = [\"patient number\"])"
   ]
  },
  {
   "cell_type": "code",
   "execution_count": null,
   "id": "598cdeb2662d052f",
   "metadata": {
    "ExecuteTime": {
     "end_time": "2024-08-05T21:41:10.622180Z",
     "start_time": "2024-08-05T21:41:10.619362Z"
    }
   },
   "outputs": [],
   "source": [
    "pd_df_estimated_concentrations[\"patient number\"] = pd_df_estimated_concentrations[\"patient number\"].astype(int)"
   ]
  },
  {
   "cell_type": "markdown",
   "id": "ff5182056fbea94d",
   "metadata": {},
   "source": []
  },
  {
   "cell_type": "code",
   "execution_count": null,
   "id": "1dd96901d99d50de",
   "metadata": {
    "ExecuteTime": {
     "end_time": "2024-08-05T21:41:10.628227Z",
     "start_time": "2024-08-05T21:41:10.623092Z"
    }
   },
   "outputs": [],
   "source": [
    "pd_df_estimated_concentrations[\"patient number\"].unique().shape"
   ]
  },
  {
   "cell_type": "code",
   "execution_count": null,
   "id": "8074617ab083ed18",
   "metadata": {
    "ExecuteTime": {
     "end_time": "2024-08-05T21:41:10.841395Z",
     "start_time": "2024-08-05T21:41:10.629338Z"
    }
   },
   "outputs": [],
   "source": [
    "pd_df_patient_list = pd.read_excel(\n",
    "    os.path.join(\n",
    "        dict_parameters[\"data directory path\"],\n",
    "        \"HISS_Multiplex_layouts_PLATES_8_TO_17_JB.xlsx\",\n",
    "    ),\n",
    "    sheet_name=\"UofM\",\n",
    "    header=1,\n",
    ")"
   ]
  },
  {
   "cell_type": "code",
   "execution_count": null,
   "id": "f6c1ce0223e2a4c7",
   "metadata": {
    "ExecuteTime": {
     "end_time": "2024-08-05T21:41:10.853974Z",
     "start_time": "2024-08-05T21:41:10.842861Z"
    }
   },
   "outputs": [],
   "source": [
    "pd_df_patient_list"
   ]
  },
  {
   "cell_type": "code",
   "execution_count": null,
   "id": "a73aafc21cde1be6",
   "metadata": {
    "ExecuteTime": {
     "end_time": "2024-08-05T21:41:10.858112Z",
     "start_time": "2024-08-05T21:41:10.854740Z"
    }
   },
   "outputs": [],
   "source": [
    "pd_df_patient_list[\"Participant ID\"] = pd_df_patient_list[\"Participant ID\"].astype(int)"
   ]
  },
  {
   "cell_type": "code",
   "execution_count": null,
   "id": "cfe1d6a22159b42c",
   "metadata": {
    "ExecuteTime": {
     "end_time": "2024-08-05T21:41:10.871017Z",
     "start_time": "2024-08-05T21:41:10.858892Z"
    }
   },
   "outputs": [],
   "source": [
    "pd_df_patient_list"
   ]
  },
  {
   "cell_type": "code",
   "execution_count": null,
   "id": "ed7f9d97a166d212",
   "metadata": {
    "ExecuteTime": {
     "end_time": "2024-08-05T21:41:10.876605Z",
     "start_time": "2024-08-05T21:41:10.872255Z"
    }
   },
   "outputs": [],
   "source": [
    "pd_df_estimated_concentrations[\"patient number\"].unique().shape"
   ]
  },
  {
   "cell_type": "code",
   "execution_count": null,
   "id": "5cd29f320e7467a2",
   "metadata": {
    "ExecuteTime": {
     "end_time": "2024-08-05T21:41:10.882385Z",
     "start_time": "2024-08-05T21:41:10.877555Z"
    }
   },
   "outputs": [],
   "source": [
    "pd_df_patient_list[\"cum count\"] = pd_df_patient_list.groupby(\"Participant ID\").cumcount() + 1"
   ]
  },
  {
   "cell_type": "code",
   "execution_count": null,
   "id": "7f214cb1f65d23c",
   "metadata": {
    "ExecuteTime": {
     "end_time": "2024-08-05T21:41:10.891495Z",
     "start_time": "2024-08-05T21:41:10.883245Z"
    }
   },
   "outputs": [],
   "source": [
    "pd_df_patient_list[pd_df_patient_list[\"cum count\"] > 1]"
   ]
  },
  {
   "cell_type": "code",
   "execution_count": null,
   "id": "93e09e49150daa9b",
   "metadata": {
    "ExecuteTime": {
     "end_time": "2024-08-05T21:41:10.896706Z",
     "start_time": "2024-08-05T21:41:10.892773Z"
    }
   },
   "outputs": [],
   "source": [
    "pd_df_estimated_concentrations[\"patient number\"].unique()"
   ]
  },
  {
   "cell_type": "code",
   "execution_count": null,
   "id": "207ff93418c975ad",
   "metadata": {
    "ExecuteTime": {
     "end_time": "2024-08-05T21:41:10.900931Z",
     "start_time": "2024-08-05T21:41:10.897627Z"
    }
   },
   "outputs": [],
   "source": [
    "pd_df_patient_list[\"Participant ID\"].unique().shape"
   ]
  },
  {
   "cell_type": "code",
   "execution_count": null,
   "id": "fd14de75c153e2ce",
   "metadata": {
    "ExecuteTime": {
     "end_time": "2024-08-05T21:41:10.905364Z",
     "start_time": "2024-08-05T21:41:10.901833Z"
    }
   },
   "outputs": [],
   "source": [
    "set(pd_df_estimated_concentrations[\"patient number\"]) - set(pd_df_patient_list[\"Participant ID\"])"
   ]
  },
  {
   "cell_type": "code",
   "execution_count": null,
   "id": "7a50df329e896c86",
   "metadata": {
    "ExecuteTime": {
     "end_time": "2024-08-05T21:41:10.909870Z",
     "start_time": "2024-08-05T21:41:10.906617Z"
    }
   },
   "outputs": [],
   "source": [
    "set(pd_df_patient_list[\"Participant ID\"]) - set(pd_df_estimated_concentrations[\"patient number\"]) "
   ]
  },
  {
   "cell_type": "code",
   "execution_count": null,
   "id": "a7fa3765d5061441",
   "metadata": {
    "ExecuteTime": {
     "end_time": "2024-08-05T21:41:10.914897Z",
     "start_time": "2024-08-05T21:41:10.911380Z"
    }
   },
   "outputs": [],
   "source": [
    "set(pd_df_patient_list[\"Participant ID\"]) - set(pd_df_estimated_concentrations[\"patient number\"]) - {1208, 1236, 1252, 1451, 1483, 1744, 3607, 620, 2848}\n"
   ]
  },
  {
   "cell_type": "code",
   "execution_count": null,
   "id": "76eb1a47236cdb9c",
   "metadata": {
    "ExecuteTime": {
     "end_time": "2024-08-05T21:41:10.917454Z",
     "start_time": "2024-08-05T21:41:10.915782Z"
    }
   },
   "outputs": [],
   "source": []
  }
 ],
 "metadata": {
  "kernelspec": {
   "display_name": "Python 3 (ipykernel)",
   "language": "python",
   "name": "python3"
  },
  "language_info": {
   "codemirror_mode": {
    "name": "ipython",
    "version": 3
   },
   "file_extension": ".py",
   "mimetype": "text/x-python",
   "name": "python",
   "nbconvert_exporter": "python",
   "pygments_lexer": "ipython3",
   "version": "3.11.9"
  }
 },
 "nbformat": 4,
 "nbformat_minor": 5
}
