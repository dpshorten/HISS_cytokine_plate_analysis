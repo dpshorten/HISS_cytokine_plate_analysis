{
 "cells": [
  {
   "cell_type": "code",
   "execution_count": null,
   "id": "initial_id",
   "metadata": {
    "ExecuteTime": {
     "end_time": "2024-08-01T07:02:53.613354Z",
     "start_time": "2024-08-01T07:02:53.605293Z"
    }
   },
   "outputs": [],
   "source": [
    "import sys\n",
    "import os\n",
    "import yaml\n",
    "import pickle\n",
    "\n",
    "import pandas as pd\n",
    "pd.options.mode.chained_assignment = None\n",
    "\n",
    "sys.path.append('../python/')\n",
    "import plate_util\n",
    "import calibration_curves\n",
    "\n",
    "# Plotly Dash doesn't display error messages well, so we use logging \n",
    "import logging\n",
    "logging.basicConfig(level=logging.DEBUG, filename=\"dash_logs.log\")"
   ]
  },
  {
   "cell_type": "code",
   "execution_count": null,
   "id": "c8b706f08fef718",
   "metadata": {
    "ExecuteTime": {
     "end_time": "2024-08-01T07:02:53.638507Z",
     "start_time": "2024-08-01T07:02:53.618107Z"
    }
   },
   "outputs": [],
   "source": [
    "dict_parameters = yaml.safe_load(open(\"../parameters/july_2024_data_parameters.yaml\", \"r\"))"
   ]
  },
  {
   "cell_type": "code",
   "execution_count": null,
   "id": "449798204b14c8a8",
   "metadata": {
    "ExecuteTime": {
     "end_time": "2024-08-01T07:02:53.662573Z",
     "start_time": "2024-08-01T07:02:53.641864Z"
    }
   },
   "outputs": [],
   "source": [
    "pd_df_plate_data_with_calibration_concentrations = pd.read_csv(\n",
    "        open(\n",
    "            os.path.join(\n",
    "                dict_parameters[\"output directory path\"],\n",
    "                dict_parameters[\"plate data with locations and calibration concentrations file name\"]\n",
    "            ),\n",
    "            \"rb\"\n",
    "        ),\n",
    "        index_col=0\n",
    "    )"
   ]
  },
  {
   "cell_type": "code",
   "execution_count": null,
   "id": "1f3a67db518aa67f",
   "metadata": {
    "ExecuteTime": {
     "end_time": "2024-08-01T07:02:53.733732Z",
     "start_time": "2024-08-01T07:02:53.664260Z"
    }
   },
   "outputs": [],
   "source": [
    "dict_fitted_calibration_curves = yaml.safe_load(\n",
    "    open(\n",
    "            os.path.join(\n",
    "                dict_parameters[\"output directory path\"],\n",
    "                dict_parameters[\"fitted calibration curves file name\"]\n",
    "            ),\n",
    "            \"r\"\n",
    "        )\n",
    ")"
   ]
  },
  {
   "cell_type": "code",
   "execution_count": null,
   "id": "11dbdd97ae2d9441",
   "metadata": {
    "ExecuteTime": {
     "end_time": "2024-08-01T07:02:53.904238Z",
     "start_time": "2024-08-01T07:02:53.736063Z"
    }
   },
   "outputs": [],
   "source": [
    "import importlib\n",
    "importlib.reload(calibration_curves)\n",
    "pd_df_concentrations = calibration_curves.estimate_concentrations(\n",
    "    dict_parameters, \n",
    "    pd_df_plate_data_with_calibration_concentrations, \n",
    "    dict_fitted_calibration_curves\n",
    ")"
   ]
  },
  {
   "cell_type": "code",
   "execution_count": null,
   "id": "679fb5e4e32aea88",
   "metadata": {
    "ExecuteTime": {
     "end_time": "2024-08-01T07:02:53.919361Z",
     "start_time": "2024-08-01T07:02:53.905209Z"
    }
   },
   "outputs": [],
   "source": [
    "pd_df_concentrations"
   ]
  },
  {
   "cell_type": "code",
   "execution_count": null,
   "id": "3d4df40962d7f06b",
   "metadata": {
    "ExecuteTime": {
     "end_time": "2024-08-01T07:02:54.000304Z",
     "start_time": "2024-08-01T07:02:53.920497Z"
    }
   },
   "outputs": [],
   "source": [
    "pd_df_concentrations.to_csv('estimated_concentrations.csv')"
   ]
  },
  {
   "cell_type": "code",
   "execution_count": null,
   "id": "18252dfa27c62b59",
   "metadata": {
    "ExecuteTime": {
     "end_time": "2024-08-01T07:02:54.003568Z",
     "start_time": "2024-08-01T07:02:54.001805Z"
    }
   },
   "outputs": [],
   "source": []
  },
  {
   "cell_type": "code",
   "execution_count": null,
   "id": "71bec64e1f167b37",
   "metadata": {
    "ExecuteTime": {
     "end_time": "2024-08-01T07:02:54.006803Z",
     "start_time": "2024-08-01T07:02:54.004755Z"
    }
   },
   "outputs": [],
   "source": []
  },
  {
   "cell_type": "code",
   "execution_count": null,
   "id": "78c6eabbcb3dc51d",
   "metadata": {
    "ExecuteTime": {
     "end_time": "2024-08-01T07:02:54.009775Z",
     "start_time": "2024-08-01T07:02:54.008172Z"
    }
   },
   "outputs": [],
   "source": []
  }
 ],
 "metadata": {
  "kernelspec": {
   "display_name": "Python 3",
   "language": "python",
   "name": "python3"
  },
  "language_info": {
   "codemirror_mode": {
    "name": "ipython",
    "version": 2
   },
   "file_extension": ".py",
   "mimetype": "text/x-python",
   "name": "python",
   "nbconvert_exporter": "python",
   "pygments_lexer": "ipython2",
   "version": "2.7.6"
  }
 },
 "nbformat": 4,
 "nbformat_minor": 5
}
