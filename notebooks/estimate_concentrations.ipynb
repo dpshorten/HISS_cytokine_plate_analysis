{
 "cells": [
  {
   "cell_type": "code",
   "execution_count": null,
   "id": "initial_id",
   "metadata": {
    "ExecuteTime": {
     "end_time": "2024-09-12T06:29:15.667181Z",
     "start_time": "2024-09-12T06:29:15.394871Z"
    }
   },
   "outputs": [],
   "source": [
    "import sys\n",
    "import os\n",
    "import yaml\n",
    "import pickle\n",
    "\n",
    "import pandas as pd\n",
    "pd.options.mode.chained_assignment = None\n",
    "\n",
    "sys.path.append('../python/')\n",
    "import plate_util\n",
    "import calibration_curves\n",
    "\n",
    "# Plotly Dash doesn't display error messages well, so we use logging \n",
    "import logging\n",
    "logging.basicConfig(level=logging.DEBUG, filename=\"dash_logs.log\")"
   ]
  },
  {
   "cell_type": "code",
   "execution_count": null,
   "id": "c8b706f08fef718",
   "metadata": {
    "ExecuteTime": {
     "end_time": "2024-09-12T06:29:15.679167Z",
     "start_time": "2024-09-12T06:29:15.668497Z"
    }
   },
   "outputs": [],
   "source": [
    "dict_parameters = yaml.safe_load(open(\"../parameters/july_2024_data_parameters.yaml\", \"r\"))"
   ]
  },
  {
   "cell_type": "code",
   "execution_count": null,
   "id": "449798204b14c8a8",
   "metadata": {
    "ExecuteTime": {
     "end_time": "2024-09-12T06:29:15.713551Z",
     "start_time": "2024-09-12T06:29:15.680212Z"
    }
   },
   "outputs": [],
   "source": [
    "pd_df_plate_data_with_calibration_concentrations = pd.read_csv(\n",
    "        open(\n",
    "            os.path.join(\n",
    "                dict_parameters[\"output directory path\"],\n",
    "                dict_parameters[\"plate data with locations and calibration concentrations file name\"]\n",
    "            ),\n",
    "            \"rb\"\n",
    "        ),\n",
    "        index_col=0\n",
    "    )"
   ]
  },
  {
   "cell_type": "code",
   "execution_count": null,
   "id": "31ee9b733e05b4a4",
   "metadata": {
    "ExecuteTime": {
     "end_time": "2024-09-12T07:07:09.010364Z",
     "start_time": "2024-09-12T07:07:08.985933Z"
    }
   },
   "outputs": [],
   "source": [
    "pd_df_plate_data_with_calibration_concentrations"
   ]
  },
  {
   "cell_type": "code",
   "execution_count": null,
   "id": "1f3a67db518aa67f",
   "metadata": {
    "ExecuteTime": {
     "end_time": "2024-09-12T06:29:15.790245Z",
     "start_time": "2024-09-12T06:29:15.715146Z"
    }
   },
   "outputs": [],
   "source": [
    "dict_fitted_calibration_curves = yaml.safe_load(\n",
    "    open(\n",
    "            os.path.join(\n",
    "                dict_parameters[\"output directory path\"],\n",
    "                dict_parameters[\"fitted calibration curves file name\"]\n",
    "            ),\n",
    "            \"r\"\n",
    "        )\n",
    ")"
   ]
  },
  {
   "cell_type": "code",
   "execution_count": null,
   "id": "11dbdd97ae2d9441",
   "metadata": {
    "ExecuteTime": {
     "end_time": "2024-09-12T06:29:15.984697Z",
     "start_time": "2024-09-12T06:29:15.791527Z"
    }
   },
   "outputs": [],
   "source": [
    "import importlib\n",
    "importlib.reload(calibration_curves)\n",
    "pd_df_concentrations = calibration_curves.estimate_concentrations(\n",
    "    dict_parameters, \n",
    "    pd_df_plate_data_with_calibration_concentrations, \n",
    "    dict_fitted_calibration_curves\n",
    ")"
   ]
  },
  {
   "cell_type": "code",
   "execution_count": null,
   "id": "679fb5e4e32aea88",
   "metadata": {
    "ExecuteTime": {
     "end_time": "2024-09-12T06:29:16.005410Z",
     "start_time": "2024-09-12T06:29:15.985639Z"
    }
   },
   "outputs": [],
   "source": [
    "pd_df_concentrations"
   ]
  },
  {
   "cell_type": "code",
   "execution_count": null,
   "id": "3d4df40962d7f06b",
   "metadata": {
    "ExecuteTime": {
     "end_time": "2024-09-12T06:29:16.097746Z",
     "start_time": "2024-09-12T06:29:16.006725Z"
    }
   },
   "outputs": [],
   "source": [
    "pd_df_concentrations.to_csv('estimated_concentrations.csv')"
   ]
  },
  {
   "cell_type": "code",
   "execution_count": null,
   "id": "18252dfa27c62b59",
   "metadata": {
    "ExecuteTime": {
     "end_time": "2024-09-12T06:29:16.101451Z",
     "start_time": "2024-09-12T06:29:16.099308Z"
    }
   },
   "outputs": [],
   "source": []
  },
  {
   "cell_type": "code",
   "execution_count": null,
   "id": "71bec64e1f167b37",
   "metadata": {
    "ExecuteTime": {
     "end_time": "2024-09-12T06:29:16.104175Z",
     "start_time": "2024-09-12T06:29:16.102458Z"
    }
   },
   "outputs": [],
   "source": []
  },
  {
   "cell_type": "code",
   "execution_count": null,
   "id": "78c6eabbcb3dc51d",
   "metadata": {},
   "outputs": [],
   "source": []
  }
 ],
 "metadata": {
  "kernelspec": {
   "display_name": "Python 3",
   "language": "python",
   "name": "python3"
  },
  "language_info": {
   "codemirror_mode": {
    "name": "ipython",
    "version": 2
   },
   "file_extension": ".py",
   "mimetype": "text/x-python",
   "name": "python",
   "nbconvert_exporter": "python",
   "pygments_lexer": "ipython2",
   "version": "2.7.6"
  }
 },
 "nbformat": 4,
 "nbformat_minor": 5
}
