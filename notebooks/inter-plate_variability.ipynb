{
 "cells": [
  {
   "cell_type": "code",
   "execution_count": null,
   "id": "initial_id",
   "metadata": {
    "ExecuteTime": {
     "end_time": "2024-10-06T04:06:56.079026Z",
     "start_time": "2024-10-06T04:06:56.071021Z"
    }
   },
   "outputs": [],
   "source": [
    "import sys\n",
    "import os\n",
    "import yaml\n",
    "import numpy as np\n",
    "from scipy import stats\n",
    "\n",
    "import dash\n",
    "from dash import dcc, html\n",
    "from dash.dependencies import Input, Output\n",
    "import plotly.express as px\n",
    "import plotly.graph_objects as go\n",
    "\n",
    "import pandas as pd\n",
    "pd.options.mode.chained_assignment = None\n",
    "\n",
    "sys.path.append('../python/')\n",
    "from plotly_figure_parameters import dict_y_axis_parameters, dict_font_parameters, dict_x_axis_parameters_categorical\n",
    "from dashboard_notebook_util import (\n",
    "    read_estimated_concentrations, \n",
    "    read_plate_data_with_calibration_concentrations,\n",
    "    read_quality_control_concentrations\n",
    ")"
   ]
  },
  {
   "cell_type": "code",
   "execution_count": null,
   "id": "345fcbbca377847f",
   "metadata": {
    "ExecuteTime": {
     "end_time": "2024-10-06T04:06:56.128193Z",
     "start_time": "2024-10-06T04:06:56.111961Z"
    }
   },
   "outputs": [],
   "source": [
    "dict_parameters = yaml.safe_load(open(\"../parameters/july_2024_data_parameters.yaml\", \"r\"))"
   ]
  },
  {
   "cell_type": "code",
   "execution_count": null,
   "id": "b7f9b5c56d0cf74f",
   "metadata": {
    "ExecuteTime": {
     "end_time": "2024-10-06T04:06:56.220793Z",
     "start_time": "2024-10-06T04:06:56.164010Z"
    }
   },
   "outputs": [],
   "source": [
    "pd_df_plate_data = read_plate_data_with_calibration_concentrations(dict_parameters)\n",
    "pd_df_estimated_concentrations = read_estimated_concentrations(dict_parameters)"
   ]
  },
  {
   "cell_type": "code",
   "execution_count": null,
   "id": "cb5b793a75963c06",
   "metadata": {
    "ExecuteTime": {
     "end_time": "2024-10-06T04:06:56.242458Z",
     "start_time": "2024-10-06T04:06:56.222940Z"
    }
   },
   "outputs": [],
   "source": [
    "pd_df_estimated_concentrations"
   ]
  },
  {
   "cell_type": "code",
   "execution_count": null,
   "id": "f3a479d949894654",
   "metadata": {
    "ExecuteTime": {
     "end_time": "2024-10-06T04:06:56.246436Z",
     "start_time": "2024-10-06T04:06:56.244544Z"
    }
   },
   "outputs": [],
   "source": []
  },
  {
   "cell_type": "code",
   "execution_count": null,
   "id": "8eedd71c7b132330",
   "metadata": {
    "ExecuteTime": {
     "end_time": "2024-10-06T04:06:56.267807Z",
     "start_time": "2024-10-06T04:06:56.247186Z"
    }
   },
   "outputs": [],
   "source": [
    "pd_df_plate_data"
   ]
  },
  {
   "cell_type": "code",
   "execution_count": null,
   "id": "e32728894b0d2bd8",
   "metadata": {
    "ExecuteTime": {
     "end_time": "2024-10-06T04:06:56.276236Z",
     "start_time": "2024-10-06T04:06:56.269309Z"
    }
   },
   "outputs": [],
   "source": [
    "pd_df_quality_control_concentrations = read_quality_control_concentrations(dict_parameters)"
   ]
  },
  {
   "cell_type": "code",
   "execution_count": null,
   "id": "b82568ecdfa37d87",
   "metadata": {
    "ExecuteTime": {
     "end_time": "2024-10-06T04:06:56.298340Z",
     "start_time": "2024-10-06T04:06:56.277758Z"
    }
   },
   "outputs": [],
   "source": [
    "pd_df_estimated_concentrations"
   ]
  },
  {
   "cell_type": "code",
   "execution_count": null,
   "id": "f9c398a8514ffba7",
   "metadata": {
    "ExecuteTime": {
     "end_time": "2024-10-06T04:06:56.303272Z",
     "start_time": "2024-10-06T04:06:56.300637Z"
    }
   },
   "outputs": [],
   "source": [
    "# pd_df_estimated_concentrations_checked[pd_df_estimated_concentrations_checked[\"intra plate CV\"] > 0.2]"
   ]
  },
  {
   "cell_type": "code",
   "execution_count": null,
   "id": "9b79cdef0983d5f5",
   "metadata": {
    "ExecuteTime": {
     "end_time": "2024-10-06T04:06:56.873927Z",
     "start_time": "2024-10-06T04:06:56.340936Z"
    }
   },
   "outputs": [],
   "source": [
    "list_sample_measurement_options = [\n",
    "    {'label': 'QC-plasma concentration', 'value': 'QC-plasma concentration'},\n",
    "    {'label': 'QC-1 concentration', 'value': 'QC-1 concentration'},\n",
    "    {'label': 'QC-2 concentration', 'value': 'QC-2 concentration'},\n",
    "]\n",
    "for i in range(0, 8):\n",
    "    list_sample_measurement_options.append({'label': f'Std {i} fluorescent intensity', 'value': f'Std {i} fluorescent intensity'})\n",
    "\n",
    "dash_app_object_boxes = dash.Dash(__name__)\n",
    "\n",
    "# Define the layout\n",
    "dash_app_object_boxes.layout = html.Div([\n",
    "    html.H1(\"Plots of estimated concentration for QC-plasma on different plates\"),\n",
    "\n",
    "    html.Div([\n",
    "        html.Label(\"Plot type:\"),\n",
    "        dcc.Dropdown(\n",
    "            id='plot-type-dropdown',\n",
    "            options=[\n",
    "                {'label': 'box', 'value': 'box'},\n",
    "                {'label': 'strip', 'value': 'strip'},\n",
    "            ],\n",
    "            value='box',\n",
    "        ),\n",
    "    ], style={'width': '20%', 'display': 'inline-block'}),\n",
    "    \n",
    "    html.Div([\n",
    "        html.Label(\"Sample measurement:\"),\n",
    "        dcc.Dropdown(\n",
    "            id='sample-measurement-dropdown',\n",
    "            options=list_sample_measurement_options,\n",
    "            value='QC-plasma concentration',\n",
    "        ),\n",
    "    ], style={'width': '20%', 'display': 'inline-block'}),\n",
    "\n",
    "    html.Div([\n",
    "        html.Label(\"Analyte:\"),\n",
    "        dcc.Dropdown(\n",
    "            id='analyte-dropdown',\n",
    "            options=[{'label': col, 'value': col} for col in dict_parameters[\"list of analytes\"]],\n",
    "            value=dict_parameters[\"list of analytes\"][0]\n",
    "        ),\n",
    "    ], style={'width': '20%', 'display': 'inline-block'}),\n",
    "    \n",
    "    dcc.Graph(id='scatter-plot')\n",
    "], style={'backgroundColor': 'white', 'padding': '20px'})\n",
    "\n",
    "\n",
    "@dash_app_object_boxes.callback(\n",
    "    Output('scatter-plot', 'figure'),\n",
    "    Input('analyte-dropdown', 'value'),\n",
    "    Input('sample-measurement-dropdown', 'value'),\n",
    "    Input('plot-type-dropdown', 'value'),\n",
    ")\n",
    "def update_graph(str_analyte, str_sample_measurement_type, str_plot_type):\n",
    "        \n",
    "    if \"concentration\" in str_sample_measurement_type:\n",
    "        str_y_axis_title = \"Concentration (pg/ml)\"\n",
    "        str_column_name = f\"estimated concentration {str_analyte}\"\n",
    "        if str_sample_measurement_type == \"QC-plasma concentration\":\n",
    "            pd_df_data = pd_df_estimated_concentrations[pd_df_estimated_concentrations[\"sample name annotations\"].str.contains(\"QC-plasma\")]\n",
    "        elif str_sample_measurement_type == \"QC-1 concentration\":\n",
    "            pd_df_data = pd_df_estimated_concentrations[pd_df_estimated_concentrations[\"sample name annotations\"].str.contains(\"QC-1\")]\n",
    "        elif str_sample_measurement_type == \"QC-2 concentration\":\n",
    "            pd_df_data = pd_df_estimated_concentrations[pd_df_estimated_concentrations[\"sample name annotations\"].str.contains(\"QC-2\")]\n",
    "    else:\n",
    "        str_y_axis_title = \"Median fluorescent intensity\"\n",
    "        str_column_name = f\"{str_analyte} Median\"\n",
    "        str_standard_name = \" \".join(str_sample_measurement_type.split(\" \")[:2])\n",
    "        pd_df_data = pd_df_plate_data[pd_df_plate_data[\"sample name annotations\"].str.contains(str_standard_name)]\n",
    "    \n",
    "    if str_plot_type == \"box\":\n",
    "        fig = px.box(\n",
    "            pd_df_data,\n",
    "            x = \"plate number\", \n",
    "            y = str_column_name,\n",
    "        )\n",
    "    elif str_plot_type == \"strip\":\n",
    "        fig = px.strip(\n",
    "            pd_df_data,\n",
    "            x = \"plate number\", \n",
    "            y = str_column_name,\n",
    "            hover_name = \"sample name annotations\",\n",
    "        )    \n",
    "        fig.update_traces(marker = dict(opacity = 0.75))\n",
    "        \n",
    "    fig.update_layout(\n",
    "        xaxis=dict_x_axis_parameters_categorical,\n",
    "        yaxis=dict_y_axis_parameters,\n",
    "        font=dict_font_parameters,\n",
    "        xaxis_title=\"plate number\",\n",
    "        yaxis_title=str_y_axis_title,\n",
    "        plot_bgcolor='white',\n",
    "        paper_bgcolor='white',\n",
    "    )        \n",
    "    return fig\n",
    "\n",
    "# Run the app\n",
    "if __name__ == '__main__':\n",
    "    dash_app_object_boxes.run(jupyter_mode=\"inline\", debug = True, port=3312)"
   ]
  },
  {
   "cell_type": "code",
   "execution_count": null,
   "id": "7bf3efb85b77a0d3",
   "metadata": {
    "ExecuteTime": {
     "end_time": "2024-10-06T04:06:56.877834Z",
     "start_time": "2024-10-06T04:06:56.875826Z"
    }
   },
   "outputs": [],
   "source": []
  }
 ],
 "metadata": {
  "kernelspec": {
   "display_name": "Python 3",
   "language": "python",
   "name": "python3"
  },
  "language_info": {
   "codemirror_mode": {
    "name": "ipython",
    "version": 2
   },
   "file_extension": ".py",
   "mimetype": "text/x-python",
   "name": "python",
   "nbconvert_exporter": "python",
   "pygments_lexer": "ipython2",
   "version": "2.7.6"
  }
 },
 "nbformat": 4,
 "nbformat_minor": 5
}
