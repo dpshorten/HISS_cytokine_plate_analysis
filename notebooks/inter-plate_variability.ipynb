{
 "cells": [
  {
   "cell_type": "code",
   "execution_count": null,
   "id": "initial_id",
   "metadata": {
    "ExecuteTime": {
     "end_time": "2024-10-04T06:17:27.756545Z",
     "start_time": "2024-10-04T06:17:27.481343Z"
    }
   },
   "outputs": [],
   "source": [
    "import sys\n",
    "import os\n",
    "import yaml\n",
    "import numpy as np\n",
    "from scipy import stats\n",
    "\n",
    "import dash\n",
    "from dash import dcc, html\n",
    "from dash.dependencies import Input, Output\n",
    "import plotly.express as px\n",
    "import plotly.graph_objects as go\n",
    "\n",
    "import pandas as pd\n",
    "pd.options.mode.chained_assignment = None\n",
    "\n",
    "sys.path.append('../python/')\n",
    "from plotly_figure_parameters import dict_y_axis_parameters, dict_font_parameters, dict_x_axis_parameters_categorical\n",
    "from dashboard_notebook_util import (\n",
    "    read_estimated_concentrations, \n",
    "    read_plate_data_with_calibration_concentrations,\n",
    "    read_quality_control_concentrations\n",
    ")"
   ]
  },
  {
   "cell_type": "code",
   "execution_count": null,
   "id": "345fcbbca377847f",
   "metadata": {
    "ExecuteTime": {
     "end_time": "2024-10-04T06:17:27.771343Z",
     "start_time": "2024-10-04T06:17:27.758049Z"
    }
   },
   "outputs": [],
   "source": [
    "dict_parameters = yaml.safe_load(open(\"../parameters/july_2024_data_parameters.yaml\", \"r\"))"
   ]
  },
  {
   "cell_type": "code",
   "execution_count": null,
   "id": "b7f9b5c56d0cf74f",
   "metadata": {
    "ExecuteTime": {
     "end_time": "2024-10-04T06:17:27.821047Z",
     "start_time": "2024-10-04T06:17:27.772748Z"
    }
   },
   "outputs": [],
   "source": [
    "pd_df_plate_data = read_plate_data_with_calibration_concentrations(dict_parameters)\n",
    "pd_df_estimated_concentrations = read_estimated_concentrations(dict_parameters)"
   ]
  },
  {
   "cell_type": "code",
   "execution_count": null,
   "id": "cb5b793a75963c06",
   "metadata": {
    "ExecuteTime": {
     "end_time": "2024-10-04T06:17:27.844557Z",
     "start_time": "2024-10-04T06:17:27.822066Z"
    }
   },
   "outputs": [],
   "source": [
    "pd_df_estimated_concentrations"
   ]
  },
  {
   "cell_type": "code",
   "execution_count": null,
   "id": "f3a479d949894654",
   "metadata": {
    "ExecuteTime": {
     "end_time": "2024-10-04T06:17:27.849714Z",
     "start_time": "2024-10-04T06:17:27.845827Z"
    }
   },
   "outputs": [],
   "source": [
    "pd_df_estimated_concentrations = pd_df_estimated_concentrations[pd_df_estimated_concentrations[\"sample name annotations\"].str.contains(\"QC-plasma\")]"
   ]
  },
  {
   "cell_type": "code",
   "execution_count": null,
   "id": "8eedd71c7b132330",
   "metadata": {
    "ExecuteTime": {
     "end_time": "2024-10-04T06:17:27.869189Z",
     "start_time": "2024-10-04T06:17:27.850609Z"
    }
   },
   "outputs": [],
   "source": [
    "pd_df_plate_data"
   ]
  },
  {
   "cell_type": "code",
   "execution_count": null,
   "id": "e32728894b0d2bd8",
   "metadata": {
    "ExecuteTime": {
     "end_time": "2024-10-04T06:17:27.874615Z",
     "start_time": "2024-10-04T06:17:27.870396Z"
    }
   },
   "outputs": [],
   "source": [
    "pd_df_quality_control_concentrations = read_quality_control_concentrations(dict_parameters)"
   ]
  },
  {
   "cell_type": "code",
   "execution_count": null,
   "id": "b82568ecdfa37d87",
   "metadata": {
    "ExecuteTime": {
     "end_time": "2024-10-04T06:17:27.888890Z",
     "start_time": "2024-10-04T06:17:27.875506Z"
    }
   },
   "outputs": [],
   "source": [
    "pd_df_estimated_concentrations"
   ]
  },
  {
   "cell_type": "code",
   "execution_count": null,
   "id": "a47f90975e608707",
   "metadata": {
    "ExecuteTime": {
     "end_time": "2024-10-04T06:17:27.892519Z",
     "start_time": "2024-10-04T06:17:27.889735Z"
    }
   },
   "outputs": [],
   "source": [
    "def perform_t_test_on_paired_wells(pd_group):\n",
    "    if len(pd_group) != 2:\n",
    "        return np.nan\n",
    "    mean_1, mean_2 = pd_group[\"IFN-gamma Trimmed Mean\"].values\n",
    "    std_dev_1, std_dev_2 = pd_group[\"IFN-gamma Trimmed Standard Deviation\"].values\n",
    "    count_1, count_2 = pd_group[\"IFN-gamma Count\"].values\n",
    "    t_statistic, p_value = stats.ttest_ind_from_stats(\n",
    "        mean_1, \n",
    "        std_dev_1, \n",
    "        count_1, \n",
    "        mean_2, \n",
    "        std_dev_2, \n",
    "        count_2,\n",
    "        equal_var=False,\n",
    "    )\n",
    "    return p_value"
   ]
  },
  {
   "cell_type": "code",
   "execution_count": null,
   "id": "56c7318d0d772965",
   "metadata": {
    "ExecuteTime": {
     "end_time": "2024-10-04T06:17:27.896869Z",
     "start_time": "2024-10-04T06:17:27.895194Z"
    }
   },
   "outputs": [],
   "source": [
    "\n"
   ]
  },
  {
   "cell_type": "code",
   "execution_count": null,
   "id": "fc66c1c8cc8225b4",
   "metadata": {
    "ExecuteTime": {
     "end_time": "2024-10-04T06:17:28.081681Z",
     "start_time": "2024-10-04T06:17:27.897673Z"
    }
   },
   "outputs": [],
   "source": [
    "pd_df_tested = (\n",
    "    pd_df_plate_data\n",
    "    .groupby([\"sample name plate\", \"plate number\"])\n",
    "    .apply(perform_t_test_on_paired_wells, include_groups=False)\n",
    "    .reset_index()\n",
    ")\n",
    "pd_df_tested.columns = [\"sample name plate\", \"plate number\"] + ['t test p value']\n",
    "pd_df_tested = pd.merge(\n",
    "    pd_df_tested, \n",
    "    pd_df_plate_data[[\"sample name plate\", \"plate number\", \"IFN-gamma Trimmed Mean\", \"IFN-gamma Trimmed Standard Deviation\", \"IFN-gamma Count\"]], \n",
    "    on = [\"sample name plate\", \"plate number\"], \n",
    "    how = \"left\"\n",
    ")"
   ]
  },
  {
   "cell_type": "code",
   "execution_count": null,
   "id": "45ff28cf60b76533",
   "metadata": {
    "ExecuteTime": {
     "end_time": "2024-10-04T06:17:28.090331Z",
     "start_time": "2024-10-04T06:17:28.082838Z"
    }
   },
   "outputs": [],
   "source": [
    "pd_df_tested"
   ]
  },
  {
   "cell_type": "code",
   "execution_count": null,
   "id": "a6d37ada37950e87",
   "metadata": {
    "ExecuteTime": {
     "end_time": "2024-10-04T06:17:28.095366Z",
     "start_time": "2024-10-04T06:17:28.091257Z"
    }
   },
   "outputs": [],
   "source": [
    "pd_df_tested_unique = pd_df_tested.drop_duplicates(subset = [\"sample name plate\", \"plate number\"])"
   ]
  },
  {
   "cell_type": "code",
   "execution_count": null,
   "id": "720444252d7d9fca",
   "metadata": {
    "ExecuteTime": {
     "end_time": "2024-10-04T06:17:28.104186Z",
     "start_time": "2024-10-04T06:17:28.096424Z"
    }
   },
   "outputs": [],
   "source": [
    "pd_df_tested_unique"
   ]
  },
  {
   "cell_type": "code",
   "execution_count": null,
   "id": "7cc88e232851e467",
   "metadata": {
    "ExecuteTime": {
     "end_time": "2024-10-04T06:17:28.338500Z",
     "start_time": "2024-10-04T06:17:28.105139Z"
    }
   },
   "outputs": [],
   "source": [
    "import seaborn as sns\n",
    "sns.histplot(pd_df_tested_unique, x = \"t test p value\", bins = 20)"
   ]
  },
  {
   "cell_type": "code",
   "execution_count": null,
   "id": "11e393ec53144b43",
   "metadata": {
    "ExecuteTime": {
     "end_time": "2024-10-04T06:17:28.344166Z",
     "start_time": "2024-10-04T06:17:28.339747Z"
    }
   },
   "outputs": [],
   "source": [
    "def calculate_paired_intra_plate_cv(str_analyte, pd_group):\n",
    "    if len(pd_group) != 2:\n",
    "        return np.nan\n",
    "    estimate_1, estimate_2 = pd_group[f\"estimated concentration {str_analyte}\"].values\n",
    "    mean = (estimate_1 + estimate_2) / 2\n",
    "    std_dev = np.sqrt((estimate_1 - mean)**2 + (estimate_2 - mean)**2)\n",
    "    return std_dev / mean\n"
   ]
  },
  {
   "cell_type": "code",
   "execution_count": null,
   "id": "d38430428337dabc",
   "metadata": {
    "ExecuteTime": {
     "end_time": "2024-10-04T06:17:28.349346Z",
     "start_time": "2024-10-04T06:17:28.345587Z"
    }
   },
   "outputs": [],
   "source": [
    "def calculate_paired_intra_plate_rel_abs_diff(str_analyte, pd_group):\n",
    "    if len(pd_group) != 2:\n",
    "        return np.nan\n",
    "    estimate_1, estimate_2 = pd_group[f\"estimated concentration {str_analyte}\"].values\n",
    "    mean = (estimate_1 + estimate_2) / 2\n",
    "    return np.abs(estimate_1 - estimate_2) / mean"
   ]
  },
  {
   "cell_type": "code",
   "execution_count": null,
   "id": "b73e56ca86a582b2",
   "metadata": {
    "ExecuteTime": {
     "end_time": "2024-10-04T06:17:28.356941Z",
     "start_time": "2024-10-04T06:17:28.350595Z"
    }
   },
   "outputs": [],
   "source": [
    "def get_table_of_duplicate_qc_checks(function_check, str_check_name):\n",
    "    list_pd_df_estimated_concentrations_checked_one_analyte = []\n",
    "    for str_analyte in dict_parameters[\"list of analytes\"]:\n",
    "        pd_df_estimated_concentrations_checked_one_analyte = (\n",
    "            pd_df_estimated_concentrations\n",
    "            .groupby([\"sample name annotations\", \"plate number\"])\n",
    "            .apply(lambda x: function_check(str_analyte, x), include_groups=False)\n",
    "            .reset_index()\n",
    "        )\n",
    "        pd_df_estimated_concentrations_checked_one_analyte.columns = [\"sample name annotations\", \"plate number\"] + [f\"{str_check_name} {str_analyte}\"]\n",
    "        list_pd_df_estimated_concentrations_checked_one_analyte.append(pd_df_estimated_concentrations_checked_one_analyte)\n",
    "    \n",
    "    pd_df_estimated_concentrations_checked = list_pd_df_estimated_concentrations_checked_one_analyte[0]\n",
    "    for pd_df_estimated_concentrations_checked_one_analyte in list_pd_df_estimated_concentrations_checked_one_analyte[1:]:\n",
    "        pd_df_estimated_concentrations_checked = pd.merge(\n",
    "            pd_df_estimated_concentrations_checked, \n",
    "            pd_df_estimated_concentrations_checked_one_analyte, \n",
    "            on = [\"sample name annotations\", \"plate number\"], \n",
    "            how = \"outer\"\n",
    "        )\n",
    "    return pd_df_estimated_concentrations_checked"
   ]
  },
  {
   "cell_type": "code",
   "execution_count": null,
   "id": "1a4376e159786444",
   "metadata": {
    "ExecuteTime": {
     "end_time": "2024-10-04T06:17:28.445977Z",
     "start_time": "2024-10-04T06:17:28.358439Z"
    }
   },
   "outputs": [],
   "source": [
    "pd_df_CV = get_table_of_duplicate_qc_checks(calculate_paired_intra_plate_cv, \"CV\")\n",
    "pd_df_rel_abs_diff = get_table_of_duplicate_qc_checks(calculate_paired_intra_plate_rel_abs_diff, \"rel. abs. diff.\")"
   ]
  },
  {
   "cell_type": "code",
   "execution_count": null,
   "id": "7da45e5dd46a630f",
   "metadata": {
    "ExecuteTime": {
     "end_time": "2024-10-04T06:17:28.458944Z",
     "start_time": "2024-10-04T06:17:28.447198Z"
    }
   },
   "outputs": [],
   "source": [
    "pd_df_rel_abs_diff"
   ]
  },
  {
   "cell_type": "code",
   "execution_count": null,
   "id": "8258c6934e68ed87",
   "metadata": {
    "ExecuteTime": {
     "end_time": "2024-10-04T06:17:28.474682Z",
     "start_time": "2024-10-04T06:17:28.460152Z"
    }
   },
   "outputs": [],
   "source": [
    "pd_df_CV"
   ]
  },
  {
   "cell_type": "code",
   "execution_count": null,
   "id": "ee2a76be7b262adb",
   "metadata": {
    "ExecuteTime": {
     "end_time": "2024-10-04T06:17:28.478692Z",
     "start_time": "2024-10-04T06:17:28.476126Z"
    }
   },
   "outputs": [],
   "source": [
    "# for i in list(range(1, 17)) + [18]:\n",
    "#     print(i, \n",
    "#         np.sqrt(\n",
    "#             np.nanmean(\n",
    "#                 pd_df_estimated_concentrations_checked[\n",
    "#                     pd_df_estimated_concentrations_checked[\"plate number\"] == i\n",
    "#                 ][\"intra plate CV\"].values**2\n",
    "#             )\n",
    "#         )\n",
    "#     )"
   ]
  },
  {
   "cell_type": "code",
   "execution_count": null,
   "id": "f9c398a8514ffba7",
   "metadata": {
    "ExecuteTime": {
     "end_time": "2024-10-04T06:17:28.483344Z",
     "start_time": "2024-10-04T06:17:28.480170Z"
    }
   },
   "outputs": [],
   "source": [
    "# pd_df_estimated_concentrations_checked[pd_df_estimated_concentrations_checked[\"intra plate CV\"] > 0.2]"
   ]
  },
  {
   "cell_type": "code",
   "execution_count": null,
   "id": "9b79cdef0983d5f5",
   "metadata": {
    "ExecuteTime": {
     "end_time": "2024-10-04T06:17:28.517543Z",
     "start_time": "2024-10-04T06:17:28.484578Z"
    }
   },
   "outputs": [],
   "source": [
    "dash_app_object_boxes = dash.Dash(__name__)\n",
    "\n",
    "# Define the layout\n",
    "dash_app_object_boxes.layout = html.Div([\n",
    "    html.H1(\"Plots of estimated concentration for QC-plasma on different plates\"),\n",
    "\n",
    "    html.Div([\n",
    "        html.Label(\"Plot type:\"),\n",
    "        dcc.Dropdown(\n",
    "            id='plot-type-dropdown',\n",
    "            options=[\n",
    "                {'label': 'box', 'value': 'box'},\n",
    "                {'label': 'strip', 'value': 'strip'},\n",
    "            ],\n",
    "            value='box',\n",
    "        ),\n",
    "    ], style={'width': '20%', 'display': 'inline-block'}),\n",
    "\n",
    "    html.Div([\n",
    "        html.Label(\"Analyte:\"),\n",
    "        dcc.Dropdown(\n",
    "            id='analyte-dropdown',\n",
    "            options=[{'label': col, 'value': col} for col in dict_parameters[\"list of analytes\"]],\n",
    "            value=dict_parameters[\"list of analytes\"][0]\n",
    "        ),\n",
    "    ], style={'width': '20%', 'display': 'inline-block'}),\n",
    "    \n",
    "    dcc.Graph(id='scatter-plot')\n",
    "], style={'backgroundColor': 'white', 'padding': '20px'})\n",
    "\n",
    "\n",
    "@dash_app_object_boxes.callback(\n",
    "    Output('scatter-plot', 'figure'),\n",
    "    Input('analyte-dropdown', 'value'),\n",
    "    Input('plot-type-dropdown', 'value'),\n",
    ")\n",
    "def update_graph(str_analyte, str_plot_type):\n",
    "    \n",
    "    # if str_statistic == \"CV\":\n",
    "    #     pd_df_data = pd_df_CV\n",
    "    # elif str_statistic == \"rel. abs. diff.\":\n",
    "    #     pd_df_data = pd_df_rel_abs_diff\n",
    "        \n",
    "    str_column_name = f\"estimated concentration {str_analyte}\"\n",
    "    \n",
    "    if str_plot_type == \"box\":\n",
    "        fig = px.box(\n",
    "            pd_df_estimated_concentrations,\n",
    "            x = \"plate number\", \n",
    "            y = str_column_name,\n",
    "        )\n",
    "    elif str_plot_type == \"strip\":\n",
    "        fig = px.strip(\n",
    "            pd_df_estimated_concentrations,\n",
    "            x = \"plate number\", \n",
    "            y = str_column_name,\n",
    "            hover_name = \"sample name annotations\",\n",
    "        )    \n",
    "        fig.update_traces(marker = dict(opacity = 0.75))\n",
    "        \n",
    "    fig.update_layout(\n",
    "        xaxis=dict_x_axis_parameters_categorical,\n",
    "        yaxis=dict_y_axis_parameters,\n",
    "        font=dict_font_parameters,\n",
    "        xaxis_title=\"plate number\",\n",
    "        yaxis_title=\"Concentration (pg/ml)\",\n",
    "        plot_bgcolor='white',\n",
    "        paper_bgcolor='white',\n",
    "    )        \n",
    "    return fig\n",
    "\n",
    "# Run the app\n",
    "if __name__ == '__main__':\n",
    "    dash_app_object_boxes.run(jupyter_mode=\"inline\", debug = True, port=3312)"
   ]
  },
  {
   "cell_type": "code",
   "execution_count": null,
   "id": "7bf3efb85b77a0d3",
   "metadata": {
    "ExecuteTime": {
     "end_time": "2024-10-04T06:17:28.523440Z",
     "start_time": "2024-10-04T06:17:28.520124Z"
    }
   },
   "outputs": [],
   "source": []
  }
 ],
 "metadata": {
  "kernelspec": {
   "display_name": "Python 3",
   "language": "python",
   "name": "python3"
  },
  "language_info": {
   "codemirror_mode": {
    "name": "ipython",
    "version": 2
   },
   "file_extension": ".py",
   "mimetype": "text/x-python",
   "name": "python",
   "nbconvert_exporter": "python",
   "pygments_lexer": "ipython2",
   "version": "2.7.6"
  }
 },
 "nbformat": 4,
 "nbformat_minor": 5
}
