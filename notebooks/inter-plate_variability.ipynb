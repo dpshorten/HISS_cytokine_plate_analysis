{
 "cells": [
  {
   "cell_type": "code",
   "execution_count": null,
   "id": "initial_id",
   "metadata": {
    "ExecuteTime": {
     "end_time": "2024-10-03T02:29:48.539244Z",
     "start_time": "2024-10-03T02:29:48.531895Z"
    }
   },
   "outputs": [],
   "source": [
    "import sys\n",
    "import os\n",
    "import yaml\n",
    "import numpy as np\n",
    "from scipy import stats\n",
    "\n",
    "import dash\n",
    "from dash import dcc, html\n",
    "from dash.dependencies import Input, Output\n",
    "import plotly.express as px\n",
    "import plotly.graph_objects as go\n",
    "\n",
    "import pandas as pd\n",
    "pd.options.mode.chained_assignment = None\n",
    "\n",
    "sys.path.append('../python/')\n",
    "from plotly_figure_parameters import dict_y_axis_parameters, dict_font_parameters, dict_x_axis_parameters_categorical\n",
    "from dashboard_notebook_util import read_estimated_concentrations, read_plate_data_with_locations"
   ]
  },
  {
   "cell_type": "code",
   "execution_count": null,
   "id": "345fcbbca377847f",
   "metadata": {
    "ExecuteTime": {
     "end_time": "2024-10-03T02:29:48.584272Z",
     "start_time": "2024-10-03T02:29:48.565660Z"
    }
   },
   "outputs": [],
   "source": [
    "dict_parameters = yaml.safe_load(open(\"../parameters/july_2024_data_parameters.yaml\", \"r\"))"
   ]
  },
  {
   "cell_type": "code",
   "execution_count": null,
   "id": "b7f9b5c56d0cf74f",
   "metadata": {
    "ExecuteTime": {
     "end_time": "2024-10-03T02:29:48.644675Z",
     "start_time": "2024-10-03T02:29:48.592725Z"
    }
   },
   "outputs": [],
   "source": [
    "pd_df_plate_data = read_plate_data_with_locations(dict_parameters)\n",
    "pd_df_estimated_concentrations = read_estimated_concentrations(dict_parameters)"
   ]
  },
  {
   "cell_type": "code",
   "execution_count": null,
   "id": "cb5b793a75963c06",
   "metadata": {
    "ExecuteTime": {
     "end_time": "2024-10-03T02:29:48.664971Z",
     "start_time": "2024-10-03T02:29:48.646576Z"
    }
   },
   "outputs": [],
   "source": [
    "pd_df_estimated_concentrations"
   ]
  },
  {
   "cell_type": "code",
   "execution_count": null,
   "id": "f3a479d949894654",
   "metadata": {
    "ExecuteTime": {
     "end_time": "2024-10-03T02:29:48.669778Z",
     "start_time": "2024-10-03T02:29:48.665816Z"
    }
   },
   "outputs": [],
   "source": [
    "pd_df_estimated_concentrations = pd_df_estimated_concentrations[pd_df_estimated_concentrations[\"sample name annotations\"].str.contains(\"QC-plasma\")]"
   ]
  },
  {
   "cell_type": "code",
   "execution_count": null,
   "id": "8eedd71c7b132330",
   "metadata": {
    "ExecuteTime": {
     "end_time": "2024-10-03T02:29:48.687601Z",
     "start_time": "2024-10-03T02:29:48.671202Z"
    }
   },
   "outputs": [],
   "source": [
    "pd_df_plate_data"
   ]
  },
  {
   "cell_type": "code",
   "execution_count": null,
   "id": "e32728894b0d2bd8",
   "metadata": {
    "ExecuteTime": {
     "end_time": "2024-10-03T02:29:48.707948Z",
     "start_time": "2024-10-03T02:29:48.689089Z"
    }
   },
   "outputs": [],
   "source": [
    "pd_df_quality_control_concentrations"
   ]
  },
  {
   "cell_type": "code",
   "execution_count": null,
   "id": "b82568ecdfa37d87",
   "metadata": {},
   "outputs": [],
   "source": [
    "pd_df_estimated_concentrations"
   ]
  },
  {
   "cell_type": "code",
   "execution_count": null,
   "id": "a47f90975e608707",
   "metadata": {},
   "outputs": [],
   "source": [
    "def perform_t_test_on_paired_wells(pd_group):\n",
    "    if len(pd_group) != 2:\n",
    "        return np.nan\n",
    "    mean_1, mean_2 = pd_group[\"IFN-gamma Trimmed Mean\"].values\n",
    "    std_dev_1, std_dev_2 = pd_group[\"IFN-gamma Trimmed Standard Deviation\"].values\n",
    "    count_1, count_2 = pd_group[\"IFN-gamma Count\"].values\n",
    "    t_statistic, p_value = stats.ttest_ind_from_stats(\n",
    "        mean_1, \n",
    "        std_dev_1, \n",
    "        count_1, \n",
    "        mean_2, \n",
    "        std_dev_2, \n",
    "        count_2,\n",
    "        equal_var=False,\n",
    "    )\n",
    "    return p_value"
   ]
  },
  {
   "cell_type": "code",
   "execution_count": null,
   "id": "56c7318d0d772965",
   "metadata": {},
   "outputs": [],
   "source": [
    "\n"
   ]
  },
  {
   "cell_type": "code",
   "execution_count": null,
   "id": "fc66c1c8cc8225b4",
   "metadata": {},
   "outputs": [],
   "source": [
    "pd_df_tested = (\n",
    "    pd_df_plate_data\n",
    "    .groupby([\"sample name plate\", \"plate number\"])\n",
    "    .apply(perform_t_test_on_paired_wells, include_groups=False)\n",
    "    .reset_index()\n",
    ")\n",
    "pd_df_tested.columns = [\"sample name plate\", \"plate number\"] + ['t test p value']\n",
    "pd_df_tested = pd.merge(\n",
    "    pd_df_tested, \n",
    "    pd_df_plate_data[[\"sample name plate\", \"plate number\", \"IFN-gamma Trimmed Mean\", \"IFN-gamma Trimmed Standard Deviation\", \"IFN-gamma Count\"]], \n",
    "    on = [\"sample name plate\", \"plate number\"], \n",
    "    how = \"left\"\n",
    ")"
   ]
  },
  {
   "cell_type": "code",
   "execution_count": null,
   "id": "45ff28cf60b76533",
   "metadata": {
    "ExecuteTime": {
     "end_time": "2024-10-03T02:29:48.736389Z",
     "start_time": "2024-10-03T02:29:48.718855Z"
    }
   },
   "outputs": [],
   "source": [
    "pd_df_tested"
   ]
  },
  {
   "cell_type": "code",
   "execution_count": null,
   "id": "a6d37ada37950e87",
   "metadata": {
    "ExecuteTime": {
     "end_time": "2024-10-03T02:29:48.758661Z",
     "start_time": "2024-10-03T02:29:48.739655Z"
    }
   },
   "outputs": [],
   "source": [
    "pd_df_tested_unique = pd_df_tested.drop_duplicates(subset = [\"sample name plate\", \"plate number\"])"
   ]
  },
  {
   "cell_type": "code",
   "execution_count": null,
   "id": "720444252d7d9fca",
   "metadata": {
    "ExecuteTime": {
     "end_time": "2024-10-03T02:29:48.854136Z",
     "start_time": "2024-10-03T02:29:48.836409Z"
    }
   },
   "outputs": [],
   "source": [
    "pd_df_tested_unique"
   ]
  },
  {
   "cell_type": "code",
   "execution_count": null,
   "id": "7cc88e232851e467",
   "metadata": {
    "ExecuteTime": {
     "end_time": "2024-10-03T02:29:49.000278Z",
     "start_time": "2024-10-03T02:29:48.978128Z"
    }
   },
   "outputs": [],
   "source": [
    "import seaborn as sns\n",
    "sns.histplot(pd_df_tested_unique, x = \"t test p value\", bins = 20)"
   ]
  },
  {
   "cell_type": "code",
   "execution_count": null,
   "id": "11e393ec53144b43",
   "metadata": {
    "ExecuteTime": {
     "end_time": "2024-10-03T02:29:49.054297Z",
     "start_time": "2024-10-03T02:29:49.050275Z"
    }
   },
   "outputs": [],
   "source": [
    "def calculate_paired_intra_plate_cv(str_analyte, pd_group):\n",
    "    if len(pd_group) != 2:\n",
    "        return np.nan\n",
    "    estimate_1, estimate_2 = pd_group[f\"estimated concentration {str_analyte}\"].values\n",
    "    mean = (estimate_1 + estimate_2) / 2\n",
    "    std_dev = np.sqrt((estimate_1 - mean)**2 + (estimate_2 - mean)**2)\n",
    "    return std_dev / mean\n"
   ]
  },
  {
   "cell_type": "code",
   "execution_count": null,
   "id": "d38430428337dabc",
   "metadata": {
    "ExecuteTime": {
     "end_time": "2024-10-03T02:29:49.064424Z",
     "start_time": "2024-10-03T02:29:49.060486Z"
    }
   },
   "outputs": [],
   "source": [
    "def calculate_paired_intra_plate_rel_abs_diff(str_analyte, pd_group):\n",
    "    if len(pd_group) != 2:\n",
    "        return np.nan\n",
    "    estimate_1, estimate_2 = pd_group[f\"estimated concentration {str_analyte}\"].values\n",
    "    mean = (estimate_1 + estimate_2) / 2\n",
    "    return np.abs(estimate_1 - estimate_2) / mean"
   ]
  },
  {
   "cell_type": "code",
   "execution_count": null,
   "id": "b73e56ca86a582b2",
   "metadata": {
    "ExecuteTime": {
     "end_time": "2024-10-03T02:29:49.085153Z",
     "start_time": "2024-10-03T02:29:49.079720Z"
    }
   },
   "outputs": [],
   "source": [
    "def get_table_of_duplicate_qc_checks(function_check, str_check_name):\n",
    "    list_pd_df_estimated_concentrations_checked_one_analyte = []\n",
    "    for str_analyte in dict_parameters[\"list of analytes\"]:\n",
    "        pd_df_estimated_concentrations_checked_one_analyte = (\n",
    "            pd_df_estimated_concentrations\n",
    "            .groupby([\"sample name annotations\", \"plate number\"])\n",
    "            .apply(lambda x: function_check(str_analyte, x), include_groups=False)\n",
    "            .reset_index()\n",
    "        )\n",
    "        pd_df_estimated_concentrations_checked_one_analyte.columns = [\"sample name annotations\", \"plate number\"] + [f\"{str_check_name} {str_analyte}\"]\n",
    "        list_pd_df_estimated_concentrations_checked_one_analyte.append(pd_df_estimated_concentrations_checked_one_analyte)\n",
    "    \n",
    "    pd_df_estimated_concentrations_checked = list_pd_df_estimated_concentrations_checked_one_analyte[0]\n",
    "    for pd_df_estimated_concentrations_checked_one_analyte in list_pd_df_estimated_concentrations_checked_one_analyte[1:]:\n",
    "        pd_df_estimated_concentrations_checked = pd.merge(\n",
    "            pd_df_estimated_concentrations_checked, \n",
    "            pd_df_estimated_concentrations_checked_one_analyte, \n",
    "            on = [\"sample name annotations\", \"plate number\"], \n",
    "            how = \"outer\"\n",
    "        )\n",
    "    return pd_df_estimated_concentrations_checked"
   ]
  },
  {
   "cell_type": "code",
   "execution_count": null,
   "id": "1a4376e159786444",
   "metadata": {
    "ExecuteTime": {
     "end_time": "2024-10-03T02:29:49.189038Z",
     "start_time": "2024-10-03T02:29:49.099588Z"
    }
   },
   "outputs": [],
   "source": [
    "pd_df_CV = get_table_of_duplicate_qc_checks(calculate_paired_intra_plate_cv, \"CV\")\n",
    "pd_df_rel_abs_diff = get_table_of_duplicate_qc_checks(calculate_paired_intra_plate_rel_abs_diff, \"rel. abs. diff.\")"
   ]
  },
  {
   "cell_type": "code",
   "execution_count": null,
   "id": "7da45e5dd46a630f",
   "metadata": {
    "ExecuteTime": {
     "end_time": "2024-10-03T02:29:49.204447Z",
     "start_time": "2024-10-03T02:29:49.190842Z"
    }
   },
   "outputs": [],
   "source": [
    "pd_df_rel_abs_diff"
   ]
  },
  {
   "cell_type": "code",
   "execution_count": null,
   "id": "8258c6934e68ed87",
   "metadata": {
    "ExecuteTime": {
     "end_time": "2024-10-03T02:29:49.220226Z",
     "start_time": "2024-10-03T02:29:49.206362Z"
    }
   },
   "outputs": [],
   "source": [
    "pd_df_CV"
   ]
  },
  {
   "cell_type": "code",
   "execution_count": null,
   "id": "ee2a76be7b262adb",
   "metadata": {
    "ExecuteTime": {
     "end_time": "2024-10-03T02:29:49.224409Z",
     "start_time": "2024-10-03T02:29:49.221683Z"
    }
   },
   "outputs": [],
   "source": [
    "# for i in list(range(1, 17)) + [18]:\n",
    "#     print(i, \n",
    "#         np.sqrt(\n",
    "#             np.nanmean(\n",
    "#                 pd_df_estimated_concentrations_checked[\n",
    "#                     pd_df_estimated_concentrations_checked[\"plate number\"] == i\n",
    "#                 ][\"intra plate CV\"].values**2\n",
    "#             )\n",
    "#         )\n",
    "#     )"
   ]
  },
  {
   "cell_type": "code",
   "execution_count": null,
   "id": "f9c398a8514ffba7",
   "metadata": {
    "ExecuteTime": {
     "end_time": "2024-10-03T02:29:49.228439Z",
     "start_time": "2024-10-03T02:29:49.225894Z"
    }
   },
   "outputs": [],
   "source": [
    "# pd_df_estimated_concentrations_checked[pd_df_estimated_concentrations_checked[\"intra plate CV\"] > 0.2]"
   ]
  },
  {
   "cell_type": "code",
   "execution_count": null,
   "id": "9b79cdef0983d5f5",
   "metadata": {
    "ExecuteTime": {
     "end_time": "2024-10-03T02:29:49.264280Z",
     "start_time": "2024-10-03T02:29:49.229538Z"
    }
   },
   "outputs": [],
   "source": [
    "dash_app_object_boxes = dash.Dash(__name__)\n",
    "\n",
    "# Define the layout\n",
    "dash_app_object_boxes.layout = html.Div([\n",
    "    html.H1(\"Plots of estimated concentrations\"),\n",
    "\n",
    "    html.Div([\n",
    "        html.Label(\"Plot type:\"),\n",
    "        dcc.Dropdown(\n",
    "            id='plot-type-dropdown',\n",
    "            options=[\n",
    "                {'label': 'box', 'value': 'box'},\n",
    "                {'label': 'strip', 'value': 'strip'},\n",
    "            ],\n",
    "            value='box',\n",
    "        ),\n",
    "    ], style={'width': '20%', 'display': 'inline-block'}),\n",
    "\n",
    "    html.Div([\n",
    "        html.Label(\"Analyte:\"),\n",
    "        dcc.Dropdown(\n",
    "            id='analyte-dropdown',\n",
    "            options=[{'label': col, 'value': col} for col in dict_parameters[\"list of analytes\"]],\n",
    "            value=dict_parameters[\"list of analytes\"][0]\n",
    "        ),\n",
    "    ], style={'width': '20%', 'display': 'inline-block'}),\n",
    "    \n",
    "    html.Div([\n",
    "        html.Label(\"Statistic:\"),\n",
    "        dcc.Dropdown(\n",
    "            id='statistic-dropdown',\n",
    "            options=[\n",
    "                {'label': 'CV', 'value': 'CV'},\n",
    "                {'label': 'rel. abs. diff.', 'value': 'rel. abs. diff.'},\n",
    "            ],\n",
    "            value='CV',\n",
    "        ),\n",
    "    ], style={'width': '20%', 'display': 'inline-block'}),\n",
    "    \n",
    "    dcc.Graph(id='scatter-plot')\n",
    "], style={'backgroundColor': 'white', 'padding': '20px'})\n",
    "\n",
    "\n",
    "@dash_app_object_boxes.callback(\n",
    "    Output('scatter-plot', 'figure'),\n",
    "    Input('analyte-dropdown', 'value'),\n",
    "    Input('plot-type-dropdown', 'value'),\n",
    "    Input('statistic-dropdown', 'value'),\n",
    ")\n",
    "def update_graph(str_analyte, str_plot_type, str_statistic):\n",
    "    \n",
    "    # if str_statistic == \"CV\":\n",
    "    #     pd_df_data = pd_df_CV\n",
    "    # elif str_statistic == \"rel. abs. diff.\":\n",
    "    #     pd_df_data = pd_df_rel_abs_diff\n",
    "        \n",
    "    str_column_name = f\"estimated concentration {str_analyte}\"\n",
    "    \n",
    "    if str_plot_type == \"box\":\n",
    "        fig = px.box(\n",
    "            pd_df_estimated_concentrations,\n",
    "            x = \"plate number\", \n",
    "            y = str_column_name,\n",
    "        )\n",
    "    elif str_plot_type == \"strip\":\n",
    "        fig = px.strip(\n",
    "            pd_df_estimated_concentrations,\n",
    "            x = \"plate number\", \n",
    "            y = str_column_name,\n",
    "            hover_name = \"sample name annotations\",\n",
    "        )    \n",
    "        fig.update_traces(marker = dict(opacity = 0.75))\n",
    "        \n",
    "    fig.update_layout(\n",
    "        plot_bgcolor='white',\n",
    "        paper_bgcolor='white',\n",
    "        xaxis=dict(\n",
    "            title=\"Plate number\",\n",
    "            showgrid=False,\n",
    "            zeroline=False,\n",
    "            showline=True,\n",
    "            linecolor='black',\n",
    "            linewidth=2,\n",
    "            ticks='outside',\n",
    "            tickfont=dict(family='Arial', size=12, color='black'),\n",
    "        ),\n",
    "        yaxis=dict(\n",
    "            title=str_statistic,\n",
    "            showgrid=True,\n",
    "            zeroline=True,\n",
    "            showline=True,\n",
    "            linecolor='black',\n",
    "            linewidth=2,\n",
    "            ticks='outside',\n",
    "            tickfont=dict(family='Arial', size=12, color='black'),\n",
    "        ),\n",
    "        font=dict(\n",
    "            family=\"Arial\",\n",
    "            size=16,\n",
    "            color=\"black\"\n",
    "        ),\n",
    "    )\n",
    "        \n",
    "    return fig\n",
    "\n",
    "# Run the app\n",
    "if __name__ == '__main__':\n",
    "    dash_app_object_boxes.run(jupyter_mode=\"inline\", debug = True, port=3312)"
   ]
  }
 ],
 "metadata": {
  "kernelspec": {
   "display_name": "Python 3",
   "language": "python",
   "name": "python3"
  },
  "language_info": {
   "codemirror_mode": {
    "name": "ipython",
    "version": 2
   },
   "file_extension": ".py",
   "mimetype": "text/x-python",
   "name": "python",
   "nbconvert_exporter": "python",
   "pygments_lexer": "ipython2",
   "version": "2.7.6"
  }
 },
 "nbformat": 4,
 "nbformat_minor": 5
}
