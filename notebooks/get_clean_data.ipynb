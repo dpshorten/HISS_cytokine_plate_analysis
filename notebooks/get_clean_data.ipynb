{
 "cells": [
  {
   "cell_type": "code",
   "execution_count": null,
   "id": "initial_id",
   "metadata": {
    "ExecuteTime": {
     "end_time": "2024-11-29T07:01:11.512233Z",
     "start_time": "2024-11-29T07:01:11.279137Z"
    }
   },
   "outputs": [],
   "source": [
    "import sys\n",
    "import yaml\n",
    "import numpy as np\n",
    "\n",
    "import pandas as pd\n",
    "pd.options.mode.chained_assignment = None\n",
    "\n",
    "sys.path.append('../python/')\n",
    "import plate_util\n",
    "from dashboard_notebook_util import (\n",
    "    read_estimated_concentrations, \n",
    "    read_plate_data_with_calibration_concentrations,\n",
    "    read_quality_control_concentrations\n",
    ")\n",
    "from analysis_util import get_table_with_all_duplicate_qc_checks\n",
    "\n",
    "import logging\n",
    "logging.basicConfig(level=logging.DEBUG, filename=\"dash_logs.log\")"
   ]
  },
  {
   "cell_type": "code",
   "execution_count": null,
   "id": "65b09a97abba35ea",
   "metadata": {
    "ExecuteTime": {
     "end_time": "2024-11-29T07:01:11.516154Z",
     "start_time": "2024-11-29T07:01:11.514022Z"
    }
   },
   "outputs": [],
   "source": [
    "#TODO: standardise naming conventions of IDs"
   ]
  },
  {
   "cell_type": "code",
   "execution_count": null,
   "id": "345fcbbca377847f",
   "metadata": {
    "ExecuteTime": {
     "end_time": "2024-11-29T07:01:11.527841Z",
     "start_time": "2024-11-29T07:01:11.516902Z"
    }
   },
   "outputs": [],
   "source": [
    "dict_parameters = yaml.safe_load(open(\"../parameters/july_2024_data_parameters.yaml\", \"r\"))"
   ]
  },
  {
   "cell_type": "code",
   "execution_count": null,
   "id": "1c294347fe95c72c",
   "metadata": {
    "ExecuteTime": {
     "end_time": "2024-11-29T07:01:11.556915Z",
     "start_time": "2024-11-29T07:01:11.529633Z"
    }
   },
   "outputs": [],
   "source": [
    "pd_df_estimated_concentrations = read_estimated_concentrations(dict_parameters)"
   ]
  },
  {
   "cell_type": "code",
   "execution_count": null,
   "id": "fb68f91d540f4421",
   "metadata": {
    "ExecuteTime": {
     "end_time": "2024-11-29T07:01:11.660982Z",
     "start_time": "2024-11-29T07:01:11.557897Z"
    }
   },
   "outputs": [],
   "source": [
    "pd_df_calibration_concentrations = plate_util.read_and_clean_calibration_concentrations(dict_parameters)"
   ]
  },
  {
   "cell_type": "code",
   "execution_count": null,
   "id": "ff328ba68470379a",
   "metadata": {
    "ExecuteTime": {
     "end_time": "2024-11-29T07:01:11.683592Z",
     "start_time": "2024-11-29T07:01:11.661891Z"
    }
   },
   "outputs": [],
   "source": [
    "pd_df_estimated_concentrations\n"
   ]
  },
  {
   "cell_type": "code",
   "execution_count": null,
   "id": "3699a57d27b44cf5",
   "metadata": {
    "ExecuteTime": {
     "end_time": "2024-11-29T07:01:15.406656Z",
     "start_time": "2024-11-29T07:01:11.684841Z"
    }
   },
   "outputs": [],
   "source": [
    "pd_df_concentrations_with_qc = get_table_with_all_duplicate_qc_checks(\n",
    "    dict_parameters, \n",
    "    pd_df_estimated_concentrations,\n",
    "    pd_df_calibration_concentrations,\n",
    "    dict_parameters[\"column name prefix for estimated concentrations\"],\n",
    ")"
   ]
  },
  {
   "cell_type": "code",
   "execution_count": null,
   "id": "7d24a5cba126d411",
   "metadata": {
    "ExecuteTime": {
     "end_time": "2024-11-29T07:01:19.433150Z",
     "start_time": "2024-11-29T07:01:15.407684Z"
    }
   },
   "outputs": [],
   "source": [
    "pd_df_intensities_with_qc = get_table_with_all_duplicate_qc_checks(\n",
    "    dict_parameters, \n",
    "    pd_df_estimated_concentrations,\n",
    "    pd_df_calibration_concentrations,\n",
    "    \"Median\",\n",
    ")"
   ]
  },
  {
   "cell_type": "code",
   "execution_count": null,
   "id": "9eb6834c3397b2c4",
   "metadata": {
    "ExecuteTime": {
     "end_time": "2024-11-29T07:01:19.450244Z",
     "start_time": "2024-11-29T07:01:19.434349Z"
    }
   },
   "outputs": [],
   "source": [
    "pd_df_intensities_with_qc"
   ]
  },
  {
   "cell_type": "code",
   "execution_count": null,
   "id": "fbd2d156cefda9ad",
   "metadata": {
    "ExecuteTime": {
     "end_time": "2024-11-29T07:01:19.455866Z",
     "start_time": "2024-11-29T07:01:19.452099Z"
    }
   },
   "outputs": [],
   "source": [
    "qc_columns_to_keep = [\"sample name annotations\", \"plate number\"]\n",
    "for str_analyte in dict_parameters[\"list of analytes\"]:\n",
    "    qc_columns_to_keep.append(f\"CV {str_analyte}\")\n",
    "pd_df_intensities_with_qc = pd_df_intensities_with_qc[qc_columns_to_keep]"
   ]
  },
  {
   "cell_type": "code",
   "execution_count": null,
   "id": "b532cffbee395f5f",
   "metadata": {
    "ExecuteTime": {
     "end_time": "2024-11-29T07:01:19.468249Z",
     "start_time": "2024-11-29T07:01:19.456611Z"
    }
   },
   "outputs": [],
   "source": [
    "pd_df_intensities_with_qc"
   ]
  },
  {
   "cell_type": "code",
   "execution_count": null,
   "id": "b4d5ab7111283ed2",
   "metadata": {
    "ExecuteTime": {
     "end_time": "2024-11-29T07:01:19.473354Z",
     "start_time": "2024-11-29T07:01:19.469113Z"
    }
   },
   "outputs": [],
   "source": [
    "estimates_columns_to_keep = [\"sample name annotations\", \"old sample name annotations\", \"plate number\"]\n",
    "for str_analyte in dict_parameters[\"list of analytes\"]:\n",
    "    estimates_columns_to_keep.append(f\"estimated concentration {str_analyte}\")\n",
    "pd_df_estimated_concentrations = pd_df_estimated_concentrations[estimates_columns_to_keep]"
   ]
  },
  {
   "cell_type": "code",
   "execution_count": null,
   "id": "fd0c82783716900e",
   "metadata": {
    "ExecuteTime": {
     "end_time": "2024-11-29T07:01:19.478907Z",
     "start_time": "2024-11-29T07:01:19.474129Z"
    }
   },
   "outputs": [],
   "source": [
    "pd_df_estimates_with_qc = pd_df_estimated_concentrations.merge(pd_df_intensities_with_qc, on=[\"sample name annotations\", \"plate number\"], how = 'left')"
   ]
  },
  {
   "cell_type": "code",
   "execution_count": null,
   "id": "b14e600492ad2e1e",
   "metadata": {
    "ExecuteTime": {
     "end_time": "2024-11-29T07:01:19.498053Z",
     "start_time": "2024-11-29T07:01:19.479844Z"
    }
   },
   "outputs": [],
   "source": [
    "pd_df_estimates_with_qc"
   ]
  },
  {
   "cell_type": "code",
   "execution_count": null,
   "id": "c09de1776f7d3c9c",
   "metadata": {
    "ExecuteTime": {
     "end_time": "2024-11-29T07:01:19.508456Z",
     "start_time": "2024-11-29T07:01:19.498937Z"
    }
   },
   "outputs": [],
   "source": [
    "pd_df_estimates_no_cleaning = pd_df_estimates_with_qc.copy()\n",
    "for str_analyte in dict_parameters[\"list of analytes\"]:\n",
    "    pd_df_estimates_with_qc.loc[\n",
    "        pd_df_estimates_with_qc[f\"CV {str_analyte}\"] > 30, f\"estimated concentration {str_analyte}\"\n",
    "    ] = np.nan\n",
    "    pd_df_estimates_with_qc.loc[\n",
    "        pd_df_estimates_with_qc[f\"CV {str_analyte}\"].isna(), f\"estimated concentration {str_analyte}\"\n",
    "    ] = np.nan"
   ]
  },
  {
   "cell_type": "code",
   "execution_count": null,
   "id": "775c41f8aca29ecd",
   "metadata": {
    "ExecuteTime": {
     "end_time": "2024-11-29T07:01:19.525204Z",
     "start_time": "2024-11-29T07:01:19.509364Z"
    }
   },
   "outputs": [],
   "source": [
    "pd_df_estimates_with_qc"
   ]
  },
  {
   "cell_type": "code",
   "execution_count": null,
   "id": "c98ab70ffd0ea42c",
   "metadata": {
    "ExecuteTime": {
     "end_time": "2024-11-29T07:01:19.528491Z",
     "start_time": "2024-11-29T07:01:19.526521Z"
    }
   },
   "outputs": [],
   "source": []
  },
  {
   "cell_type": "code",
   "execution_count": null,
   "id": "3de54063efa66b78",
   "metadata": {
    "ExecuteTime": {
     "end_time": "2024-11-29T07:01:19.533658Z",
     "start_time": "2024-11-29T07:01:19.529155Z"
    }
   },
   "outputs": [],
   "source": [
    "def final_cleaning(pd_df_estimates):\n",
    "    pd_df_estimates = (\n",
    "        pd_df_estimates\n",
    "        .groupby(\n",
    "            [\"sample name annotations\", \"old sample name annotations\", \"plate number\"],\n",
    "            dropna = False,\n",
    "        )\n",
    "        .mean()\n",
    "        .reset_index()\n",
    "    )\n",
    "    pd_df_estimates = pd_df_estimates[~pd_df_estimates[\"sample name annotations\"].str.contains(\"QC\")]\n",
    "    pd_df_estimates = pd_df_estimates[~pd_df_estimates[\"sample name annotations\"].str.contains(\"SM\")]\n",
    "    pd_df_estimates = pd_df_estimates[~pd_df_estimates[\"sample name annotations\"].str.contains(\"Std\")]\n",
    "    pd_df_estimates = pd_df_estimates[~pd_df_estimates[\"sample name annotations\"].str.contains(\"Standard\")]\n",
    "    pd_df_estimates = pd_df_estimates[~pd_df_estimates[\"sample name annotations\"].str.contains(\"Blank\")]\n",
    "    pd_df_estimates = pd_df_estimates[~pd_df_estimates[\"sample name annotations\"].str.contains(\"BLANK\")]\n",
    "    pd_df_estimates = pd_df_estimates[~pd_df_estimates[\"sample name annotations\"].str.contains(\"HEK\")]\n",
    "    pd_df_estimates = pd_df_estimates[~pd_df_estimates[\"sample name annotations\"].str.contains(\"LPS\")]\n",
    "    pd_df_estimates = pd_df_estimates[~pd_df_estimates[\"sample name annotations\"].str.contains(\"PAM\")]\n",
    "    estimates_columns_to_keep = [\"sample name annotations\", \"old sample name annotations\", \"plate number\"]\n",
    "    for str_analyte in dict_parameters[\"list of analytes\"]:\n",
    "        estimates_columns_to_keep.append(f\"estimated concentration {str_analyte}\")\n",
    "    pd_df_estimates = pd_df_estimates[estimates_columns_to_keep]\n",
    "    return pd_df_estimates"
   ]
  },
  {
   "cell_type": "code",
   "execution_count": null,
   "id": "ec0c49fd8e345c8f",
   "metadata": {
    "ExecuteTime": {
     "end_time": "2024-11-29T07:01:19.536989Z",
     "start_time": "2024-11-29T07:01:19.534846Z"
    }
   },
   "outputs": [],
   "source": []
  },
  {
   "cell_type": "code",
   "execution_count": null,
   "id": "4b9b6028b849a5",
   "metadata": {
    "ExecuteTime": {
     "end_time": "2024-11-29T07:01:19.556567Z",
     "start_time": "2024-11-29T07:01:19.537837Z"
    }
   },
   "outputs": [],
   "source": [
    "pd_df_estimates_with_qc = final_cleaning(pd_df_estimates_with_qc)\n",
    "pd_df_estimates_no_cleaning = final_cleaning(pd_df_estimates_no_cleaning)"
   ]
  },
  {
   "cell_type": "code",
   "execution_count": null,
   "id": "23d8e84ac48fafcb",
   "metadata": {
    "ExecuteTime": {
     "end_time": "2024-11-29T07:01:19.568519Z",
     "start_time": "2024-11-29T07:01:19.557574Z"
    }
   },
   "outputs": [],
   "source": [
    "pd_df_estimates_no_cleaning"
   ]
  },
  {
   "cell_type": "markdown",
   "id": "282880d43cae5e7a",
   "metadata": {},
   "source": []
  },
  {
   "cell_type": "code",
   "execution_count": null,
   "id": "3a6d1c2dc2389990",
   "metadata": {
    "ExecuteTime": {
     "end_time": "2024-11-29T07:01:19.580445Z",
     "start_time": "2024-11-29T07:01:19.569486Z"
    }
   },
   "outputs": [],
   "source": [
    "pd_df_estimates_with_qc"
   ]
  },
  {
   "cell_type": "code",
   "execution_count": null,
   "id": "af742422cea520bc",
   "metadata": {
    "ExecuteTime": {
     "end_time": "2024-11-29T07:01:19.595595Z",
     "start_time": "2024-11-29T07:01:19.581227Z"
    }
   },
   "outputs": [],
   "source": [
    "pd_df_estimates_with_qc.to_csv(\"../output/cleaned_estimates.csv\", index=False)\n",
    "pd_df_estimates_no_cleaning.to_csv(\"../output/estimates_no_qc.csv\", index=False)"
   ]
  },
  {
   "cell_type": "code",
   "execution_count": null,
   "id": "7a87dd9e43cd2a67",
   "metadata": {
    "ExecuteTime": {
     "end_time": "2024-11-29T07:01:19.601743Z",
     "start_time": "2024-11-29T07:01:19.596498Z"
    }
   },
   "outputs": [],
   "source": [
    "temp = pd.read_csv(\"../output/cleaned_estimates.csv\")"
   ]
  },
  {
   "cell_type": "code",
   "execution_count": null,
   "id": "eac8095e246bc0ee",
   "metadata": {
    "ExecuteTime": {
     "end_time": "2024-11-29T07:01:19.614880Z",
     "start_time": "2024-11-29T07:01:19.602871Z"
    }
   },
   "outputs": [],
   "source": [
    "temp"
   ]
  },
  {
   "cell_type": "code",
   "execution_count": null,
   "id": "f2aa13b155b2e1c7",
   "metadata": {
    "ExecuteTime": {
     "end_time": "2024-11-29T07:01:19.620861Z",
     "start_time": "2024-11-29T07:01:19.615809Z"
    }
   },
   "outputs": [],
   "source": [
    "temp_no_cleaning = pd.read_csv(\"../output/estimates_no_qc.csv\")"
   ]
  },
  {
   "cell_type": "code",
   "execution_count": null,
   "id": "2def4e794596041c",
   "metadata": {
    "ExecuteTime": {
     "end_time": "2024-11-29T07:01:19.632632Z",
     "start_time": "2024-11-29T07:01:19.621584Z"
    }
   },
   "outputs": [],
   "source": [
    "temp_no_cleaning"
   ]
  }
 ],
 "metadata": {
  "kernelspec": {
   "display_name": "Python 3",
   "language": "python",
   "name": "python3"
  },
  "language_info": {
   "codemirror_mode": {
    "name": "ipython",
    "version": 2
   },
   "file_extension": ".py",
   "mimetype": "text/x-python",
   "name": "python",
   "nbconvert_exporter": "python",
   "pygments_lexer": "ipython2",
   "version": "2.7.6"
  }
 },
 "nbformat": 4,
 "nbformat_minor": 5
}
