{
 "cells": [
  {
   "cell_type": "code",
   "execution_count": null,
   "id": "initial_id",
   "metadata": {
    "ExecuteTime": {
     "end_time": "2024-11-29T05:12:54.176026Z",
     "start_time": "2024-11-29T05:12:53.917183Z"
    }
   },
   "outputs": [],
   "source": [
    "import sys\n",
    "import yaml\n",
    "import numpy as np\n",
    "\n",
    "import pandas as pd\n",
    "pd.options.mode.chained_assignment = None\n",
    "\n",
    "sys.path.append('../python/')\n",
    "import plate_util\n",
    "from dashboard_notebook_util import (\n",
    "    read_estimated_concentrations, \n",
    "    read_plate_data_with_calibration_concentrations,\n",
    "    read_quality_control_concentrations\n",
    ")\n",
    "from analysis_util import get_table_with_all_duplicate_qc_checks\n",
    "\n",
    "import logging\n",
    "logging.basicConfig(level=logging.DEBUG, filename=\"dash_logs.log\")"
   ]
  },
  {
   "cell_type": "code",
   "execution_count": null,
   "id": "65b09a97abba35ea",
   "metadata": {
    "ExecuteTime": {
     "end_time": "2024-11-29T05:12:54.179824Z",
     "start_time": "2024-11-29T05:12:54.177247Z"
    }
   },
   "outputs": [],
   "source": [
    "#TODO: standardise naming conventions of IDs"
   ]
  },
  {
   "cell_type": "code",
   "execution_count": null,
   "id": "345fcbbca377847f",
   "metadata": {
    "ExecuteTime": {
     "end_time": "2024-11-29T05:12:54.195636Z",
     "start_time": "2024-11-29T05:12:54.180913Z"
    }
   },
   "outputs": [],
   "source": [
    "dict_parameters = yaml.safe_load(open(\"../parameters/july_2024_data_parameters.yaml\", \"r\"))"
   ]
  },
  {
   "cell_type": "code",
   "execution_count": null,
   "id": "1c294347fe95c72c",
   "metadata": {
    "ExecuteTime": {
     "end_time": "2024-11-29T05:12:54.228437Z",
     "start_time": "2024-11-29T05:12:54.197Z"
    }
   },
   "outputs": [],
   "source": [
    "pd_df_estimated_concentrations = read_estimated_concentrations(dict_parameters)"
   ]
  },
  {
   "cell_type": "code",
   "execution_count": null,
   "id": "fb68f91d540f4421",
   "metadata": {
    "ExecuteTime": {
     "end_time": "2024-11-29T05:12:54.329834Z",
     "start_time": "2024-11-29T05:12:54.229474Z"
    }
   },
   "outputs": [],
   "source": [
    "pd_df_calibration_concentrations = plate_util.read_and_clean_calibration_concentrations(dict_parameters)"
   ]
  },
  {
   "cell_type": "code",
   "execution_count": null,
   "id": "ff328ba68470379a",
   "metadata": {
    "ExecuteTime": {
     "end_time": "2024-11-29T05:12:54.349231Z",
     "start_time": "2024-11-29T05:12:54.330646Z"
    }
   },
   "outputs": [],
   "source": [
    "pd_df_estimated_concentrations\n"
   ]
  },
  {
   "cell_type": "code",
   "execution_count": null,
   "id": "3699a57d27b44cf5",
   "metadata": {
    "ExecuteTime": {
     "end_time": "2024-11-29T05:12:57.878790Z",
     "start_time": "2024-11-29T05:12:54.350539Z"
    }
   },
   "outputs": [],
   "source": [
    "pd_df_concentrations_with_qc = get_table_with_all_duplicate_qc_checks(\n",
    "    dict_parameters, \n",
    "    pd_df_estimated_concentrations,\n",
    "    pd_df_calibration_concentrations,\n",
    "    dict_parameters[\"column name prefix for estimated concentrations\"],\n",
    ")"
   ]
  },
  {
   "cell_type": "code",
   "execution_count": null,
   "id": "7d24a5cba126d411",
   "metadata": {
    "ExecuteTime": {
     "end_time": "2024-11-29T05:13:01.633880Z",
     "start_time": "2024-11-29T05:12:57.880271Z"
    }
   },
   "outputs": [],
   "source": [
    "pd_df_intensities_with_qc = get_table_with_all_duplicate_qc_checks(\n",
    "    dict_parameters, \n",
    "    pd_df_estimated_concentrations,\n",
    "    pd_df_calibration_concentrations,\n",
    "    \"Median\",\n",
    ")"
   ]
  },
  {
   "cell_type": "code",
   "execution_count": null,
   "id": "9eb6834c3397b2c4",
   "metadata": {
    "ExecuteTime": {
     "end_time": "2024-11-29T05:13:01.649293Z",
     "start_time": "2024-11-29T05:13:01.635132Z"
    }
   },
   "outputs": [],
   "source": [
    "pd_df_intensities_with_qc"
   ]
  },
  {
   "cell_type": "code",
   "execution_count": null,
   "id": "fbd2d156cefda9ad",
   "metadata": {
    "ExecuteTime": {
     "end_time": "2024-11-29T05:13:01.654689Z",
     "start_time": "2024-11-29T05:13:01.651506Z"
    }
   },
   "outputs": [],
   "source": [
    "qc_columns_to_keep = [\"sample name annotations\", \"plate number\"]\n",
    "for str_analyte in dict_parameters[\"list of analytes\"]:\n",
    "    qc_columns_to_keep.append(f\"CV {str_analyte}\")\n",
    "pd_df_intensities_with_qc = pd_df_intensities_with_qc[qc_columns_to_keep]"
   ]
  },
  {
   "cell_type": "code",
   "execution_count": null,
   "id": "b532cffbee395f5f",
   "metadata": {
    "ExecuteTime": {
     "end_time": "2024-11-29T05:13:01.666266Z",
     "start_time": "2024-11-29T05:13:01.656107Z"
    }
   },
   "outputs": [],
   "source": [
    "pd_df_intensities_with_qc"
   ]
  },
  {
   "cell_type": "code",
   "execution_count": null,
   "id": "b4d5ab7111283ed2",
   "metadata": {
    "ExecuteTime": {
     "end_time": "2024-11-29T05:13:01.670527Z",
     "start_time": "2024-11-29T05:13:01.667210Z"
    }
   },
   "outputs": [],
   "source": [
    "estimates_columns_to_keep = [\"sample name annotations\", \"old sample name annotations\", \"plate number\"]\n",
    "for str_analyte in dict_parameters[\"list of analytes\"]:\n",
    "    estimates_columns_to_keep.append(f\"estimated concentration {str_analyte}\")\n",
    "pd_df_estimated_concentrations = pd_df_estimated_concentrations[estimates_columns_to_keep]"
   ]
  },
  {
   "cell_type": "code",
   "execution_count": null,
   "id": "fd0c82783716900e",
   "metadata": {
    "ExecuteTime": {
     "end_time": "2024-11-29T05:13:01.676732Z",
     "start_time": "2024-11-29T05:13:01.671684Z"
    }
   },
   "outputs": [],
   "source": [
    "pd_df_estimates_with_qc = pd_df_estimated_concentrations.merge(pd_df_intensities_with_qc, on=[\"sample name annotations\", \"plate number\"], how = 'left')"
   ]
  },
  {
   "cell_type": "code",
   "execution_count": null,
   "id": "b14e600492ad2e1e",
   "metadata": {
    "ExecuteTime": {
     "end_time": "2024-11-29T05:13:01.691112Z",
     "start_time": "2024-11-29T05:13:01.677484Z"
    }
   },
   "outputs": [],
   "source": [
    "pd_df_estimates_with_qc"
   ]
  },
  {
   "cell_type": "code",
   "execution_count": null,
   "id": "c09de1776f7d3c9c",
   "metadata": {
    "ExecuteTime": {
     "end_time": "2024-11-29T05:13:01.699698Z",
     "start_time": "2024-11-29T05:13:01.691905Z"
    }
   },
   "outputs": [],
   "source": [
    "pd_df_estimates_no_cleaning = pd_df_estimates_with_qc.copy()\n",
    "for str_analyte in dict_parameters[\"list of analytes\"]:\n",
    "    pd_df_estimates_with_qc.loc[\n",
    "        pd_df_estimates_with_qc[f\"CV {str_analyte}\"] > 30, f\"estimated concentration {str_analyte}\"\n",
    "    ] = np.nan\n",
    "    pd_df_estimates_with_qc.loc[\n",
    "        pd_df_estimates_with_qc[f\"CV {str_analyte}\"].isna(), f\"estimated concentration {str_analyte}\"\n",
    "    ] = np.nan"
   ]
  },
  {
   "cell_type": "code",
   "execution_count": null,
   "id": "775c41f8aca29ecd",
   "metadata": {
    "ExecuteTime": {
     "end_time": "2024-11-29T05:13:01.718020Z",
     "start_time": "2024-11-29T05:13:01.701547Z"
    }
   },
   "outputs": [],
   "source": [
    "pd_df_estimates_with_qc"
   ]
  },
  {
   "cell_type": "code",
   "execution_count": null,
   "id": "c98ab70ffd0ea42c",
   "metadata": {
    "ExecuteTime": {
     "end_time": "2024-11-29T05:13:01.721905Z",
     "start_time": "2024-11-29T05:13:01.719776Z"
    }
   },
   "outputs": [],
   "source": []
  },
  {
   "cell_type": "code",
   "execution_count": null,
   "id": "3de54063efa66b78",
   "metadata": {
    "ExecuteTime": {
     "end_time": "2024-11-29T05:13:01.727430Z",
     "start_time": "2024-11-29T05:13:01.722729Z"
    }
   },
   "outputs": [],
   "source": [
    "def final_cleaning(pd_df_estimates):\n",
    "    pd_df_estimates = (\n",
    "        pd_df_estimates\n",
    "        .groupby(\n",
    "            [\"sample name annotations\", \"old sample name annotations\", \"plate number\"],\n",
    "            dropna = False,\n",
    "        )\n",
    "        .mean()\n",
    "        .reset_index()\n",
    "    )\n",
    "    pd_df_estimates = pd_df_estimates[~pd_df_estimates[\"sample name annotations\"].str.contains(\"QC\")]\n",
    "    pd_df_estimates = pd_df_estimates[~pd_df_estimates[\"sample name annotations\"].str.contains(\"SM\")]\n",
    "    pd_df_estimates = pd_df_estimates[~pd_df_estimates[\"sample name annotations\"].str.contains(\"Std\")]\n",
    "    pd_df_estimates = pd_df_estimates[~pd_df_estimates[\"sample name annotations\"].str.contains(\"Standard\")]\n",
    "    pd_df_estimates = pd_df_estimates[~pd_df_estimates[\"sample name annotations\"].str.contains(\"Blank\")]\n",
    "    pd_df_estimates = pd_df_estimates[~pd_df_estimates[\"sample name annotations\"].str.contains(\"BLANK\")]\n",
    "    pd_df_estimates = pd_df_estimates[~pd_df_estimates[\"sample name annotations\"].str.contains(\"HEK\")]\n",
    "    pd_df_estimates = pd_df_estimates[~pd_df_estimates[\"sample name annotations\"].str.contains(\"LPS\")]\n",
    "    pd_df_estimates = pd_df_estimates[~pd_df_estimates[\"sample name annotations\"].str.contains(\"PAM\")]\n",
    "    estimates_columns_to_keep = [\"sample name annotations\", \"old sample name annotations\", \"plate number\"]\n",
    "    for str_analyte in dict_parameters[\"list of analytes\"]:\n",
    "        estimates_columns_to_keep.append(f\"estimated concentration {str_analyte}\")\n",
    "    pd_df_estimates = pd_df_estimates[estimates_columns_to_keep]\n",
    "    return pd_df_estimates"
   ]
  },
  {
   "cell_type": "code",
   "execution_count": null,
   "id": "ec0c49fd8e345c8f",
   "metadata": {
    "ExecuteTime": {
     "end_time": "2024-11-29T05:13:01.729992Z",
     "start_time": "2024-11-29T05:13:01.728115Z"
    }
   },
   "outputs": [],
   "source": []
  },
  {
   "cell_type": "code",
   "execution_count": null,
   "id": "4b9b6028b849a5",
   "metadata": {
    "ExecuteTime": {
     "end_time": "2024-11-29T05:13:01.748521Z",
     "start_time": "2024-11-29T05:13:01.730715Z"
    }
   },
   "outputs": [],
   "source": [
    "pd_df_estimates_with_qc = final_cleaning(pd_df_estimates_with_qc)\n",
    "pd_df_estimates_no_cleaning = final_cleaning(pd_df_estimates_no_cleaning)"
   ]
  },
  {
   "cell_type": "code",
   "execution_count": null,
   "id": "23d8e84ac48fafcb",
   "metadata": {
    "ExecuteTime": {
     "end_time": "2024-11-29T05:13:01.761476Z",
     "start_time": "2024-11-29T05:13:01.749566Z"
    }
   },
   "outputs": [],
   "source": [
    "pd_df_estimates_no_cleaning"
   ]
  },
  {
   "cell_type": "markdown",
   "id": "282880d43cae5e7a",
   "metadata": {},
   "source": []
  },
  {
   "cell_type": "code",
   "execution_count": null,
   "id": "3a6d1c2dc2389990",
   "metadata": {
    "ExecuteTime": {
     "end_time": "2024-11-29T05:13:01.773090Z",
     "start_time": "2024-11-29T05:13:01.762608Z"
    }
   },
   "outputs": [],
   "source": [
    "pd_df_estimates_with_qc"
   ]
  },
  {
   "cell_type": "code",
   "execution_count": null,
   "id": "af742422cea520bc",
   "metadata": {
    "ExecuteTime": {
     "end_time": "2024-11-29T05:13:01.787440Z",
     "start_time": "2024-11-29T05:13:01.773913Z"
    }
   },
   "outputs": [],
   "source": [
    "pd_df_estimates_with_qc.to_csv(\"../output/cleaned_estimates.csv\", index=False)\n",
    "pd_df_estimates_no_cleaning.to_csv(\"../output/estimates_no_qc.csv\", index=False)"
   ]
  },
  {
   "cell_type": "code",
   "execution_count": null,
   "id": "7a87dd9e43cd2a67",
   "metadata": {
    "ExecuteTime": {
     "end_time": "2024-11-29T05:13:01.793976Z",
     "start_time": "2024-11-29T05:13:01.788318Z"
    }
   },
   "outputs": [],
   "source": [
    "temp = pd.read_csv(\"../output/cleaned_estimates.csv\")"
   ]
  },
  {
   "cell_type": "code",
   "execution_count": null,
   "id": "eac8095e246bc0ee",
   "metadata": {
    "ExecuteTime": {
     "end_time": "2024-11-29T05:13:01.807560Z",
     "start_time": "2024-11-29T05:13:01.795224Z"
    }
   },
   "outputs": [],
   "source": [
    "temp"
   ]
  },
  {
   "cell_type": "code",
   "execution_count": null,
   "id": "f2aa13b155b2e1c7",
   "metadata": {
    "ExecuteTime": {
     "end_time": "2024-11-29T05:13:01.813576Z",
     "start_time": "2024-11-29T05:13:01.808932Z"
    }
   },
   "outputs": [],
   "source": [
    "temp_no_cleaning = pd.read_csv(\"../output/estimates_no_qc.csv\")"
   ]
  },
  {
   "cell_type": "code",
   "execution_count": null,
   "id": "2def4e794596041c",
   "metadata": {
    "ExecuteTime": {
     "end_time": "2024-11-29T05:13:01.826033Z",
     "start_time": "2024-11-29T05:13:01.815416Z"
    }
   },
   "outputs": [],
   "source": [
    "temp_no_cleaning"
   ]
  }
 ],
 "metadata": {
  "kernelspec": {
   "display_name": "Python 3",
   "language": "python",
   "name": "python3"
  },
  "language_info": {
   "codemirror_mode": {
    "name": "ipython",
    "version": 2
   },
   "file_extension": ".py",
   "mimetype": "text/x-python",
   "name": "python",
   "nbconvert_exporter": "python",
   "pygments_lexer": "ipython2",
   "version": "2.7.6"
  }
 },
 "nbformat": 4,
 "nbformat_minor": 5
}
