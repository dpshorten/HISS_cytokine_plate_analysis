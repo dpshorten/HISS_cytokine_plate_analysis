{
 "cells": [
  {
   "cell_type": "code",
   "execution_count": null,
   "id": "initial_id",
   "metadata": {
    "ExecuteTime": {
     "end_time": "2024-10-11T08:34:26.489350Z",
     "start_time": "2024-10-11T08:34:26.248286Z"
    }
   },
   "outputs": [],
   "source": [
    "import sys\n",
    "import os\n",
    "import yaml\n",
    "import numpy as np\n",
    "from scipy import stats\n",
    "\n",
    "import dash\n",
    "from dash import dcc, html\n",
    "from dash.dependencies import Input, Output\n",
    "import plotly.express as px\n",
    "import plotly.graph_objects as go\n",
    "\n",
    "import pandas as pd\n",
    "pd.options.mode.chained_assignment = None\n",
    "\n",
    "sys.path.append('../python/')\n",
    "import plate_util\n",
    "from plotly_figure_parameters import dict_y_axis_parameters, dict_font_parameters, dict_x_axis_parameters_categorical\n",
    "from dashboard_notebook_util import (\n",
    "    read_estimated_concentrations, \n",
    "    read_plate_data_with_calibration_concentrations,\n",
    "    read_quality_control_concentrations\n",
    ")\n",
    "from analysis_util import get_table_with_all_duplicate_qc_checks\n",
    "\n",
    "import logging\n",
    "logging.basicConfig(level=logging.DEBUG, filename=\"dash_logs.log\")"
   ]
  },
  {
   "cell_type": "code",
   "execution_count": null,
   "id": "345fcbbca377847f",
   "metadata": {
    "ExecuteTime": {
     "end_time": "2024-10-11T08:34:26.500375Z",
     "start_time": "2024-10-11T08:34:26.490323Z"
    }
   },
   "outputs": [],
   "source": [
    "dict_parameters = yaml.safe_load(open(\"../parameters/july_2024_data_parameters.yaml\", \"r\"))"
   ]
  },
  {
   "cell_type": "code",
   "execution_count": null,
   "id": "1c294347fe95c72c",
   "metadata": {
    "ExecuteTime": {
     "end_time": "2024-10-11T08:34:26.547284Z",
     "start_time": "2024-10-11T08:34:26.501223Z"
    }
   },
   "outputs": [],
   "source": [
    "pd_df_plate_data = read_plate_data_with_calibration_concentrations(dict_parameters)\n",
    "pd_df_estimated_concentrations = read_estimated_concentrations(dict_parameters)"
   ]
  },
  {
   "cell_type": "code",
   "execution_count": null,
   "id": "fb68f91d540f4421",
   "metadata": {
    "ExecuteTime": {
     "end_time": "2024-10-11T08:34:26.715150Z",
     "start_time": "2024-10-11T08:34:26.548607Z"
    }
   },
   "outputs": [],
   "source": [
    "pd_df_calibration_concentrations = plate_util.read_and_clean_calibration_concentrations(dict_parameters)"
   ]
  },
  {
   "cell_type": "code",
   "execution_count": null,
   "id": "ff328ba68470379a",
   "metadata": {
    "ExecuteTime": {
     "end_time": "2024-10-11T08:34:26.735846Z",
     "start_time": "2024-10-11T08:34:26.716425Z"
    }
   },
   "outputs": [],
   "source": [
    "pd_df_estimated_concentrations"
   ]
  },
  {
   "cell_type": "code",
   "execution_count": null,
   "id": "8eedd71c7b132330",
   "metadata": {
    "ExecuteTime": {
     "end_time": "2024-10-11T08:34:26.754882Z",
     "start_time": "2024-10-11T08:34:26.736960Z"
    }
   },
   "outputs": [],
   "source": [
    "pd_df_plate_data"
   ]
  },
  {
   "cell_type": "code",
   "execution_count": null,
   "id": "3699a57d27b44cf5",
   "metadata": {
    "ExecuteTime": {
     "end_time": "2024-10-11T08:34:30.158323Z",
     "start_time": "2024-10-11T08:34:26.755936Z"
    }
   },
   "outputs": [],
   "source": [
    "pd_df_concentrations_with_qc = get_table_with_all_duplicate_qc_checks(\n",
    "    dict_parameters, \n",
    "    pd_df_estimated_concentrations,\n",
    "    pd_df_calibration_concentrations,\n",
    "    dict_parameters[\"column name prefix for estimated concentrations\"],\n",
    ")"
   ]
  },
  {
   "cell_type": "code",
   "execution_count": null,
   "id": "7d24a5cba126d411",
   "metadata": {
    "ExecuteTime": {
     "end_time": "2024-10-11T08:34:33.816412Z",
     "start_time": "2024-10-11T08:34:30.160300Z"
    }
   },
   "outputs": [],
   "source": [
    "pd_df_intensities_with_qc = get_table_with_all_duplicate_qc_checks(\n",
    "    dict_parameters, \n",
    "    pd_df_estimated_concentrations,\n",
    "    pd_df_calibration_concentrations,\n",
    "    \"Median\",\n",
    ")"
   ]
  },
  {
   "cell_type": "code",
   "execution_count": null,
   "id": "9eb6834c3397b2c4",
   "metadata": {
    "ExecuteTime": {
     "end_time": "2024-10-11T08:34:33.834799Z",
     "start_time": "2024-10-11T08:34:33.817787Z"
    }
   },
   "outputs": [],
   "source": [
    "pd_df_intensities_with_qc"
   ]
  },
  {
   "cell_type": "code",
   "execution_count": null,
   "id": "fbd2d156cefda9ad",
   "metadata": {
    "ExecuteTime": {
     "end_time": "2024-10-11T08:34:33.839244Z",
     "start_time": "2024-10-11T08:34:33.835959Z"
    }
   },
   "outputs": [],
   "source": [
    "qc_columns_to_keep = [\"sample name annotations\", \"plate number\"]\n",
    "for str_analyte in dict_parameters[\"list of analytes\"]:\n",
    "    qc_columns_to_keep.append(f\"CV {str_analyte}\")\n",
    "pd_df_intensities_with_qc = pd_df_intensities_with_qc[qc_columns_to_keep]"
   ]
  },
  {
   "cell_type": "code",
   "execution_count": null,
   "id": "b532cffbee395f5f",
   "metadata": {
    "ExecuteTime": {
     "end_time": "2024-10-11T08:34:33.852705Z",
     "start_time": "2024-10-11T08:34:33.839946Z"
    }
   },
   "outputs": [],
   "source": [
    "pd_df_intensities_with_qc"
   ]
  },
  {
   "cell_type": "code",
   "execution_count": null,
   "id": "b4d5ab7111283ed2",
   "metadata": {
    "ExecuteTime": {
     "end_time": "2024-10-11T08:34:33.857136Z",
     "start_time": "2024-10-11T08:34:33.853553Z"
    }
   },
   "outputs": [],
   "source": [
    "estimates_columns_to_keep = [\"sample name annotations\", \"plate number\"]\n",
    "for str_analyte in dict_parameters[\"list of analytes\"]:\n",
    "    estimates_columns_to_keep.append(f\"estimated concentration {str_analyte}\")\n",
    "pd_df_estimated_concentrations = pd_df_estimated_concentrations[estimates_columns_to_keep]"
   ]
  },
  {
   "cell_type": "code",
   "execution_count": null,
   "id": "fd0c82783716900e",
   "metadata": {
    "ExecuteTime": {
     "end_time": "2024-10-11T08:34:33.864791Z",
     "start_time": "2024-10-11T08:34:33.858535Z"
    }
   },
   "outputs": [],
   "source": [
    "pd_df_estimates_with_qc = pd_df_estimated_concentrations.merge(pd_df_intensities_with_qc, on=[\"sample name annotations\", \"plate number\"], how = 'left')"
   ]
  },
  {
   "cell_type": "code",
   "execution_count": null,
   "id": "b14e600492ad2e1e",
   "metadata": {
    "ExecuteTime": {
     "end_time": "2024-10-11T08:34:33.890346Z",
     "start_time": "2024-10-11T08:34:33.866481Z"
    }
   },
   "outputs": [],
   "source": [
    "pd_df_estimates_with_qc"
   ]
  },
  {
   "cell_type": "code",
   "execution_count": null,
   "id": "c09de1776f7d3c9c",
   "metadata": {
    "ExecuteTime": {
     "end_time": "2024-10-11T08:34:33.910400Z",
     "start_time": "2024-10-11T08:34:33.891636Z"
    }
   },
   "outputs": [],
   "source": [
    "for str_analyte in dict_parameters[\"list of analytes\"]:\n",
    "    pd_df_estimates_with_qc.loc[\n",
    "        pd_df_estimates_with_qc[f\"CV {str_analyte}\"] > 30, f\"estimated concentration {str_analyte}\"\n",
    "    ] = np.nan\n",
    "    pd_df_estimates_with_qc.loc[\n",
    "        pd_df_estimates_with_qc[f\"CV {str_analyte}\"].isna(), f\"estimated concentration {str_analyte}\"\n",
    "    ] = np.nan\n",
    "    pd_df_estimates_with_qc.loc[\n",
    "        pd_df_estimates_with_qc[f\"plate number\"] == 6, f\"estimated concentration {str_analyte}\"\n",
    "    ] = np.nan"
   ]
  },
  {
   "cell_type": "code",
   "execution_count": null,
   "id": "775c41f8aca29ecd",
   "metadata": {
    "ExecuteTime": {
     "end_time": "2024-10-11T08:34:33.929949Z",
     "start_time": "2024-10-11T08:34:33.911745Z"
    }
   },
   "outputs": [],
   "source": [
    "pd_df_estimates_with_qc"
   ]
  },
  {
   "cell_type": "code",
   "execution_count": null,
   "id": "c98ab70ffd0ea42c",
   "metadata": {
    "ExecuteTime": {
     "end_time": "2024-10-11T08:34:33.932365Z",
     "start_time": "2024-10-11T08:34:33.930777Z"
    }
   },
   "outputs": [],
   "source": []
  },
  {
   "cell_type": "code",
   "execution_count": null,
   "id": "3de54063efa66b78",
   "metadata": {
    "ExecuteTime": {
     "end_time": "2024-10-11T08:34:33.938930Z",
     "start_time": "2024-10-11T08:34:33.933259Z"
    }
   },
   "outputs": [],
   "source": [
    "pd_df_estimates_with_qc = pd_df_estimates_with_qc.groupby([\"sample name annotations\", \"plate number\"]).mean().reset_index()"
   ]
  },
  {
   "cell_type": "code",
   "execution_count": null,
   "id": "4b9b6028b849a5",
   "metadata": {
    "ExecuteTime": {
     "end_time": "2024-10-11T08:34:33.956515Z",
     "start_time": "2024-10-11T08:34:33.940031Z"
    }
   },
   "outputs": [],
   "source": [
    "pd_df_estimates_with_qc"
   ]
  },
  {
   "cell_type": "code",
   "execution_count": null,
   "id": "23d8e84ac48fafcb",
   "metadata": {
    "ExecuteTime": {
     "end_time": "2024-10-11T08:34:33.966862Z",
     "start_time": "2024-10-11T08:34:33.957367Z"
    }
   },
   "outputs": [],
   "source": [
    "pd_df_estimates_with_qc = pd_df_estimates_with_qc[~pd_df_estimates_with_qc[\"sample name annotations\"].str.contains(\"QC\")]\n",
    "pd_df_estimates_with_qc = pd_df_estimates_with_qc[~pd_df_estimates_with_qc[\"sample name annotations\"].str.contains(\"SM\")]\n",
    "pd_df_estimates_with_qc = pd_df_estimates_with_qc[~pd_df_estimates_with_qc[\"sample name annotations\"].str.contains(\"Std\")]\n",
    "pd_df_estimates_with_qc = pd_df_estimates_with_qc[~pd_df_estimates_with_qc[\"sample name annotations\"].str.contains(\"Standard\")]\n",
    "pd_df_estimates_with_qc = pd_df_estimates_with_qc[~pd_df_estimates_with_qc[\"sample name annotations\"].str.contains(\"Blank\")]\n",
    "pd_df_estimates_with_qc = pd_df_estimates_with_qc[~pd_df_estimates_with_qc[\"sample name annotations\"].str.contains(\"BLANK\")]\n",
    "pd_df_estimates_with_qc = pd_df_estimates_with_qc[~pd_df_estimates_with_qc[\"sample name annotations\"].str.contains(\"HEK\")]\n",
    "pd_df_estimates_with_qc = pd_df_estimates_with_qc[~pd_df_estimates_with_qc[\"sample name annotations\"].str.contains(\"LPS\")]\n",
    "pd_df_estimates_with_qc = pd_df_estimates_with_qc[~pd_df_estimates_with_qc[\"sample name annotations\"].str.contains(\"PAM\")]"
   ]
  },
  {
   "cell_type": "code",
   "execution_count": null,
   "id": "3a6d1c2dc2389990",
   "metadata": {
    "ExecuteTime": {
     "end_time": "2024-10-11T08:34:33.983671Z",
     "start_time": "2024-10-11T08:34:33.967906Z"
    }
   },
   "outputs": [],
   "source": [
    "pd_df_estimates_with_qc"
   ]
  },
  {
   "cell_type": "code",
   "execution_count": null,
   "id": "305b733fca332469",
   "metadata": {
    "ExecuteTime": {
     "end_time": "2024-10-11T08:34:33.989101Z",
     "start_time": "2024-10-11T08:34:33.984704Z"
    }
   },
   "outputs": [],
   "source": [
    "estimates_columns_to_keep = [\"sample name annotations\", \"plate number\"]\n",
    "for str_analyte in dict_parameters[\"list of analytes\"]:\n",
    "    estimates_columns_to_keep.append(f\"estimated concentration {str_analyte}\")\n",
    "pd_df_estimated_concentrations_final = pd_df_estimates_with_qc[estimates_columns_to_keep]"
   ]
  },
  {
   "cell_type": "code",
   "execution_count": null,
   "id": "b845c83a71b86919",
   "metadata": {
    "ExecuteTime": {
     "end_time": "2024-10-11T08:34:34.002408Z",
     "start_time": "2024-10-11T08:34:33.990154Z"
    }
   },
   "outputs": [],
   "source": [
    "pd_df_estimated_concentrations_final"
   ]
  },
  {
   "cell_type": "code",
   "execution_count": null,
   "id": "af742422cea520bc",
   "metadata": {
    "ExecuteTime": {
     "end_time": "2024-10-11T08:34:34.011400Z",
     "start_time": "2024-10-11T08:34:34.003390Z"
    }
   },
   "outputs": [],
   "source": [
    "pd_df_estimated_concentrations_final.to_csv(\"../output/cleaned_estimates.csv\", index=False)"
   ]
  },
  {
   "cell_type": "code",
   "execution_count": null,
   "id": "7a87dd9e43cd2a67",
   "metadata": {
    "ExecuteTime": {
     "end_time": "2024-10-11T08:34:34.018898Z",
     "start_time": "2024-10-11T08:34:34.012357Z"
    }
   },
   "outputs": [],
   "source": [
    "temp = pd.read_csv(\"../output/cleaned_estimates.csv\")"
   ]
  },
  {
   "cell_type": "code",
   "execution_count": null,
   "id": "eac8095e246bc0ee",
   "metadata": {
    "ExecuteTime": {
     "end_time": "2024-10-11T08:34:34.033059Z",
     "start_time": "2024-10-11T08:34:34.020076Z"
    }
   },
   "outputs": [],
   "source": [
    "temp"
   ]
  },
  {
   "cell_type": "code",
   "execution_count": null,
   "id": "f2aa13b155b2e1c7",
   "metadata": {
    "ExecuteTime": {
     "end_time": "2024-10-11T08:34:34.036621Z",
     "start_time": "2024-10-11T08:34:34.034263Z"
    }
   },
   "outputs": [],
   "source": []
  }
 ],
 "metadata": {
  "kernelspec": {
   "display_name": "Python 3",
   "language": "python",
   "name": "python3"
  },
  "language_info": {
   "codemirror_mode": {
    "name": "ipython",
    "version": 2
   },
   "file_extension": ".py",
   "mimetype": "text/x-python",
   "name": "python",
   "nbconvert_exporter": "python",
   "pygments_lexer": "ipython2",
   "version": "2.7.6"
  }
 },
 "nbformat": 4,
 "nbformat_minor": 5
}
