{
 "cells": [
  {
   "cell_type": "code",
   "execution_count": null,
   "id": "1605a2bce635e853",
   "metadata": {
    "ExecuteTime": {
     "end_time": "2024-09-12T07:10:23.505117Z",
     "start_time": "2024-09-12T07:10:23.282019Z"
    }
   },
   "outputs": [],
   "source": [
    "import sys\n",
    "import yaml\n",
    "\n",
    "sys.path.append('../python/')\n",
    "import plate_util"
   ]
  },
  {
   "cell_type": "code",
   "execution_count": null,
   "id": "de3ed5683e3d8937",
   "metadata": {
    "ExecuteTime": {
     "end_time": "2024-09-12T07:10:23.516323Z",
     "start_time": "2024-09-12T07:10:23.506659Z"
    }
   },
   "outputs": [],
   "source": [
    "dict_parameters = yaml.safe_load(open(\"../parameters/july_2024_data_parameters.yaml\", \"r\"))"
   ]
  },
  {
   "cell_type": "code",
   "execution_count": null,
   "id": "f567cc9e82919d8",
   "metadata": {
    "ExecuteTime": {
     "end_time": "2024-09-12T07:10:23.876313Z",
     "start_time": "2024-09-12T07:10:23.517564Z"
    }
   },
   "outputs": [],
   "source": [
    "dict_parsed_file_for_each_plate = plate_util.get_parsed_file_for_each_plate(dict_parameters)"
   ]
  },
  {
   "cell_type": "code",
   "execution_count": null,
   "id": "abbdfb5c7c05198",
   "metadata": {
    "ExecuteTime": {
     "end_time": "2024-09-12T07:10:23.882023Z",
     "start_time": "2024-09-12T07:10:23.877277Z"
    }
   },
   "outputs": [],
   "source": [
    "dict_parsed_file_for_each_plate[4].keys()"
   ]
  },
  {
   "cell_type": "code",
   "execution_count": null,
   "id": "4f8517a737cbb6c9",
   "metadata": {
    "ExecuteTime": {
     "end_time": "2024-09-12T07:10:23.889557Z",
     "start_time": "2024-09-12T07:10:23.883821Z"
    }
   },
   "outputs": [],
   "source": [
    "dict_parsed_file_for_each_plate[4][\"header\"]"
   ]
  },
  {
   "cell_type": "code",
   "execution_count": null,
   "id": "2f2e8fe4fa36c1b0",
   "metadata": {
    "ExecuteTime": {
     "end_time": "2024-09-12T07:10:23.894237Z",
     "start_time": "2024-09-12T07:10:23.890345Z"
    }
   },
   "outputs": [],
   "source": [
    "dict_parsed_file_for_each_plate[4][\"main metadata block\"]"
   ]
  },
  {
   "cell_type": "code",
   "execution_count": null,
   "id": "f4491aa0b856b51c",
   "metadata": {
    "ExecuteTime": {
     "end_time": "2024-09-12T07:10:23.912866Z",
     "start_time": "2024-09-12T07:10:23.895062Z"
    }
   },
   "outputs": [],
   "source": [
    "dict_parsed_file_for_each_plate[14][\"merged tables dataframe\"]"
   ]
  },
  {
   "cell_type": "code",
   "execution_count": null,
   "id": "9bea4e428fd01d2c",
   "metadata": {
    "ExecuteTime": {
     "end_time": "2024-09-12T07:10:23.973160Z",
     "start_time": "2024-09-12T07:10:23.913818Z"
    }
   },
   "outputs": [],
   "source": [
    "dict_extracted_plate_data = plate_util.extract_plate_data_and_locations_from_parsed_files(\n",
    "    dict_parameters,\n",
    "    dict_parsed_file_for_each_plate, \n",
    ")"
   ]
  },
  {
   "cell_type": "code",
   "execution_count": null,
   "id": "bbfff3691eff7bf0",
   "metadata": {
    "ExecuteTime": {
     "end_time": "2024-09-12T07:10:23.991092Z",
     "start_time": "2024-09-12T07:10:23.974281Z"
    }
   },
   "outputs": [],
   "source": [
    "dict_extracted_plate_data[2]"
   ]
  },
  {
   "cell_type": "code",
   "execution_count": null,
   "id": "25866553fc890252",
   "metadata": {
    "ExecuteTime": {
     "end_time": "2024-09-12T07:10:24.013290Z",
     "start_time": "2024-09-12T07:10:23.992403Z"
    }
   },
   "outputs": [],
   "source": [
    "dict_plate_sample_locations = plate_util.read_plate_sample_locations(dict_parameters)"
   ]
  },
  {
   "cell_type": "code",
   "execution_count": null,
   "id": "bbb94803706bfb60",
   "metadata": {
    "ExecuteTime": {
     "end_time": "2024-09-12T07:10:24.023212Z",
     "start_time": "2024-09-12T07:10:24.014272Z"
    }
   },
   "outputs": [],
   "source": [
    "dict_plate_sample_locations[1]"
   ]
  },
  {
   "cell_type": "code",
   "execution_count": null,
   "id": "3a960e72e71876a0",
   "metadata": {
    "ExecuteTime": {
     "end_time": "2024-09-12T07:10:24.121016Z",
     "start_time": "2024-09-12T07:10:24.024549Z"
    }
   },
   "outputs": [],
   "source": [
    "dict_incorporated_plate_data = plate_util.incorporate_plate_sample_locations(\n",
    "    dict_extracted_plate_data, \n",
    "    dict_plate_sample_locations\n",
    ")"
   ]
  },
  {
   "cell_type": "code",
   "execution_count": null,
   "id": "21289937b829667c",
   "metadata": {
    "ExecuteTime": {
     "end_time": "2024-09-12T07:10:24.138947Z",
     "start_time": "2024-09-12T07:10:24.122678Z"
    }
   },
   "outputs": [],
   "source": [
    "dict_incorporated_plate_data[14]"
   ]
  },
  {
   "cell_type": "code",
   "execution_count": null,
   "id": "a868eb3a779235c6",
   "metadata": {
    "ExecuteTime": {
     "end_time": "2024-09-12T07:10:24.149104Z",
     "start_time": "2024-09-12T07:10:24.141520Z"
    }
   },
   "outputs": [],
   "source": [
    "pd_df_concatenated_plate_data = plate_util.concatenate_plates_into_single_dataframe(dict_incorporated_plate_data)"
   ]
  },
  {
   "cell_type": "code",
   "execution_count": null,
   "id": "bcacf8c92bbe77d5",
   "metadata": {
    "ExecuteTime": {
     "end_time": "2024-09-12T07:10:24.169050Z",
     "start_time": "2024-09-12T07:10:24.150048Z"
    }
   },
   "outputs": [],
   "source": [
    "pd_df_concatenated_plate_data"
   ]
  },
  {
   "cell_type": "code",
   "execution_count": null,
   "id": "e1467ec9e1d25779",
   "metadata": {
    "ExecuteTime": {
     "end_time": "2024-09-12T07:10:24.172108Z",
     "start_time": "2024-09-12T07:10:24.170316Z"
    }
   },
   "outputs": [],
   "source": []
  }
 ],
 "metadata": {
  "kernelspec": {
   "display_name": "Python 3",
   "language": "python",
   "name": "python3"
  },
  "language_info": {
   "codemirror_mode": {
    "name": "ipython",
    "version": 2
   },
   "file_extension": ".py",
   "mimetype": "text/x-python",
   "name": "python",
   "nbconvert_exporter": "python",
   "pygments_lexer": "ipython2",
   "version": "2.7.6"
  }
 },
 "nbformat": 4,
 "nbformat_minor": 5
}
