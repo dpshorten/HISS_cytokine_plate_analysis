{
 "cells": [
  {
   "cell_type": "code",
   "execution_count": null,
   "id": "1605a2bce635e853",
   "metadata": {
    "ExecuteTime": {
     "end_time": "2024-08-05T12:30:57.504279Z",
     "start_time": "2024-08-05T12:30:57.490230Z"
    }
   },
   "outputs": [],
   "source": [
    "import sys\n",
    "import yaml\n",
    "\n",
    "sys.path.append('../python/')\n",
    "import plate_util"
   ]
  },
  {
   "cell_type": "code",
   "execution_count": null,
   "id": "de3ed5683e3d8937",
   "metadata": {
    "ExecuteTime": {
     "end_time": "2024-08-05T12:30:57.513203Z",
     "start_time": "2024-08-05T12:30:57.505201Z"
    }
   },
   "outputs": [],
   "source": [
    "dict_parameters = yaml.safe_load(open(\"../parameters/july_2024_data_parameters.yaml\", \"r\"))"
   ]
  },
  {
   "cell_type": "code",
   "execution_count": null,
   "id": "f567cc9e82919d8",
   "metadata": {
    "ExecuteTime": {
     "end_time": "2024-08-05T12:30:57.910871Z",
     "start_time": "2024-08-05T12:30:57.514726Z"
    }
   },
   "outputs": [],
   "source": [
    "dict_parsed_file_for_each_plate = plate_util.get_parsed_file_for_each_plate(dict_parameters)"
   ]
  },
  {
   "cell_type": "code",
   "execution_count": null,
   "id": "abbdfb5c7c05198",
   "metadata": {
    "ExecuteTime": {
     "end_time": "2024-08-05T12:30:57.919876Z",
     "start_time": "2024-08-05T12:30:57.912678Z"
    }
   },
   "outputs": [],
   "source": [
    "dict_parsed_file_for_each_plate[4].keys()"
   ]
  },
  {
   "cell_type": "code",
   "execution_count": null,
   "id": "4f8517a737cbb6c9",
   "metadata": {
    "ExecuteTime": {
     "end_time": "2024-08-05T12:30:57.925022Z",
     "start_time": "2024-08-05T12:30:57.921298Z"
    }
   },
   "outputs": [],
   "source": [
    "dict_parsed_file_for_each_plate[4][\"header\"]"
   ]
  },
  {
   "cell_type": "code",
   "execution_count": null,
   "id": "2f2e8fe4fa36c1b0",
   "metadata": {
    "ExecuteTime": {
     "end_time": "2024-08-05T12:30:57.930507Z",
     "start_time": "2024-08-05T12:30:57.927210Z"
    }
   },
   "outputs": [],
   "source": [
    "dict_parsed_file_for_each_plate[4][\"main metadata block\"]"
   ]
  },
  {
   "cell_type": "code",
   "execution_count": null,
   "id": "f4491aa0b856b51c",
   "metadata": {
    "ExecuteTime": {
     "end_time": "2024-08-05T12:31:44.734845Z",
     "start_time": "2024-08-05T12:31:44.702928Z"
    }
   },
   "outputs": [],
   "source": [
    "dict_parsed_file_for_each_plate[14][\"merged tables dataframe\"]"
   ]
  },
  {
   "cell_type": "code",
   "execution_count": null,
   "id": "9bea4e428fd01d2c",
   "metadata": {
    "ExecuteTime": {
     "end_time": "2024-08-05T12:30:58.004337Z",
     "start_time": "2024-08-05T12:30:57.949832Z"
    }
   },
   "outputs": [],
   "source": [
    "dict_extracted_plate_data = plate_util.extract_plate_data_and_locations_from_parsed_files(\n",
    "    dict_parameters,\n",
    "    dict_parsed_file_for_each_plate, \n",
    ")"
   ]
  },
  {
   "cell_type": "code",
   "execution_count": null,
   "id": "bbfff3691eff7bf0",
   "metadata": {
    "ExecuteTime": {
     "end_time": "2024-08-05T12:30:58.022953Z",
     "start_time": "2024-08-05T12:30:58.005928Z"
    }
   },
   "outputs": [],
   "source": [
    "dict_extracted_plate_data[2]"
   ]
  },
  {
   "cell_type": "code",
   "execution_count": null,
   "id": "25866553fc890252",
   "metadata": {
    "ExecuteTime": {
     "end_time": "2024-08-05T12:30:58.045477Z",
     "start_time": "2024-08-05T12:30:58.024028Z"
    }
   },
   "outputs": [],
   "source": [
    "dict_plate_sample_locations = plate_util.read_plate_sample_locations(dict_parameters)"
   ]
  },
  {
   "cell_type": "code",
   "execution_count": null,
   "id": "bbb94803706bfb60",
   "metadata": {
    "ExecuteTime": {
     "end_time": "2024-08-05T12:30:58.057169Z",
     "start_time": "2024-08-05T12:30:58.047232Z"
    }
   },
   "outputs": [],
   "source": [
    "dict_plate_sample_locations[1]"
   ]
  },
  {
   "cell_type": "code",
   "execution_count": null,
   "id": "3a960e72e71876a0",
   "metadata": {
    "ExecuteTime": {
     "end_time": "2024-08-05T12:30:58.142654Z",
     "start_time": "2024-08-05T12:30:58.058162Z"
    }
   },
   "outputs": [],
   "source": [
    "dict_incorporated_plate_data = plate_util.incorporate_plate_sample_locations(\n",
    "    dict_extracted_plate_data, \n",
    "    dict_plate_sample_locations\n",
    ")"
   ]
  },
  {
   "cell_type": "code",
   "execution_count": null,
   "id": "21289937b829667c",
   "metadata": {
    "ExecuteTime": {
     "end_time": "2024-08-05T12:32:26.387625Z",
     "start_time": "2024-08-05T12:32:26.364171Z"
    }
   },
   "outputs": [],
   "source": [
    "dict_incorporated_plate_data[14]"
   ]
  },
  {
   "cell_type": "code",
   "execution_count": null,
   "id": "a868eb3a779235c6",
   "metadata": {
    "ExecuteTime": {
     "end_time": "2024-08-05T12:30:58.168274Z",
     "start_time": "2024-08-05T12:30:58.161518Z"
    }
   },
   "outputs": [],
   "source": [
    "pd_df_concatenated_plate_data = plate_util.concatenate_plates_into_single_dataframe(dict_incorporated_plate_data)"
   ]
  },
  {
   "cell_type": "code",
   "execution_count": null,
   "id": "bcacf8c92bbe77d5",
   "metadata": {
    "ExecuteTime": {
     "end_time": "2024-08-05T12:30:58.185092Z",
     "start_time": "2024-08-05T12:30:58.169521Z"
    }
   },
   "outputs": [],
   "source": [
    "pd_df_concatenated_plate_data"
   ]
  },
  {
   "cell_type": "code",
   "execution_count": null,
   "id": "e1467ec9e1d25779",
   "metadata": {
    "ExecuteTime": {
     "end_time": "2024-08-05T12:30:58.187974Z",
     "start_time": "2024-08-05T12:30:58.186225Z"
    }
   },
   "outputs": [],
   "source": []
  }
 ],
 "metadata": {
  "kernelspec": {
   "display_name": "Python 3",
   "language": "python",
   "name": "python3"
  },
  "language_info": {
   "codemirror_mode": {
    "name": "ipython",
    "version": 2
   },
   "file_extension": ".py",
   "mimetype": "text/x-python",
   "name": "python",
   "nbconvert_exporter": "python",
   "pygments_lexer": "ipython2",
   "version": "2.7.6"
  }
 },
 "nbformat": 4,
 "nbformat_minor": 5
}
