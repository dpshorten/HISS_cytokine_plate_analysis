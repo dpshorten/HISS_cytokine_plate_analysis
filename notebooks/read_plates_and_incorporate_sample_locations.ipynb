{
 "cells": [
  {
   "cell_type": "code",
   "execution_count": null,
   "id": "1605a2bce635e853",
   "metadata": {
    "ExecuteTime": {
     "end_time": "2024-09-13T00:37:46.028484Z",
     "start_time": "2024-09-13T00:37:46.021986Z"
    }
   },
   "outputs": [],
   "source": [
    "import sys\n",
    "import yaml\n",
    "\n",
    "sys.path.append('../python/')\n",
    "import plate_util"
   ]
  },
  {
   "cell_type": "code",
   "execution_count": null,
   "id": "de3ed5683e3d8937",
   "metadata": {
    "ExecuteTime": {
     "end_time": "2024-09-13T00:37:46.046943Z",
     "start_time": "2024-09-13T00:37:46.037813Z"
    }
   },
   "outputs": [],
   "source": [
    "dict_parameters = yaml.safe_load(open(\"../parameters/july_2024_data_parameters.yaml\", \"r\"))"
   ]
  },
  {
   "cell_type": "code",
   "execution_count": null,
   "id": "f567cc9e82919d8",
   "metadata": {
    "ExecuteTime": {
     "end_time": "2024-09-13T00:37:46.411734Z",
     "start_time": "2024-09-13T00:37:46.048026Z"
    }
   },
   "outputs": [],
   "source": [
    "dict_parsed_file_for_each_plate = plate_util.get_parsed_file_for_each_plate(dict_parameters)"
   ]
  },
  {
   "cell_type": "code",
   "execution_count": null,
   "id": "abbdfb5c7c05198",
   "metadata": {
    "ExecuteTime": {
     "end_time": "2024-09-13T00:37:46.416268Z",
     "start_time": "2024-09-13T00:37:46.413303Z"
    }
   },
   "outputs": [],
   "source": [
    "dict_parsed_file_for_each_plate[4].keys()"
   ]
  },
  {
   "cell_type": "code",
   "execution_count": null,
   "id": "4f8517a737cbb6c9",
   "metadata": {
    "ExecuteTime": {
     "end_time": "2024-09-13T00:37:46.425065Z",
     "start_time": "2024-09-13T00:37:46.417009Z"
    }
   },
   "outputs": [],
   "source": [
    "dict_parsed_file_for_each_plate[4][\"header\"]"
   ]
  },
  {
   "cell_type": "code",
   "execution_count": null,
   "id": "2f2e8fe4fa36c1b0",
   "metadata": {
    "ExecuteTime": {
     "end_time": "2024-09-13T00:37:46.430219Z",
     "start_time": "2024-09-13T00:37:46.426562Z"
    }
   },
   "outputs": [],
   "source": [
    "dict_parsed_file_for_each_plate[4][\"main metadata block\"]"
   ]
  },
  {
   "cell_type": "code",
   "execution_count": null,
   "id": "f4491aa0b856b51c",
   "metadata": {
    "ExecuteTime": {
     "end_time": "2024-09-13T00:37:46.445571Z",
     "start_time": "2024-09-13T00:37:46.431063Z"
    }
   },
   "outputs": [],
   "source": [
    "dict_parsed_file_for_each_plate[14][\"merged tables dataframe\"]"
   ]
  },
  {
   "cell_type": "code",
   "execution_count": null,
   "id": "9bea4e428fd01d2c",
   "metadata": {
    "ExecuteTime": {
     "end_time": "2024-09-13T00:37:46.511024Z",
     "start_time": "2024-09-13T00:37:46.446637Z"
    }
   },
   "outputs": [],
   "source": [
    "dict_extracted_plate_data = plate_util.extract_plate_data_and_locations_from_parsed_files(\n",
    "    dict_parameters,\n",
    "    dict_parsed_file_for_each_plate, \n",
    ")"
   ]
  },
  {
   "cell_type": "code",
   "execution_count": null,
   "id": "bbfff3691eff7bf0",
   "metadata": {
    "ExecuteTime": {
     "end_time": "2024-09-13T00:37:46.530297Z",
     "start_time": "2024-09-13T00:37:46.512555Z"
    }
   },
   "outputs": [],
   "source": [
    "dict_extracted_plate_data[2]"
   ]
  },
  {
   "cell_type": "code",
   "execution_count": null,
   "id": "25866553fc890252",
   "metadata": {
    "ExecuteTime": {
     "end_time": "2024-09-13T00:37:46.552537Z",
     "start_time": "2024-09-13T00:37:46.531716Z"
    }
   },
   "outputs": [],
   "source": [
    "dict_plate_sample_locations = plate_util.read_plate_sample_locations(dict_parameters)"
   ]
  },
  {
   "cell_type": "code",
   "execution_count": null,
   "id": "bbb94803706bfb60",
   "metadata": {
    "ExecuteTime": {
     "end_time": "2024-09-13T00:37:46.563643Z",
     "start_time": "2024-09-13T00:37:46.553380Z"
    }
   },
   "outputs": [],
   "source": [
    "dict_plate_sample_locations[1]"
   ]
  },
  {
   "cell_type": "code",
   "execution_count": null,
   "id": "3a960e72e71876a0",
   "metadata": {
    "ExecuteTime": {
     "end_time": "2024-09-13T00:37:46.658034Z",
     "start_time": "2024-09-13T00:37:46.565794Z"
    }
   },
   "outputs": [],
   "source": [
    "dict_incorporated_plate_data = plate_util.incorporate_plate_sample_locations(\n",
    "    dict_extracted_plate_data, \n",
    "    dict_plate_sample_locations\n",
    ")"
   ]
  },
  {
   "cell_type": "code",
   "execution_count": null,
   "id": "21289937b829667c",
   "metadata": {
    "ExecuteTime": {
     "end_time": "2024-09-13T00:39:12.916375Z",
     "start_time": "2024-09-13T00:39:12.894128Z"
    }
   },
   "outputs": [],
   "source": [
    "dict_incorporated_plate_data[14]"
   ]
  },
  {
   "cell_type": "code",
   "execution_count": null,
   "id": "a868eb3a779235c6",
   "metadata": {
    "ExecuteTime": {
     "end_time": "2024-09-13T00:37:46.684576Z",
     "start_time": "2024-09-13T00:37:46.677801Z"
    }
   },
   "outputs": [],
   "source": [
    "pd_df_concatenated_plate_data = plate_util.concatenate_plates_into_single_dataframe(dict_incorporated_plate_data)"
   ]
  },
  {
   "cell_type": "code",
   "execution_count": null,
   "id": "bcacf8c92bbe77d5",
   "metadata": {
    "ExecuteTime": {
     "end_time": "2024-09-13T00:37:46.701933Z",
     "start_time": "2024-09-13T00:37:46.685444Z"
    }
   },
   "outputs": [],
   "source": [
    "pd_df_concatenated_plate_data"
   ]
  },
  {
   "cell_type": "code",
   "execution_count": null,
   "id": "e1467ec9e1d25779",
   "metadata": {
    "ExecuteTime": {
     "end_time": "2024-09-13T00:37:46.704959Z",
     "start_time": "2024-09-13T00:37:46.702770Z"
    }
   },
   "outputs": [],
   "source": []
  }
 ],
 "metadata": {
  "kernelspec": {
   "display_name": "Python 3",
   "language": "python",
   "name": "python3"
  },
  "language_info": {
   "codemirror_mode": {
    "name": "ipython",
    "version": 2
   },
   "file_extension": ".py",
   "mimetype": "text/x-python",
   "name": "python",
   "nbconvert_exporter": "python",
   "pygments_lexer": "ipython2",
   "version": "2.7.6"
  }
 },
 "nbformat": 4,
 "nbformat_minor": 5
}
