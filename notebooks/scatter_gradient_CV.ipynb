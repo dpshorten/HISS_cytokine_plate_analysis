{
 "cells": [
  {
   "cell_type": "code",
   "execution_count": null,
   "id": "initial_id",
   "metadata": {
    "ExecuteTime": {
     "end_time": "2024-10-09T04:17:30.087901Z",
     "start_time": "2024-10-09T04:17:29.022690Z"
    }
   },
   "outputs": [],
   "source": [
    "import sys\n",
    "import os\n",
    "import yaml\n",
    "import numpy as np\n",
    "from scipy import stats\n",
    "\n",
    "import dash\n",
    "from dash import dcc, html\n",
    "from dash.dependencies import Input, Output\n",
    "import plotly.graph_objects as go\n",
    "\n",
    "import pandas as pd\n",
    "pd.options.mode.chained_assignment = None\n",
    "\n",
    "sys.path.append('../python/')\n",
    "import plate_util\n",
    "from plotly_figure_parameters import dict_y_axis_parameters, dict_font_parameters, dict_x_axis_parameters_categorical\n",
    "from dashboard_notebook_util import (\n",
    "    read_estimated_concentrations, \n",
    "    read_plate_data_with_calibration_concentrations,\n",
    "    read_quality_control_concentrations\n",
    ")\n",
    "from analysis_util import get_table_with_all_duplicate_qc_checks\n",
    "\n",
    "import logging\n",
    "logging.basicConfig(level=logging.DEBUG, filename=\"dash_logs.log\")"
   ]
  },
  {
   "cell_type": "code",
   "execution_count": null,
   "id": "345fcbbca377847f",
   "metadata": {
    "ExecuteTime": {
     "end_time": "2024-10-09T04:17:30.098274Z",
     "start_time": "2024-10-09T04:17:30.088717Z"
    }
   },
   "outputs": [],
   "source": [
    "dict_parameters = yaml.safe_load(open(\"../parameters/july_2024_data_parameters.yaml\", \"r\"))"
   ]
  },
  {
   "cell_type": "code",
   "execution_count": null,
   "id": "1c294347fe95c72c",
   "metadata": {
    "ExecuteTime": {
     "end_time": "2024-10-09T04:17:30.141288Z",
     "start_time": "2024-10-09T04:17:30.099144Z"
    }
   },
   "outputs": [],
   "source": [
    "pd_df_plate_data = read_plate_data_with_calibration_concentrations(dict_parameters)\n",
    "pd_df_estimated_concentrations = read_estimated_concentrations(dict_parameters)"
   ]
  },
  {
   "cell_type": "code",
   "execution_count": null,
   "id": "b7f9b5c56d0cf74f",
   "metadata": {
    "ExecuteTime": {
     "end_time": "2024-10-09T04:17:30.323052Z",
     "start_time": "2024-10-09T04:17:30.142203Z"
    }
   },
   "outputs": [],
   "source": [
    "pd_df_calibration_concentrations = plate_util.read_and_clean_calibration_concentrations(dict_parameters)"
   ]
  },
  {
   "cell_type": "code",
   "execution_count": null,
   "id": "ff328ba68470379a",
   "metadata": {
    "ExecuteTime": {
     "end_time": "2024-10-09T04:17:30.335272Z",
     "start_time": "2024-10-09T04:17:30.323903Z"
    }
   },
   "outputs": [],
   "source": [
    "pd_df_calibration_concentrations"
   ]
  },
  {
   "cell_type": "code",
   "execution_count": null,
   "id": "21eedbfe0b18c3fe",
   "metadata": {
    "ExecuteTime": {
     "end_time": "2024-10-09T04:17:30.339942Z",
     "start_time": "2024-10-09T04:17:30.336120Z"
    }
   },
   "outputs": [],
   "source": [
    "pd_df_quality_control_concentrations = pd.read_csv(\n",
    "    open(\n",
    "        os.path.join(\n",
    "            dict_parameters[\"base directory path\"],\n",
    "            dict_parameters[\"data directory\"],\n",
    "            dict_parameters[\"quality control concentrations file name\"]\n",
    "        ),\n",
    "        \"rb\"\n",
    "    )\n",
    ")"
   ]
  },
  {
   "cell_type": "code",
   "execution_count": null,
   "id": "8eedd71c7b132330",
   "metadata": {
    "ExecuteTime": {
     "end_time": "2024-10-09T04:17:30.358203Z",
     "start_time": "2024-10-09T04:17:30.340655Z"
    }
   },
   "outputs": [],
   "source": [
    "pd_df_plate_data"
   ]
  },
  {
   "cell_type": "code",
   "execution_count": null,
   "id": "e32728894b0d2bd8",
   "metadata": {
    "ExecuteTime": {
     "end_time": "2024-10-09T04:17:30.365993Z",
     "start_time": "2024-10-09T04:17:30.358950Z"
    }
   },
   "outputs": [],
   "source": [
    "pd_df_quality_control_concentrations"
   ]
  },
  {
   "cell_type": "code",
   "execution_count": null,
   "id": "b82568ecdfa37d87",
   "metadata": {
    "ExecuteTime": {
     "end_time": "2024-10-09T04:17:30.379193Z",
     "start_time": "2024-10-09T04:17:30.366803Z"
    }
   },
   "outputs": [],
   "source": [
    "pd_df_estimated_concentrations"
   ]
  },
  {
   "cell_type": "code",
   "execution_count": null,
   "id": "98fa1a9fe76a6b1f",
   "metadata": {
    "ExecuteTime": {
     "end_time": "2024-10-09T04:17:33.433150Z",
     "start_time": "2024-10-09T04:17:30.380927Z"
    }
   },
   "outputs": [],
   "source": [
    "pd_df_data = get_table_with_all_duplicate_qc_checks(\n",
    "    dict_parameters,\n",
    "    pd_df_estimated_concentrations,\n",
    "    pd_df_calibration_concentrations,\n",
    "    dict_parameters[\"column name prefix for estimated concentrations\"],\n",
    ")"
   ]
  },
  {
   "cell_type": "code",
   "execution_count": null,
   "id": "2cb695156f63e58f",
   "metadata": {
    "ExecuteTime": {
     "end_time": "2024-10-09T04:17:33.445958Z",
     "start_time": "2024-10-09T04:17:33.434032Z"
    }
   },
   "outputs": [],
   "source": [
    "pd_df_data"
   ]
  },
  {
   "cell_type": "code",
   "execution_count": null,
   "id": "5313d4ff45e7eef9",
   "metadata": {
    "ExecuteTime": {
     "end_time": "2024-10-09T04:17:33.449595Z",
     "start_time": "2024-10-09T04:17:33.446883Z"
    }
   },
   "outputs": [],
   "source": [
    "pd_df_data_cleaned = pd_df_data.dropna()"
   ]
  },
  {
   "cell_type": "code",
   "execution_count": null,
   "id": "8a20e4bff96ed9f5",
   "metadata": {
    "ExecuteTime": {
     "end_time": "2024-10-09T04:17:33.462310Z",
     "start_time": "2024-10-09T04:17:33.450218Z"
    }
   },
   "outputs": [],
   "source": [
    "pd_df_data_cleaned"
   ]
  },
  {
   "cell_type": "code",
   "execution_count": null,
   "id": "9b79cdef0983d5f5",
   "metadata": {
    "ExecuteTime": {
     "end_time": "2024-10-09T04:17:33.485583Z",
     "start_time": "2024-10-09T04:17:33.463249Z"
    }
   },
   "outputs": [],
   "source": [
    "dash_app_object_boxes = dash.Dash(__name__)\n",
    "\n",
    "dash_app_object_boxes.layout = html.Div([\n",
    "    html.H1(\"Scatter plot of CV vs gradient or calibration interval\"),\n",
    "\n",
    "    html.Div([\n",
    "        html.Label(\"Analyte:\"),\n",
    "        dcc.Dropdown(\n",
    "            id='analyte-dropdown',\n",
    "            options=[{'label': col, 'value': col} for col in dict_parameters[\"list of analytes\"]],\n",
    "            value=dict_parameters[\"list of analytes\"][0]\n",
    "        ),\n",
    "    ], style={'width': '20%', 'display': 'inline-block'}),\n",
    "\n",
    "    html.Div([\n",
    "        html.Label(\"X axis:\"),\n",
    "        dcc.Dropdown(\n",
    "            id='x-axis-dropdown',\n",
    "            options=[\n",
    "                {'label': 'max gradient', 'value': 'max gradient'},\n",
    "                {'label': 'max cal interval', 'value': 'max cal interval'},\n",
    "            ],\n",
    "            value='max gradient',\n",
    "        ),\n",
    "    ], style={'width': '20%', 'display': 'inline-block'}),\n",
    "\n",
    "    html.Div([\n",
    "        dcc.Graph(id='scatter-plot-gradient-cv')\n",
    "    ], style={'width': '80%'}),\n",
    "], style={'backgroundColor': 'white', 'padding': '20px'})\n",
    "\n",
    "\n",
    "@dash_app_object_boxes.callback(\n",
    "    Output('scatter-plot-gradient-cv', 'figure'),\n",
    "    Input('analyte-dropdown', 'value'),\n",
    "    Input('x-axis-dropdown', 'value'),\n",
    ")\n",
    "def update_graph(str_analyte, str_x_axis):\n",
    "    \n",
    "    fig = go.Figure()\n",
    "\n",
    "    if str_x_axis == \"max gradient\":\n",
    "        np_noise = np.zeros(len(pd_df_data))\n",
    "    elif str_x_axis == \"max cal interval\":\n",
    "        np_noise = np.random.uniform(-0.1, 0.1, len(pd_df_data))\n",
    "    fig.add_trace(go.Scatter(\n",
    "        x=pd_df_data[f\"{str_x_axis} {str_analyte}\"] + np_noise,\n",
    "        #y=pd_df_data[f\"CV {str_analyte}\"],\n",
    "        y=pd_df_data[f\"log max estimated concentration {str_analyte}\"],\n",
    "        mode='markers',\n",
    "        hovertext=pd_df_data[\"sample name annotations\"],\n",
    "        \n",
    "    ))\n",
    "    \n",
    "    slope, intercept, r_value, p_value, std_err = stats.linregress(\n",
    "        pd_df_data_cleaned[f\"{str_x_axis} {str_analyte}\"], \n",
    "        pd_df_data_cleaned[f\"CV {str_analyte}\"]\n",
    "    )\n",
    "    np_line_x = np.array([\n",
    "        pd_df_data_cleaned[f\"{str_x_axis} {str_analyte}\"].min(), \n",
    "        pd_df_data_cleaned[f\"{str_x_axis} {str_analyte}\"].max()\n",
    "    ])\n",
    "    np_line_y = slope * np_line_x + intercept\n",
    "    \n",
    "    fig.add_trace(go.Scatter(x=np_line_x, y=np_line_y, mode='lines', name='Trendline'))\n",
    "\n",
    "    textbox = f'Gradient: {slope:.2f}<br>p-value: {p_value:.4f}'\n",
    "    fig.add_annotation(\n",
    "        xref=\"paper\", yref=\"paper\",\n",
    "        x=0.05, y=0.95,\n",
    "        text=textbox,\n",
    "        showarrow=False,\n",
    "        font=dict(size=14),\n",
    "        bgcolor=\"rgba(255, 255, 255, 0.8)\",\n",
    "        bordercolor=\"black\",\n",
    "        borderwidth=1\n",
    "    )\n",
    "    #fig.update_traces(marker=dict(opacity=0.75))\n",
    "    fig.update_layout(\n",
    "        xaxis=dict_x_axis_parameters_categorical,\n",
    "        yaxis=dict_y_axis_parameters,\n",
    "        font=dict_font_parameters,\n",
    "        xaxis_title=str_x_axis,\n",
    "        yaxis_title=\"%CV\",\n",
    "        plot_bgcolor='white',\n",
    "        paper_bgcolor='white',\n",
    "    )\n",
    "\n",
    "    return fig\n",
    "\n",
    "# Run the app\n",
    "if __name__ == '__main__':\n",
    "    dash_app_object_boxes.run(jupyter_mode=\"inline\", debug = True, port=3309)"
   ]
  },
  {
   "cell_type": "code",
   "execution_count": null,
   "id": "9eb6834c3397b2c4",
   "metadata": {
    "ExecuteTime": {
     "end_time": "2024-10-09T04:17:33.488502Z",
     "start_time": "2024-10-09T04:17:33.487149Z"
    }
   },
   "outputs": [],
   "source": []
  }
 ],
 "metadata": {
  "kernelspec": {
   "display_name": "Python 3",
   "language": "python",
   "name": "python3"
  },
  "language_info": {
   "codemirror_mode": {
    "name": "ipython",
    "version": 2
   },
   "file_extension": ".py",
   "mimetype": "text/x-python",
   "name": "python",
   "nbconvert_exporter": "python",
   "pygments_lexer": "ipython2",
   "version": "2.7.6"
  }
 },
 "nbformat": 4,
 "nbformat_minor": 5
}
