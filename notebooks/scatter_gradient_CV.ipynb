{
 "cells": [
  {
   "cell_type": "code",
   "execution_count": null,
   "id": "initial_id",
   "metadata": {
    "ExecuteTime": {
     "end_time": "2024-10-09T10:48:09.563Z",
     "start_time": "2024-10-09T10:48:08.448231Z"
    }
   },
   "outputs": [],
   "source": [
    "import sys\n",
    "import os\n",
    "import yaml\n",
    "import numpy as np\n",
    "from scipy import stats\n",
    "\n",
    "import dash\n",
    "from dash import dcc, html\n",
    "from dash.dependencies import Input, Output\n",
    "import plotly.graph_objects as go\n",
    "\n",
    "import pandas as pd\n",
    "pd.options.mode.chained_assignment = None\n",
    "\n",
    "sys.path.append('../python/')\n",
    "import plate_util\n",
    "from plotly_figure_parameters import dict_y_axis_parameters, dict_font_parameters, dict_x_axis_parameters_categorical\n",
    "from dashboard_notebook_util import (\n",
    "    read_estimated_concentrations, \n",
    "    read_plate_data_with_calibration_concentrations,\n",
    "    read_quality_control_concentrations\n",
    ")\n",
    "from analysis_util import get_table_with_all_duplicate_qc_checks\n",
    "\n",
    "import logging\n",
    "logging.basicConfig(level=logging.DEBUG, filename=\"dash_logs.log\")"
   ]
  },
  {
   "cell_type": "code",
   "execution_count": null,
   "id": "345fcbbca377847f",
   "metadata": {
    "ExecuteTime": {
     "end_time": "2024-10-09T10:48:09.575670Z",
     "start_time": "2024-10-09T10:48:09.564456Z"
    }
   },
   "outputs": [],
   "source": [
    "dict_parameters = yaml.safe_load(open(\"../parameters/july_2024_data_parameters.yaml\", \"r\"))"
   ]
  },
  {
   "cell_type": "code",
   "execution_count": null,
   "id": "1c294347fe95c72c",
   "metadata": {
    "ExecuteTime": {
     "end_time": "2024-10-09T10:48:09.633906Z",
     "start_time": "2024-10-09T10:48:09.576682Z"
    }
   },
   "outputs": [],
   "source": [
    "pd_df_plate_data = read_plate_data_with_calibration_concentrations(dict_parameters)\n",
    "pd_df_estimated_concentrations = read_estimated_concentrations(dict_parameters)"
   ]
  },
  {
   "cell_type": "code",
   "execution_count": null,
   "id": "b7f9b5c56d0cf74f",
   "metadata": {
    "ExecuteTime": {
     "end_time": "2024-10-09T10:48:09.862049Z",
     "start_time": "2024-10-09T10:48:09.635508Z"
    }
   },
   "outputs": [],
   "source": [
    "pd_df_calibration_concentrations = plate_util.read_and_clean_calibration_concentrations(dict_parameters)"
   ]
  },
  {
   "cell_type": "code",
   "execution_count": null,
   "id": "ff328ba68470379a",
   "metadata": {
    "ExecuteTime": {
     "end_time": "2024-10-09T10:48:09.882449Z",
     "start_time": "2024-10-09T10:48:09.864070Z"
    }
   },
   "outputs": [],
   "source": [
    "pd_df_calibration_concentrations"
   ]
  },
  {
   "cell_type": "code",
   "execution_count": null,
   "id": "21eedbfe0b18c3fe",
   "metadata": {
    "ExecuteTime": {
     "end_time": "2024-10-09T10:48:09.889221Z",
     "start_time": "2024-10-09T10:48:09.883641Z"
    }
   },
   "outputs": [],
   "source": [
    "pd_df_quality_control_concentrations = pd.read_csv(\n",
    "    open(\n",
    "        os.path.join(\n",
    "            dict_parameters[\"base directory path\"],\n",
    "            dict_parameters[\"data directory\"],\n",
    "            dict_parameters[\"quality control concentrations file name\"]\n",
    "        ),\n",
    "        \"rb\"\n",
    "    )\n",
    ")"
   ]
  },
  {
   "cell_type": "code",
   "execution_count": null,
   "id": "8eedd71c7b132330",
   "metadata": {
    "ExecuteTime": {
     "end_time": "2024-10-09T10:48:09.921806Z",
     "start_time": "2024-10-09T10:48:09.891354Z"
    }
   },
   "outputs": [],
   "source": [
    "pd_df_plate_data"
   ]
  },
  {
   "cell_type": "code",
   "execution_count": null,
   "id": "e32728894b0d2bd8",
   "metadata": {
    "ExecuteTime": {
     "end_time": "2024-10-09T10:48:09.935783Z",
     "start_time": "2024-10-09T10:48:09.922975Z"
    }
   },
   "outputs": [],
   "source": [
    "pd_df_quality_control_concentrations"
   ]
  },
  {
   "cell_type": "code",
   "execution_count": null,
   "id": "b82568ecdfa37d87",
   "metadata": {
    "ExecuteTime": {
     "end_time": "2024-10-09T10:48:09.954448Z",
     "start_time": "2024-10-09T10:48:09.937128Z"
    }
   },
   "outputs": [],
   "source": [
    "pd_df_estimated_concentrations"
   ]
  },
  {
   "cell_type": "code",
   "execution_count": null,
   "id": "98fa1a9fe76a6b1f",
   "metadata": {
    "ExecuteTime": {
     "end_time": "2024-10-09T10:48:13.411542Z",
     "start_time": "2024-10-09T10:48:09.955394Z"
    }
   },
   "outputs": [],
   "source": [
    "pd_df_data = get_table_with_all_duplicate_qc_checks(\n",
    "    dict_parameters,\n",
    "    pd_df_estimated_concentrations,\n",
    "    pd_df_calibration_concentrations,\n",
    "    dict_parameters[\"column name prefix for estimated concentrations\"],\n",
    ")"
   ]
  },
  {
   "cell_type": "code",
   "execution_count": null,
   "id": "2cb695156f63e58f",
   "metadata": {
    "ExecuteTime": {
     "end_time": "2024-10-09T10:48:13.427872Z",
     "start_time": "2024-10-09T10:48:13.412594Z"
    }
   },
   "outputs": [],
   "source": [
    "pd_df_data"
   ]
  },
  {
   "cell_type": "code",
   "execution_count": null,
   "id": "5313d4ff45e7eef9",
   "metadata": {
    "ExecuteTime": {
     "end_time": "2024-10-09T10:48:13.436694Z",
     "start_time": "2024-10-09T10:48:13.428843Z"
    }
   },
   "outputs": [],
   "source": [
    "pd_df_data_cleaned = pd_df_data.dropna()"
   ]
  },
  {
   "cell_type": "code",
   "execution_count": null,
   "id": "8a20e4bff96ed9f5",
   "metadata": {
    "ExecuteTime": {
     "end_time": "2024-10-09T10:48:13.456598Z",
     "start_time": "2024-10-09T10:48:13.438030Z"
    }
   },
   "outputs": [],
   "source": [
    "pd_df_data_cleaned"
   ]
  },
  {
   "cell_type": "code",
   "execution_count": null,
   "id": "9b79cdef0983d5f5",
   "metadata": {
    "ExecuteTime": {
     "end_time": "2024-10-09T11:01:36.468668Z",
     "start_time": "2024-10-09T11:01:36.400047Z"
    }
   },
   "outputs": [],
   "source": [
    "dash_app_object_boxes = dash.Dash(__name__)\n",
    "\n",
    "dash_app_object_boxes.layout = html.Div([\n",
    "    html.H1(\"Scatter plot of CV vs gradient or calibration interval\"),\n",
    "\n",
    "    html.Div([\n",
    "        html.Label(\"Analyte:\"),\n",
    "        dcc.Dropdown(\n",
    "            id='analyte-dropdown',\n",
    "            options=[{'label': col, 'value': col} for col in dict_parameters[\"list of analytes\"]],\n",
    "            value=dict_parameters[\"list of analytes\"][0]\n",
    "        ),\n",
    "    ], style={'width': '20%', 'display': 'inline-block'}),\n",
    "\n",
    "    html.Div([\n",
    "        html.Label(\"X axis:\"),\n",
    "        dcc.Dropdown(\n",
    "            id='x-axis-dropdown',\n",
    "            options=[\n",
    "                {'label': 'max gradient', 'value': 'max gradient'},\n",
    "                {'label': 'max cal interval', 'value': 'max cal interval'},\n",
    "            ],\n",
    "            value='max gradient',\n",
    "        ),\n",
    "    ], style={'width': '20%', 'display': 'inline-block'}),\n",
    "    \n",
    "    html.Div([\n",
    "        html.Label(\"Y axis:\"),\n",
    "        dcc.Dropdown(\n",
    "            id='y-axis-dropdown',\n",
    "            options=[\n",
    "                {'label': '%CV', 'value': '%CV'},\n",
    "                {'label': 'max log concentration', 'value': 'max log concentration'},\n",
    "            ],\n",
    "            value='%CV',\n",
    "        ),\n",
    "    ], style={'width': '20%', 'display': 'inline-block'}),\n",
    "\n",
    "    html.Div([\n",
    "        dcc.Graph(id='scatter-plot-gradient-cv')\n",
    "    ], style={'width': '80%'}),\n",
    "], style={'backgroundColor': 'white', 'padding': '20px'})\n",
    "\n",
    "\n",
    "@dash_app_object_boxes.callback(\n",
    "    Output('scatter-plot-gradient-cv', 'figure'),\n",
    "    Input('analyte-dropdown', 'value'),\n",
    "    Input('x-axis-dropdown', 'value'),\n",
    "    Input('y-axis-dropdown', 'value'),\n",
    ")\n",
    "def update_graph(str_analyte, str_x_axis, str_y_axis):\n",
    "    \n",
    "    fig = go.Figure()\n",
    "\n",
    "    if str_y_axis == \"%CV\":\n",
    "        str_y_column = f\"CV {str_analyte}\"\n",
    "    elif str_y_axis == \"max log concentration\":\n",
    "        str_y_column = f\"log max estimated concentration {str_analyte}\"\n",
    "\n",
    "    \n",
    "\n",
    "    if str_x_axis == \"max gradient\":\n",
    "        np_noise = np.zeros(len(pd_df_data))\n",
    "    elif str_x_axis == \"max cal interval\":\n",
    "        np_noise = np.random.uniform(-0.1, 0.1, len(pd_df_data))\n",
    "        \n",
    "    pd_series_x_data = pd_df_data[f\"{str_x_axis} {str_analyte}\"]  + np_noise\n",
    "    pd_series_y_data = pd_df_data[str_y_column]\n",
    "    \n",
    "    pd_series_x_data_cleaned = pd_df_data_cleaned[f\"{str_x_axis} {str_analyte}\"]\n",
    "    pd_series_y_data_cleaned = pd_df_data_cleaned[str_y_column]\n",
    "    \n",
    "    fig.add_trace(go.Scatter(\n",
    "        x=pd_series_x_data,\n",
    "        y=pd_series_y_data,\n",
    "        mode='markers',\n",
    "        hovertext=pd_df_data[\"sample name annotations\"],\n",
    "    ))\n",
    "    \n",
    "    slope, intercept, r_value, p_value, std_err = stats.linregress(\n",
    "        pd_series_x_data_cleaned, \n",
    "        pd_series_y_data_cleaned\n",
    "    )\n",
    "    np_line_x = np.array([\n",
    "        pd_series_x_data_cleaned.min(), \n",
    "        pd_series_x_data_cleaned.max()\n",
    "    ])\n",
    "    np_line_y = slope * np_line_x + intercept\n",
    "    \n",
    "    fig.add_trace(go.Scatter(x=np_line_x, y=np_line_y, mode='lines', name='Trendline'))\n",
    "\n",
    "    textbox = f'Gradient: {slope:.2f}<br>p-value: {p_value:.4f}'\n",
    "    fig.add_annotation(\n",
    "        xref=\"paper\", yref=\"paper\",\n",
    "        x=0.05, y=0.95,\n",
    "        text=textbox,\n",
    "        showarrow=False,\n",
    "        font=dict(size=14),\n",
    "        bgcolor=\"rgba(255, 255, 255, 0.8)\",\n",
    "        bordercolor=\"black\",\n",
    "        borderwidth=1\n",
    "    )\n",
    "    #fig.update_traces(marker=dict(opacity=0.75))\n",
    "    fig.update_layout(\n",
    "        xaxis=dict_x_axis_parameters_categorical,\n",
    "        yaxis=dict_y_axis_parameters,\n",
    "        font=dict_font_parameters,\n",
    "        xaxis_title=str_x_axis,\n",
    "        yaxis_title=str_y_axis,\n",
    "        plot_bgcolor='white',\n",
    "        paper_bgcolor='white',\n",
    "    )\n",
    "\n",
    "    return fig\n",
    "\n",
    "# Run the app\n",
    "if __name__ == '__main__':\n",
    "    dash_app_object_boxes.run(jupyter_mode=\"inline\", debug = True, port=3309)"
   ]
  },
  {
   "cell_type": "code",
   "execution_count": null,
   "id": "9eb6834c3397b2c4",
   "metadata": {
    "ExecuteTime": {
     "end_time": "2024-10-09T10:48:13.497234Z",
     "start_time": "2024-10-09T10:48:13.495333Z"
    }
   },
   "outputs": [],
   "source": []
  }
 ],
 "metadata": {
  "kernelspec": {
   "display_name": "Python 3",
   "language": "python",
   "name": "python3"
  },
  "language_info": {
   "codemirror_mode": {
    "name": "ipython",
    "version": 2
   },
   "file_extension": ".py",
   "mimetype": "text/x-python",
   "name": "python",
   "nbconvert_exporter": "python",
   "pygments_lexer": "ipython2",
   "version": "2.7.6"
  }
 },
 "nbformat": 4,
 "nbformat_minor": 5
}
