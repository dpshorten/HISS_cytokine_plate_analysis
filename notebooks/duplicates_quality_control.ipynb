{
 "cells": [
  {
   "cell_type": "code",
   "execution_count": null,
   "id": "initial_id",
   "metadata": {
    "ExecuteTime": {
     "end_time": "2024-09-17T02:18:53.030657Z",
     "start_time": "2024-09-17T02:18:53.010257Z"
    }
   },
   "outputs": [],
   "source": [
    "import sys\n",
    "import os\n",
    "import yaml\n",
    "import numpy as np\n",
    "from scipy import stats\n",
    "\n",
    "import pandas as pd\n",
    "pd.options.mode.chained_assignment = None\n",
    "\n",
    "sys.path.append('../python/')\n"
   ]
  },
  {
   "cell_type": "code",
   "execution_count": null,
   "id": "345fcbbca377847f",
   "metadata": {
    "ExecuteTime": {
     "end_time": "2024-09-17T02:18:53.051999Z",
     "start_time": "2024-09-17T02:18:53.031662Z"
    }
   },
   "outputs": [],
   "source": [
    "dict_parameters = yaml.safe_load(open(\"../parameters/july_2024_data_parameters.yaml\", \"r\"))"
   ]
  },
  {
   "cell_type": "code",
   "execution_count": null,
   "id": "1c294347fe95c72c",
   "metadata": {
    "ExecuteTime": {
     "end_time": "2024-09-17T02:18:53.093471Z",
     "start_time": "2024-09-17T02:18:53.054211Z"
    }
   },
   "outputs": [],
   "source": [
    "pd_df_plate_data = pd.read_csv(\n",
    "    open(\n",
    "        os.path.join(\n",
    "            dict_parameters[\"output directory path\"],\n",
    "            dict_parameters[\"plate data with locations file name\"]\n",
    "        ),\n",
    "        \"rb\"\n",
    "    ), \n",
    "    index_col=0,\n",
    ")"
   ]
  },
  {
   "cell_type": "code",
   "execution_count": null,
   "id": "b7f9b5c56d0cf74f",
   "metadata": {
    "ExecuteTime": {
     "end_time": "2024-09-17T02:18:53.121384Z",
     "start_time": "2024-09-17T02:18:53.094724Z"
    }
   },
   "outputs": [],
   "source": [
    "pd_df_estimated_concentrations = pd.read_csv(\n",
    "    open(\n",
    "        os.path.join(\n",
    "            dict_parameters[\"output directory path\"],\n",
    "            dict_parameters[\"estimated concentrations file name\"]\n",
    "        ),\n",
    "        \"rb\"\n",
    "    )\n",
    ")"
   ]
  },
  {
   "cell_type": "code",
   "execution_count": null,
   "id": "21eedbfe0b18c3fe",
   "metadata": {
    "ExecuteTime": {
     "end_time": "2024-09-17T02:18:53.131489Z",
     "start_time": "2024-09-17T02:18:53.123552Z"
    }
   },
   "outputs": [],
   "source": [
    "pd_df_quality_control_concentrations = pd.read_csv(\n",
    "    open(\n",
    "        os.path.join(\n",
    "            dict_parameters[\"data directory path\"],\n",
    "            dict_parameters[\"quality control concentrations file name\"]\n",
    "        ),\n",
    "        \"rb\"\n",
    "    )\n",
    ")"
   ]
  },
  {
   "cell_type": "code",
   "execution_count": null,
   "id": "8eedd71c7b132330",
   "metadata": {
    "ExecuteTime": {
     "end_time": "2024-09-17T02:18:53.164054Z",
     "start_time": "2024-09-17T02:18:53.135107Z"
    }
   },
   "outputs": [],
   "source": [
    "pd_df_plate_data"
   ]
  },
  {
   "cell_type": "code",
   "execution_count": null,
   "id": "e32728894b0d2bd8",
   "metadata": {
    "ExecuteTime": {
     "end_time": "2024-09-17T02:18:53.179036Z",
     "start_time": "2024-09-17T02:18:53.165735Z"
    }
   },
   "outputs": [],
   "source": [
    "pd_df_quality_control_concentrations"
   ]
  },
  {
   "cell_type": "code",
   "execution_count": null,
   "id": "b82568ecdfa37d87",
   "metadata": {
    "ExecuteTime": {
     "end_time": "2024-09-17T02:18:53.202843Z",
     "start_time": "2024-09-17T02:18:53.180478Z"
    }
   },
   "outputs": [],
   "source": [
    "pd_df_estimated_concentrations"
   ]
  },
  {
   "cell_type": "code",
   "execution_count": null,
   "id": "a47f90975e608707",
   "metadata": {
    "ExecuteTime": {
     "end_time": "2024-09-17T02:18:53.209004Z",
     "start_time": "2024-09-17T02:18:53.203960Z"
    }
   },
   "outputs": [],
   "source": [
    "def perform_t_test_on_paired_wells(pd_group):\n",
    "    if len(pd_group) != 2:\n",
    "        return np.nan\n",
    "    mean_1, mean_2 = pd_group[\"IFN-gamma Trimmed Mean\"].values\n",
    "    std_dev_1, std_dev_2 = pd_group[\"IFN-gamma Trimmed Standard Deviation\"].values\n",
    "    count_1, count_2 = pd_group[\"IFN-gamma Count\"].values\n",
    "    t_statistic, p_value = stats.ttest_ind_from_stats(\n",
    "        mean_1, \n",
    "        std_dev_1, \n",
    "        count_1, \n",
    "        mean_2, \n",
    "        std_dev_2, \n",
    "        count_2,\n",
    "        equal_var=False,\n",
    "    )\n",
    "    return p_value"
   ]
  },
  {
   "cell_type": "code",
   "execution_count": null,
   "id": "56c7318d0d772965",
   "metadata": {
    "ExecuteTime": {
     "end_time": "2024-09-17T02:18:53.212607Z",
     "start_time": "2024-09-17T02:18:53.210532Z"
    }
   },
   "outputs": [],
   "source": [
    "\n"
   ]
  },
  {
   "cell_type": "code",
   "execution_count": null,
   "id": "fc66c1c8cc8225b4",
   "metadata": {
    "ExecuteTime": {
     "end_time": "2024-09-17T02:18:53.345903Z",
     "start_time": "2024-09-17T02:18:53.214074Z"
    }
   },
   "outputs": [],
   "source": [
    "pd_df_tested = (\n",
    "    pd_df_plate_data\n",
    "    .groupby([\"sample name plate\", \"plate number\"])\n",
    "    .apply(perform_t_test_on_paired_wells, include_groups=False)\n",
    "    .reset_index()\n",
    ")\n",
    "pd_df_tested.columns = [\"sample name plate\", \"plate number\"] + ['t test p value']\n",
    "pd_df_tested = pd.merge(\n",
    "    pd_df_tested, \n",
    "    pd_df_plate_data[[\"sample name plate\", \"plate number\", \"IFN-gamma Trimmed Mean\", \"IFN-gamma Trimmed Standard Deviation\", \"IFN-gamma Count\"]], \n",
    "    on = [\"sample name plate\", \"plate number\"], \n",
    "    how = \"left\"\n",
    ")"
   ]
  },
  {
   "cell_type": "code",
   "execution_count": null,
   "id": "45ff28cf60b76533",
   "metadata": {
    "ExecuteTime": {
     "end_time": "2024-09-17T02:18:53.358700Z",
     "start_time": "2024-09-17T02:18:53.347895Z"
    }
   },
   "outputs": [],
   "source": [
    "pd_df_tested"
   ]
  },
  {
   "cell_type": "code",
   "execution_count": null,
   "id": "a6d37ada37950e87",
   "metadata": {
    "ExecuteTime": {
     "end_time": "2024-09-17T02:18:53.365152Z",
     "start_time": "2024-09-17T02:18:53.359980Z"
    }
   },
   "outputs": [],
   "source": [
    "pd_df_tested_unique = pd_df_tested.drop_duplicates(subset = [\"sample name plate\", \"plate number\"])"
   ]
  },
  {
   "cell_type": "code",
   "execution_count": null,
   "id": "720444252d7d9fca",
   "metadata": {
    "ExecuteTime": {
     "end_time": "2024-09-17T02:18:53.378365Z",
     "start_time": "2024-09-17T02:18:53.366541Z"
    }
   },
   "outputs": [],
   "source": [
    "pd_df_tested_unique"
   ]
  },
  {
   "cell_type": "code",
   "execution_count": null,
   "id": "7cc88e232851e467",
   "metadata": {
    "ExecuteTime": {
     "end_time": "2024-09-17T02:18:53.685697Z",
     "start_time": "2024-09-17T02:18:53.379616Z"
    }
   },
   "outputs": [],
   "source": [
    "import seaborn as sns\n",
    "sns.histplot(pd_df_tested_unique, x = \"t test p value\", bins = 20)"
   ]
  },
  {
   "cell_type": "code",
   "execution_count": null,
   "id": "11e393ec53144b43",
   "metadata": {
    "ExecuteTime": {
     "end_time": "2024-09-17T02:18:53.691572Z",
     "start_time": "2024-09-17T02:18:53.687235Z"
    }
   },
   "outputs": [],
   "source": [
    "def calculate_paired_intra_plate_cv(pd_group):\n",
    "    if len(pd_group) != 2:\n",
    "        return np.nan\n",
    "    estimate_1, estimate_2 = pd_group[\"estimated concentration IFN-gamma\"].values\n",
    "    mean = (estimate_1 + estimate_2) / 2\n",
    "    std_dev = np.sqrt((estimate_1 - mean)**2 + (estimate_2 - mean)**2)\n",
    "    return std_dev / mean\n"
   ]
  },
  {
   "cell_type": "code",
   "execution_count": null,
   "id": "b73e56ca86a582b2",
   "metadata": {
    "ExecuteTime": {
     "end_time": "2024-09-17T02:18:53.750202Z",
     "start_time": "2024-09-17T02:18:53.693049Z"
    }
   },
   "outputs": [],
   "source": [
    "pd_df_estimated_concentrations_checked = (\n",
    "    pd_df_estimated_concentrations\n",
    "    .groupby([\"sample name annotations\", \"plate number\"])\n",
    "    .apply(calculate_paired_intra_plate_cv, include_groups=False)\n",
    "    .reset_index()\n",
    ")\n",
    "pd_df_estimated_concentrations_checked.columns = [\"sample name annotations\", \"plate number\"] + ['intra plate CV']\n",
    "pd_df_estimated_concentrations_checked = pd.merge(\n",
    "    pd_df_estimated_concentrations_checked, \n",
    "    pd_df_estimated_concentrations[[\"sample name annotations\", \"plate number\", \"estimated concentration IFN-gamma\"]], \n",
    "    on = [\"sample name annotations\", \"plate number\"], \n",
    "    how = \"left\"\n",
    ")"
   ]
  },
  {
   "cell_type": "code",
   "execution_count": null,
   "id": "1a4376e159786444",
   "metadata": {
    "ExecuteTime": {
     "end_time": "2024-09-17T02:18:53.760950Z",
     "start_time": "2024-09-17T02:18:53.751644Z"
    }
   },
   "outputs": [],
   "source": [
    "pd_df_estimated_concentrations_checked"
   ]
  },
  {
   "cell_type": "code",
   "execution_count": null,
   "id": "ee2a76be7b262adb",
   "metadata": {
    "ExecuteTime": {
     "end_time": "2024-09-17T02:18:53.776818Z",
     "start_time": "2024-09-17T02:18:53.762946Z"
    }
   },
   "outputs": [],
   "source": [
    "for i in list(range(1, 17)) + [18]:\n",
    "    print(i, \n",
    "        np.sqrt(\n",
    "            np.nanmean(\n",
    "                pd_df_estimated_concentrations_checked[\n",
    "                    pd_df_estimated_concentrations_checked[\"plate number\"] == i\n",
    "                ][\"intra plate CV\"].values**2\n",
    "            )\n",
    "        )\n",
    "    )"
   ]
  },
  {
   "cell_type": "code",
   "execution_count": null,
   "id": "f9c398a8514ffba7",
   "metadata": {
    "ExecuteTime": {
     "end_time": "2024-09-17T02:18:53.790011Z",
     "start_time": "2024-09-17T02:18:53.778412Z"
    }
   },
   "outputs": [],
   "source": [
    "pd_df_estimated_concentrations_checked[pd_df_estimated_concentrations_checked[\"intra plate CV\"] > 0.2]"
   ]
  },
  {
   "cell_type": "code",
   "execution_count": null,
   "id": "9b79cdef0983d5f5",
   "metadata": {
    "ExecuteTime": {
     "end_time": "2024-09-17T02:18:53.793787Z",
     "start_time": "2024-09-17T02:18:53.791577Z"
    }
   },
   "outputs": [],
   "source": []
  }
 ],
 "metadata": {
  "kernelspec": {
   "display_name": "Python 3",
   "language": "python",
   "name": "python3"
  },
  "language_info": {
   "codemirror_mode": {
    "name": "ipython",
    "version": 2
   },
   "file_extension": ".py",
   "mimetype": "text/x-python",
   "name": "python",
   "nbconvert_exporter": "python",
   "pygments_lexer": "ipython2",
   "version": "2.7.6"
  }
 },
 "nbformat": 4,
 "nbformat_minor": 5
}
