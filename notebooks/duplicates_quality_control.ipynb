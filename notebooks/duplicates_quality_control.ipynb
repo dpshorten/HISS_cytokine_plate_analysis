{
 "cells": [
  {
   "cell_type": "code",
   "execution_count": null,
   "id": "initial_id",
   "metadata": {
    "ExecuteTime": {
     "end_time": "2024-09-12T07:02:48.024862Z",
     "start_time": "2024-09-12T07:02:48.007749Z"
    }
   },
   "outputs": [],
   "source": [
    "import sys\n",
    "import os\n",
    "import yaml\n",
    "import numpy as np\n",
    "from scipy import stats\n",
    "\n",
    "import pandas as pd\n",
    "pd.options.mode.chained_assignment = None\n",
    "\n",
    "sys.path.append('../python/')\n"
   ]
  },
  {
   "cell_type": "code",
   "execution_count": null,
   "id": "345fcbbca377847f",
   "metadata": {
    "ExecuteTime": {
     "end_time": "2024-09-12T07:02:48.037291Z",
     "start_time": "2024-09-12T07:02:48.026265Z"
    }
   },
   "outputs": [],
   "source": [
    "dict_parameters = yaml.safe_load(open(\"../parameters/july_2024_data_parameters.yaml\", \"r\"))"
   ]
  },
  {
   "cell_type": "code",
   "execution_count": null,
   "id": "1c294347fe95c72c",
   "metadata": {
    "ExecuteTime": {
     "end_time": "2024-09-12T07:02:48.066141Z",
     "start_time": "2024-09-12T07:02:48.038603Z"
    }
   },
   "outputs": [],
   "source": [
    "pd_df_plate_data = pd.read_csv(\n",
    "    open(\n",
    "        os.path.join(\n",
    "            dict_parameters[\"output directory path\"],\n",
    "            dict_parameters[\"plate data with locations file name\"]\n",
    "        ),\n",
    "        \"rb\"\n",
    "    ), \n",
    "    index_col=0,\n",
    ")"
   ]
  },
  {
   "cell_type": "code",
   "execution_count": null,
   "id": "b7f9b5c56d0cf74f",
   "metadata": {
    "ExecuteTime": {
     "end_time": "2024-09-12T07:02:48.088453Z",
     "start_time": "2024-09-12T07:02:48.067520Z"
    }
   },
   "outputs": [],
   "source": [
    "pd_df_estimated_concentrations = pd.read_csv(\n",
    "    open(\n",
    "        os.path.join(\n",
    "            dict_parameters[\"output directory path\"],\n",
    "            dict_parameters[\"estimated concentrations file name\"]\n",
    "        ),\n",
    "        \"rb\"\n",
    "    )\n",
    ")"
   ]
  },
  {
   "cell_type": "code",
   "execution_count": null,
   "id": "21eedbfe0b18c3fe",
   "metadata": {
    "ExecuteTime": {
     "end_time": "2024-09-12T07:02:48.095296Z",
     "start_time": "2024-09-12T07:02:48.089649Z"
    }
   },
   "outputs": [],
   "source": [
    "pd_df_quality_control_concentrations = pd.read_csv(\n",
    "    open(\n",
    "        os.path.join(\n",
    "            dict_parameters[\"data directory path\"],\n",
    "            dict_parameters[\"quality control concentrations file name\"]\n",
    "        ),\n",
    "        \"rb\"\n",
    "    )\n",
    ")"
   ]
  },
  {
   "cell_type": "code",
   "execution_count": null,
   "id": "8eedd71c7b132330",
   "metadata": {
    "ExecuteTime": {
     "end_time": "2024-09-12T07:02:48.117737Z",
     "start_time": "2024-09-12T07:02:48.097002Z"
    }
   },
   "outputs": [],
   "source": [
    "pd_df_plate_data"
   ]
  },
  {
   "cell_type": "code",
   "execution_count": null,
   "id": "e32728894b0d2bd8",
   "metadata": {
    "ExecuteTime": {
     "end_time": "2024-09-12T07:02:48.127296Z",
     "start_time": "2024-09-12T07:02:48.118966Z"
    }
   },
   "outputs": [],
   "source": [
    "pd_df_quality_control_concentrations"
   ]
  },
  {
   "cell_type": "code",
   "execution_count": null,
   "id": "b82568ecdfa37d87",
   "metadata": {
    "ExecuteTime": {
     "end_time": "2024-09-12T07:02:48.144805Z",
     "start_time": "2024-09-12T07:02:48.129738Z"
    }
   },
   "outputs": [],
   "source": [
    "pd_df_estimated_concentrations"
   ]
  },
  {
   "cell_type": "code",
   "execution_count": null,
   "id": "a47f90975e608707",
   "metadata": {
    "ExecuteTime": {
     "end_time": "2024-09-12T07:02:48.149106Z",
     "start_time": "2024-09-12T07:02:48.145697Z"
    }
   },
   "outputs": [],
   "source": [
    "def perform_t_test_on_paired_wells(pd_group):\n",
    "    if len(pd_group) != 2:\n",
    "        return np.nan\n",
    "    mean_1, mean_2 = pd_group[\"IFN-gamma Trimmed Mean\"].values\n",
    "    std_dev_1, std_dev_2 = pd_group[\"IFN-gamma Trimmed Standard Deviation\"].values\n",
    "    count_1, count_2 = pd_group[\"IFN-gamma Count\"].values\n",
    "    t_statistic, p_value = stats.ttest_ind_from_stats(\n",
    "        mean_1, \n",
    "        std_dev_1, \n",
    "        count_1, \n",
    "        mean_2, \n",
    "        std_dev_2, \n",
    "        count_2,\n",
    "        equal_var=False,\n",
    "    )\n",
    "    return p_value"
   ]
  },
  {
   "cell_type": "code",
   "execution_count": null,
   "id": "56c7318d0d772965",
   "metadata": {
    "ExecuteTime": {
     "end_time": "2024-09-12T07:02:48.151730Z",
     "start_time": "2024-09-12T07:02:48.149770Z"
    }
   },
   "outputs": [],
   "source": [
    "\n"
   ]
  },
  {
   "cell_type": "code",
   "execution_count": null,
   "id": "fc66c1c8cc8225b4",
   "metadata": {
    "ExecuteTime": {
     "end_time": "2024-09-12T07:02:48.253538Z",
     "start_time": "2024-09-12T07:02:48.153035Z"
    }
   },
   "outputs": [],
   "source": [
    "pd_df_tested = (\n",
    "    pd_df_plate_data\n",
    "    .groupby([\"sample name plate\", \"plate number\"])\n",
    "    .apply(perform_t_test_on_paired_wells, include_groups=False)\n",
    "    .reset_index()\n",
    ")\n",
    "pd_df_tested.columns = [\"sample name plate\", \"plate number\"] + ['t test p value']\n",
    "pd_df_tested = pd.merge(\n",
    "    pd_df_tested, \n",
    "    pd_df_plate_data[[\"sample name plate\", \"plate number\", \"IFN-gamma Trimmed Mean\", \"IFN-gamma Trimmed Standard Deviation\", \"IFN-gamma Count\"]], \n",
    "    on = [\"sample name plate\", \"plate number\"], \n",
    "    how = \"left\"\n",
    ")"
   ]
  },
  {
   "cell_type": "code",
   "execution_count": null,
   "id": "45ff28cf60b76533",
   "metadata": {
    "ExecuteTime": {
     "end_time": "2024-09-12T07:02:48.263788Z",
     "start_time": "2024-09-12T07:02:48.255219Z"
    }
   },
   "outputs": [],
   "source": [
    "pd_df_tested"
   ]
  },
  {
   "cell_type": "code",
   "execution_count": null,
   "id": "a6d37ada37950e87",
   "metadata": {
    "ExecuteTime": {
     "end_time": "2024-09-12T07:02:48.269269Z",
     "start_time": "2024-09-12T07:02:48.264717Z"
    }
   },
   "outputs": [],
   "source": [
    "pd_df_tested_unique = pd_df_tested.drop_duplicates(subset = [\"sample name plate\", \"plate number\"])"
   ]
  },
  {
   "cell_type": "code",
   "execution_count": null,
   "id": "720444252d7d9fca",
   "metadata": {
    "ExecuteTime": {
     "end_time": "2024-09-12T07:02:48.280238Z",
     "start_time": "2024-09-12T07:02:48.270419Z"
    }
   },
   "outputs": [],
   "source": [
    "pd_df_tested_unique"
   ]
  },
  {
   "cell_type": "code",
   "execution_count": null,
   "id": "7cc88e232851e467",
   "metadata": {
    "ExecuteTime": {
     "end_time": "2024-09-12T07:02:48.497086Z",
     "start_time": "2024-09-12T07:02:48.281874Z"
    }
   },
   "outputs": [],
   "source": [
    "import seaborn as sns\n",
    "sns.histplot(pd_df_tested_unique, x = \"t test p value\", bins = 20)"
   ]
  },
  {
   "cell_type": "code",
   "execution_count": null,
   "id": "11e393ec53144b43",
   "metadata": {
    "ExecuteTime": {
     "end_time": "2024-09-12T07:02:48.501650Z",
     "start_time": "2024-09-12T07:02:48.498527Z"
    }
   },
   "outputs": [],
   "source": [
    "def calculate_paired_intra_plate_cv(pd_group):\n",
    "    if len(pd_group) != 2:\n",
    "        return np.nan\n",
    "    estimate_1, estimate_2 = pd_group[\"estimated concentration IFN-gamma\"].values\n",
    "    mean = (estimate_1 + estimate_2) / 2\n",
    "    std_dev = np.sqrt((estimate_1 - mean)**2 + (estimate_2 - mean)**2)\n",
    "    return std_dev / mean\n"
   ]
  },
  {
   "cell_type": "code",
   "execution_count": null,
   "id": "b73e56ca86a582b2",
   "metadata": {
    "ExecuteTime": {
     "end_time": "2024-09-12T07:02:48.545378Z",
     "start_time": "2024-09-12T07:02:48.502679Z"
    }
   },
   "outputs": [],
   "source": [
    "pd_df_estimated_concentrations_checked = (\n",
    "    pd_df_estimated_concentrations\n",
    "    .groupby([\"sample name annotations\", \"plate number\"])\n",
    "    .apply(calculate_paired_intra_plate_cv, include_groups=False)\n",
    "    .reset_index()\n",
    ")\n",
    "pd_df_estimated_concentrations_checked.columns = [\"sample name annotations\", \"plate number\"] + ['intra plate CV']\n",
    "pd_df_estimated_concentrations_checked = pd.merge(\n",
    "    pd_df_estimated_concentrations_checked, \n",
    "    pd_df_estimated_concentrations[[\"sample name annotations\", \"plate number\", \"estimated concentration IFN-gamma\"]], \n",
    "    on = [\"sample name annotations\", \"plate number\"], \n",
    "    how = \"left\"\n",
    ")"
   ]
  },
  {
   "cell_type": "code",
   "execution_count": null,
   "id": "1a4376e159786444",
   "metadata": {
    "ExecuteTime": {
     "end_time": "2024-09-12T07:02:48.552984Z",
     "start_time": "2024-09-12T07:02:48.546254Z"
    }
   },
   "outputs": [],
   "source": [
    "pd_df_estimated_concentrations_checked"
   ]
  },
  {
   "cell_type": "code",
   "execution_count": null,
   "id": "ee2a76be7b262adb",
   "metadata": {
    "ExecuteTime": {
     "end_time": "2024-09-12T07:02:48.563841Z",
     "start_time": "2024-09-12T07:02:48.553835Z"
    }
   },
   "outputs": [],
   "source": [
    "for i in range(1, 17):\n",
    "    print(i, \n",
    "        np.sqrt(\n",
    "            np.nanmean(\n",
    "                pd_df_estimated_concentrations_checked[\n",
    "                    pd_df_estimated_concentrations_checked[\"plate number\"] == i\n",
    "                ][\"intra plate CV\"].values**2\n",
    "            )\n",
    "        )\n",
    "    )"
   ]
  },
  {
   "cell_type": "code",
   "execution_count": null,
   "id": "f9c398a8514ffba7",
   "metadata": {
    "ExecuteTime": {
     "end_time": "2024-09-12T07:02:48.573743Z",
     "start_time": "2024-09-12T07:02:48.564876Z"
    }
   },
   "outputs": [],
   "source": [
    "pd_df_estimated_concentrations_checked[pd_df_estimated_concentrations_checked[\"intra plate CV\"] > 0.2]"
   ]
  },
  {
   "cell_type": "code",
   "execution_count": null,
   "id": "9b0ffb9f45bcd842",
   "metadata": {
    "ExecuteTime": {
     "end_time": "2024-09-12T07:02:48.578799Z",
     "start_time": "2024-09-12T07:02:48.574840Z"
    }
   },
   "outputs": [],
   "source": [
    "pd_df_estimated_qc_concentrations = pd_df_estimated_concentrations[pd_df_estimated_concentrations[\"sample name annotations\"].str.contains(\"QC-\\d+\", regex = True)]"
   ]
  },
  {
   "cell_type": "code",
   "execution_count": null,
   "id": "373eeb3f9536b14a",
   "metadata": {
    "ExecuteTime": {
     "end_time": "2024-09-12T07:02:48.596838Z",
     "start_time": "2024-09-12T07:02:48.580006Z"
    }
   },
   "outputs": [],
   "source": [
    "pd_df_estimated_qc_concentrations"
   ]
  },
  {
   "cell_type": "code",
   "execution_count": null,
   "id": "bc107b0afa19d155",
   "metadata": {
    "ExecuteTime": {
     "end_time": "2024-09-12T07:02:48.602776Z",
     "start_time": "2024-09-12T07:02:48.599200Z"
    }
   },
   "outputs": [],
   "source": [
    "selected_columns = [\"sample name annotations\", \"plate number\"]\n",
    "for column in pd_df_estimated_qc_concentrations.columns:\n",
    "    if \"estimated\" in column:\n",
    "        selected_columns.append(column)\n",
    "pd_df_estimated_qc_concentrations = pd_df_estimated_qc_concentrations[selected_columns]"
   ]
  },
  {
   "cell_type": "code",
   "execution_count": null,
   "id": "1b462c7bb767ebe7",
   "metadata": {
    "ExecuteTime": {
     "end_time": "2024-09-12T07:02:48.616800Z",
     "start_time": "2024-09-12T07:02:48.603932Z"
    }
   },
   "outputs": [],
   "source": [
    "pd_df_estimated_qc_concentrations"
   ]
  },
  {
   "cell_type": "code",
   "execution_count": null,
   "id": "1d500beb79b851e9",
   "metadata": {
    "ExecuteTime": {
     "end_time": "2024-09-12T07:02:48.622422Z",
     "start_time": "2024-09-12T07:02:48.618393Z"
    }
   },
   "outputs": [],
   "source": [
    "def check_value_within_qc_bounds(pd_row, str_col_name, low_vals, high_vals):\n",
    "    qc_number = int(pd_row[\"sample name annotations\"].split(\"-\")[1]) - 1\n",
    "    if (pd_row[str_col_name] >= low_vals[qc_number]) & (pd_row[str_col_name] <= high_vals[qc_number]):\n",
    "        return 'within range'\n",
    "    elif (pd_row[str_col_name] < low_vals[qc_number]):\n",
    "        return f'below range by {low_vals[qc_number] - pd_row[str_col_name]:.2f}'\n",
    "    else:\n",
    "        return f'above range by {pd_row[str_col_name] - high_vals[qc_number]:.2f}'\n"
   ]
  },
  {
   "cell_type": "code",
   "execution_count": null,
   "id": "7467d696d6c85121",
   "metadata": {
    "ExecuteTime": {
     "end_time": "2024-09-12T07:02:48.653979Z",
     "start_time": "2024-09-12T07:02:48.623366Z"
    }
   },
   "outputs": [],
   "source": [
    "for str_analyte in dict_parameters[\"list of analytes\"]:\n",
    "    low_vals = []\n",
    "    high_vals = []\n",
    "    for i in range(1, 3):\n",
    "        low_vals.append(\n",
    "            pd_df_quality_control_concentrations[\n",
    "                pd_df_quality_control_concentrations[\"QC name\"] == f\"QC-{i}\"\n",
    "            ][f\"{str_analyte} low\"].values[0]\n",
    "        )\n",
    "        high_vals.append(\n",
    "            pd_df_quality_control_concentrations[\n",
    "                pd_df_quality_control_concentrations[\"QC name\"] == f\"QC-{i}\"\n",
    "            ][f\"{str_analyte} high\"].values[0]\n",
    "        )\n",
    "    \n",
    "    new_col_name = f'{str_analyte} check'\n",
    "    pd_df_estimated_qc_concentrations[new_col_name] = (\n",
    "        pd_df_estimated_qc_concentrations.apply(\n",
    "            lambda row: check_value_within_qc_bounds(\n",
    "                row, \n",
    "                f\"estimated concentration {str_analyte}\",\n",
    "                low_vals, \n",
    "                high_vals\n",
    "            ), axis=1\n",
    "        )\n",
    "    )\n"
   ]
  },
  {
   "cell_type": "code",
   "execution_count": null,
   "id": "6cd35acfdee02213",
   "metadata": {
    "ExecuteTime": {
     "end_time": "2024-09-12T07:02:48.670418Z",
     "start_time": "2024-09-12T07:02:48.655182Z"
    }
   },
   "outputs": [],
   "source": [
    "pd_df_estimated_qc_concentrations"
   ]
  },
  {
   "cell_type": "code",
   "execution_count": null,
   "id": "f007dfa1b61633f6",
   "metadata": {
    "ExecuteTime": {
     "end_time": "2024-09-12T07:02:48.675460Z",
     "start_time": "2024-09-12T07:02:48.671950Z"
    }
   },
   "outputs": [],
   "source": [
    "column_order = [\"sample name annotations\", \"plate number\"]\n",
    "#for str_analyte in set(dict_parameters[\"list of analytes\"]) - set([\"IFN-gamma\", \"IP-10\", \"IL-17\"]):\n",
    "for str_analyte in[\"IL-6\"]:\n",
    "    column_order.append(f\"estimated concentration {str_analyte}\")\n",
    "    column_order.append(f\"{str_analyte} check\")\n",
    "pd_df_estimated_qc_concentrations = pd_df_estimated_qc_concentrations[column_order]"
   ]
  },
  {
   "cell_type": "code",
   "execution_count": null,
   "id": "af20554f3e36ea5c",
   "metadata": {
    "ExecuteTime": {
     "end_time": "2024-09-12T07:02:48.685199Z",
     "start_time": "2024-09-12T07:02:48.676406Z"
    }
   },
   "outputs": [],
   "source": [
    "pd_df_estimated_qc_concentrations"
   ]
  },
  {
   "cell_type": "code",
   "execution_count": null,
   "id": "9b79cdef0983d5f5",
   "metadata": {
    "ExecuteTime": {
     "end_time": "2024-09-12T07:02:48.688366Z",
     "start_time": "2024-09-12T07:02:48.686361Z"
    }
   },
   "outputs": [],
   "source": []
  }
 ],
 "metadata": {
  "kernelspec": {
   "display_name": "Python 3",
   "language": "python",
   "name": "python3"
  },
  "language_info": {
   "codemirror_mode": {
    "name": "ipython",
    "version": 2
   },
   "file_extension": ".py",
   "mimetype": "text/x-python",
   "name": "python",
   "nbconvert_exporter": "python",
   "pygments_lexer": "ipython2",
   "version": "2.7.6"
  }
 },
 "nbformat": 4,
 "nbformat_minor": 5
}
