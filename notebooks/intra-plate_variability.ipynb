{
 "cells": [
  {
   "cell_type": "code",
   "execution_count": null,
   "id": "initial_id",
   "metadata": {
    "ExecuteTime": {
     "end_time": "2024-10-07T02:38:39.859340Z",
     "start_time": "2024-10-07T02:38:39.698152Z"
    }
   },
   "outputs": [],
   "source": [
    "import sys\n",
    "import os\n",
    "import yaml\n",
    "import numpy as np\n",
    "from scipy import stats\n",
    "\n",
    "import dash\n",
    "from dash import dcc, html\n",
    "from dash.dependencies import Input, Output\n",
    "import plotly.express as px\n",
    "import plotly.graph_objects as go\n",
    "\n",
    "import pandas as pd\n",
    "pd.options.mode.chained_assignment = None\n",
    "\n",
    "sys.path.append('../python/')\n",
    "import plate_util\n",
    "from plotly_figure_parameters import dict_y_axis_parameters, dict_font_parameters, dict_x_axis_parameters_categorical\n",
    "from dashboard_notebook_util import (\n",
    "    read_estimated_concentrations, \n",
    "    read_plate_data_with_calibration_concentrations,\n",
    "    read_quality_control_concentrations\n",
    ")\n",
    "from analysis_util import get_table_with_all_duplicate_qc_checks\n",
    "\n",
    "import logging\n",
    "logging.basicConfig(level=logging.DEBUG, filename=\"dash_logs.log\")"
   ]
  },
  {
   "cell_type": "code",
   "execution_count": null,
   "id": "345fcbbca377847f",
   "metadata": {
    "ExecuteTime": {
     "end_time": "2024-10-07T02:38:39.870747Z",
     "start_time": "2024-10-07T02:38:39.860300Z"
    }
   },
   "outputs": [],
   "source": [
    "dict_parameters = yaml.safe_load(open(\"../parameters/july_2024_data_parameters.yaml\", \"r\"))"
   ]
  },
  {
   "cell_type": "code",
   "execution_count": null,
   "id": "1c294347fe95c72c",
   "metadata": {
    "ExecuteTime": {
     "end_time": "2024-10-07T02:38:39.917214Z",
     "start_time": "2024-10-07T02:38:39.872133Z"
    }
   },
   "outputs": [],
   "source": [
    "pd_df_plate_data = read_plate_data_with_calibration_concentrations(dict_parameters)\n",
    "pd_df_estimated_concentrations = read_estimated_concentrations(dict_parameters)"
   ]
  },
  {
   "cell_type": "code",
   "execution_count": null,
   "id": "b7f9b5c56d0cf74f",
   "metadata": {
    "ExecuteTime": {
     "end_time": "2024-10-07T02:38:40.103472Z",
     "start_time": "2024-10-07T02:38:39.918978Z"
    }
   },
   "outputs": [],
   "source": [
    "pd_df_calibration_concentrations = plate_util.read_and_clean_calibration_concentrations(dict_parameters)"
   ]
  },
  {
   "cell_type": "code",
   "execution_count": null,
   "id": "ff328ba68470379a",
   "metadata": {
    "ExecuteTime": {
     "end_time": "2024-10-07T02:38:40.120682Z",
     "start_time": "2024-10-07T02:38:40.104915Z"
    }
   },
   "outputs": [],
   "source": [
    "pd_df_calibration_concentrations"
   ]
  },
  {
   "cell_type": "code",
   "execution_count": null,
   "id": "21eedbfe0b18c3fe",
   "metadata": {
    "ExecuteTime": {
     "end_time": "2024-10-07T02:38:40.129284Z",
     "start_time": "2024-10-07T02:38:40.123084Z"
    }
   },
   "outputs": [],
   "source": [
    "pd_df_quality_control_concentrations = pd.read_csv(\n",
    "    open(\n",
    "        os.path.join(\n",
    "            dict_parameters[\"base directory path\"],\n",
    "            dict_parameters[\"data directory\"],\n",
    "            dict_parameters[\"quality control concentrations file name\"]\n",
    "        ),\n",
    "        \"rb\"\n",
    "    )\n",
    ")"
   ]
  },
  {
   "cell_type": "code",
   "execution_count": null,
   "id": "8eedd71c7b132330",
   "metadata": {
    "ExecuteTime": {
     "end_time": "2024-10-07T02:38:40.150215Z",
     "start_time": "2024-10-07T02:38:40.131040Z"
    }
   },
   "outputs": [],
   "source": [
    "pd_df_plate_data"
   ]
  },
  {
   "cell_type": "code",
   "execution_count": null,
   "id": "e32728894b0d2bd8",
   "metadata": {
    "ExecuteTime": {
     "end_time": "2024-10-07T02:38:40.160486Z",
     "start_time": "2024-10-07T02:38:40.150999Z"
    }
   },
   "outputs": [],
   "source": [
    "pd_df_quality_control_concentrations"
   ]
  },
  {
   "cell_type": "code",
   "execution_count": null,
   "id": "b82568ecdfa37d87",
   "metadata": {
    "ExecuteTime": {
     "end_time": "2024-10-07T02:38:40.177459Z",
     "start_time": "2024-10-07T02:38:40.161444Z"
    }
   },
   "outputs": [],
   "source": [
    "pd_df_estimated_concentrations"
   ]
  },
  {
   "cell_type": "code",
   "execution_count": null,
   "id": "a47f90975e608707",
   "metadata": {
    "ExecuteTime": {
     "end_time": "2024-10-07T02:38:40.182289Z",
     "start_time": "2024-10-07T02:38:40.178707Z"
    }
   },
   "outputs": [],
   "source": [
    "def perform_t_test_on_paired_wells(pd_group):\n",
    "    if len(pd_group) != 2:\n",
    "        return np.nan\n",
    "    mean_1, mean_2 = pd_group[\"IFN-gamma Trimmed Mean\"].values\n",
    "    std_dev_1, std_dev_2 = pd_group[\"IFN-gamma Trimmed Standard Deviation\"].values\n",
    "    count_1, count_2 = pd_group[\"IFN-gamma Count\"].values\n",
    "    t_statistic, p_value = stats.ttest_ind_from_stats(\n",
    "        mean_1, \n",
    "        std_dev_1, \n",
    "        count_1, \n",
    "        mean_2, \n",
    "        std_dev_2, \n",
    "        count_2,\n",
    "        equal_var=False,\n",
    "    )\n",
    "    return p_value"
   ]
  },
  {
   "cell_type": "code",
   "execution_count": null,
   "id": "fc66c1c8cc8225b4",
   "metadata": {
    "ExecuteTime": {
     "end_time": "2024-10-07T02:38:40.303483Z",
     "start_time": "2024-10-07T02:38:40.183313Z"
    }
   },
   "outputs": [],
   "source": [
    "pd_df_tested = (\n",
    "    pd_df_plate_data\n",
    "    .groupby([\"sample name plate\", \"plate number\"])\n",
    "    .apply(perform_t_test_on_paired_wells, include_groups=False)\n",
    "    .reset_index()\n",
    ")\n",
    "pd_df_tested.columns = [\"sample name plate\", \"plate number\"] + ['t test p value']\n",
    "pd_df_tested = pd.merge(\n",
    "    pd_df_tested, \n",
    "    pd_df_plate_data[[\"sample name plate\", \"plate number\", \"IFN-gamma Trimmed Mean\", \"IFN-gamma Trimmed Standard Deviation\", \"IFN-gamma Count\"]], \n",
    "    on = [\"sample name plate\", \"plate number\"], \n",
    "    how = \"left\"\n",
    ")"
   ]
  },
  {
   "cell_type": "code",
   "execution_count": null,
   "id": "98fa1a9fe76a6b1f",
   "metadata": {
    "ExecuteTime": {
     "end_time": "2024-10-07T02:38:43.261611Z",
     "start_time": "2024-10-07T02:38:40.304477Z"
    }
   },
   "outputs": [],
   "source": [
    "pd_df_data = get_table_with_all_duplicate_qc_checks(\n",
    "    dict_parameters, \n",
    "    pd_df_estimated_concentrations,\n",
    "    pd_df_calibration_concentrations\n",
    ")"
   ]
  },
  {
   "cell_type": "code",
   "execution_count": null,
   "id": "9b79cdef0983d5f5",
   "metadata": {
    "ExecuteTime": {
     "end_time": "2024-10-07T02:38:43.353711Z",
     "start_time": "2024-10-07T02:38:43.262750Z"
    }
   },
   "outputs": [],
   "source": [
    "dash_app_object_boxes = dash.Dash(__name__)\n",
    "\n",
    "dash_app_object_boxes.layout = html.Div([\n",
    "    html.H1(\"Plots of statistics comparing duplicate samples\"),\n",
    "\n",
    "    html.Div([\n",
    "        html.Label(\"Plot type:\"),\n",
    "        dcc.Dropdown(\n",
    "            id='plot-type-dropdown',\n",
    "            options=[\n",
    "                {'label': 'box', 'value': 'box'},\n",
    "                {'label': 'strip', 'value': 'strip'},\n",
    "            ],\n",
    "            value='box',\n",
    "        ),\n",
    "    ], style={'width': '20%', 'display': 'inline-block'}),\n",
    "\n",
    "    html.Div([\n",
    "        html.Label(\"Analyte:\"),\n",
    "        dcc.Dropdown(\n",
    "            id='analyte-dropdown',\n",
    "            options=[{'label': col, 'value': col} for col in dict_parameters[\"list of analytes\"]],\n",
    "            value=dict_parameters[\"list of analytes\"][0]\n",
    "        ),\n",
    "    ], style={'width': '20%', 'display': 'inline-block'}),\n",
    "\n",
    "    html.Div([\n",
    "        html.Label(\"Statistic:\"),\n",
    "        dcc.Dropdown(\n",
    "            id='statistic-dropdown',\n",
    "            options=[\n",
    "                {'label': 'CV', 'value': 'CV'},\n",
    "                {'label': 'rel. abs. diff.', 'value': 'rel. abs. diff.'},\n",
    "            ],\n",
    "            value='CV',\n",
    "        ),\n",
    "    ], style={'width': '20%', 'display': 'inline-block'}),\n",
    "    \n",
    "    html.Div([\n",
    "        html.Label(\"Strip colour:\"),\n",
    "        dcc.Dropdown(\n",
    "            id='strip-colour-dropdown',\n",
    "            options=[\n",
    "                {'label': 'max gradient', 'value': 'max gradient'},\n",
    "                {'label': 'max cal interval', 'value': 'max cal interval'},\n",
    "            ],\n",
    "            value='max gradient',\n",
    "        ),\n",
    "    ], style={'width': '20%', 'display': 'inline-block'}),\n",
    "\n",
    "    html.Div([\n",
    "        dcc.Graph(id='scatter-plot-duplicates')\n",
    "    ], style={'width': '80%'}),\n",
    "], style={'backgroundColor': 'white', 'padding': '20px'})\n",
    "\n",
    "\n",
    "@dash_app_object_boxes.callback(\n",
    "    Output('scatter-plot-duplicates', 'figure'),\n",
    "    Input('analyte-dropdown', 'value'),\n",
    "    Input('plot-type-dropdown', 'value'),\n",
    "    Input('statistic-dropdown', 'value'),\n",
    "    Input('strip-colour-dropdown', 'value'),\n",
    ")\n",
    "def update_graph(str_analyte, str_plot_type, str_statistic, str_strip_colour):\n",
    "    str_column_name = f\"{str_statistic} {str_analyte}\"\n",
    "\n",
    "    if str_plot_type == \"box\":\n",
    "        fig = px.box(\n",
    "            pd_df_data,\n",
    "            x=\"plate number\",\n",
    "            y=str_column_name,\n",
    "            hover_name=\"sample name annotations\",\n",
    "        )\n",
    "    elif str_plot_type == \"strip\":\n",
    "        \n",
    "        fig = go.Figure()\n",
    "\n",
    "        fig.add_trace(go.Scatter(\n",
    "            x=pd_df_data[\"plate number\"] + np.random.uniform(-0.1, 0.1, len(pd_df_data)),\n",
    "            y=pd_df_data[str_column_name],\n",
    "            mode='markers',\n",
    "            marker=dict(\n",
    "                size=8,\n",
    "                color=pd_df_data[str_strip_colour + \" \" + str_analyte],\n",
    "                colorscale='Viridis',\n",
    "                showscale=True,\n",
    "                colorbar=dict(title=\"\\n\".join(str_strip_colour.split(\" \")), titlefont=dict(size=14)),\n",
    "                \n",
    "            ),\n",
    "            hovertext=pd_df_data[\"sample name annotations\"],\n",
    "        ))\n",
    "        fig.update_traces(marker=dict(opacity=0.75))\n",
    "    if str_statistic == \"CV\":\n",
    "        str_y_axis_title = \"%CV\"\n",
    "    else:\n",
    "        str_y_axis_title = str_statistic\n",
    "    fig.update_layout(\n",
    "        xaxis=dict_x_axis_parameters_categorical,\n",
    "        yaxis=dict_y_axis_parameters,\n",
    "        font=dict_font_parameters,\n",
    "        xaxis_title=\"Plate\",\n",
    "        yaxis_title=str_y_axis_title,\n",
    "        plot_bgcolor='white',\n",
    "        paper_bgcolor='white',\n",
    "    )\n",
    "\n",
    "    return fig\n",
    "\n",
    "# Run the app\n",
    "if __name__ == '__main__':\n",
    "    dash_app_object_boxes.run(jupyter_mode=\"inline\", debug = True, port=3310)"
   ]
  },
  {
   "cell_type": "code",
   "execution_count": null,
   "id": "37b4bf6b285129e4",
   "metadata": {
    "ExecuteTime": {
     "end_time": "2024-10-07T02:38:43.811764Z",
     "start_time": "2024-10-07T02:38:43.355373Z"
    }
   },
   "outputs": [],
   "source": [
    "import seaborn as sns\n",
    "import matplotlib.pyplot as plt\n",
    "#sns.regplot(x = \"max gradient IFN-gamma\", y = \"CV IFN-gamma\", data = pd_df_data)\n",
    "sns.regplot(x = \"max cal interval IFN-gamma\", y = \"CV IFN-gamma\", data = pd_df_data)\n",
    "plt.show()"
   ]
  },
  {
   "cell_type": "code",
   "execution_count": null,
   "id": "85b169ffbacf6d26",
   "metadata": {
    "ExecuteTime": {
     "end_time": "2024-10-07T02:38:43.818353Z",
     "start_time": "2024-10-07T02:38:43.813043Z"
    }
   },
   "outputs": [],
   "source": [
    "pd_df_data_cleaned = pd_df_data.dropna()"
   ]
  },
  {
   "cell_type": "code",
   "execution_count": null,
   "id": "647c2d2441eb6e7d",
   "metadata": {
    "ExecuteTime": {
     "end_time": "2024-10-07T02:38:43.827824Z",
     "start_time": "2024-10-07T02:38:43.819562Z"
    }
   },
   "outputs": [],
   "source": [
    "slope, intercept, r_value, p_value, std_err = stats.linregress(\n",
    "    pd_df_data_cleaned[\"max cal interval IFN-gamma\"], \n",
    "    pd_df_data_cleaned[\"CV IFN-gamma\"]\n",
    ")"
   ]
  },
  {
   "cell_type": "code",
   "execution_count": null,
   "id": "e03e061c17d04e9c",
   "metadata": {
    "ExecuteTime": {
     "end_time": "2024-10-07T02:38:43.833367Z",
     "start_time": "2024-10-07T02:38:43.829044Z"
    }
   },
   "outputs": [],
   "source": [
    "slope, intercept, r_value, p_value, std_err"
   ]
  },
  {
   "cell_type": "code",
   "execution_count": null,
   "id": "9eb6834c3397b2c4",
   "metadata": {
    "ExecuteTime": {
     "end_time": "2024-10-07T02:38:43.836990Z",
     "start_time": "2024-10-07T02:38:43.834463Z"
    }
   },
   "outputs": [],
   "source": []
  }
 ],
 "metadata": {
  "kernelspec": {
   "display_name": "Python 3",
   "language": "python",
   "name": "python3"
  },
  "language_info": {
   "codemirror_mode": {
    "name": "ipython",
    "version": 2
   },
   "file_extension": ".py",
   "mimetype": "text/x-python",
   "name": "python",
   "nbconvert_exporter": "python",
   "pygments_lexer": "ipython2",
   "version": "2.7.6"
  }
 },
 "nbformat": 4,
 "nbformat_minor": 5
}
