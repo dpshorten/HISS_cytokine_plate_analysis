{
 "cells": [
  {
   "cell_type": "code",
   "execution_count": null,
   "id": "initial_id",
   "metadata": {
    "ExecuteTime": {
     "end_time": "2024-10-07T01:21:38.040297Z",
     "start_time": "2024-10-07T01:21:38.035185Z"
    }
   },
   "outputs": [],
   "source": [
    "import sys\n",
    "import os\n",
    "import yaml\n",
    "import numpy as np\n",
    "from scipy import stats\n",
    "\n",
    "import dash\n",
    "from dash import dcc, html\n",
    "from dash.dependencies import Input, Output\n",
    "import plotly.express as px\n",
    "import plotly.graph_objects as go\n",
    "\n",
    "import pandas as pd\n",
    "pd.options.mode.chained_assignment = None\n",
    "\n",
    "sys.path.append('../python/')\n",
    "import plate_util\n",
    "from plotly_figure_parameters import dict_y_axis_parameters, dict_font_parameters, dict_x_axis_parameters_categorical\n",
    "from dashboard_notebook_util import (\n",
    "    read_estimated_concentrations, \n",
    "    read_plate_data_with_calibration_concentrations,\n",
    "    read_quality_control_concentrations\n",
    ")\n",
    "\n",
    "import logging\n",
    "logging.basicConfig(level=logging.DEBUG, filename=\"dash_logs.log\")"
   ]
  },
  {
   "cell_type": "code",
   "execution_count": null,
   "id": "345fcbbca377847f",
   "metadata": {
    "ExecuteTime": {
     "end_time": "2024-10-07T01:21:38.091580Z",
     "start_time": "2024-10-07T01:21:38.079640Z"
    }
   },
   "outputs": [],
   "source": [
    "dict_parameters = yaml.safe_load(open(\"../parameters/july_2024_data_parameters.yaml\", \"r\"))"
   ]
  },
  {
   "cell_type": "code",
   "execution_count": null,
   "id": "1c294347fe95c72c",
   "metadata": {
    "ExecuteTime": {
     "end_time": "2024-10-07T01:21:38.173222Z",
     "start_time": "2024-10-07T01:21:38.124910Z"
    }
   },
   "outputs": [],
   "source": [
    "pd_df_plate_data = read_plate_data_with_calibration_concentrations(dict_parameters)\n",
    "pd_df_estimated_concentrations = read_estimated_concentrations(dict_parameters)"
   ]
  },
  {
   "cell_type": "code",
   "execution_count": null,
   "id": "b7f9b5c56d0cf74f",
   "metadata": {
    "ExecuteTime": {
     "end_time": "2024-10-07T01:21:38.197735Z",
     "start_time": "2024-10-07T01:21:38.175095Z"
    }
   },
   "outputs": [],
   "source": [
    "pd_df_calibration_concentrations = plate_util.read_and_clean_calibration_concentrations(dict_parameters)"
   ]
  },
  {
   "cell_type": "code",
   "execution_count": null,
   "id": "ff328ba68470379a",
   "metadata": {
    "ExecuteTime": {
     "end_time": "2024-10-07T01:21:38.212026Z",
     "start_time": "2024-10-07T01:21:38.199582Z"
    }
   },
   "outputs": [],
   "source": [
    "pd_df_calibration_concentrations"
   ]
  },
  {
   "cell_type": "code",
   "execution_count": null,
   "id": "21eedbfe0b18c3fe",
   "metadata": {
    "ExecuteTime": {
     "end_time": "2024-10-07T01:21:38.218220Z",
     "start_time": "2024-10-07T01:21:38.213455Z"
    }
   },
   "outputs": [],
   "source": [
    "pd_df_quality_control_concentrations = pd.read_csv(\n",
    "    open(\n",
    "        os.path.join(\n",
    "            dict_parameters[\"base directory path\"],\n",
    "            dict_parameters[\"data directory\"],\n",
    "            dict_parameters[\"quality control concentrations file name\"]\n",
    "        ),\n",
    "        \"rb\"\n",
    "    )\n",
    ")"
   ]
  },
  {
   "cell_type": "code",
   "execution_count": null,
   "id": "8eedd71c7b132330",
   "metadata": {
    "ExecuteTime": {
     "end_time": "2024-10-07T01:21:38.236294Z",
     "start_time": "2024-10-07T01:21:38.219274Z"
    }
   },
   "outputs": [],
   "source": [
    "pd_df_plate_data"
   ]
  },
  {
   "cell_type": "code",
   "execution_count": null,
   "id": "e32728894b0d2bd8",
   "metadata": {
    "ExecuteTime": {
     "end_time": "2024-10-07T01:21:38.247274Z",
     "start_time": "2024-10-07T01:21:38.237335Z"
    }
   },
   "outputs": [],
   "source": [
    "pd_df_quality_control_concentrations"
   ]
  },
  {
   "cell_type": "code",
   "execution_count": null,
   "id": "b82568ecdfa37d87",
   "metadata": {
    "ExecuteTime": {
     "end_time": "2024-10-07T01:21:38.265646Z",
     "start_time": "2024-10-07T01:21:38.248566Z"
    }
   },
   "outputs": [],
   "source": [
    "pd_df_estimated_concentrations"
   ]
  },
  {
   "cell_type": "code",
   "execution_count": null,
   "id": "a47f90975e608707",
   "metadata": {
    "ExecuteTime": {
     "end_time": "2024-10-07T01:21:38.270797Z",
     "start_time": "2024-10-07T01:21:38.266842Z"
    }
   },
   "outputs": [],
   "source": [
    "def perform_t_test_on_paired_wells(pd_group):\n",
    "    if len(pd_group) != 2:\n",
    "        return np.nan\n",
    "    mean_1, mean_2 = pd_group[\"IFN-gamma Trimmed Mean\"].values\n",
    "    std_dev_1, std_dev_2 = pd_group[\"IFN-gamma Trimmed Standard Deviation\"].values\n",
    "    count_1, count_2 = pd_group[\"IFN-gamma Count\"].values\n",
    "    t_statistic, p_value = stats.ttest_ind_from_stats(\n",
    "        mean_1, \n",
    "        std_dev_1, \n",
    "        count_1, \n",
    "        mean_2, \n",
    "        std_dev_2, \n",
    "        count_2,\n",
    "        equal_var=False,\n",
    "    )\n",
    "    return p_value"
   ]
  },
  {
   "cell_type": "code",
   "execution_count": null,
   "id": "fc66c1c8cc8225b4",
   "metadata": {
    "ExecuteTime": {
     "end_time": "2024-10-07T01:21:38.571470Z",
     "start_time": "2024-10-07T01:21:38.296374Z"
    }
   },
   "outputs": [],
   "source": [
    "pd_df_tested = (\n",
    "    pd_df_plate_data\n",
    "    .groupby([\"sample name plate\", \"plate number\"])\n",
    "    .apply(perform_t_test_on_paired_wells, include_groups=False)\n",
    "    .reset_index()\n",
    ")\n",
    "pd_df_tested.columns = [\"sample name plate\", \"plate number\"] + ['t test p value']\n",
    "pd_df_tested = pd.merge(\n",
    "    pd_df_tested, \n",
    "    pd_df_plate_data[[\"sample name plate\", \"plate number\", \"IFN-gamma Trimmed Mean\", \"IFN-gamma Trimmed Standard Deviation\", \"IFN-gamma Count\"]], \n",
    "    on = [\"sample name plate\", \"plate number\"], \n",
    "    how = \"left\"\n",
    ")"
   ]
  },
  {
   "cell_type": "code",
   "execution_count": null,
   "id": "45ff28cf60b76533",
   "metadata": {
    "ExecuteTime": {
     "end_time": "2024-10-07T01:21:38.581002Z",
     "start_time": "2024-10-07T01:21:38.573268Z"
    }
   },
   "outputs": [],
   "source": [
    "pd_df_tested"
   ]
  },
  {
   "cell_type": "code",
   "execution_count": null,
   "id": "a6d37ada37950e87",
   "metadata": {
    "ExecuteTime": {
     "end_time": "2024-10-07T01:21:38.588368Z",
     "start_time": "2024-10-07T01:21:38.582135Z"
    }
   },
   "outputs": [],
   "source": [
    "pd_df_tested_unique = pd_df_tested.drop_duplicates(subset = [\"sample name plate\", \"plate number\"])"
   ]
  },
  {
   "cell_type": "code",
   "execution_count": null,
   "id": "720444252d7d9fca",
   "metadata": {
    "ExecuteTime": {
     "end_time": "2024-10-07T01:21:38.601032Z",
     "start_time": "2024-10-07T01:21:38.591253Z"
    }
   },
   "outputs": [],
   "source": [
    "pd_df_tested_unique"
   ]
  },
  {
   "cell_type": "code",
   "execution_count": null,
   "id": "7cc88e232851e467",
   "metadata": {
    "ExecuteTime": {
     "end_time": "2024-10-07T01:21:38.882091Z",
     "start_time": "2024-10-07T01:21:38.679490Z"
    }
   },
   "outputs": [],
   "source": [
    "import seaborn as sns\n",
    "sns.histplot(pd_df_tested_unique, x = \"t test p value\", bins = 20)"
   ]
  },
  {
   "cell_type": "code",
   "execution_count": null,
   "id": "11e393ec53144b43",
   "metadata": {
    "ExecuteTime": {
     "end_time": "2024-10-07T01:21:38.888170Z",
     "start_time": "2024-10-07T01:21:38.884300Z"
    }
   },
   "outputs": [],
   "source": [
    "def calculate_paired_intra_plate_cv(str_analyte, pd_group):\n",
    "    if len(pd_group) != 2:\n",
    "        return np.nan\n",
    "    str_concentration_column_prefix = dict_parameters[\"column name prefix for estimated concentrations\"]\n",
    "    estimate_1, estimate_2 = pd_group[f\"{str_concentration_column_prefix}{str_analyte}\"].values\n",
    "    mean = (estimate_1 + estimate_2) / 2\n",
    "    std_dev = np.sqrt((estimate_1 - mean)**2 + (estimate_2 - mean)**2)\n",
    "    return std_dev / mean\n"
   ]
  },
  {
   "cell_type": "code",
   "execution_count": null,
   "id": "d38430428337dabc",
   "metadata": {
    "ExecuteTime": {
     "end_time": "2024-10-07T01:21:38.893131Z",
     "start_time": "2024-10-07T01:21:38.889193Z"
    }
   },
   "outputs": [],
   "source": [
    "def calculate_paired_intra_plate_rel_abs_diff(str_analyte, pd_group):\n",
    "    if len(pd_group) != 2:\n",
    "        return np.nan\n",
    "    str_concentration_column_prefix = dict_parameters[\"column name prefix for estimated concentrations\"]\n",
    "    estimate_1, estimate_2 = pd_group[f\"{str_concentration_column_prefix}{str_analyte}\"].values\n",
    "    mean = (estimate_1 + estimate_2) / 2\n",
    "    return np.abs(estimate_1 - estimate_2) / mean"
   ]
  },
  {
   "cell_type": "code",
   "execution_count": null,
   "id": "58d40761b32e3c35",
   "metadata": {
    "ExecuteTime": {
     "end_time": "2024-10-07T01:21:38.897371Z",
     "start_time": "2024-10-07T01:21:38.894677Z"
    }
   },
   "outputs": [],
   "source": [
    "def calculate_max_gradient(str_analyte, pd_group):\n",
    "    str_gradient_column_prefix = dict_parameters[\"column name prefix for calibration curve gradient\"]\n",
    "    if len(pd_group) < 2:\n",
    "        return pd_group[f\"{str_gradient_column_prefix}{str_analyte}\"].values[0]\n",
    "    else:\n",
    "        return np.max(pd_group[f\"{str_gradient_column_prefix}{str_analyte}\"].values)"
   ]
  },
  {
   "cell_type": "code",
   "execution_count": null,
   "id": "215d3a39b37d0340",
   "metadata": {
    "ExecuteTime": {
     "end_time": "2024-10-07T01:21:38.956567Z",
     "start_time": "2024-10-07T01:21:38.951080Z"
    }
   },
   "outputs": [],
   "source": [
    "def calculate_max_calibration_interval(str_analyte, pd_group):\n",
    "    list_calibration_intervals = []\n",
    "    str_concentration_column_prefix = dict_parameters[\"column name prefix for estimated concentrations\"]\n",
    "    for i in range(len(pd_group)):  \n",
    "        found_group = False\n",
    "        if (\n",
    "            pd_group[f\"{str_concentration_column_prefix}{str_analyte}\"].values[i] <= \n",
    "            pd_df_calibration_concentrations[f\"{str_analyte} Expected\"].iloc[0]\n",
    "        ):\n",
    "            list_calibration_intervals.append(0)\n",
    "        else:\n",
    "            for j in range(len(pd_df_calibration_concentrations) - 1):\n",
    "                if (\n",
    "                        (\n",
    "                                pd_group[f\"{str_concentration_column_prefix}{str_analyte}\"].values[i] > \n",
    "                                pd_df_calibration_concentrations[f\"{str_analyte} Expected\"].iloc[j]\n",
    "                        ) and\n",
    "                        (\n",
    "                                pd_group[f\"{str_concentration_column_prefix}{str_analyte}\"].values[i] <= \n",
    "                                pd_df_calibration_concentrations[f\"{str_analyte} Expected\"].iloc[j + 1]\n",
    "                        )\n",
    "                ):\n",
    "                    list_calibration_intervals.append(j + 1)\n",
    "                    found_group = True\n",
    "                    break\n",
    "            if not found_group:\n",
    "                list_calibration_intervals.append(len(pd_df_calibration_concentrations))\n",
    "    \n",
    "    return np.max(list_calibration_intervals)"
   ]
  },
  {
   "cell_type": "code",
   "execution_count": null,
   "id": "b73e56ca86a582b2",
   "metadata": {
    "ExecuteTime": {
     "end_time": "2024-10-07T01:21:38.992844Z",
     "start_time": "2024-10-07T01:21:38.987798Z"
    }
   },
   "outputs": [],
   "source": [
    "def get_table_of_duplicate_qc_checks(function_check, str_check_name):\n",
    "    list_pd_df_estimated_concentrations_checked_one_analyte = []\n",
    "    for str_analyte in dict_parameters[\"list of analytes\"]:\n",
    "        pd_df_estimated_concentrations_checked_one_analyte = (\n",
    "            pd_df_estimated_concentrations\n",
    "            .groupby([\"sample name annotations\", \"plate number\"])\n",
    "            .apply(lambda x: function_check(str_analyte, x), include_groups=False)\n",
    "            .reset_index()\n",
    "        )\n",
    "        pd_df_estimated_concentrations_checked_one_analyte.columns = [\"sample name annotations\", \"plate number\"] + [f\"{str_check_name} {str_analyte}\"]\n",
    "        #[dict_parameters[\"column name prefix for calibration curve gradient\"] + str_analyte]\n",
    "        \n",
    "        list_pd_df_estimated_concentrations_checked_one_analyte.append(pd_df_estimated_concentrations_checked_one_analyte)\n",
    "    \n",
    "    pd_df_estimated_concentrations_checked = list_pd_df_estimated_concentrations_checked_one_analyte[0]\n",
    "    for pd_df_estimated_concentrations_checked_one_analyte in list_pd_df_estimated_concentrations_checked_one_analyte[1:]:\n",
    "        pd_df_estimated_concentrations_checked = pd.merge(\n",
    "            pd_df_estimated_concentrations_checked, \n",
    "            pd_df_estimated_concentrations_checked_one_analyte, \n",
    "            on = [\"sample name annotations\", \"plate number\"], \n",
    "            how = \"outer\"\n",
    "        )\n",
    "    return pd_df_estimated_concentrations_checked"
   ]
  },
  {
   "cell_type": "code",
   "execution_count": null,
   "id": "1a4376e159786444",
   "metadata": {
    "ExecuteTime": {
     "end_time": "2024-10-07T01:21:42.301229Z",
     "start_time": "2024-10-07T01:21:39.051833Z"
    }
   },
   "outputs": [],
   "source": [
    "pd_df_CV = get_table_of_duplicate_qc_checks(calculate_paired_intra_plate_cv, \"CV\")\n",
    "pd_df_rel_abs_diff = get_table_of_duplicate_qc_checks(calculate_paired_intra_plate_rel_abs_diff, \"rel. abs. diff.\")\n",
    "pd_df_gradients = get_table_of_duplicate_qc_checks(calculate_max_gradient, \"max gradient\")\n",
    "pd_df_calibration_intervals = get_table_of_duplicate_qc_checks(calculate_max_calibration_interval, \"max cal interval\")"
   ]
  },
  {
   "cell_type": "code",
   "execution_count": null,
   "id": "13d1524228698a4b",
   "metadata": {
    "ExecuteTime": {
     "end_time": "2024-10-07T01:21:42.311487Z",
     "start_time": "2024-10-07T01:21:42.302966Z"
    }
   },
   "outputs": [],
   "source": [
    "pd_df_calibration_intervals"
   ]
  },
  {
   "cell_type": "code",
   "execution_count": null,
   "id": "7da45e5dd46a630f",
   "metadata": {
    "ExecuteTime": {
     "end_time": "2024-10-07T01:21:42.327356Z",
     "start_time": "2024-10-07T01:21:42.312992Z"
    }
   },
   "outputs": [],
   "source": [
    "pd_df_rel_abs_diff"
   ]
  },
  {
   "cell_type": "code",
   "execution_count": null,
   "id": "8258c6934e68ed87",
   "metadata": {
    "ExecuteTime": {
     "end_time": "2024-10-07T01:21:42.337359Z",
     "start_time": "2024-10-07T01:21:42.328947Z"
    }
   },
   "outputs": [],
   "source": [
    "pd_df_CV"
   ]
  },
  {
   "cell_type": "code",
   "execution_count": null,
   "id": "98fa1a9fe76a6b1f",
   "metadata": {
    "ExecuteTime": {
     "end_time": "2024-10-07T01:21:42.357981Z",
     "start_time": "2024-10-07T01:21:42.338040Z"
    }
   },
   "outputs": [],
   "source": [
    "pd_df_data = pd_df_CV.merge(pd_df_rel_abs_diff, on = [\"sample name annotations\", \"plate number\"], how = \"outer\")\n",
    "pd_df_data = pd_df_data.merge(pd_df_gradients, on = [\"sample name annotations\", \"plate number\"], how = \"outer\")\n",
    "pd_df_data = pd_df_data.merge(pd_df_calibration_intervals, on = [\"sample name annotations\", \"plate number\"], how = \"outer\")\n",
    "pd_df_data"
   ]
  },
  {
   "cell_type": "code",
   "execution_count": null,
   "id": "9b79cdef0983d5f5",
   "metadata": {
    "ExecuteTime": {
     "end_time": "2024-10-07T01:22:07.415406Z",
     "start_time": "2024-10-07T01:22:07.264723Z"
    }
   },
   "outputs": [],
   "source": [
    "dash_app_object_boxes = dash.Dash(__name__)\n",
    "\n",
    "dash_app_object_boxes.layout = html.Div([\n",
    "    html.H1(\"Plots of statistics comparing duplicate samples\"),\n",
    "\n",
    "    html.Div([\n",
    "        html.Label(\"Plot type:\"),\n",
    "        dcc.Dropdown(\n",
    "            id='plot-type-dropdown',\n",
    "            options=[\n",
    "                {'label': 'box', 'value': 'box'},\n",
    "                {'label': 'strip', 'value': 'strip'},\n",
    "            ],\n",
    "            value='box',\n",
    "        ),\n",
    "    ], style={'width': '20%', 'display': 'inline-block'}),\n",
    "\n",
    "    html.Div([\n",
    "        html.Label(\"Analyte:\"),\n",
    "        dcc.Dropdown(\n",
    "            id='analyte-dropdown',\n",
    "            options=[{'label': col, 'value': col} for col in dict_parameters[\"list of analytes\"]],\n",
    "            value=dict_parameters[\"list of analytes\"][0]\n",
    "        ),\n",
    "    ], style={'width': '20%', 'display': 'inline-block'}),\n",
    "\n",
    "    html.Div([\n",
    "        html.Label(\"Statistic:\"),\n",
    "        dcc.Dropdown(\n",
    "            id='statistic-dropdown',\n",
    "            options=[\n",
    "                {'label': 'CV', 'value': 'CV'},\n",
    "                {'label': 'rel. abs. diff.', 'value': 'rel. abs. diff.'},\n",
    "            ],\n",
    "            value='CV',\n",
    "        ),\n",
    "    ], style={'width': '20%', 'display': 'inline-block'}),\n",
    "    \n",
    "    html.Div([\n",
    "        html.Label(\"Strip colour:\"),\n",
    "        dcc.Dropdown(\n",
    "            id='strip-colour-dropdown',\n",
    "            options=[\n",
    "                {'label': 'max gradient', 'value': 'max gradient'},\n",
    "                {'label': 'max cal interval', 'value': 'max cal interval'},\n",
    "            ],\n",
    "            value='max gradient',\n",
    "        ),\n",
    "    ], style={'width': '20%', 'display': 'inline-block'}),\n",
    "\n",
    "    html.Div([\n",
    "        dcc.Graph(id='scatter-plot-duplicates')\n",
    "    ], style={'width': '80%'}),\n",
    "], style={'backgroundColor': 'white', 'padding': '20px'})\n",
    "\n",
    "\n",
    "@dash_app_object_boxes.callback(\n",
    "    Output('scatter-plot-duplicates', 'figure'),\n",
    "    Input('analyte-dropdown', 'value'),\n",
    "    Input('plot-type-dropdown', 'value'),\n",
    "    Input('statistic-dropdown', 'value'),\n",
    "    Input('strip-colour-dropdown', 'value'),\n",
    ")\n",
    "def update_graph(str_analyte, str_plot_type, str_statistic, str_strip_colour):\n",
    "    str_column_name = f\"{str_statistic} {str_analyte}\"\n",
    "\n",
    "    if str_plot_type == \"box\":\n",
    "        fig = px.box(\n",
    "            pd_df_data,\n",
    "            x=\"plate number\",\n",
    "            y=str_column_name,\n",
    "            hover_name=\"sample name annotations\",\n",
    "        )\n",
    "    elif str_plot_type == \"strip\":\n",
    "        \n",
    "        fig = go.Figure()\n",
    "\n",
    "        fig.add_trace(go.Scatter(\n",
    "            x=pd_df_data[\"plate number\"] + np.random.uniform(-0.1, 0.1, len(pd_df_data)),\n",
    "            y=pd_df_data[str_column_name],\n",
    "            mode='markers',\n",
    "            marker=dict(\n",
    "                size=8,\n",
    "                color=pd_df_data[str_strip_colour + \" \" + str_analyte],\n",
    "                colorscale='Viridis',\n",
    "                showscale=True,\n",
    "                colorbar=dict(title=\"\\n\".join(str_strip_colour.split(\" \")), titlefont=dict(size=14)),\n",
    "                \n",
    "            ),\n",
    "            hovertemplate='Category: %{text}<br>Value: %{y:.2f}<extra></extra>'\n",
    "        ))\n",
    "        fig.update_traces(marker=dict(opacity=0.75))\n",
    "    if str_statistic == \"CV\":\n",
    "        str_y_axis_title = \"%CV\"\n",
    "    else:\n",
    "        str_y_axis_title = str_statistic\n",
    "    fig.update_layout(\n",
    "        xaxis=dict_x_axis_parameters_categorical,\n",
    "        yaxis=dict_y_axis_parameters,\n",
    "        font=dict_font_parameters,\n",
    "        xaxis_title=\"Plate\",\n",
    "        yaxis_title=str_y_axis_title,\n",
    "        plot_bgcolor='white',\n",
    "        paper_bgcolor='white',\n",
    "    )\n",
    "\n",
    "    return fig\n",
    "\n",
    "# Run the app\n",
    "if __name__ == '__main__':\n",
    "    dash_app_object_boxes.run(jupyter_mode=\"inline\", debug = True, port=3310)"
   ]
  },
  {
   "cell_type": "code",
   "execution_count": null,
   "id": "37b4bf6b285129e4",
   "metadata": {
    "ExecuteTime": {
     "end_time": "2024-10-07T01:21:43.205595Z",
     "start_time": "2024-10-07T01:21:42.729541Z"
    }
   },
   "outputs": [],
   "source": [
    "import seaborn as sns\n",
    "import matplotlib.pyplot as plt\n",
    "#sns.regplot(x = \"max gradient IFN-gamma\", y = \"CV IFN-gamma\", data = pd_df_data)\n",
    "sns.regplot(x = \"max cal interval IFN-gamma\", y = \"CV IFN-gamma\", data = pd_df_data)\n",
    "plt.show()"
   ]
  },
  {
   "cell_type": "code",
   "execution_count": null,
   "id": "85b169ffbacf6d26",
   "metadata": {
    "ExecuteTime": {
     "end_time": "2024-10-07T01:21:43.213742Z",
     "start_time": "2024-10-07T01:21:43.207862Z"
    }
   },
   "outputs": [],
   "source": [
    "pd_df_data_cleaned = pd_df_data.dropna()"
   ]
  },
  {
   "cell_type": "code",
   "execution_count": null,
   "id": "647c2d2441eb6e7d",
   "metadata": {
    "ExecuteTime": {
     "end_time": "2024-10-07T01:21:43.219383Z",
     "start_time": "2024-10-07T01:21:43.215071Z"
    }
   },
   "outputs": [],
   "source": [
    "slope, intercept, r_value, p_value, std_err = stats.linregress(\n",
    "    pd_df_data_cleaned[\"max cal interval IFN-gamma\"], \n",
    "    pd_df_data_cleaned[\"CV IFN-gamma\"]\n",
    ")"
   ]
  },
  {
   "cell_type": "code",
   "execution_count": null,
   "id": "e03e061c17d04e9c",
   "metadata": {
    "ExecuteTime": {
     "end_time": "2024-10-07T01:21:43.226056Z",
     "start_time": "2024-10-07T01:21:43.221754Z"
    }
   },
   "outputs": [],
   "source": [
    "slope, intercept, r_value, p_value, std_err"
   ]
  },
  {
   "cell_type": "code",
   "execution_count": null,
   "id": "9eb6834c3397b2c4",
   "metadata": {
    "ExecuteTime": {
     "end_time": "2024-10-07T01:21:43.229784Z",
     "start_time": "2024-10-07T01:21:43.227455Z"
    }
   },
   "outputs": [],
   "source": []
  }
 ],
 "metadata": {
  "kernelspec": {
   "display_name": "Python 3",
   "language": "python",
   "name": "python3"
  },
  "language_info": {
   "codemirror_mode": {
    "name": "ipython",
    "version": 2
   },
   "file_extension": ".py",
   "mimetype": "text/x-python",
   "name": "python",
   "nbconvert_exporter": "python",
   "pygments_lexer": "ipython2",
   "version": "2.7.6"
  }
 },
 "nbformat": 4,
 "nbformat_minor": 5
}
