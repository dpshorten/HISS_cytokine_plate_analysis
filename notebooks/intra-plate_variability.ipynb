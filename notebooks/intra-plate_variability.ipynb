{
 "cells": [
  {
   "cell_type": "code",
   "execution_count": null,
   "id": "initial_id",
   "metadata": {
    "ExecuteTime": {
     "end_time": "2024-10-06T07:55:08.299043Z",
     "start_time": "2024-10-06T07:55:08.040246Z"
    }
   },
   "outputs": [],
   "source": [
    "import sys\n",
    "import os\n",
    "import yaml\n",
    "import numpy as np\n",
    "from scipy import stats\n",
    "\n",
    "import dash\n",
    "from dash import dcc, html\n",
    "from dash.dependencies import Input, Output\n",
    "import plotly.express as px\n",
    "import plotly.graph_objects as go\n",
    "\n",
    "import pandas as pd\n",
    "pd.options.mode.chained_assignment = None\n",
    "\n",
    "sys.path.append('../python/')\n",
    "from plotly_figure_parameters import dict_y_axis_parameters, dict_font_parameters, dict_x_axis_parameters_categorical\n",
    "from dashboard_notebook_util import (\n",
    "    read_estimated_concentrations, \n",
    "    read_plate_data_with_calibration_concentrations,\n",
    "    read_quality_control_concentrations\n",
    ")\n",
    "\n",
    "import logging\n",
    "logging.basicConfig(level=logging.DEBUG, filename=\"dash_logs.log\")"
   ]
  },
  {
   "cell_type": "code",
   "execution_count": null,
   "id": "345fcbbca377847f",
   "metadata": {
    "ExecuteTime": {
     "end_time": "2024-10-06T07:55:08.311935Z",
     "start_time": "2024-10-06T07:55:08.301111Z"
    }
   },
   "outputs": [],
   "source": [
    "dict_parameters = yaml.safe_load(open(\"../parameters/july_2024_data_parameters.yaml\", \"r\"))"
   ]
  },
  {
   "cell_type": "code",
   "execution_count": null,
   "id": "1c294347fe95c72c",
   "metadata": {
    "ExecuteTime": {
     "end_time": "2024-10-06T07:55:08.367710Z",
     "start_time": "2024-10-06T07:55:08.312758Z"
    }
   },
   "outputs": [],
   "source": [
    "pd_df_plate_data = read_plate_data_with_calibration_concentrations(dict_parameters)\n",
    "pd_df_estimated_concentrations = read_estimated_concentrations(dict_parameters)"
   ]
  },
  {
   "cell_type": "code",
   "execution_count": null,
   "id": "b7f9b5c56d0cf74f",
   "metadata": {
    "ExecuteTime": {
     "end_time": "2024-10-06T07:55:08.371145Z",
     "start_time": "2024-10-06T07:55:08.369042Z"
    }
   },
   "outputs": [],
   "source": []
  },
  {
   "cell_type": "code",
   "execution_count": null,
   "id": "21eedbfe0b18c3fe",
   "metadata": {
    "ExecuteTime": {
     "end_time": "2024-10-06T07:55:08.376168Z",
     "start_time": "2024-10-06T07:55:08.371995Z"
    }
   },
   "outputs": [],
   "source": [
    "pd_df_quality_control_concentrations = pd.read_csv(\n",
    "    open(\n",
    "        os.path.join(\n",
    "            dict_parameters[\"base directory path\"],\n",
    "            dict_parameters[\"data directory\"],\n",
    "            dict_parameters[\"quality control concentrations file name\"]\n",
    "        ),\n",
    "        \"rb\"\n",
    "    )\n",
    ")"
   ]
  },
  {
   "cell_type": "code",
   "execution_count": null,
   "id": "8eedd71c7b132330",
   "metadata": {
    "ExecuteTime": {
     "end_time": "2024-10-06T07:55:08.397803Z",
     "start_time": "2024-10-06T07:55:08.377113Z"
    }
   },
   "outputs": [],
   "source": [
    "pd_df_plate_data"
   ]
  },
  {
   "cell_type": "code",
   "execution_count": null,
   "id": "e32728894b0d2bd8",
   "metadata": {
    "ExecuteTime": {
     "end_time": "2024-10-06T07:55:08.407789Z",
     "start_time": "2024-10-06T07:55:08.398469Z"
    }
   },
   "outputs": [],
   "source": [
    "pd_df_quality_control_concentrations"
   ]
  },
  {
   "cell_type": "code",
   "execution_count": null,
   "id": "b82568ecdfa37d87",
   "metadata": {
    "ExecuteTime": {
     "end_time": "2024-10-06T07:55:08.423740Z",
     "start_time": "2024-10-06T07:55:08.408579Z"
    }
   },
   "outputs": [],
   "source": [
    "pd_df_estimated_concentrations"
   ]
  },
  {
   "cell_type": "code",
   "execution_count": null,
   "id": "a47f90975e608707",
   "metadata": {
    "ExecuteTime": {
     "end_time": "2024-10-06T07:55:08.429313Z",
     "start_time": "2024-10-06T07:55:08.424668Z"
    }
   },
   "outputs": [],
   "source": [
    "def perform_t_test_on_paired_wells(pd_group):\n",
    "    if len(pd_group) != 2:\n",
    "        return np.nan\n",
    "    mean_1, mean_2 = pd_group[\"IFN-gamma Trimmed Mean\"].values\n",
    "    std_dev_1, std_dev_2 = pd_group[\"IFN-gamma Trimmed Standard Deviation\"].values\n",
    "    count_1, count_2 = pd_group[\"IFN-gamma Count\"].values\n",
    "    t_statistic, p_value = stats.ttest_ind_from_stats(\n",
    "        mean_1, \n",
    "        std_dev_1, \n",
    "        count_1, \n",
    "        mean_2, \n",
    "        std_dev_2, \n",
    "        count_2,\n",
    "        equal_var=False,\n",
    "    )\n",
    "    return p_value"
   ]
  },
  {
   "cell_type": "code",
   "execution_count": null,
   "id": "fc66c1c8cc8225b4",
   "metadata": {
    "ExecuteTime": {
     "end_time": "2024-10-06T07:55:08.624879Z",
     "start_time": "2024-10-06T07:55:08.431740Z"
    }
   },
   "outputs": [],
   "source": [
    "pd_df_tested = (\n",
    "    pd_df_plate_data\n",
    "    .groupby([\"sample name plate\", \"plate number\"])\n",
    "    .apply(perform_t_test_on_paired_wells, include_groups=False)\n",
    "    .reset_index()\n",
    ")\n",
    "pd_df_tested.columns = [\"sample name plate\", \"plate number\"] + ['t test p value']\n",
    "pd_df_tested = pd.merge(\n",
    "    pd_df_tested, \n",
    "    pd_df_plate_data[[\"sample name plate\", \"plate number\", \"IFN-gamma Trimmed Mean\", \"IFN-gamma Trimmed Standard Deviation\", \"IFN-gamma Count\"]], \n",
    "    on = [\"sample name plate\", \"plate number\"], \n",
    "    how = \"left\"\n",
    ")"
   ]
  },
  {
   "cell_type": "code",
   "execution_count": null,
   "id": "45ff28cf60b76533",
   "metadata": {
    "ExecuteTime": {
     "end_time": "2024-10-06T07:55:08.637047Z",
     "start_time": "2024-10-06T07:55:08.626256Z"
    }
   },
   "outputs": [],
   "source": [
    "pd_df_tested"
   ]
  },
  {
   "cell_type": "code",
   "execution_count": null,
   "id": "a6d37ada37950e87",
   "metadata": {
    "ExecuteTime": {
     "end_time": "2024-10-06T07:55:08.643312Z",
     "start_time": "2024-10-06T07:55:08.639583Z"
    }
   },
   "outputs": [],
   "source": [
    "pd_df_tested_unique = pd_df_tested.drop_duplicates(subset = [\"sample name plate\", \"plate number\"])"
   ]
  },
  {
   "cell_type": "code",
   "execution_count": null,
   "id": "720444252d7d9fca",
   "metadata": {
    "ExecuteTime": {
     "end_time": "2024-10-06T07:55:08.653803Z",
     "start_time": "2024-10-06T07:55:08.644435Z"
    }
   },
   "outputs": [],
   "source": [
    "pd_df_tested_unique"
   ]
  },
  {
   "cell_type": "code",
   "execution_count": null,
   "id": "7cc88e232851e467",
   "metadata": {
    "ExecuteTime": {
     "end_time": "2024-10-06T07:55:08.881106Z",
     "start_time": "2024-10-06T07:55:08.654740Z"
    }
   },
   "outputs": [],
   "source": [
    "import seaborn as sns\n",
    "sns.histplot(pd_df_tested_unique, x = \"t test p value\", bins = 20)"
   ]
  },
  {
   "cell_type": "code",
   "execution_count": null,
   "id": "11e393ec53144b43",
   "metadata": {
    "ExecuteTime": {
     "end_time": "2024-10-06T07:55:08.885808Z",
     "start_time": "2024-10-06T07:55:08.882175Z"
    }
   },
   "outputs": [],
   "source": [
    "def calculate_paired_intra_plate_cv(str_analyte, pd_group):\n",
    "    if len(pd_group) != 2:\n",
    "        return np.nan\n",
    "    str_concentration_column_prefix = dict_parameters[\"column name prefix for estimated concentrations\"]\n",
    "    estimate_1, estimate_2 = pd_group[f\"{str_concentration_column_prefix}{str_analyte}\"].values\n",
    "    mean = (estimate_1 + estimate_2) / 2\n",
    "    std_dev = np.sqrt((estimate_1 - mean)**2 + (estimate_2 - mean)**2)\n",
    "    return std_dev / mean\n"
   ]
  },
  {
   "cell_type": "code",
   "execution_count": null,
   "id": "d38430428337dabc",
   "metadata": {
    "ExecuteTime": {
     "end_time": "2024-10-06T07:55:08.889526Z",
     "start_time": "2024-10-06T07:55:08.886590Z"
    }
   },
   "outputs": [],
   "source": [
    "def calculate_paired_intra_plate_rel_abs_diff(str_analyte, pd_group):\n",
    "    if len(pd_group) != 2:\n",
    "        return np.nan\n",
    "    str_concentration_column_prefix = dict_parameters[\"column name prefix for estimated concentrations\"]\n",
    "    estimate_1, estimate_2 = pd_group[f\"{str_concentration_column_prefix}{str_analyte}\"].values\n",
    "    mean = (estimate_1 + estimate_2) / 2\n",
    "    return np.abs(estimate_1 - estimate_2) / mean"
   ]
  },
  {
   "cell_type": "code",
   "execution_count": null,
   "id": "58d40761b32e3c35",
   "metadata": {
    "ExecuteTime": {
     "end_time": "2024-10-06T07:55:08.894902Z",
     "start_time": "2024-10-06T07:55:08.890880Z"
    }
   },
   "outputs": [],
   "source": [
    "def calculate_max_gradient(str_analyte, pd_group):\n",
    "    str_gradient_column_prefix = dict_parameters[\"column name prefix for calibration curve gradient\"]\n",
    "    if len(pd_group) < 2:\n",
    "        return pd_group[f\"{str_gradient_column_prefix}{str_analyte}\"].values[0]\n",
    "    else:\n",
    "        return np.max(pd_group[f\"{str_gradient_column_prefix}{str_analyte}\"].values)"
   ]
  },
  {
   "cell_type": "code",
   "execution_count": null,
   "id": "b73e56ca86a582b2",
   "metadata": {
    "ExecuteTime": {
     "end_time": "2024-10-06T07:55:08.900415Z",
     "start_time": "2024-10-06T07:55:08.896191Z"
    }
   },
   "outputs": [],
   "source": [
    "def get_table_of_duplicate_qc_checks(function_check, str_check_name):\n",
    "    list_pd_df_estimated_concentrations_checked_one_analyte = []\n",
    "    for str_analyte in dict_parameters[\"list of analytes\"]:\n",
    "        pd_df_estimated_concentrations_checked_one_analyte = (\n",
    "            pd_df_estimated_concentrations\n",
    "            .groupby([\"sample name annotations\", \"plate number\"])\n",
    "            .apply(lambda x: function_check(str_analyte, x), include_groups=False)\n",
    "            .reset_index()\n",
    "        )\n",
    "        pd_df_estimated_concentrations_checked_one_analyte.columns = [\"sample name annotations\", \"plate number\"] + [f\"{str_check_name} {str_analyte}\"]\n",
    "        #[dict_parameters[\"column name prefix for calibration curve gradient\"] + str_analyte]\n",
    "        \n",
    "        list_pd_df_estimated_concentrations_checked_one_analyte.append(pd_df_estimated_concentrations_checked_one_analyte)\n",
    "    \n",
    "    pd_df_estimated_concentrations_checked = list_pd_df_estimated_concentrations_checked_one_analyte[0]\n",
    "    for pd_df_estimated_concentrations_checked_one_analyte in list_pd_df_estimated_concentrations_checked_one_analyte[1:]:\n",
    "        pd_df_estimated_concentrations_checked = pd.merge(\n",
    "            pd_df_estimated_concentrations_checked, \n",
    "            pd_df_estimated_concentrations_checked_one_analyte, \n",
    "            on = [\"sample name annotations\", \"plate number\"], \n",
    "            how = \"outer\"\n",
    "        )\n",
    "    return pd_df_estimated_concentrations_checked"
   ]
  },
  {
   "cell_type": "code",
   "execution_count": null,
   "id": "1a4376e159786444",
   "metadata": {
    "ExecuteTime": {
     "end_time": "2024-10-06T07:55:10.310816Z",
     "start_time": "2024-10-06T07:55:08.901389Z"
    }
   },
   "outputs": [],
   "source": [
    "pd_df_CV = get_table_of_duplicate_qc_checks(calculate_paired_intra_plate_cv, \"CV\")\n",
    "pd_df_rel_abs_diff = get_table_of_duplicate_qc_checks(calculate_paired_intra_plate_rel_abs_diff, \"rel. abs. diff.\")\n",
    "pd_df_gradients = get_table_of_duplicate_qc_checks(calculate_max_gradient, \"max gradient\")"
   ]
  },
  {
   "cell_type": "code",
   "execution_count": null,
   "id": "7da45e5dd46a630f",
   "metadata": {
    "ExecuteTime": {
     "end_time": "2024-10-06T07:55:10.322487Z",
     "start_time": "2024-10-06T07:55:10.311774Z"
    }
   },
   "outputs": [],
   "source": [
    "pd_df_rel_abs_diff"
   ]
  },
  {
   "cell_type": "code",
   "execution_count": null,
   "id": "8258c6934e68ed87",
   "metadata": {
    "ExecuteTime": {
     "end_time": "2024-10-06T07:55:10.337188Z",
     "start_time": "2024-10-06T07:55:10.323802Z"
    }
   },
   "outputs": [],
   "source": [
    "pd_df_CV"
   ]
  },
  {
   "cell_type": "code",
   "execution_count": null,
   "id": "98fa1a9fe76a6b1f",
   "metadata": {
    "ExecuteTime": {
     "end_time": "2024-10-06T07:55:10.360035Z",
     "start_time": "2024-10-06T07:55:10.338100Z"
    }
   },
   "outputs": [],
   "source": [
    "pd_df_data = pd_df_CV.merge(pd_df_rel_abs_diff, on = [\"sample name annotations\", \"plate number\"], how = \"outer\")\n",
    "pd_df_data = pd_df_data.merge(pd_df_gradients, on = [\"sample name annotations\", \"plate number\"], how = \"outer\")\n",
    "pd_df_data"
   ]
  },
  {
   "cell_type": "code",
   "execution_count": null,
   "id": "9b79cdef0983d5f5",
   "metadata": {
    "ExecuteTime": {
     "end_time": "2024-10-06T07:55:10.399605Z",
     "start_time": "2024-10-06T07:55:10.361922Z"
    }
   },
   "outputs": [],
   "source": [
    "dash_app_object_boxes = dash.Dash(__name__)\n",
    "\n",
    "dash_app_object_boxes.layout = html.Div([\n",
    "    html.H1(\"Plots of statistics comparing duplicate samples\"),\n",
    "\n",
    "    html.Div([\n",
    "        html.Label(\"Plot type:\"),\n",
    "        dcc.Dropdown(\n",
    "            id='plot-type-dropdown',\n",
    "            options=[\n",
    "                {'label': 'box', 'value': 'box'},\n",
    "                {'label': 'strip', 'value': 'strip'},\n",
    "            ],\n",
    "            value='box',\n",
    "        ),\n",
    "    ], style={'width': '20%', 'display': 'inline-block'}),\n",
    "\n",
    "    html.Div([\n",
    "        html.Label(\"Analyte:\"),\n",
    "        dcc.Dropdown(\n",
    "            id='analyte-dropdown',\n",
    "            options=[{'label': col, 'value': col} for col in dict_parameters[\"list of analytes\"]],\n",
    "            value=dict_parameters[\"list of analytes\"][0]\n",
    "        ),\n",
    "    ], style={'width': '20%', 'display': 'inline-block'}),\n",
    "\n",
    "    html.Div([\n",
    "        html.Label(\"Statistic:\"),\n",
    "        dcc.Dropdown(\n",
    "            id='statistic-dropdown',\n",
    "            options=[\n",
    "                {'label': 'CV', 'value': 'CV'},\n",
    "                {'label': 'rel. abs. diff.', 'value': 'rel. abs. diff.'},\n",
    "            ],\n",
    "            value='CV',\n",
    "        ),\n",
    "    ], style={'width': '20%', 'display': 'inline-block'}),\n",
    "\n",
    "    dcc.Graph(id='scatter-plot-duplicates')\n",
    "], style={'backgroundColor': 'white', 'padding': '20px'})\n",
    "\n",
    "\n",
    "@dash_app_object_boxes.callback(\n",
    "    Output('scatter-plot-duplicates', 'figure'),\n",
    "    Input('analyte-dropdown', 'value'),\n",
    "    Input('plot-type-dropdown', 'value'),\n",
    "    Input('statistic-dropdown', 'value'),\n",
    ")\n",
    "def update_graph(str_analyte, str_plot_type, str_statistic):\n",
    "    # if str_statistic == \"CV\":\n",
    "    #     pd_df_data = pd_df_CV\n",
    "    # elif str_statistic == \"rel. abs. diff.\":\n",
    "    #     pd_df_data = pd_df_rel_abs_diff\n",
    "\n",
    "    str_column_name = f\"{str_statistic} {str_analyte}\"\n",
    "\n",
    "    if str_plot_type == \"box\":\n",
    "        fig = px.box(\n",
    "            pd_df_data,\n",
    "            x=\"plate number\",\n",
    "            y=str_column_name,\n",
    "            hover_name=\"sample name annotations\",\n",
    "        )\n",
    "    elif str_plot_type == \"strip\":\n",
    "        # fig = px.strip(\n",
    "        #     pd_df_data,\n",
    "        #     x=\"plate number\",\n",
    "        #     y=str_column_name,\n",
    "        #     hover_name=\"sample name annotations\",\n",
    "        #     color=\"max gradient \" + str_analyte,\n",
    "        # )\n",
    "        \n",
    "        fig = go.Figure()\n",
    "\n",
    "        fig.add_trace(go.Scatter(\n",
    "            x=pd_df_data[\"plate number\"] + np.random.uniform(-0.1, 0.1, len(pd_df_data)),\n",
    "            y=pd_df_data[str_column_name],\n",
    "            mode='markers',\n",
    "            marker=dict(\n",
    "                size=8,\n",
    "                color=pd_df_data[\"max gradient \" + str_analyte],\n",
    "                colorscale='Viridis',\n",
    "                showscale=True,\n",
    "                colorbar=dict(title='Value')\n",
    "            ),\n",
    "            #text=[pd_df_data[\"plate number\"].iloc[i] for i in ],\n",
    "            hovertemplate='Category: %{text}<br>Value: %{y:.2f}<extra></extra>'\n",
    "        ))\n",
    "        fig.update_traces(marker=dict(opacity=0.75))\n",
    "    if str_statistic == \"CV\":\n",
    "        str_y_axis_title = \"%CV\"\n",
    "    else:\n",
    "        str_y_axis_title = str_statistic\n",
    "    fig.update_layout(\n",
    "        xaxis=dict_x_axis_parameters_categorical,\n",
    "        yaxis=dict_y_axis_parameters,\n",
    "        font=dict_font_parameters,\n",
    "        xaxis_title=\"Plate\",\n",
    "        yaxis_title=str_y_axis_title,\n",
    "        plot_bgcolor='white',\n",
    "        paper_bgcolor='white',\n",
    "    )\n",
    "\n",
    "    return fig\n",
    "\n",
    "# Run the app\n",
    "if __name__ == '__main__':\n",
    "    dash_app_object_boxes.run(jupyter_mode=\"inline\", debug = True, port=3310)"
   ]
  },
  {
   "cell_type": "code",
   "execution_count": null,
   "id": "37b4bf6b285129e4",
   "metadata": {
    "ExecuteTime": {
     "end_time": "2024-10-06T07:55:10.404517Z",
     "start_time": "2024-10-06T07:55:10.402477Z"
    }
   },
   "outputs": [],
   "source": []
  }
 ],
 "metadata": {
  "kernelspec": {
   "display_name": "Python 3",
   "language": "python",
   "name": "python3"
  },
  "language_info": {
   "codemirror_mode": {
    "name": "ipython",
    "version": 2
   },
   "file_extension": ".py",
   "mimetype": "text/x-python",
   "name": "python",
   "nbconvert_exporter": "python",
   "pygments_lexer": "ipython2",
   "version": "2.7.6"
  }
 },
 "nbformat": 4,
 "nbformat_minor": 5
}
