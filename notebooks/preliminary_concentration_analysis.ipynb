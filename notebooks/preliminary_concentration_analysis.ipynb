{
 "cells": [
  {
   "cell_type": "code",
   "execution_count": null,
   "id": "initial_id",
   "metadata": {
    "ExecuteTime": {
     "end_time": "2024-08-21T23:24:17.631986Z",
     "start_time": "2024-08-21T23:24:17.187802Z"
    }
   },
   "outputs": [],
   "source": [
    "import sys\n",
    "import os\n",
    "import yaml\n",
    "import dash\n",
    "from dash import dcc, html\n",
    "from dash.dependencies import Input, Output\n",
    "import plotly.express as px\n",
    "import plotly.graph_objects as go\n",
    "import sklearn.preprocessing\n",
    "import sklearn.cluster\n",
    "\n",
    "import pandas as pd\n",
    "pd.options.mode.chained_assignment = None\n",
    "\n",
    "sys.path.append('../python/')\n",
    "\n",
    "# Plotly Dash doesn't display error messages well, so we use logging \n",
    "import logging\n",
    "logging.basicConfig(level=logging.DEBUG, filename=\"dash_logs.log\")"
   ]
  },
  {
   "cell_type": "code",
   "execution_count": null,
   "id": "c8b706f08fef718",
   "metadata": {
    "ExecuteTime": {
     "end_time": "2024-08-21T23:24:17.644707Z",
     "start_time": "2024-08-21T23:24:17.634007Z"
    }
   },
   "outputs": [],
   "source": [
    "dict_parameters = yaml.safe_load(open(\"../parameters/july_2024_data_parameters.yaml\", \"r\"))"
   ]
  },
  {
   "cell_type": "code",
   "execution_count": null,
   "id": "449798204b14c8a8",
   "metadata": {
    "ExecuteTime": {
     "end_time": "2024-08-21T23:24:17.673832Z",
     "start_time": "2024-08-21T23:24:17.645800Z"
    }
   },
   "outputs": [],
   "source": [
    "pd_df_estimated_concentrations = pd.read_csv(\n",
    "        open(\n",
    "            os.path.join(\n",
    "                dict_parameters[\"output directory path\"],\n",
    "                dict_parameters[\"estimated concentrations file name\"]\n",
    "            ),\n",
    "            \"rb\"\n",
    "        )\n",
    "    )"
   ]
  },
  {
   "cell_type": "code",
   "execution_count": null,
   "id": "f9238eb2fa3f02ca",
   "metadata": {
    "ExecuteTime": {
     "end_time": "2024-08-21T23:24:17.697747Z",
     "start_time": "2024-08-21T23:24:17.675819Z"
    }
   },
   "outputs": [],
   "source": [
    "pd_df_estimated_concentrations"
   ]
  },
  {
   "cell_type": "markdown",
   "id": "3df7329ccf047d90",
   "metadata": {},
   "source": [
    "Filter to have only the Melbourne samples"
   ]
  },
  {
   "cell_type": "code",
   "execution_count": null,
   "id": "59f682facf2af35e",
   "metadata": {
    "ExecuteTime": {
     "end_time": "2024-08-21T23:24:17.702370Z",
     "start_time": "2024-08-21T23:24:17.698630Z"
    }
   },
   "outputs": [],
   "source": [
    "pd_df_estimated_concentrations = pd_df_estimated_concentrations[\n",
    "    pd_df_estimated_concentrations[\"sample name annotations\"].str.contains('\\d{3,4}[ _][A-Za-z]', regex=True)\n",
    "]"
   ]
  },
  {
   "cell_type": "code",
   "execution_count": null,
   "id": "f31d87b9d6de7369",
   "metadata": {
    "ExecuteTime": {
     "end_time": "2024-08-21T23:24:17.721926Z",
     "start_time": "2024-08-21T23:24:17.703983Z"
    }
   },
   "outputs": [],
   "source": [
    "pd_df_estimated_concentrations"
   ]
  },
  {
   "cell_type": "markdown",
   "id": "a981de646c5bf989",
   "metadata": {},
   "source": [
    "Discard unnecessary columns"
   ]
  },
  {
   "cell_type": "code",
   "execution_count": null,
   "id": "127c32f65294aad7",
   "metadata": {
    "ExecuteTime": {
     "end_time": "2024-08-21T23:24:17.739438Z",
     "start_time": "2024-08-21T23:24:17.723076Z"
    }
   },
   "outputs": [],
   "source": [
    "list_columns_to_keep = [\"sample name annotations\"]\n",
    "for str_analyte in dict_parameters[\"list of analytes\"]:\n",
    "        list_columns_to_keep.append(dict_parameters[\"column name prefix for estimated concentrations\"] + str_analyte)\n",
    "pd_df_estimated_concentrations = pd_df_estimated_concentrations[list_columns_to_keep]\n",
    "pd_df_estimated_concentrations"
   ]
  },
  {
   "cell_type": "markdown",
   "id": "80dd6a8c33f5a75",
   "metadata": {},
   "source": [
    "Take the mean if there are multiple reads per sample"
   ]
  },
  {
   "cell_type": "code",
   "execution_count": null,
   "id": "9548bc780fb8d642",
   "metadata": {
    "ExecuteTime": {
     "end_time": "2024-08-21T23:24:17.745536Z",
     "start_time": "2024-08-21T23:24:17.740519Z"
    }
   },
   "outputs": [],
   "source": [
    "pd_df_estimated_concentrations = pd_df_estimated_concentrations.groupby(\"sample name annotations\").mean().reset_index()"
   ]
  },
  {
   "cell_type": "code",
   "execution_count": null,
   "id": "29cd5f8c79838de3",
   "metadata": {
    "ExecuteTime": {
     "end_time": "2024-08-21T23:24:17.759384Z",
     "start_time": "2024-08-21T23:24:17.747038Z"
    }
   },
   "outputs": [],
   "source": [
    "pd_df_estimated_concentrations"
   ]
  },
  {
   "cell_type": "markdown",
   "id": "815bdf260ad7dfa9",
   "metadata": {},
   "source": [
    "Extract the patient number and time code from the sample name"
   ]
  },
  {
   "cell_type": "code",
   "execution_count": null,
   "id": "b319c79573cc419f",
   "metadata": {
    "ExecuteTime": {
     "end_time": "2024-08-21T23:24:17.767083Z",
     "start_time": "2024-08-21T23:24:17.761666Z"
    }
   },
   "outputs": [],
   "source": [
    "pd_df_estimated_concentrations[[\"patient number\", \"time code\"]] = (\n",
    "    pd_df_estimated_concentrations[\"sample name annotations\"]\n",
    "    .str.strip()\n",
    "    .str.split(r\"[_ ]\", expand = True)    \n",
    ")\n",
    "pd_df_estimated_concentrations = pd_df_estimated_concentrations.drop(columns = [\"sample name annotations\"])"
   ]
  },
  {
   "cell_type": "markdown",
   "id": "b560cae0e152726",
   "metadata": {},
   "source": [
    "Reorder the columns"
   ]
  },
  {
   "cell_type": "code",
   "execution_count": null,
   "id": "f2f122a5630c613b",
   "metadata": {
    "ExecuteTime": {
     "end_time": "2024-08-21T23:24:17.775362Z",
     "start_time": "2024-08-21T23:24:17.770784Z"
    }
   },
   "outputs": [],
   "source": [
    "list_first_columns = [\n",
    "    \"patient number\", \"time code\",\n",
    "]\n",
    "pd_df_estimated_concentrations = (\n",
    "    pd_df_estimated_concentrations[\n",
    "        list_first_columns +\n",
    "        [column_name for column_name in pd_df_estimated_concentrations.columns if column_name not in list_first_columns]\n",
    "    ]\n",
    ")"
   ]
  },
  {
   "cell_type": "code",
   "execution_count": null,
   "id": "1c4e5c860106ae42",
   "metadata": {
    "ExecuteTime": {
     "end_time": "2024-08-21T23:24:17.789978Z",
     "start_time": "2024-08-21T23:24:17.776150Z"
    }
   },
   "outputs": [],
   "source": [
    "pd_df_estimated_concentrations"
   ]
  },
  {
   "cell_type": "markdown",
   "id": "7408f956dca675cc",
   "metadata": {},
   "source": [
    "Check the number of unique patients that we have"
   ]
  },
  {
   "cell_type": "code",
   "execution_count": null,
   "id": "1dd96901d99d50de",
   "metadata": {
    "ExecuteTime": {
     "end_time": "2024-08-21T23:24:17.795908Z",
     "start_time": "2024-08-21T23:24:17.791141Z"
    }
   },
   "outputs": [],
   "source": [
    "pd_df_estimated_concentrations[\"patient number\"].unique().shape"
   ]
  },
  {
   "cell_type": "markdown",
   "id": "969fc06df3b21dcb",
   "metadata": {},
   "source": [
    "Discard all the patients which do not have all 5 time points. This is just for the preliminary analysis, I will come up with better ways to handle the missing data later. "
   ]
  },
  {
   "cell_type": "code",
   "execution_count": null,
   "id": "1d05fdf0c2e97f6c",
   "metadata": {
    "ExecuteTime": {
     "end_time": "2024-08-21T23:24:17.802435Z",
     "start_time": "2024-08-21T23:24:17.797072Z"
    }
   },
   "outputs": [],
   "source": [
    "pd_df_estimated_concentrations_trimmed = (\n",
    "    pd_df_estimated_concentrations[\n",
    "        pd_df_estimated_concentrations.groupby(\"patient number\")[\"patient number\"].transform('count') >= 5 \n",
    "    ]\n",
    ")\n",
    "pd_df_estimated_concentrations_trimmed = pd_df_estimated_concentrations_trimmed.reset_index(drop = True)"
   ]
  },
  {
   "cell_type": "code",
   "execution_count": null,
   "id": "bfa353f6b4728b90",
   "metadata": {
    "ExecuteTime": {
     "end_time": "2024-08-21T23:24:17.808770Z",
     "start_time": "2024-08-21T23:24:17.803836Z"
    }
   },
   "outputs": [],
   "source": [
    "dict_time_code_mapping = {\n",
    "    'A': 1,\n",
    "    'B': 2,\n",
    "    'C': 3,\n",
    "    'D': 4,\n",
    "    'E': 5,\n",
    "}\n",
    "pd_df_estimated_concentrations_trimmed[\"time int\"] = pd_df_estimated_concentrations_trimmed[\"time code\"].map(dict_time_code_mapping)"
   ]
  },
  {
   "cell_type": "markdown",
   "id": "b4e6fe3b08e3279d",
   "metadata": {},
   "source": [
    "Check the number of unique patients after trimming"
   ]
  },
  {
   "cell_type": "code",
   "execution_count": null,
   "id": "d71d240b7273da4a",
   "metadata": {
    "ExecuteTime": {
     "end_time": "2024-08-21T23:24:17.813756Z",
     "start_time": "2024-08-21T23:24:17.809815Z"
    }
   },
   "outputs": [],
   "source": [
    "pd_df_estimated_concentrations[\"patient number\"].unique().shape"
   ]
  },
  {
   "cell_type": "code",
   "execution_count": null,
   "id": "f50a6a2af22953b1",
   "metadata": {
    "ExecuteTime": {
     "end_time": "2024-08-21T23:24:17.829213Z",
     "start_time": "2024-08-21T23:24:17.815621Z"
    }
   },
   "outputs": [],
   "source": [
    "pd_df_estimated_concentrations_trimmed"
   ]
  },
  {
   "cell_type": "markdown",
   "id": "aaa83b8cb15e5ad1",
   "metadata": {},
   "source": [
    "Calculated the differences in estimated concentrations between each time point and the second time point (-1 hour) for each patient"
   ]
  },
  {
   "cell_type": "code",
   "execution_count": null,
   "id": "c4ae665f730d0cbd",
   "metadata": {
    "ExecuteTime": {
     "end_time": "2024-08-21T23:24:18.134092Z",
     "start_time": "2024-08-21T23:24:17.830148Z"
    }
   },
   "outputs": [],
   "source": [
    "for str_analyte in dict_parameters[\"list of analytes\"]:\n",
    "    pd_df_estimated_concentrations_trimmed[str_analyte + \" diff\"] = (\n",
    "        pd_df_estimated_concentrations_trimmed.groupby(\"patient number\").apply(\n",
    "            lambda x: x[\"estimated concentration \" + str_analyte] \n",
    "                      - x[x[\"time code\"] == 'B'][\"estimated concentration \"  + str_analyte].iloc[0],\n",
    "            include_groups = False,\n",
    "        )\n",
    "    ).reset_index(drop = True)\n"
   ]
  },
  {
   "cell_type": "code",
   "execution_count": null,
   "id": "cb105614943a9374",
   "metadata": {
    "ExecuteTime": {
     "end_time": "2024-08-21T23:24:18.146203Z",
     "start_time": "2024-08-21T23:24:18.136260Z"
    }
   },
   "outputs": [],
   "source": [
    "pd_df_estimated_concentrations_trimmed[[\"patient number\", \"time code\", \"IP-10 diff\", \"IL-6 diff\", \"IFN-gamma diff\"]]"
   ]
  },
  {
   "cell_type": "markdown",
   "id": "6711707ef2ad20ed",
   "metadata": {},
   "source": [
    "Do some clustering"
   ]
  },
  {
   "cell_type": "code",
   "execution_count": null,
   "id": "8d37a62563f62f69",
   "metadata": {
    "ExecuteTime": {
     "end_time": "2024-08-21T23:24:18.155944Z",
     "start_time": "2024-08-21T23:24:18.147125Z"
    }
   },
   "outputs": [],
   "source": [
    "list_pivot_values_columns = [\n",
    "    str_column_name for str_column_name in pd_df_estimated_concentrations_trimmed.columns\n",
    "    if str_column_name not in list_first_columns + [\"time int\"]\n",
    "]\n",
    "pd_df_estimated_concentrations_pivoted = (\n",
    "    pd_df_estimated_concentrations_trimmed.pivot(\n",
    "        index=\"patient number\", \n",
    "        columns=\"time code\", \n",
    "        values=list_pivot_values_columns\n",
    "    )\n",
    ")\n",
    "pd_df_estimated_concentrations_pivoted.columns = [\n",
    "    '_'.join(col).strip() if isinstance(col, tuple) else col for col in pd_df_estimated_concentrations_pivoted.columns.values\n",
    "]\n",
    "pd_df_estimated_concentrations_pivoted = pd_df_estimated_concentrations_pivoted.reset_index()"
   ]
  },
  {
   "cell_type": "code",
   "execution_count": null,
   "id": "82620e37f6bfef00",
   "metadata": {
    "ExecuteTime": {
     "end_time": "2024-08-21T23:24:18.177617Z",
     "start_time": "2024-08-21T23:24:18.157223Z"
    }
   },
   "outputs": [],
   "source": [
    "pd_df_estimated_concentrations_pivoted"
   ]
  },
  {
   "cell_type": "code",
   "execution_count": null,
   "id": "4dc1259d0d4b9819",
   "metadata": {
    "ExecuteTime": {
     "end_time": "2024-08-21T23:24:18.260260Z",
     "start_time": "2024-08-21T23:24:18.178842Z"
    }
   },
   "outputs": [],
   "source": [
    "list_time_codes_for_clustering = ['C', 'D', 'E']\n",
    "list_columns_to_cluster = []\n",
    "for str_time_code in list_time_codes_for_clustering:\n",
    "    list_columns_to_cluster += [\n",
    "        \"IP-10 diff_\" + str_time_code, \n",
    "        \"TNF-a diff_\" + str_time_code, \n",
    "        \"IFN-gamma diff_\" + str_time_code, \n",
    "        \"IL-6 diff_\" + str_time_code, \n",
    "    ]\n",
    "\n",
    "scaler_object = sklearn.preprocessing.StandardScaler()\n",
    "np_arr_scaled_data = scaler_object.fit_transform(pd_df_estimated_concentrations_pivoted[list_columns_to_cluster])\n",
    "\n",
    "num_clusters = 5\n",
    "kmeans_object = sklearn.cluster.KMeans(n_clusters=num_clusters, random_state=42)\n",
    "np_arr_cluster_labels = kmeans_object.fit_predict(np_arr_scaled_data)\n",
    "\n",
    "pd_df_estimated_concentrations_pivoted['cluster'] = np_arr_cluster_labels"
   ]
  },
  {
   "cell_type": "code",
   "execution_count": null,
   "id": "bc781233596e598d",
   "metadata": {
    "ExecuteTime": {
     "end_time": "2024-08-21T23:24:18.269099Z",
     "start_time": "2024-08-21T23:24:18.261828Z"
    }
   },
   "outputs": [],
   "source": [
    "pd_df_estimated_concentrations_trimmed = pd_df_estimated_concentrations_trimmed.merge(\n",
    "    pd_df_estimated_concentrations_pivoted[[\"patient number\", \"cluster\"]],\n",
    "    on = \"patient number\",\n",
    "    how = \"left\"\n",
    ")"
   ]
  },
  {
   "cell_type": "code",
   "execution_count": null,
   "id": "80317b9f36919bfc",
   "metadata": {
    "ExecuteTime": {
     "end_time": "2024-08-21T23:24:18.308716Z",
     "start_time": "2024-08-21T23:24:18.270789Z"
    }
   },
   "outputs": [],
   "source": [
    "dash_app_object_boxes = dash.Dash(__name__)\n",
    "\n",
    "# Define the layout\n",
    "dash_app_object_boxes.layout = html.Div([\n",
    "    html.H1(\"Plots of estimated concentrations\"),\n",
    "\n",
    "    html.Div([\n",
    "        html.Label(\"Plot type:\"),\n",
    "        dcc.Dropdown(\n",
    "            id='plot-type-dropdown',\n",
    "            options=[\n",
    "                {'label': 'box', 'value': 'box'},\n",
    "                {'label': 'strip', 'value': 'strip'},\n",
    "            ],\n",
    "            value='box',\n",
    "        ),\n",
    "    ], style={'width': '20%', 'display': 'inline-block'}),\n",
    "    \n",
    "    html.Div([\n",
    "        html.Label(\"Data type:\"),\n",
    "        dcc.Dropdown(\n",
    "            id='data-type-dropdown',\n",
    "            options=[\n",
    "                {'label': 'raw estimates', 'value': 'raw estimates'},\n",
    "                {'label': 'differences', 'value': 'differences'},\n",
    "            ],\n",
    "            value='raw estimates',\n",
    "        ),\n",
    "    ], style={'width': '20%', 'display': 'inline-block'}),\n",
    "\n",
    "    html.Div([\n",
    "        html.Label(\"Analyte:\"),\n",
    "        dcc.Dropdown(\n",
    "            id='analyte-dropdown',\n",
    "            options=[{'label': col, 'value': col} for col in dict_parameters[\"list of analytes\"]],\n",
    "            value=dict_parameters[\"list of analytes\"][0]\n",
    "        ),\n",
    "    ], style={'width': '20%', 'display': 'inline-block'}),\n",
    "    \n",
    "    dcc.Graph(id='scatter-plot')\n",
    "], style={'backgroundColor': 'white', 'padding': '20px'})\n",
    "\n",
    "\n",
    "@dash_app_object_boxes.callback(\n",
    "    Output('scatter-plot', 'figure'),\n",
    "    Input('analyte-dropdown', 'value'),\n",
    "    Input('data-type-dropdown', 'value'),\n",
    "    Input('plot-type-dropdown', 'value'),\n",
    ")\n",
    "def update_graph(str_analyte, str_data_type, str_plot_type):\n",
    "    \n",
    "    if str_data_type == \"raw estimates\":\n",
    "        str_column_name = dict_parameters[\"column name prefix for estimated concentrations\"] + str_analyte\n",
    "    elif str_data_type == \"differences\":\n",
    "        str_column_name = str_analyte + \" diff\"\n",
    "    \n",
    "    if str_plot_type == \"box\":\n",
    "        fig = px.box(\n",
    "            pd_df_estimated_concentrations_trimmed, \n",
    "            x = \"time code\", \n",
    "            y = str_column_name,\n",
    "            color=\"cluster\",\n",
    "        )\n",
    "    elif str_plot_type == \"strip\":\n",
    "        fig = px.strip(\n",
    "            pd_df_estimated_concentrations_trimmed, \n",
    "            x = \"time code\", \n",
    "            y = str_column_name,\n",
    "            hover_name = \"patient number\",\n",
    "            color=\"cluster\",\n",
    "        )    \n",
    "        fig.update_traces(marker = dict(opacity = 0.75))\n",
    "    \n",
    "    if str_data_type == \"raw estimates\":\n",
    "        str_y_label = \"concentration\"\n",
    "    elif str_data_type == \"differences\":\n",
    "        str_y_label = \"diff. in concentration\"\n",
    "    fig.update_layout(\n",
    "        plot_bgcolor='white',\n",
    "        paper_bgcolor='white',\n",
    "        xaxis_title=\"time\",\n",
    "        xaxis=dict(\n",
    "            tickmode='array',\n",
    "            tickvals=['A', 'B', 'C', 'D', 'E'],\n",
    "            ticktext=['minus 1wk', 'minus 1hr', 'plus 3hr', 'plus 7hr', 'plus 25hr'],\n",
    "        ),\n",
    "        yaxis_title=str_y_label,\n",
    "        font=dict(\n",
    "            family=\"Arial\",\n",
    "            size=16,\n",
    "            color=\"black\"\n",
    "        )\n",
    "    )\n",
    "    return fig\n",
    "\n",
    "# Run the app\n",
    "if __name__ == '__main__':\n",
    "    dash_app_object_boxes.run(jupyter_mode=\"inline\", debug = True, port=3312)"
   ]
  },
  {
   "cell_type": "code",
   "execution_count": null,
   "id": "3de01372c957b16c",
   "metadata": {
    "ExecuteTime": {
     "end_time": "2024-08-21T23:24:18.345992Z",
     "start_time": "2024-08-21T23:24:18.310693Z"
    }
   },
   "outputs": [],
   "source": [
    "dash_app_object_lines = dash.Dash(__name__)\n",
    "\n",
    "list_patient_id_dropdown_dicts = [{'label': i, 'value': i} for i in pd_df_estimated_concentrations_trimmed['patient number'].unique()]\n",
    "\n",
    "# Define the layout\n",
    "dash_app_object_lines.layout = html.Div([\n",
    "    html.H1(\"Line plots by patient number\"),\n",
    "\n",
    "    html.Div([\n",
    "        html.Label(\"Patient number:\"),\n",
    "        dcc.Dropdown(\n",
    "            id='patient-number-dropdown',\n",
    "            options=list_patient_id_dropdown_dicts,\n",
    "            value=list_patient_id_dropdown_dicts[0][\"value\"],\n",
    "        ),\n",
    "    ], style={'width': '20%', 'display': 'inline-block'}),\n",
    "    \n",
    "    html.Div([\n",
    "        html.Label(\"Data type:\"),\n",
    "        dcc.Dropdown(\n",
    "            id='data-type-dropdown',\n",
    "            options=[\n",
    "                {'label': 'raw estimates', 'value': 'raw estimates'},\n",
    "                {'label': 'normalised raw estimates', 'value': 'normalised raw estimates'},\n",
    "                {'label': 'differences', 'value': 'differences'},\n",
    "            ],\n",
    "            value='raw estimates',\n",
    "        ),\n",
    "    ], style={'width': '20%', 'display': 'inline-block'}),\n",
    "\n",
    "    dcc.Graph(id='line-plot')\n",
    "], style={'backgroundColor': 'white', 'padding': '20px'})\n",
    "\n",
    "\n",
    "@dash_app_object_lines.callback(\n",
    "    Output('line-plot', 'figure'),\n",
    "    Input('patient-number-dropdown', 'value'),\n",
    "    Input('data-type-dropdown', 'value'),\n",
    ")\n",
    "def update_graph(str_patient_number, str_data_type):\n",
    "    \n",
    "    fig = go.Figure()\n",
    "    pd_df_patients_data = (\n",
    "            pd_df_estimated_concentrations_trimmed[pd_df_estimated_concentrations_trimmed[\"patient number\"] == str_patient_number]\n",
    "        )\n",
    "    \n",
    "    for str_analyte in [\"IP-10\", \"IFN-gamma\", \"IL-6\", \"TNF-a\"]:\n",
    "        \n",
    "        if str_data_type in [\"raw estimates\", \"normalised raw estimates\"]:\n",
    "            str_column_name = dict_parameters[\"column name prefix for estimated concentrations\"] + str_analyte\n",
    "        elif str_data_type == \"differences\":\n",
    "            str_column_name = str_analyte + \" diff\"\n",
    "        pd_series_y = pd_df_patients_data[str_column_name]\n",
    "        if str_data_type == \"normalised raw estimates\":\n",
    "            pd_series_y = (pd_series_y - pd_series_y.mean()) / (pd_series_y.max() - pd_series_y.min())\n",
    "        fig.add_trace(go.Scatter(x=pd_df_patients_data[\"time int\"], y=pd_series_y, mode='lines', name=str_analyte))\n",
    "    \n",
    "    if str_data_type == \"raw estimates\":\n",
    "        str_y_label = \"concentration\"\n",
    "    if str_data_type == \"normalised raw estimates\":\n",
    "        str_y_label = \"normalised concentration\"\n",
    "    elif str_data_type == \"differences\":\n",
    "        str_y_label = \"diff. in concentration\"\n",
    "    fig.update_layout(\n",
    "        plot_bgcolor='white',\n",
    "        paper_bgcolor='white',\n",
    "        xaxis_title=\"time\",\n",
    "        # xaxis=dict(\n",
    "        #     tickmode='array',\n",
    "        #     tickvals=['A', 'B', 'C', 'D', 'E'],\n",
    "        #     ticktext=['minus 1wk', 'minus 1hr', 'plus 3hr', 'plus 7hr', 'plus 25hr'],\n",
    "        # ),\n",
    "        yaxis_title=str_y_label,\n",
    "        font=dict(\n",
    "            family=\"Arial\",\n",
    "            size=16,\n",
    "            color=\"black\"\n",
    "        )\n",
    "    )\n",
    "    return fig\n",
    "\n",
    "# Run the app\n",
    "if __name__ == '__main__':\n",
    "    dash_app_object_lines.run(jupyter_mode=\"inline\", debug = True, port=3311)"
   ]
  },
  {
   "cell_type": "code",
   "execution_count": null,
   "id": "2e84f79acf0d5d36",
   "metadata": {
    "ExecuteTime": {
     "end_time": "2024-08-21T23:24:18.349506Z",
     "start_time": "2024-08-21T23:24:18.347435Z"
    }
   },
   "outputs": [],
   "source": []
  }
 ],
 "metadata": {
  "kernelspec": {
   "display_name": "Python 3 (ipykernel)",
   "language": "python",
   "name": "python3"
  },
  "language_info": {
   "codemirror_mode": {
    "name": "ipython",
    "version": 3
   },
   "file_extension": ".py",
   "mimetype": "text/x-python",
   "name": "python",
   "nbconvert_exporter": "python",
   "pygments_lexer": "ipython3",
   "version": "3.11.9"
  }
 },
 "nbformat": 4,
 "nbformat_minor": 5
}
