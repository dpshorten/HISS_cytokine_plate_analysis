{
 "cells": [
  {
   "cell_type": "code",
   "execution_count": null,
   "id": "initial_id",
   "metadata": {
    "ExecuteTime": {
     "end_time": "2024-09-05T03:34:02.313935Z",
     "start_time": "2024-09-05T03:34:02.279844Z"
    }
   },
   "outputs": [],
   "source": [
    "import sys\n",
    "import os\n",
    "import yaml\n",
    "import numpy as np\n",
    "from scipy import stats\n",
    "\n",
    "import pandas as pd\n",
    "pd.options.mode.chained_assignment = None\n",
    "\n",
    "sys.path.append('../python/')\n"
   ]
  },
  {
   "cell_type": "code",
   "execution_count": null,
   "id": "345fcbbca377847f",
   "metadata": {
    "ExecuteTime": {
     "end_time": "2024-09-05T03:34:02.362180Z",
     "start_time": "2024-09-05T03:34:02.350069Z"
    }
   },
   "outputs": [],
   "source": [
    "dict_parameters = yaml.safe_load(open(\"../parameters/july_2024_data_parameters.yaml\", \"r\"))"
   ]
  },
  {
   "cell_type": "code",
   "execution_count": null,
   "id": "1c294347fe95c72c",
   "metadata": {
    "ExecuteTime": {
     "end_time": "2024-09-05T03:34:02.411608Z",
     "start_time": "2024-09-05T03:34:02.388184Z"
    }
   },
   "outputs": [],
   "source": [
    "pd_df_plate_data = pd.read_csv(\n",
    "    open(\n",
    "        os.path.join(\n",
    "            dict_parameters[\"output directory path\"],\n",
    "            dict_parameters[\"plate data with locations file name\"]\n",
    "        ),\n",
    "        \"rb\"\n",
    "    ), \n",
    "    index_col=0,\n",
    ")"
   ]
  },
  {
   "cell_type": "code",
   "execution_count": null,
   "id": "b7f9b5c56d0cf74f",
   "metadata": {
    "ExecuteTime": {
     "end_time": "2024-09-05T03:34:02.431613Z",
     "start_time": "2024-09-05T03:34:02.412786Z"
    }
   },
   "outputs": [],
   "source": [
    "pd_df_estimated_concentrations = pd.read_csv(\n",
    "    open(\n",
    "        os.path.join(\n",
    "            dict_parameters[\"output directory path\"],\n",
    "            dict_parameters[\"estimated concentrations file name\"]\n",
    "        ),\n",
    "        \"rb\"\n",
    "    )\n",
    ")"
   ]
  },
  {
   "cell_type": "code",
   "execution_count": null,
   "id": "21eedbfe0b18c3fe",
   "metadata": {
    "ExecuteTime": {
     "end_time": "2024-09-05T03:34:02.437474Z",
     "start_time": "2024-09-05T03:34:02.433006Z"
    }
   },
   "outputs": [],
   "source": [
    "pd_df_quality_control_concentrations = pd.read_csv(\n",
    "    open(\n",
    "        os.path.join(\n",
    "            dict_parameters[\"data directory path\"],\n",
    "            dict_parameters[\"quality control concentrations file name\"]\n",
    "        ),\n",
    "        \"rb\"\n",
    "    )\n",
    ")"
   ]
  },
  {
   "cell_type": "code",
   "execution_count": null,
   "id": "8eedd71c7b132330",
   "metadata": {
    "ExecuteTime": {
     "end_time": "2024-09-05T03:34:02.456549Z",
     "start_time": "2024-09-05T03:34:02.438748Z"
    }
   },
   "outputs": [],
   "source": [
    "pd_df_plate_data"
   ]
  },
  {
   "cell_type": "code",
   "execution_count": null,
   "id": "e32728894b0d2bd8",
   "metadata": {
    "ExecuteTime": {
     "end_time": "2024-09-05T03:34:02.466686Z",
     "start_time": "2024-09-05T03:34:02.457940Z"
    }
   },
   "outputs": [],
   "source": [
    "pd_df_quality_control_concentrations"
   ]
  },
  {
   "cell_type": "code",
   "execution_count": null,
   "id": "a47f90975e608707",
   "metadata": {
    "ExecuteTime": {
     "end_time": "2024-09-05T03:34:02.472907Z",
     "start_time": "2024-09-05T03:34:02.468074Z"
    }
   },
   "outputs": [],
   "source": [
    "def perform_t_test_on_paired_wells(pd_group):\n",
    "    if len(pd_group) != 2:\n",
    "        return np.nan\n",
    "    mean_1, mean_2 = pd_group[\"IFN-gamma Trimmed Mean\"].values\n",
    "    std_dev_1, std_dev_2 = pd_group[\"IFN-gamma Trimmed Standard Deviation\"].values\n",
    "    count_1, count_2 = pd_group[\"IFN-gamma Count\"].values\n",
    "    t_statistic, p_value = stats.ttest_ind_from_stats(\n",
    "        mean_1, \n",
    "        std_dev_1, \n",
    "        count_1, \n",
    "        mean_2, \n",
    "        std_dev_2, \n",
    "        count_2,\n",
    "        equal_var=False,\n",
    "    )\n",
    "    return p_value"
   ]
  },
  {
   "cell_type": "code",
   "execution_count": null,
   "id": "56c7318d0d772965",
   "metadata": {
    "ExecuteTime": {
     "end_time": "2024-09-05T03:34:02.475893Z",
     "start_time": "2024-09-05T03:34:02.474105Z"
    }
   },
   "outputs": [],
   "source": [
    "\n"
   ]
  },
  {
   "cell_type": "code",
   "execution_count": null,
   "id": "fc66c1c8cc8225b4",
   "metadata": {
    "ExecuteTime": {
     "end_time": "2024-09-05T03:34:02.580016Z",
     "start_time": "2024-09-05T03:34:02.477477Z"
    }
   },
   "outputs": [],
   "source": [
    "\n",
    "pd_df_tested = (\n",
    "    pd_df_plate_data\n",
    "    .groupby([\"sample name plate\", \"plate number\"])\n",
    "    .apply(perform_t_test_on_paired_wells, include_groups=False)\n",
    "    .reset_index()\n",
    ")\n",
    "pd_df_tested.columns = [\"sample name plate\", \"plate number\"] + ['t test p value']\n",
    "pd_df_tested = pd.merge(\n",
    "    pd_df_tested, \n",
    "    pd_df_plate_data[[\"sample name plate\", \"plate number\", \"IFN-gamma Trimmed Mean\", \"IFN-gamma Trimmed Standard Deviation\", \"IFN-gamma Count\"]], \n",
    "    on = [\"sample name plate\", \"plate number\"], \n",
    "    how = \"left\"\n",
    ")"
   ]
  },
  {
   "cell_type": "code",
   "execution_count": null,
   "id": "45ff28cf60b76533",
   "metadata": {
    "ExecuteTime": {
     "end_time": "2024-09-05T03:34:02.591099Z",
     "start_time": "2024-09-05T03:34:02.581622Z"
    }
   },
   "outputs": [],
   "source": [
    "pd_df_tested"
   ]
  },
  {
   "cell_type": "code",
   "execution_count": null,
   "id": "a6d37ada37950e87",
   "metadata": {
    "ExecuteTime": {
     "end_time": "2024-09-05T03:34:02.595650Z",
     "start_time": "2024-09-05T03:34:02.592643Z"
    }
   },
   "outputs": [],
   "source": [
    "pd_df_tested_unique = pd_df_tested.drop_duplicates(subset = [\"sample name plate\", \"plate number\"])"
   ]
  },
  {
   "cell_type": "code",
   "execution_count": null,
   "id": "720444252d7d9fca",
   "metadata": {
    "ExecuteTime": {
     "end_time": "2024-09-05T03:34:02.604748Z",
     "start_time": "2024-09-05T03:34:02.596381Z"
    }
   },
   "outputs": [],
   "source": [
    "pd_df_tested_unique"
   ]
  },
  {
   "cell_type": "code",
   "execution_count": null,
   "id": "7cc88e232851e467",
   "metadata": {
    "ExecuteTime": {
     "end_time": "2024-09-05T03:34:02.808359Z",
     "start_time": "2024-09-05T03:34:02.605726Z"
    }
   },
   "outputs": [],
   "source": [
    "import seaborn as sns\n",
    "sns.histplot(pd_df_tested_unique, x = \"t test p value\", bins = 20)"
   ]
  },
  {
   "cell_type": "code",
   "execution_count": null,
   "id": "11e393ec53144b43",
   "metadata": {
    "ExecuteTime": {
     "end_time": "2024-09-05T03:34:02.814477Z",
     "start_time": "2024-09-05T03:34:02.809878Z"
    }
   },
   "outputs": [],
   "source": [
    "def calculated_paired_intra_array_cv(pd_group):\n",
    "    if len(pd_group) != 2:\n",
    "        return np.nan\n",
    "    mean_1, mean_2 = pd_group[\"IFN-gamma Trimmed Mean\"].values\n",
    "    std_dev_1, std_dev_2 = pd_group[\"IFN-gamma Trimmed Standard Deviation\"].values\n",
    "    count_1, count_2 = pd_group[\"IFN-gamma Count\"].values\n",
    "    t_statistic, p_value = stats.ttest_ind_from_stats(\n",
    "        mean_1, \n",
    "        std_dev_1, \n",
    "        count_1, \n",
    "        mean_2, \n",
    "        std_dev_2, \n",
    "        count_2,\n",
    "        equal_var=False,\n",
    "    )\n",
    "    return p_value"
   ]
  },
  {
   "cell_type": "code",
   "execution_count": null,
   "id": "b73e56ca86a582b2",
   "metadata": {
    "ExecuteTime": {
     "end_time": "2024-09-05T03:34:02.817892Z",
     "start_time": "2024-09-05T03:34:02.816003Z"
    }
   },
   "outputs": [],
   "source": []
  },
  {
   "cell_type": "code",
   "execution_count": null,
   "id": "1a4376e159786444",
   "metadata": {
    "ExecuteTime": {
     "end_time": "2024-09-05T03:34:02.820836Z",
     "start_time": "2024-09-05T03:34:02.819163Z"
    }
   },
   "outputs": [],
   "source": []
  },
  {
   "cell_type": "code",
   "execution_count": null,
   "id": "f9c398a8514ffba7",
   "metadata": {
    "ExecuteTime": {
     "end_time": "2024-09-05T03:34:02.823230Z",
     "start_time": "2024-09-05T03:34:02.821578Z"
    }
   },
   "outputs": [],
   "source": []
  },
  {
   "cell_type": "code",
   "execution_count": null,
   "id": "9b0ffb9f45bcd842",
   "metadata": {
    "ExecuteTime": {
     "end_time": "2024-09-05T03:34:02.828492Z",
     "start_time": "2024-09-05T03:34:02.824127Z"
    }
   },
   "outputs": [],
   "source": [
    "pd_df_estimated_qc_concentrations = pd_df_estimated_concentrations[pd_df_estimated_concentrations[\"sample name annotations\"].str.contains(\"QC-\\d+\", regex = True)]"
   ]
  },
  {
   "cell_type": "code",
   "execution_count": null,
   "id": "373eeb3f9536b14a",
   "metadata": {
    "ExecuteTime": {
     "end_time": "2024-09-05T03:34:02.898208Z",
     "start_time": "2024-09-05T03:34:02.860892Z"
    }
   },
   "outputs": [],
   "source": [
    "pd_df_estimated_qc_concentrations"
   ]
  },
  {
   "cell_type": "code",
   "execution_count": null,
   "id": "bc107b0afa19d155",
   "metadata": {
    "ExecuteTime": {
     "end_time": "2024-09-05T03:34:02.907615Z",
     "start_time": "2024-09-05T03:34:02.901962Z"
    }
   },
   "outputs": [],
   "source": [
    "selected_columns = [\"sample name annotations\", \"plate number\"]\n",
    "for column in pd_df_estimated_qc_concentrations.columns:\n",
    "    if \"estimated\" in column:\n",
    "        selected_columns.append(column)\n",
    "pd_df_estimated_qc_concentrations = pd_df_estimated_qc_concentrations[selected_columns]"
   ]
  },
  {
   "cell_type": "code",
   "execution_count": null,
   "id": "1b462c7bb767ebe7",
   "metadata": {
    "ExecuteTime": {
     "end_time": "2024-09-05T03:34:02.935334Z",
     "start_time": "2024-09-05T03:34:02.909423Z"
    }
   },
   "outputs": [],
   "source": [
    "pd_df_estimated_qc_concentrations"
   ]
  },
  {
   "cell_type": "code",
   "execution_count": null,
   "id": "1d500beb79b851e9",
   "metadata": {
    "ExecuteTime": {
     "end_time": "2024-09-05T03:34:02.955460Z",
     "start_time": "2024-09-05T03:34:02.950448Z"
    }
   },
   "outputs": [],
   "source": [
    "def check_value_within_qc_bounds(pd_row, str_col_name, low_vals, high_vals):\n",
    "    qc_number = int(pd_row[\"sample name annotations\"].split(\"-\")[1]) - 1\n",
    "    if (pd_row[str_col_name] >= low_vals[qc_number]) & (pd_row[str_col_name] <= high_vals[qc_number]):\n",
    "        return 'within range'\n",
    "    elif (pd_row[str_col_name] < low_vals[qc_number]):\n",
    "        return f'below range by {low_vals[qc_number] - pd_row[str_col_name]:.2f}'\n",
    "    else:\n",
    "        return f'above range by {pd_row[str_col_name] - high_vals[qc_number]:.2f}'\n"
   ]
  },
  {
   "cell_type": "code",
   "execution_count": null,
   "id": "7467d696d6c85121",
   "metadata": {
    "ExecuteTime": {
     "end_time": "2024-09-05T03:34:03.003807Z",
     "start_time": "2024-09-05T03:34:02.972063Z"
    }
   },
   "outputs": [],
   "source": [
    "for str_analyte in dict_parameters[\"list of analytes\"]:\n",
    "    low_vals = []\n",
    "    high_vals = []\n",
    "    for i in range(1, 3):\n",
    "        low_vals.append(\n",
    "            pd_df_quality_control_concentrations[\n",
    "                pd_df_quality_control_concentrations[\"QC name\"] == f\"QC-{i}\"\n",
    "            ][f\"{str_analyte} low\"].values[0]\n",
    "        )\n",
    "        high_vals.append(\n",
    "            pd_df_quality_control_concentrations[\n",
    "                pd_df_quality_control_concentrations[\"QC name\"] == f\"QC-{i}\"\n",
    "            ][f\"{str_analyte} high\"].values[0]\n",
    "        )\n",
    "    \n",
    "    new_col_name = f'{str_analyte} check'\n",
    "    pd_df_estimated_qc_concentrations[new_col_name] = (\n",
    "        pd_df_estimated_qc_concentrations.apply(\n",
    "            lambda row: check_value_within_qc_bounds(\n",
    "                row, \n",
    "                f\"estimated concentration {str_analyte}\",\n",
    "                low_vals, \n",
    "                high_vals\n",
    "            ), axis=1\n",
    "        )\n",
    "    )\n"
   ]
  },
  {
   "cell_type": "code",
   "execution_count": null,
   "id": "6cd35acfdee02213",
   "metadata": {
    "ExecuteTime": {
     "end_time": "2024-09-05T03:34:03.047076Z",
     "start_time": "2024-09-05T03:34:03.005682Z"
    }
   },
   "outputs": [],
   "source": [
    "pd_df_estimated_qc_concentrations"
   ]
  },
  {
   "cell_type": "code",
   "execution_count": null,
   "id": "f007dfa1b61633f6",
   "metadata": {
    "ExecuteTime": {
     "end_time": "2024-09-05T03:34:03.053283Z",
     "start_time": "2024-09-05T03:34:03.048881Z"
    }
   },
   "outputs": [],
   "source": [
    "column_order = [\"sample name annotations\", \"plate number\"]\n",
    "for str_analyte in dict_parameters[\"list of analytes\"]:\n",
    "    column_order.append(f\"estimated concentration {str_analyte}\")\n",
    "    column_order.append(f\"{str_analyte} check\")\n",
    "pd_df_estimated_qc_concentrations = pd_df_estimated_qc_concentrations[column_order]"
   ]
  },
  {
   "cell_type": "code",
   "execution_count": null,
   "id": "af20554f3e36ea5c",
   "metadata": {
    "ExecuteTime": {
     "end_time": "2024-09-05T03:34:03.109355Z",
     "start_time": "2024-09-05T03:34:03.062485Z"
    }
   },
   "outputs": [],
   "source": [
    "pd_df_estimated_qc_concentrations"
   ]
  },
  {
   "cell_type": "code",
   "execution_count": null,
   "id": "9b79cdef0983d5f5",
   "metadata": {
    "ExecuteTime": {
     "end_time": "2024-09-05T03:34:03.176834Z",
     "start_time": "2024-09-05T03:34:03.173905Z"
    }
   },
   "outputs": [],
   "source": []
  }
 ],
 "metadata": {
  "kernelspec": {
   "display_name": "Python 3",
   "language": "python",
   "name": "python3"
  },
  "language_info": {
   "codemirror_mode": {
    "name": "ipython",
    "version": 2
   },
   "file_extension": ".py",
   "mimetype": "text/x-python",
   "name": "python",
   "nbconvert_exporter": "python",
   "pygments_lexer": "ipython2",
   "version": "2.7.6"
  }
 },
 "nbformat": 4,
 "nbformat_minor": 5
}
