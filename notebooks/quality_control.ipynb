{
 "cells": [
  {
   "cell_type": "code",
   "execution_count": null,
   "id": "initial_id",
   "metadata": {
    "ExecuteTime": {
     "end_time": "2024-09-05T06:48:57.958924Z",
     "start_time": "2024-09-05T06:48:57.939098Z"
    }
   },
   "outputs": [],
   "source": [
    "import sys\n",
    "import os\n",
    "import yaml\n",
    "import numpy as np\n",
    "from scipy import stats\n",
    "\n",
    "import pandas as pd\n",
    "pd.options.mode.chained_assignment = None\n",
    "\n",
    "sys.path.append('../python/')\n"
   ]
  },
  {
   "cell_type": "code",
   "execution_count": null,
   "id": "345fcbbca377847f",
   "metadata": {
    "ExecuteTime": {
     "end_time": "2024-09-05T06:48:57.973614Z",
     "start_time": "2024-09-05T06:48:57.961472Z"
    }
   },
   "outputs": [],
   "source": [
    "dict_parameters = yaml.safe_load(open(\"../parameters/july_2024_data_parameters.yaml\", \"r\"))"
   ]
  },
  {
   "cell_type": "code",
   "execution_count": null,
   "id": "1c294347fe95c72c",
   "metadata": {
    "ExecuteTime": {
     "end_time": "2024-09-05T06:48:58.004752Z",
     "start_time": "2024-09-05T06:48:57.976388Z"
    }
   },
   "outputs": [],
   "source": [
    "pd_df_plate_data = pd.read_csv(\n",
    "    open(\n",
    "        os.path.join(\n",
    "            dict_parameters[\"output directory path\"],\n",
    "            dict_parameters[\"plate data with locations file name\"]\n",
    "        ),\n",
    "        \"rb\"\n",
    "    ), \n",
    "    index_col=0,\n",
    ")"
   ]
  },
  {
   "cell_type": "code",
   "execution_count": null,
   "id": "b7f9b5c56d0cf74f",
   "metadata": {
    "ExecuteTime": {
     "end_time": "2024-09-05T06:48:58.028885Z",
     "start_time": "2024-09-05T06:48:58.005896Z"
    }
   },
   "outputs": [],
   "source": [
    "pd_df_estimated_concentrations = pd.read_csv(\n",
    "    open(\n",
    "        os.path.join(\n",
    "            dict_parameters[\"output directory path\"],\n",
    "            dict_parameters[\"estimated concentrations file name\"]\n",
    "        ),\n",
    "        \"rb\"\n",
    "    )\n",
    ")"
   ]
  },
  {
   "cell_type": "code",
   "execution_count": null,
   "id": "21eedbfe0b18c3fe",
   "metadata": {
    "ExecuteTime": {
     "end_time": "2024-09-05T06:48:58.036782Z",
     "start_time": "2024-09-05T06:48:58.031004Z"
    }
   },
   "outputs": [],
   "source": [
    "pd_df_quality_control_concentrations = pd.read_csv(\n",
    "    open(\n",
    "        os.path.join(\n",
    "            dict_parameters[\"data directory path\"],\n",
    "            dict_parameters[\"quality control concentrations file name\"]\n",
    "        ),\n",
    "        \"rb\"\n",
    "    )\n",
    ")"
   ]
  },
  {
   "cell_type": "code",
   "execution_count": null,
   "id": "8eedd71c7b132330",
   "metadata": {
    "ExecuteTime": {
     "end_time": "2024-09-05T06:48:58.059316Z",
     "start_time": "2024-09-05T06:48:58.038100Z"
    }
   },
   "outputs": [],
   "source": [
    "pd_df_plate_data"
   ]
  },
  {
   "cell_type": "code",
   "execution_count": null,
   "id": "e32728894b0d2bd8",
   "metadata": {
    "ExecuteTime": {
     "end_time": "2024-09-05T06:48:58.069607Z",
     "start_time": "2024-09-05T06:48:58.060366Z"
    }
   },
   "outputs": [],
   "source": [
    "pd_df_quality_control_concentrations"
   ]
  },
  {
   "cell_type": "code",
   "execution_count": null,
   "id": "b82568ecdfa37d87",
   "metadata": {
    "ExecuteTime": {
     "end_time": "2024-09-05T06:48:58.088430Z",
     "start_time": "2024-09-05T06:48:58.072467Z"
    }
   },
   "outputs": [],
   "source": [
    "pd_df_estimated_concentrations"
   ]
  },
  {
   "cell_type": "code",
   "execution_count": null,
   "id": "a47f90975e608707",
   "metadata": {
    "ExecuteTime": {
     "end_time": "2024-09-05T06:48:58.092528Z",
     "start_time": "2024-09-05T06:48:58.089252Z"
    }
   },
   "outputs": [],
   "source": [
    "def perform_t_test_on_paired_wells(pd_group):\n",
    "    if len(pd_group) != 2:\n",
    "        return np.nan\n",
    "    mean_1, mean_2 = pd_group[\"IFN-gamma Trimmed Mean\"].values\n",
    "    std_dev_1, std_dev_2 = pd_group[\"IFN-gamma Trimmed Standard Deviation\"].values\n",
    "    count_1, count_2 = pd_group[\"IFN-gamma Count\"].values\n",
    "    t_statistic, p_value = stats.ttest_ind_from_stats(\n",
    "        mean_1, \n",
    "        std_dev_1, \n",
    "        count_1, \n",
    "        mean_2, \n",
    "        std_dev_2, \n",
    "        count_2,\n",
    "        equal_var=False,\n",
    "    )\n",
    "    return p_value"
   ]
  },
  {
   "cell_type": "code",
   "execution_count": null,
   "id": "56c7318d0d772965",
   "metadata": {
    "ExecuteTime": {
     "end_time": "2024-09-05T06:48:58.095382Z",
     "start_time": "2024-09-05T06:48:58.093620Z"
    }
   },
   "outputs": [],
   "source": [
    "\n"
   ]
  },
  {
   "cell_type": "code",
   "execution_count": null,
   "id": "fc66c1c8cc8225b4",
   "metadata": {
    "ExecuteTime": {
     "end_time": "2024-09-05T06:48:58.184322Z",
     "start_time": "2024-09-05T06:48:58.096070Z"
    }
   },
   "outputs": [],
   "source": [
    "pd_df_tested = (\n",
    "    pd_df_plate_data\n",
    "    .groupby([\"sample name plate\", \"plate number\"])\n",
    "    .apply(perform_t_test_on_paired_wells, include_groups=False)\n",
    "    .reset_index()\n",
    ")\n",
    "pd_df_tested.columns = [\"sample name plate\", \"plate number\"] + ['t test p value']\n",
    "pd_df_tested = pd.merge(\n",
    "    pd_df_tested, \n",
    "    pd_df_plate_data[[\"sample name plate\", \"plate number\", \"IFN-gamma Trimmed Mean\", \"IFN-gamma Trimmed Standard Deviation\", \"IFN-gamma Count\"]], \n",
    "    on = [\"sample name plate\", \"plate number\"], \n",
    "    how = \"left\"\n",
    ")"
   ]
  },
  {
   "cell_type": "code",
   "execution_count": null,
   "id": "45ff28cf60b76533",
   "metadata": {
    "ExecuteTime": {
     "end_time": "2024-09-05T06:48:58.194521Z",
     "start_time": "2024-09-05T06:48:58.185317Z"
    }
   },
   "outputs": [],
   "source": [
    "pd_df_tested"
   ]
  },
  {
   "cell_type": "code",
   "execution_count": null,
   "id": "a6d37ada37950e87",
   "metadata": {
    "ExecuteTime": {
     "end_time": "2024-09-05T06:48:58.199034Z",
     "start_time": "2024-09-05T06:48:58.195493Z"
    }
   },
   "outputs": [],
   "source": [
    "pd_df_tested_unique = pd_df_tested.drop_duplicates(subset = [\"sample name plate\", \"plate number\"])"
   ]
  },
  {
   "cell_type": "code",
   "execution_count": null,
   "id": "720444252d7d9fca",
   "metadata": {
    "ExecuteTime": {
     "end_time": "2024-09-05T06:48:58.207826Z",
     "start_time": "2024-09-05T06:48:58.199972Z"
    }
   },
   "outputs": [],
   "source": [
    "pd_df_tested_unique"
   ]
  },
  {
   "cell_type": "code",
   "execution_count": null,
   "id": "7cc88e232851e467",
   "metadata": {
    "ExecuteTime": {
     "end_time": "2024-09-05T06:48:58.432580Z",
     "start_time": "2024-09-05T06:48:58.209318Z"
    }
   },
   "outputs": [],
   "source": [
    "import seaborn as sns\n",
    "sns.histplot(pd_df_tested_unique, x = \"t test p value\", bins = 20)"
   ]
  },
  {
   "cell_type": "code",
   "execution_count": null,
   "id": "11e393ec53144b43",
   "metadata": {
    "ExecuteTime": {
     "end_time": "2024-09-05T06:48:58.439446Z",
     "start_time": "2024-09-05T06:48:58.434131Z"
    }
   },
   "outputs": [],
   "source": [
    "def calculate_paired_intra_plate_cv(pd_group):\n",
    "    if len(pd_group) != 2:\n",
    "        return np.nan\n",
    "    estimate_1, estimate_2 = pd_group[\"estimated concentration IFN-gamma\"].values\n",
    "    mean = (estimate_1 + estimate_2) / 2\n",
    "    std_dev = np.sqrt((estimate_1 - mean)**2 + (estimate_2 - mean)**2)\n",
    "    return std_dev / mean\n"
   ]
  },
  {
   "cell_type": "code",
   "execution_count": null,
   "id": "b73e56ca86a582b2",
   "metadata": {
    "ExecuteTime": {
     "end_time": "2024-09-05T06:48:58.485280Z",
     "start_time": "2024-09-05T06:48:58.442253Z"
    }
   },
   "outputs": [],
   "source": [
    "pd_df_estimated_concentrations_checked = (\n",
    "    pd_df_estimated_concentrations\n",
    "    .groupby([\"sample name annotations\", \"plate number\"])\n",
    "    .apply(calculate_paired_intra_plate_cv, include_groups=False)\n",
    "    .reset_index()\n",
    ")\n",
    "pd_df_estimated_concentrations_checked.columns = [\"sample name annotations\", \"plate number\"] + ['intra plate CV']\n",
    "pd_df_estimated_concentrations_checked = pd.merge(\n",
    "    pd_df_estimated_concentrations_checked, \n",
    "    pd_df_estimated_concentrations[[\"sample name annotations\", \"plate number\", \"estimated concentration IFN-gamma\"]], \n",
    "    on = [\"sample name annotations\", \"plate number\"], \n",
    "    how = \"left\"\n",
    ")"
   ]
  },
  {
   "cell_type": "code",
   "execution_count": null,
   "id": "1a4376e159786444",
   "metadata": {
    "ExecuteTime": {
     "end_time": "2024-09-05T06:48:58.496420Z",
     "start_time": "2024-09-05T06:48:58.486753Z"
    }
   },
   "outputs": [],
   "source": [
    "pd_df_estimated_concentrations_checked"
   ]
  },
  {
   "cell_type": "code",
   "execution_count": null,
   "id": "f9c398a8514ffba7",
   "metadata": {
    "ExecuteTime": {
     "end_time": "2024-09-05T06:48:58.509160Z",
     "start_time": "2024-09-05T06:48:58.498427Z"
    }
   },
   "outputs": [],
   "source": [
    "pd_df_estimated_concentrations_checked[pd_df_estimated_concentrations_checked[\"intra plate CV\"] > 0.2]"
   ]
  },
  {
   "cell_type": "code",
   "execution_count": null,
   "id": "9b0ffb9f45bcd842",
   "metadata": {
    "ExecuteTime": {
     "end_time": "2024-09-05T06:48:58.516547Z",
     "start_time": "2024-09-05T06:48:58.510663Z"
    }
   },
   "outputs": [],
   "source": [
    "pd_df_estimated_qc_concentrations = pd_df_estimated_concentrations[pd_df_estimated_concentrations[\"sample name annotations\"].str.contains(\"QC-\\d+\", regex = True)]"
   ]
  },
  {
   "cell_type": "code",
   "execution_count": null,
   "id": "373eeb3f9536b14a",
   "metadata": {
    "ExecuteTime": {
     "end_time": "2024-09-05T06:48:58.570276Z",
     "start_time": "2024-09-05T06:48:58.517986Z"
    }
   },
   "outputs": [],
   "source": [
    "pd_df_estimated_qc_concentrations"
   ]
  },
  {
   "cell_type": "code",
   "execution_count": null,
   "id": "bc107b0afa19d155",
   "metadata": {
    "ExecuteTime": {
     "end_time": "2024-09-05T06:48:58.575422Z",
     "start_time": "2024-09-05T06:48:58.571581Z"
    }
   },
   "outputs": [],
   "source": [
    "selected_columns = [\"sample name annotations\", \"plate number\"]\n",
    "for column in pd_df_estimated_qc_concentrations.columns:\n",
    "    if \"estimated\" in column:\n",
    "        selected_columns.append(column)\n",
    "pd_df_estimated_qc_concentrations = pd_df_estimated_qc_concentrations[selected_columns]"
   ]
  },
  {
   "cell_type": "code",
   "execution_count": null,
   "id": "1b462c7bb767ebe7",
   "metadata": {
    "ExecuteTime": {
     "end_time": "2024-09-05T06:48:58.610430Z",
     "start_time": "2024-09-05T06:48:58.579398Z"
    }
   },
   "outputs": [],
   "source": [
    "pd_df_estimated_qc_concentrations"
   ]
  },
  {
   "cell_type": "code",
   "execution_count": null,
   "id": "1d500beb79b851e9",
   "metadata": {
    "ExecuteTime": {
     "end_time": "2024-09-05T06:48:58.616294Z",
     "start_time": "2024-09-05T06:48:58.611958Z"
    }
   },
   "outputs": [],
   "source": [
    "def check_value_within_qc_bounds(pd_row, str_col_name, low_vals, high_vals):\n",
    "    qc_number = int(pd_row[\"sample name annotations\"].split(\"-\")[1]) - 1\n",
    "    if (pd_row[str_col_name] >= low_vals[qc_number]) & (pd_row[str_col_name] <= high_vals[qc_number]):\n",
    "        return 'within range'\n",
    "    elif (pd_row[str_col_name] < low_vals[qc_number]):\n",
    "        return f'below range by {low_vals[qc_number] - pd_row[str_col_name]:.2f}'\n",
    "    else:\n",
    "        return f'above range by {pd_row[str_col_name] - high_vals[qc_number]:.2f}'\n"
   ]
  },
  {
   "cell_type": "code",
   "execution_count": null,
   "id": "7467d696d6c85121",
   "metadata": {
    "ExecuteTime": {
     "end_time": "2024-09-05T06:48:58.655930Z",
     "start_time": "2024-09-05T06:48:58.617241Z"
    }
   },
   "outputs": [],
   "source": [
    "for str_analyte in dict_parameters[\"list of analytes\"]:\n",
    "    low_vals = []\n",
    "    high_vals = []\n",
    "    for i in range(1, 3):\n",
    "        low_vals.append(\n",
    "            pd_df_quality_control_concentrations[\n",
    "                pd_df_quality_control_concentrations[\"QC name\"] == f\"QC-{i}\"\n",
    "            ][f\"{str_analyte} low\"].values[0]\n",
    "        )\n",
    "        high_vals.append(\n",
    "            pd_df_quality_control_concentrations[\n",
    "                pd_df_quality_control_concentrations[\"QC name\"] == f\"QC-{i}\"\n",
    "            ][f\"{str_analyte} high\"].values[0]\n",
    "        )\n",
    "    \n",
    "    new_col_name = f'{str_analyte} check'\n",
    "    pd_df_estimated_qc_concentrations[new_col_name] = (\n",
    "        pd_df_estimated_qc_concentrations.apply(\n",
    "            lambda row: check_value_within_qc_bounds(\n",
    "                row, \n",
    "                f\"estimated concentration {str_analyte}\",\n",
    "                low_vals, \n",
    "                high_vals\n",
    "            ), axis=1\n",
    "        )\n",
    "    )\n"
   ]
  },
  {
   "cell_type": "code",
   "execution_count": null,
   "id": "6cd35acfdee02213",
   "metadata": {
    "ExecuteTime": {
     "end_time": "2024-09-05T06:48:58.701110Z",
     "start_time": "2024-09-05T06:48:58.657901Z"
    }
   },
   "outputs": [],
   "source": [
    "pd_df_estimated_qc_concentrations"
   ]
  },
  {
   "cell_type": "code",
   "execution_count": null,
   "id": "f007dfa1b61633f6",
   "metadata": {
    "ExecuteTime": {
     "end_time": "2024-09-05T06:48:58.707563Z",
     "start_time": "2024-09-05T06:48:58.702289Z"
    }
   },
   "outputs": [],
   "source": [
    "column_order = [\"sample name annotations\", \"plate number\"]\n",
    "#for str_analyte in set(dict_parameters[\"list of analytes\"]) - set([\"IFN-gamma\", \"IP-10\", \"IL-17\"]):\n",
    "for str_analyte in[\"IL-6\"]:\n",
    "    column_order.append(f\"estimated concentration {str_analyte}\")\n",
    "    column_order.append(f\"{str_analyte} check\")\n",
    "pd_df_estimated_qc_concentrations = pd_df_estimated_qc_concentrations[column_order]"
   ]
  },
  {
   "cell_type": "code",
   "execution_count": null,
   "id": "af20554f3e36ea5c",
   "metadata": {
    "ExecuteTime": {
     "end_time": "2024-09-05T06:48:58.734909Z",
     "start_time": "2024-09-05T06:48:58.709387Z"
    }
   },
   "outputs": [],
   "source": [
    "pd_df_estimated_qc_concentrations"
   ]
  },
  {
   "cell_type": "code",
   "execution_count": null,
   "id": "9b79cdef0983d5f5",
   "metadata": {
    "ExecuteTime": {
     "end_time": "2024-09-05T06:48:59.021147Z",
     "start_time": "2024-09-05T06:48:59.018482Z"
    }
   },
   "outputs": [],
   "source": []
  }
 ],
 "metadata": {
  "kernelspec": {
   "display_name": "Python 3",
   "language": "python",
   "name": "python3"
  },
  "language_info": {
   "codemirror_mode": {
    "name": "ipython",
    "version": 2
   },
   "file_extension": ".py",
   "mimetype": "text/x-python",
   "name": "python",
   "nbconvert_exporter": "python",
   "pygments_lexer": "ipython2",
   "version": "2.7.6"
  }
 },
 "nbformat": 4,
 "nbformat_minor": 5
}
