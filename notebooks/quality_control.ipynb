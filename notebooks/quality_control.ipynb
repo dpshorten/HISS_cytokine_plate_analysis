{
 "cells": [
  {
   "cell_type": "code",
   "execution_count": null,
   "id": "initial_id",
   "metadata": {
    "ExecuteTime": {
     "end_time": "2024-08-22T20:44:59.312559Z",
     "start_time": "2024-08-22T20:44:59.297717Z"
    }
   },
   "outputs": [],
   "source": [
    "import sys\n",
    "import os\n",
    "import yaml\n",
    "import numpy as np\n",
    "from scipy import stats\n",
    "\n",
    "import pandas as pd\n",
    "pd.options.mode.chained_assignment = None\n",
    "\n",
    "sys.path.append('../python/')\n"
   ]
  },
  {
   "cell_type": "code",
   "execution_count": null,
   "id": "345fcbbca377847f",
   "metadata": {
    "ExecuteTime": {
     "end_time": "2024-08-22T20:44:59.322050Z",
     "start_time": "2024-08-22T20:44:59.313644Z"
    }
   },
   "outputs": [],
   "source": [
    "dict_parameters = yaml.safe_load(open(\"../parameters/july_2024_data_parameters.yaml\", \"r\"))"
   ]
  },
  {
   "cell_type": "code",
   "execution_count": null,
   "id": "1c294347fe95c72c",
   "metadata": {
    "ExecuteTime": {
     "end_time": "2024-08-22T20:44:59.348122Z",
     "start_time": "2024-08-22T20:44:59.323194Z"
    }
   },
   "outputs": [],
   "source": [
    "pd_df_plate_data = pd.read_csv(\n",
    "    open(\n",
    "        os.path.join(\n",
    "            dict_parameters[\"output directory path\"],\n",
    "            dict_parameters[\"plate data with locations file name\"]\n",
    "        ),\n",
    "        \"rb\"\n",
    "    ), \n",
    "    index_col=0,\n",
    ")"
   ]
  },
  {
   "cell_type": "code",
   "execution_count": null,
   "id": "8eedd71c7b132330",
   "metadata": {
    "ExecuteTime": {
     "end_time": "2024-08-22T20:44:59.368927Z",
     "start_time": "2024-08-22T20:44:59.349528Z"
    }
   },
   "outputs": [],
   "source": [
    "pd_df_plate_data"
   ]
  },
  {
   "cell_type": "code",
   "execution_count": null,
   "id": "fc66c1c8cc8225b4",
   "metadata": {
    "ExecuteTime": {
     "end_time": "2024-08-22T20:57:17.748818Z",
     "start_time": "2024-08-22T20:57:17.579154Z"
    }
   },
   "outputs": [],
   "source": [
    "def perform_t_test_on_paired_wells(pd_group):\n",
    "    if len(pd_group) != 2:\n",
    "        return np.nan\n",
    "    mean_1, mean_2 = pd_group[\"IFN-gamma Mean\"].values\n",
    "    std_dev_1, std_dev_2 = pd_group[\"IFN-gamma Std Dev\"].values\n",
    "    count_1, count_2 = pd_group[\"IFN-gamma Count\"].values\n",
    "    t_stat, p_value = stats.ttest_ind_from_stats(\n",
    "        mean_1, \n",
    "        std_dev_1, \n",
    "        count_1, \n",
    "        mean_2, \n",
    "        std_dev_2, \n",
    "        count_2,\n",
    "        equal_var=False,\n",
    "    )\n",
    "    return p_value\n",
    "\n",
    "pd_df_tested = (\n",
    "    pd_df_plate_data\n",
    "    .groupby([\"sample name plate\", \"plate number\"])\n",
    "    .apply(perform_t_test_on_paired_wells, include_groups=False)\n",
    "    .reset_index()\n",
    ")\n",
    "pd_df_tested.columns = [\"sample name plate\", \"plate number\"] + ['t_test_p_val']\n"
   ]
  },
  {
   "cell_type": "code",
   "execution_count": null,
   "id": "7cc88e232851e467",
   "metadata": {
    "ExecuteTime": {
     "end_time": "2024-08-22T20:57:18.615910Z",
     "start_time": "2024-08-22T20:57:18.404398Z"
    }
   },
   "outputs": [],
   "source": [
    "import seaborn as sns\n",
    "sns.histplot(pd_df_tested, x = \"t_test_p_val\", bins = 100)"
   ]
  },
  {
   "cell_type": "code",
   "execution_count": null,
   "id": "9b0ffb9f45bcd842",
   "metadata": {
    "ExecuteTime": {
     "end_time": "2024-08-22T20:44:59.651852Z",
     "start_time": "2024-08-22T20:44:59.649107Z"
    }
   },
   "outputs": [],
   "source": []
  }
 ],
 "metadata": {
  "kernelspec": {
   "display_name": "Python 3",
   "language": "python",
   "name": "python3"
  },
  "language_info": {
   "codemirror_mode": {
    "name": "ipython",
    "version": 2
   },
   "file_extension": ".py",
   "mimetype": "text/x-python",
   "name": "python",
   "nbconvert_exporter": "python",
   "pygments_lexer": "ipython2",
   "version": "2.7.6"
  }
 },
 "nbformat": 4,
 "nbformat_minor": 5
}
