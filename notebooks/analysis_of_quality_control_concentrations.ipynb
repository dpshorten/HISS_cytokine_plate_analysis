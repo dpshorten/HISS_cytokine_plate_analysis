{
 "cells": [
  {
   "cell_type": "code",
   "execution_count": null,
   "id": "initial_id",
   "metadata": {
    "ExecuteTime": {
     "end_time": "2024-09-06T01:13:22.112171Z",
     "start_time": "2024-09-06T01:13:21.953333Z"
    }
   },
   "outputs": [],
   "source": [
    "import sys\n",
    "import os\n",
    "import yaml\n",
    "import numpy as np\n",
    "from scipy import stats\n",
    "\n",
    "import dash\n",
    "from dash import dcc, html\n",
    "from dash.dependencies import Input, Output\n",
    "import plotly.express as px\n",
    "import plotly.graph_objects as go\n",
    "\n",
    "import pandas as pd\n",
    "pd.options.mode.chained_assignment = None\n",
    "\n",
    "sys.path.append('../python/')\n",
    "\n",
    "import logging\n",
    "logging.basicConfig(level=logging.DEBUG, filename=\"dash_logs.log\")"
   ]
  },
  {
   "cell_type": "code",
   "execution_count": null,
   "id": "ac0a3d3af443eb48",
   "metadata": {
    "ExecuteTime": {
     "end_time": "2024-09-06T01:13:22.124231Z",
     "start_time": "2024-09-06T01:13:22.113196Z"
    }
   },
   "outputs": [],
   "source": [
    "dict_parameters = yaml.safe_load(open(\"../parameters/july_2024_data_parameters.yaml\", \"r\"))"
   ]
  },
  {
   "cell_type": "code",
   "execution_count": null,
   "id": "7b4452518c58a7cb",
   "metadata": {
    "ExecuteTime": {
     "end_time": "2024-09-06T01:13:22.132812Z",
     "start_time": "2024-09-06T01:13:22.125135Z"
    }
   },
   "outputs": [],
   "source": [
    "LIST_ANALYTES_TO_CHECK = list(set(dict_parameters[\"list of analytes\"]) - set([\"IFN-gamma\", \"IP-10\", \"IL-17\"]))"
   ]
  },
  {
   "cell_type": "code",
   "execution_count": null,
   "id": "b99d73de10624a35",
   "metadata": {
    "ExecuteTime": {
     "end_time": "2024-09-06T01:13:22.154647Z",
     "start_time": "2024-09-06T01:13:22.133500Z"
    }
   },
   "outputs": [],
   "source": [
    "pd_df_estimated_concentrations = pd.read_csv(\n",
    "    open(\n",
    "        os.path.join(\n",
    "            dict_parameters[\"output directory path\"],\n",
    "            dict_parameters[\"estimated concentrations file name\"]\n",
    "        ),\n",
    "        \"rb\"\n",
    "    )\n",
    ")"
   ]
  },
  {
   "cell_type": "code",
   "execution_count": null,
   "id": "18623c709bb301bb",
   "metadata": {
    "ExecuteTime": {
     "end_time": "2024-09-06T01:13:22.159469Z",
     "start_time": "2024-09-06T01:13:22.155811Z"
    }
   },
   "outputs": [],
   "source": [
    "pd_df_quality_control_concentrations = pd.read_csv(\n",
    "    open(\n",
    "        os.path.join(\n",
    "            dict_parameters[\"data directory path\"],\n",
    "            dict_parameters[\"quality control concentrations file name\"]\n",
    "        ),\n",
    "        \"rb\"\n",
    "    )\n",
    ")"
   ]
  },
  {
   "cell_type": "code",
   "execution_count": null,
   "id": "dd2b1983cfe7eff9",
   "metadata": {
    "ExecuteTime": {
     "end_time": "2024-09-06T01:13:22.175867Z",
     "start_time": "2024-09-06T01:13:22.162230Z"
    }
   },
   "outputs": [],
   "source": [
    "pd_df_quality_control_concentrations"
   ]
  },
  {
   "cell_type": "code",
   "execution_count": null,
   "id": "4e4a29689bf09ff3",
   "metadata": {
    "ExecuteTime": {
     "end_time": "2024-09-06T01:13:22.192235Z",
     "start_time": "2024-09-06T01:13:22.176553Z"
    }
   },
   "outputs": [],
   "source": [
    "pd_df_estimated_concentrations"
   ]
  },
  {
   "cell_type": "code",
   "execution_count": null,
   "id": "ea7594f1ca6f1862",
   "metadata": {
    "ExecuteTime": {
     "end_time": "2024-09-06T01:13:22.196605Z",
     "start_time": "2024-09-06T01:13:22.192955Z"
    }
   },
   "outputs": [],
   "source": [
    "pd_df_estimated_qc_concentrations = (\n",
    "    pd_df_estimated_concentrations[\n",
    "        pd_df_estimated_concentrations[\"sample name annotations\"]\n",
    "        .str.contains(\"QC-\\d+\", regex = True)\n",
    "    ]\n",
    ")"
   ]
  },
  {
   "cell_type": "code",
   "execution_count": null,
   "id": "147dec5b4c736d76",
   "metadata": {
    "ExecuteTime": {
     "end_time": "2024-09-06T01:13:22.209827Z",
     "start_time": "2024-09-06T01:13:22.197766Z"
    }
   },
   "outputs": [],
   "source": [
    "pd_df_estimated_qc_concentrations"
   ]
  },
  {
   "cell_type": "code",
   "execution_count": null,
   "id": "382455f7d922e7b",
   "metadata": {
    "ExecuteTime": {
     "end_time": "2024-09-06T01:13:22.214213Z",
     "start_time": "2024-09-06T01:13:22.211157Z"
    }
   },
   "outputs": [],
   "source": [
    "columns_to_keep = [\"sample name annotations\", \"plate number\"]\n",
    "for str_analyte in LIST_ANALYTES_TO_CHECK:\n",
    "    columns_to_keep.append(f\"estimated concentration {str_analyte}\")\n",
    "pd_df_estimated_qc_concentrations = pd_df_estimated_qc_concentrations[columns_to_keep]"
   ]
  },
  {
   "cell_type": "code",
   "execution_count": null,
   "id": "1e4ae083c58f1a19",
   "metadata": {
    "ExecuteTime": {
     "end_time": "2024-09-06T01:13:22.227615Z",
     "start_time": "2024-09-06T01:13:22.215513Z"
    }
   },
   "outputs": [],
   "source": [
    "pd_df_estimated_qc_concentrations"
   ]
  },
  {
   "cell_type": "code",
   "execution_count": null,
   "id": "aec8f3793ec5e0b5",
   "metadata": {
    "ExecuteTime": {
     "end_time": "2024-09-06T01:13:22.231935Z",
     "start_time": "2024-09-06T01:13:22.228531Z"
    }
   },
   "outputs": [],
   "source": [
    "pd_df_estimated_qc_concentrations = pd_df_estimated_qc_concentrations.rename(\n",
    "    columns = {f\"estimated concentration {str_analyte}\": str_analyte for str_analyte in LIST_ANALYTES_TO_CHECK}\n",
    ")"
   ]
  },
  {
   "cell_type": "code",
   "execution_count": null,
   "id": "15f822c7fa855e9d",
   "metadata": {
    "ExecuteTime": {
     "end_time": "2024-09-06T01:13:22.244624Z",
     "start_time": "2024-09-06T01:13:22.232862Z"
    }
   },
   "outputs": [],
   "source": [
    "pd_df_estimated_qc_concentrations"
   ]
  },
  {
   "cell_type": "code",
   "execution_count": null,
   "id": "68a6b46b03c899a9",
   "metadata": {
    "ExecuteTime": {
     "end_time": "2024-09-06T01:13:22.251152Z",
     "start_time": "2024-09-06T01:13:22.245591Z"
    }
   },
   "outputs": [],
   "source": [
    "pd_df_melted_estimated_qc_concentrations = pd_df_estimated_qc_concentrations.melt(\n",
    "    id_vars = [\"sample name annotations\", \"plate number\"],\n",
    "    var_name = \"analyte\",\n",
    "    value_name = \"concentration\"\n",
    ")"
   ]
  },
  {
   "cell_type": "code",
   "execution_count": null,
   "id": "e64fe46832e2e1c7",
   "metadata": {
    "ExecuteTime": {
     "end_time": "2024-09-06T01:13:22.258754Z",
     "start_time": "2024-09-06T01:13:22.251914Z"
    }
   },
   "outputs": [],
   "source": [
    "pd_df_melted_estimated_qc_concentrations"
   ]
  },
  {
   "cell_type": "code",
   "execution_count": null,
   "id": "1d1c0b7e5baabe9c",
   "metadata": {
    "ExecuteTime": {
     "end_time": "2024-09-06T01:13:22.265593Z",
     "start_time": "2024-09-06T01:13:22.259422Z"
    }
   },
   "outputs": [],
   "source": [
    "pd_df_melted_quality_control_concentrations = pd_df_quality_control_concentrations.melt(\n",
    "    id_vars = [\"QC name\"], \n",
    "    var_name = \"analyte bound\",\n",
    "    value_name = \"concentration\"\n",
    ")"
   ]
  },
  {
   "cell_type": "code",
   "execution_count": null,
   "id": "b41345c7866fa62f",
   "metadata": {
    "ExecuteTime": {
     "end_time": "2024-09-06T01:13:22.273231Z",
     "start_time": "2024-09-06T01:13:22.266639Z"
    }
   },
   "outputs": [],
   "source": [
    "pd_df_melted_quality_control_concentrations"
   ]
  },
  {
   "cell_type": "code",
   "execution_count": null,
   "id": "8602bf7c7456ca85",
   "metadata": {
    "ExecuteTime": {
     "end_time": "2024-09-06T01:13:22.278459Z",
     "start_time": "2024-09-06T01:13:22.274322Z"
    }
   },
   "outputs": [],
   "source": [
    "pd_df_melted_quality_control_concentrations[[\"analyte\", \"bound\"]] = pd_df_melted_quality_control_concentrations[\"analyte bound\"].str.split(\" \", expand = True)"
   ]
  },
  {
   "cell_type": "code",
   "execution_count": null,
   "id": "a16b5aaeed83d807",
   "metadata": {
    "ExecuteTime": {
     "end_time": "2024-09-06T01:13:22.282946Z",
     "start_time": "2024-09-06T01:13:22.279332Z"
    }
   },
   "outputs": [],
   "source": [
    "pd_df_melted_quality_control_concentrations = pd_df_melted_quality_control_concentrations.drop(columns = [\"analyte bound\"])"
   ]
  },
  {
   "cell_type": "code",
   "execution_count": null,
   "id": "c629479b9db81035",
   "metadata": {
    "ExecuteTime": {
     "end_time": "2024-09-06T01:13:22.293182Z",
     "start_time": "2024-09-06T01:13:22.283873Z"
    }
   },
   "outputs": [],
   "source": [
    "pd_df_melted_quality_control_concentrations"
   ]
  },
  {
   "cell_type": "code",
   "execution_count": null,
   "id": "c28761a9061ffb22",
   "metadata": {
    "ExecuteTime": {
     "end_time": "2024-09-06T01:13:22.303182Z",
     "start_time": "2024-09-06T01:13:22.294072Z"
    }
   },
   "outputs": [],
   "source": [
    "pd_df_pivoted_quality_control_concentrations = pd_df_melted_quality_control_concentrations.pivot(\n",
    "    index = [\"QC name\", \"analyte\"],\n",
    "    columns = \"bound\",\n",
    "    values = \"concentration\"\n",
    ").reset_index().rename(columns = {\"bound\": \"analyte\", \"QC name\": \"sample name annotations\"})"
   ]
  },
  {
   "cell_type": "code",
   "execution_count": null,
   "id": "2e6891737f9a87cf",
   "metadata": {
    "ExecuteTime": {
     "end_time": "2024-09-06T01:13:22.311795Z",
     "start_time": "2024-09-06T01:13:22.304638Z"
    }
   },
   "outputs": [],
   "source": [
    "pd_df_pivoted_quality_control_concentrations"
   ]
  },
  {
   "cell_type": "code",
   "execution_count": null,
   "id": "a176288c001e6d33",
   "metadata": {
    "ExecuteTime": {
     "end_time": "2024-09-06T01:13:22.317616Z",
     "start_time": "2024-09-06T01:13:22.312936Z"
    }
   },
   "outputs": [],
   "source": [
    "pd_df_estimates_and_bounds = pd.merge(\n",
    "    pd_df_melted_estimated_qc_concentrations,\n",
    "    pd_df_pivoted_quality_control_concentrations,\n",
    "    on = [\"sample name annotations\", \"analyte\"],\n",
    "    how = \"inner\"\n",
    ")"
   ]
  },
  {
   "cell_type": "code",
   "execution_count": null,
   "id": "7c493cac2411a23",
   "metadata": {
    "ExecuteTime": {
     "end_time": "2024-09-06T01:13:22.325784Z",
     "start_time": "2024-09-06T01:13:22.318501Z"
    }
   },
   "outputs": [],
   "source": [
    "pd_df_estimates_and_bounds"
   ]
  },
  {
   "cell_type": "code",
   "execution_count": null,
   "id": "1947162aa1e7de0e",
   "metadata": {
    "ExecuteTime": {
     "end_time": "2024-09-06T01:13:22.328532Z",
     "start_time": "2024-09-06T01:13:22.326655Z"
    }
   },
   "outputs": [],
   "source": [
    "# def check_value_within_qc_bounds(pd_row, str_col_name, low_vals, high_vals):\n",
    "#     qc_number = int(pd_row[\"sample name annotations\"].split(\"-\")[1]) - 1\n",
    "#     if (pd_row[str_col_name] >= low_vals[qc_number]) & (pd_row[str_col_name] <= high_vals[qc_number]):\n",
    "#         return (\n",
    "#             'within range', \n",
    "#             low_vals[qc_number], \n",
    "#             high_vals[qc_number]\n",
    "#         )\n",
    "#     elif (pd_row[str_col_name] < low_vals[qc_number]):\n",
    "#         return (\n",
    "#             f'below range by {low_vals[qc_number] - pd_row[str_col_name]:.2f}', \n",
    "#             low_vals[qc_number], \n",
    "#             high_vals[qc_number]\n",
    "#         )\n",
    "#     else:\n",
    "#         return (\n",
    "#             f'above range by {pd_row[str_col_name] - high_vals[qc_number]:.2f}', \n",
    "#             low_vals[qc_number], \n",
    "#             high_vals[qc_number]\n",
    "#         )"
   ]
  },
  {
   "cell_type": "code",
   "execution_count": null,
   "id": "6033ecbe1ecad6ec",
   "metadata": {
    "ExecuteTime": {
     "end_time": "2024-09-06T01:13:22.331338Z",
     "start_time": "2024-09-06T01:13:22.329269Z"
    }
   },
   "outputs": [],
   "source": [
    "# for str_analyte in dict_parameters[\"list of analytes\"]:\n",
    "#     low_vals = []\n",
    "#     high_vals = []\n",
    "#     for i in range(1, 3):\n",
    "#         low_vals.append(\n",
    "#             pd_df_quality_control_concentrations[\n",
    "#                 pd_df_quality_control_concentrations[\"QC name\"] == f\"QC-{i}\"\n",
    "#             ][f\"{str_analyte} low\"].values[0]\n",
    "#         )\n",
    "#         high_vals.append(\n",
    "#             pd_df_quality_control_concentrations[\n",
    "#                 pd_df_quality_control_concentrations[\"QC name\"] == f\"QC-{i}\"\n",
    "#             ][f\"{str_analyte} high\"].values[0]\n",
    "#         )\n",
    "# \n",
    "#     pd_df_estimated_qc_concentrations[[f'{str_analyte} check', f'{str_analyte} low', f'{str_analyte} high']] = (\n",
    "#         pd_df_estimated_qc_concentrations.apply(\n",
    "#             lambda row: check_value_within_qc_bounds(\n",
    "#                 row, \n",
    "#                 f\"estimated concentration {str_analyte}\",\n",
    "#                 low_vals, \n",
    "#                 high_vals\n",
    "#             ), axis=1, result_type = 'expand'\n",
    "#         )\n",
    "#     )"
   ]
  },
  {
   "cell_type": "code",
   "execution_count": null,
   "id": "1609370859d4bd94",
   "metadata": {
    "ExecuteTime": {
     "end_time": "2024-09-06T01:13:22.334155Z",
     "start_time": "2024-09-06T01:13:22.332246Z"
    }
   },
   "outputs": [],
   "source": [
    "# column_order = [\"sample name annotations\", \"plate number\"]\n",
    "# for str_analyte in LIST_ANALYTES_TO_CHECK:\n",
    "#     column_order.append(f\"estimated concentration {str_analyte}\")\n",
    "#     column_order.append(f\"{str_analyte} check\")\n",
    "#     column_order.append(f\"{str_analyte} low\")\n",
    "#     column_order.append(f\"{str_analyte} high\")\n",
    "# pd_df_estimated_qc_concentrations = pd_df_estimated_qc_concentrations[column_order]"
   ]
  },
  {
   "cell_type": "code",
   "execution_count": null,
   "id": "add6f6549ad9b417",
   "metadata": {
    "ExecuteTime": {
     "end_time": "2024-09-06T01:13:22.343014Z",
     "start_time": "2024-09-06T01:13:22.335331Z"
    }
   },
   "outputs": [],
   "source": [
    "pd_df_estimates_and_bounds"
   ]
  },
  {
   "cell_type": "code",
   "execution_count": null,
   "id": "48e902c125fd67e6",
   "metadata": {
    "ExecuteTime": {
     "end_time": "2024-09-06T01:28:28.250595Z",
     "start_time": "2024-09-06T01:28:27.712867Z"
    }
   },
   "outputs": [],
   "source": [
    "dash_app_object_boxes = dash.Dash(__name__)\n",
    "\n",
    "# Define the layout\n",
    "dash_app_object_boxes.layout = html.Div([\n",
    "    html.H1(\"Plots of estimated concentrations\"),\n",
    "\n",
    "    html.Div([\n",
    "        html.Label(\"Plate:\"),\n",
    "        dcc.Dropdown(\n",
    "            id='plate-dropdown',\n",
    "            options=[\n",
    "                {'label': plate_number, 'value': plate_number} for plate_number in dict_parameters[\"plate number to file associations\"].keys()\n",
    "            ],\n",
    "            value=list(dict_parameters[\"plate number to file associations\"].keys())[0]\n",
    "        ),\n",
    "    ], style={'width': '20%', 'display': 'inline-block'}),\n",
    "    \n",
    "    html.Div([\n",
    "        html.Label(\"QC label:\"),\n",
    "        dcc.Dropdown(\n",
    "            id='qc-label-dropdown',\n",
    "            options=[\n",
    "                {'label': 'QC-1', 'value': 'QC-1'},\n",
    "                {'label': 'QC-2', 'value': 'QC-2'},\n",
    "            ],\n",
    "            value='QC-1',\n",
    "        ),\n",
    "    ], style={'width': '20%', 'display': 'inline-block'}),\n",
    "\n",
    "    dcc.Graph(id='scatter-plot')\n",
    "    \n",
    "], style={'backgroundColor': 'white', 'padding': '20px'})\n",
    "\n",
    "\n",
    "@dash_app_object_boxes.callback(\n",
    "    Output('scatter-plot', 'figure'),\n",
    "    Input('plate-dropdown', 'value'),\n",
    "    Input('qc-label-dropdown', 'value'),\n",
    ")\n",
    "def update_graph(int_plate_number, str_qc_label):\n",
    "    \n",
    "    logging.debug(int_plate_number)\n",
    "    logging.debug(str_qc_label)\n",
    "    logging.debug(pd_df_estimates_and_bounds)\n",
    "    \n",
    "    pd_df_data_to_plot = pd_df_estimates_and_bounds[\n",
    "        pd_df_estimates_and_bounds[\"plate number\"] == int(int_plate_number)\n",
    "    ]\n",
    "    pd_df_data_to_plot = pd_df_data_to_plot[\n",
    "        pd_df_data_to_plot[\"sample name annotations\"].str.contains(str(str_qc_label))\n",
    "    ]\n",
    "    \n",
    "    logging.debug(pd_df_data_to_plot)\n",
    "    \n",
    "    fig = go.Figure()\n",
    "    \n",
    "    for color, marker, size, column in zip(\n",
    "            ['green', 'red', 'blue'], \n",
    "            ['line-ew', 'line-ew', 'circle'],\n",
    "            [20, 20, 5],\n",
    "            ['low', 'high', 'concentration']\n",
    "    ):\n",
    "        fig.add_trace(\n",
    "            go.Box(\n",
    "                x=pd_df_data_to_plot[\"analyte\"],\n",
    "                y=pd_df_data_to_plot[column],\n",
    "                name=column,\n",
    "                boxpoints='all',\n",
    "                pointpos=0,\n",
    "                fillcolor='rgba(255,255,255,0)',\n",
    "                line=dict(color='rgba(255,255,255,0)'),\n",
    "                marker=dict(\n",
    "                    symbol=marker, color=color, size=size,\n",
    "                    line=dict(\n",
    "                        color=color, \n",
    "                        width=2,\n",
    "                    ),\n",
    "                ),\n",
    "            )\n",
    "        )\n",
    "    \n",
    "    fig.update_layout(\n",
    "        plot_bgcolor='white',\n",
    "        paper_bgcolor='white',\n",
    "        xaxis=dict(\n",
    "            title=\"Analyte\",\n",
    "            showgrid=False,\n",
    "            zeroline=False,\n",
    "            showline=True,\n",
    "            linecolor='black',\n",
    "            linewidth=2,\n",
    "            ticks='outside',\n",
    "            tickfont=dict(family='Arial', size=12, color='black'),\n",
    "        ),\n",
    "        yaxis=dict(\n",
    "            title=\"Concentration\",\n",
    "            showgrid=True,\n",
    "            zeroline=True,\n",
    "            showline=True,\n",
    "            linecolor='black',\n",
    "            linewidth=2,\n",
    "            ticks='outside',\n",
    "            tickfont=dict(family='Arial', size=12, color='black'),\n",
    "        ),\n",
    "        font=dict(\n",
    "            family=\"Arial\",\n",
    "            size=16,\n",
    "            color=\"black\"\n",
    "        ),\n",
    "        #boxmode='group'  # Group boxes for each analyte\n",
    "    )\n",
    "    \n",
    "\n",
    "    # fig.update_layout(\n",
    "    #     plot_bgcolor='white',\n",
    "    #     paper_bgcolor='white',\n",
    "    #     xaxis_title=\"analyte\",\n",
    "    #     yaxis_title=\"concentration\",\n",
    "    #     font=dict(\n",
    "    #         family=\"Arial\",\n",
    "    #         size=16,\n",
    "    #         color=\"black\"\n",
    "    #     )\n",
    "    # )\n",
    "    return fig\n",
    "\n",
    "# Run the app\n",
    "if __name__ == '__main__':\n",
    "    dash_app_object_boxes.run(jupyter_mode=\"inline\", debug = True, port=3358)"
   ]
  },
  {
   "cell_type": "code",
   "execution_count": null,
   "id": "b01b449cab3fc04a",
   "metadata": {},
   "outputs": [],
   "source": []
  }
 ],
 "metadata": {
  "kernelspec": {
   "display_name": "Python 3",
   "language": "python",
   "name": "python3"
  },
  "language_info": {
   "codemirror_mode": {
    "name": "ipython",
    "version": 2
   },
   "file_extension": ".py",
   "mimetype": "text/x-python",
   "name": "python",
   "nbconvert_exporter": "python",
   "pygments_lexer": "ipython2",
   "version": "2.7.6"
  }
 },
 "nbformat": 4,
 "nbformat_minor": 5
}
