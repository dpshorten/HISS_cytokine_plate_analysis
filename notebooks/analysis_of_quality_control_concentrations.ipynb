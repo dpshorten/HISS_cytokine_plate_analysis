{
 "cells": [
  {
   "cell_type": "code",
   "execution_count": null,
   "id": "initial_id",
   "metadata": {
    "ExecuteTime": {
     "end_time": "2024-09-17T02:07:08.054799Z",
     "start_time": "2024-09-17T02:07:07.316471Z"
    }
   },
   "outputs": [],
   "source": [
    "import sys\n",
    "import os\n",
    "import yaml\n",
    "\n",
    "import dash\n",
    "from dash import dcc, html\n",
    "from dash.dependencies import Input, Output\n",
    "import plotly.graph_objects as go\n",
    "\n",
    "import pandas as pd\n",
    "pd.options.mode.chained_assignment = None\n",
    "\n",
    "sys.path.append('../python/')\n",
    "\n",
    "import logging\n",
    "logging.basicConfig(level=logging.DEBUG, filename=\"dash_logs.log\")"
   ]
  },
  {
   "cell_type": "code",
   "execution_count": null,
   "id": "ac0a3d3af443eb48",
   "metadata": {
    "ExecuteTime": {
     "end_time": "2024-09-17T02:07:08.065771Z",
     "start_time": "2024-09-17T02:07:08.055775Z"
    }
   },
   "outputs": [],
   "source": [
    "dict_parameters = yaml.safe_load(open(\"../parameters/july_2024_data_parameters.yaml\", \"r\"))"
   ]
  },
  {
   "cell_type": "code",
   "execution_count": null,
   "id": "7b4452518c58a7cb",
   "metadata": {
    "ExecuteTime": {
     "end_time": "2024-09-17T02:07:08.070394Z",
     "start_time": "2024-09-17T02:07:08.066968Z"
    }
   },
   "outputs": [],
   "source": [
    "LIST_ANALYTES_TO_CHECK = list(set(dict_parameters[\"list of analytes\"]) - set([\"IFN-gamma\", \"IP-10\", \"IL-17\"]))"
   ]
  },
  {
   "cell_type": "code",
   "execution_count": null,
   "id": "b99d73de10624a35",
   "metadata": {
    "ExecuteTime": {
     "end_time": "2024-09-17T02:07:08.099165Z",
     "start_time": "2024-09-17T02:07:08.071208Z"
    }
   },
   "outputs": [],
   "source": [
    "pd_df_estimated_concentrations = pd.read_csv(\n",
    "    open(\n",
    "        os.path.join(\n",
    "            dict_parameters[\"output directory path\"],\n",
    "            dict_parameters[\"estimated concentrations file name\"]\n",
    "        ),\n",
    "        \"rb\"\n",
    "    )\n",
    ")"
   ]
  },
  {
   "cell_type": "code",
   "execution_count": null,
   "id": "18623c709bb301bb",
   "metadata": {
    "ExecuteTime": {
     "end_time": "2024-09-17T02:07:08.104965Z",
     "start_time": "2024-09-17T02:07:08.100160Z"
    }
   },
   "outputs": [],
   "source": [
    "pd_df_quality_control_concentrations = pd.read_csv(\n",
    "    open(\n",
    "        os.path.join(\n",
    "            dict_parameters[\"data directory path\"],\n",
    "            dict_parameters[\"quality control concentrations file name\"]\n",
    "        ),\n",
    "        \"rb\"\n",
    "    )\n",
    ")"
   ]
  },
  {
   "cell_type": "code",
   "execution_count": null,
   "id": "dd2b1983cfe7eff9",
   "metadata": {
    "ExecuteTime": {
     "end_time": "2024-09-17T02:07:08.124210Z",
     "start_time": "2024-09-17T02:07:08.106199Z"
    }
   },
   "outputs": [],
   "source": [
    "pd_df_quality_control_concentrations"
   ]
  },
  {
   "cell_type": "code",
   "execution_count": null,
   "id": "4e4a29689bf09ff3",
   "metadata": {
    "ExecuteTime": {
     "end_time": "2024-09-17T02:07:08.149945Z",
     "start_time": "2024-09-17T02:07:08.125372Z"
    }
   },
   "outputs": [],
   "source": [
    "pd_df_estimated_concentrations"
   ]
  },
  {
   "cell_type": "code",
   "execution_count": null,
   "id": "ea7594f1ca6f1862",
   "metadata": {
    "ExecuteTime": {
     "end_time": "2024-09-17T02:07:08.156994Z",
     "start_time": "2024-09-17T02:07:08.151478Z"
    }
   },
   "outputs": [],
   "source": [
    "pd_df_estimated_qc_concentrations = (\n",
    "    pd_df_estimated_concentrations[\n",
    "        pd_df_estimated_concentrations[\"sample name annotations\"]\n",
    "        .str.contains(\"QC-\\d+\", regex = True)\n",
    "    ]\n",
    ")"
   ]
  },
  {
   "cell_type": "code",
   "execution_count": null,
   "id": "147dec5b4c736d76",
   "metadata": {
    "ExecuteTime": {
     "end_time": "2024-09-17T02:07:08.181506Z",
     "start_time": "2024-09-17T02:07:08.158297Z"
    }
   },
   "outputs": [],
   "source": [
    "pd_df_estimated_qc_concentrations"
   ]
  },
  {
   "cell_type": "code",
   "execution_count": null,
   "id": "382455f7d922e7b",
   "metadata": {
    "ExecuteTime": {
     "end_time": "2024-09-17T02:07:08.189029Z",
     "start_time": "2024-09-17T02:07:08.184415Z"
    }
   },
   "outputs": [],
   "source": [
    "columns_to_keep = [\"sample name annotations\", \"plate number\"]\n",
    "for str_analyte in LIST_ANALYTES_TO_CHECK:\n",
    "    columns_to_keep.append(f\"estimated concentration {str_analyte}\")\n",
    "pd_df_estimated_qc_concentrations = pd_df_estimated_qc_concentrations[columns_to_keep]"
   ]
  },
  {
   "cell_type": "code",
   "execution_count": null,
   "id": "1e4ae083c58f1a19",
   "metadata": {
    "ExecuteTime": {
     "end_time": "2024-09-17T02:07:08.206251Z",
     "start_time": "2024-09-17T02:07:08.190469Z"
    }
   },
   "outputs": [],
   "source": [
    "pd_df_estimated_qc_concentrations"
   ]
  },
  {
   "cell_type": "code",
   "execution_count": null,
   "id": "aec8f3793ec5e0b5",
   "metadata": {
    "ExecuteTime": {
     "end_time": "2024-09-17T02:07:08.211557Z",
     "start_time": "2024-09-17T02:07:08.207546Z"
    }
   },
   "outputs": [],
   "source": [
    "pd_df_estimated_qc_concentrations = pd_df_estimated_qc_concentrations.rename(\n",
    "    columns = {f\"estimated concentration {str_analyte}\": str_analyte for str_analyte in LIST_ANALYTES_TO_CHECK}\n",
    ")"
   ]
  },
  {
   "cell_type": "code",
   "execution_count": null,
   "id": "15f822c7fa855e9d",
   "metadata": {
    "ExecuteTime": {
     "end_time": "2024-09-17T02:07:08.227866Z",
     "start_time": "2024-09-17T02:07:08.212721Z"
    }
   },
   "outputs": [],
   "source": [
    "pd_df_estimated_qc_concentrations"
   ]
  },
  {
   "cell_type": "code",
   "execution_count": null,
   "id": "68a6b46b03c899a9",
   "metadata": {
    "ExecuteTime": {
     "end_time": "2024-09-17T02:07:08.238168Z",
     "start_time": "2024-09-17T02:07:08.229714Z"
    }
   },
   "outputs": [],
   "source": [
    "pd_df_melted_estimated_qc_concentrations = pd_df_estimated_qc_concentrations.melt(\n",
    "    id_vars = [\"sample name annotations\", \"plate number\"],\n",
    "    var_name = \"analyte\",\n",
    "    value_name = \"concentration\"\n",
    ")"
   ]
  },
  {
   "cell_type": "code",
   "execution_count": null,
   "id": "e64fe46832e2e1c7",
   "metadata": {
    "ExecuteTime": {
     "end_time": "2024-09-17T02:07:08.250797Z",
     "start_time": "2024-09-17T02:07:08.239770Z"
    }
   },
   "outputs": [],
   "source": [
    "pd_df_melted_estimated_qc_concentrations"
   ]
  },
  {
   "cell_type": "code",
   "execution_count": null,
   "id": "1d1c0b7e5baabe9c",
   "metadata": {
    "ExecuteTime": {
     "end_time": "2024-09-17T02:07:08.260738Z",
     "start_time": "2024-09-17T02:07:08.252496Z"
    }
   },
   "outputs": [],
   "source": [
    "pd_df_melted_quality_control_concentrations = pd_df_quality_control_concentrations.melt(\n",
    "    id_vars = [\"QC name\"], \n",
    "    var_name = \"analyte bound\",\n",
    "    value_name = \"concentration\"\n",
    ")"
   ]
  },
  {
   "cell_type": "code",
   "execution_count": null,
   "id": "b41345c7866fa62f",
   "metadata": {
    "ExecuteTime": {
     "end_time": "2024-09-17T02:07:08.271592Z",
     "start_time": "2024-09-17T02:07:08.262167Z"
    }
   },
   "outputs": [],
   "source": [
    "pd_df_melted_quality_control_concentrations"
   ]
  },
  {
   "cell_type": "code",
   "execution_count": null,
   "id": "8602bf7c7456ca85",
   "metadata": {
    "ExecuteTime": {
     "end_time": "2024-09-17T02:07:08.277980Z",
     "start_time": "2024-09-17T02:07:08.273199Z"
    }
   },
   "outputs": [],
   "source": [
    "pd_df_melted_quality_control_concentrations[[\"analyte\", \"bound\"]] = pd_df_melted_quality_control_concentrations[\"analyte bound\"].str.split(\" \", expand = True)"
   ]
  },
  {
   "cell_type": "code",
   "execution_count": null,
   "id": "a16b5aaeed83d807",
   "metadata": {
    "ExecuteTime": {
     "end_time": "2024-09-17T02:07:08.283113Z",
     "start_time": "2024-09-17T02:07:08.279125Z"
    }
   },
   "outputs": [],
   "source": [
    "pd_df_melted_quality_control_concentrations = pd_df_melted_quality_control_concentrations.drop(columns = [\"analyte bound\"])"
   ]
  },
  {
   "cell_type": "code",
   "execution_count": null,
   "id": "c629479b9db81035",
   "metadata": {
    "ExecuteTime": {
     "end_time": "2024-09-17T02:07:08.295077Z",
     "start_time": "2024-09-17T02:07:08.284576Z"
    }
   },
   "outputs": [],
   "source": [
    "pd_df_melted_quality_control_concentrations"
   ]
  },
  {
   "cell_type": "code",
   "execution_count": null,
   "id": "c28761a9061ffb22",
   "metadata": {
    "ExecuteTime": {
     "end_time": "2024-09-17T02:07:08.307060Z",
     "start_time": "2024-09-17T02:07:08.296694Z"
    }
   },
   "outputs": [],
   "source": [
    "pd_df_pivoted_quality_control_concentrations = pd_df_melted_quality_control_concentrations.pivot(\n",
    "    index = [\"QC name\", \"analyte\"],\n",
    "    columns = \"bound\",\n",
    "    values = \"concentration\"\n",
    ").reset_index().rename(columns = {\"bound\": \"analyte\", \"QC name\": \"sample name annotations\"})"
   ]
  },
  {
   "cell_type": "code",
   "execution_count": null,
   "id": "2e6891737f9a87cf",
   "metadata": {
    "ExecuteTime": {
     "end_time": "2024-09-17T02:07:08.316617Z",
     "start_time": "2024-09-17T02:07:08.308043Z"
    }
   },
   "outputs": [],
   "source": [
    "pd_df_pivoted_quality_control_concentrations"
   ]
  },
  {
   "cell_type": "code",
   "execution_count": null,
   "id": "a176288c001e6d33",
   "metadata": {
    "ExecuteTime": {
     "end_time": "2024-09-17T02:07:08.324630Z",
     "start_time": "2024-09-17T02:07:08.318022Z"
    }
   },
   "outputs": [],
   "source": [
    "pd_df_estimates_and_bounds = pd.merge(\n",
    "    pd_df_melted_estimated_qc_concentrations,\n",
    "    pd_df_pivoted_quality_control_concentrations,\n",
    "    on = [\"sample name annotations\", \"analyte\"],\n",
    "    how = \"inner\"\n",
    ")"
   ]
  },
  {
   "cell_type": "code",
   "execution_count": null,
   "id": "7c493cac2411a23",
   "metadata": {
    "ExecuteTime": {
     "end_time": "2024-09-17T02:07:08.336467Z",
     "start_time": "2024-09-17T02:07:08.325762Z"
    }
   },
   "outputs": [],
   "source": [
    "pd_df_estimates_and_bounds"
   ]
  },
  {
   "cell_type": "code",
   "execution_count": null,
   "id": "add6f6549ad9b417",
   "metadata": {
    "ExecuteTime": {
     "end_time": "2024-09-17T02:07:08.348483Z",
     "start_time": "2024-09-17T02:07:08.338397Z"
    }
   },
   "outputs": [],
   "source": [
    "pd_df_estimates_and_bounds"
   ]
  },
  {
   "cell_type": "code",
   "execution_count": null,
   "id": "48e902c125fd67e6",
   "metadata": {
    "ExecuteTime": {
     "end_time": "2024-09-17T02:07:08.389091Z",
     "start_time": "2024-09-17T02:07:08.349988Z"
    }
   },
   "outputs": [],
   "source": [
    "dash_app_object_boxes = dash.Dash(__name__)\n",
    "\n",
    "dash_app_object_boxes.layout = html.Div([\n",
    "    html.H1(\"Plots of estimated concentrations\"),\n",
    "\n",
    "    html.Div([\n",
    "        html.Label(\"Plate:\"),\n",
    "        dcc.Dropdown(\n",
    "            id='plate-dropdown',\n",
    "            options=[\n",
    "                {'label': plate_number, 'value': plate_number} for plate_number in dict_parameters[\"plate number to file associations\"].keys()\n",
    "            ],\n",
    "            value=list(dict_parameters[\"plate number to file associations\"].keys())[0]\n",
    "        ),\n",
    "    ], style={'width': '20%', 'display': 'inline-block'}),\n",
    "    \n",
    "    html.Div([\n",
    "        html.Label(\"QC label:\"),\n",
    "        dcc.Dropdown(\n",
    "            id='qc-label-dropdown',\n",
    "            options=[\n",
    "                {'label': 'QC-1', 'value': 'QC-1'},\n",
    "                {'label': 'QC-2', 'value': 'QC-2'},\n",
    "            ],\n",
    "            value='QC-1',\n",
    "        ),\n",
    "    ], style={'width': '20%', 'display': 'inline-block'}),\n",
    "\n",
    "    dcc.Graph(id='scatter-plot')\n",
    "    \n",
    "], style={'backgroundColor': 'white', 'padding': '20px'})\n",
    "\n",
    "\n",
    "@dash_app_object_boxes.callback(\n",
    "    Output('scatter-plot', 'figure'),\n",
    "    Input('plate-dropdown', 'value'),\n",
    "    Input('qc-label-dropdown', 'value'),\n",
    ")\n",
    "def update_graph(int_plate_number, str_qc_label):\n",
    "    \n",
    "    logging.debug(int_plate_number)\n",
    "    logging.debug(str_qc_label)\n",
    "    logging.debug(pd_df_estimates_and_bounds)\n",
    "    \n",
    "    pd_df_data_to_plot = pd_df_estimates_and_bounds[\n",
    "        pd_df_estimates_and_bounds[\"plate number\"] == int(int_plate_number)\n",
    "    ]\n",
    "    pd_df_data_to_plot = pd_df_data_to_plot[\n",
    "        pd_df_data_to_plot[\"sample name annotations\"].str.contains(str(str_qc_label))\n",
    "    ]\n",
    "    \n",
    "    logging.debug(pd_df_data_to_plot)\n",
    "    \n",
    "    fig = go.Figure()\n",
    "    \n",
    "    for color, marker, size, column in zip(\n",
    "            ['green', 'red', 'blue'], \n",
    "            ['line-ew', 'line-ew', 'circle'],\n",
    "            [20, 20, 5],\n",
    "            ['low', 'high', 'concentration']\n",
    "    ):\n",
    "        fig.add_trace(\n",
    "            go.Box(\n",
    "                x=pd_df_data_to_plot[\"analyte\"],\n",
    "                y=pd_df_data_to_plot[column],\n",
    "                name=column,\n",
    "                boxpoints='all',\n",
    "                pointpos=0,\n",
    "                fillcolor='rgba(255,255,255,0)',\n",
    "                line=dict(color='rgba(255,255,255,0)'),\n",
    "                marker=dict(\n",
    "                    symbol=marker, color=color, size=size,\n",
    "                    line=dict(\n",
    "                        color=color, \n",
    "                        width=2,\n",
    "                    ),\n",
    "                ),\n",
    "            )\n",
    "        )\n",
    "    \n",
    "    fig.update_layout(\n",
    "        plot_bgcolor='white',\n",
    "        paper_bgcolor='white',\n",
    "        xaxis=dict(\n",
    "            title=\"Analyte\",\n",
    "            showgrid=False,\n",
    "            zeroline=False,\n",
    "            showline=True,\n",
    "            linecolor='black',\n",
    "            linewidth=2,\n",
    "            ticks='outside',\n",
    "            tickfont=dict(family='Arial', size=12, color='black'),\n",
    "        ),\n",
    "        yaxis=dict(\n",
    "            title=\"Concentration (pg/ml)\",\n",
    "            showgrid=True,\n",
    "            zeroline=True,\n",
    "            showline=True,\n",
    "            linecolor='black',\n",
    "            linewidth=2,\n",
    "            ticks='outside',\n",
    "            tickfont=dict(family='Arial', size=12, color='black'),\n",
    "        ),\n",
    "        font=dict(\n",
    "            family=\"Arial\",\n",
    "            size=16,\n",
    "            color=\"black\"\n",
    "        ),\n",
    "\n",
    "    )\n",
    "    \n",
    "    return fig\n",
    "\n",
    "# Run the app\n",
    "if __name__ == '__main__':\n",
    "    dash_app_object_boxes.run(jupyter_mode=\"inline\", debug = True, port=3358)"
   ]
  },
  {
   "cell_type": "code",
   "execution_count": null,
   "id": "b01b449cab3fc04a",
   "metadata": {
    "ExecuteTime": {
     "end_time": "2024-09-17T02:07:08.392712Z",
     "start_time": "2024-09-17T02:07:08.390509Z"
    }
   },
   "outputs": [],
   "source": []
  }
 ],
 "metadata": {
  "kernelspec": {
   "display_name": "Python 3",
   "language": "python",
   "name": "python3"
  },
  "language_info": {
   "codemirror_mode": {
    "name": "ipython",
    "version": 2
   },
   "file_extension": ".py",
   "mimetype": "text/x-python",
   "name": "python",
   "nbconvert_exporter": "python",
   "pygments_lexer": "ipython2",
   "version": "2.7.6"
  }
 },
 "nbformat": 4,
 "nbformat_minor": 5
}
