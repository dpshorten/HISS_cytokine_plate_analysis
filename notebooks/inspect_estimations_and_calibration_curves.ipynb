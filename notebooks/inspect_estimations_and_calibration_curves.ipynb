{
 "cells": [
  {
   "cell_type": "code",
   "execution_count": null,
   "id": "initial_id",
   "metadata": {
    "ExecuteTime": {
     "end_time": "2024-09-17T02:11:09.237480Z",
     "start_time": "2024-09-17T02:11:08.589581Z"
    }
   },
   "outputs": [],
   "source": [
    "import sys\n",
    "import os\n",
    "import yaml\n",
    "import numpy as np\n",
    "import dash\n",
    "from dash import dcc, html\n",
    "from dash.dependencies import Input, Output\n",
    "import plotly.graph_objects as go\n",
    "\n",
    "import pandas as pd\n",
    "pd.options.mode.chained_assignment = None\n",
    "\n",
    "sys.path.append('../python/')\n",
    "import plate_util\n",
    "import calibration_curves\n",
    "\n",
    "# Plotly Dash doesn't display error messages well, so we use logging \n",
    "import logging\n",
    "logging.basicConfig(level=logging.DEBUG, filename=\"dash_logs.log\")"
   ]
  },
  {
   "cell_type": "code",
   "execution_count": null,
   "id": "c8b706f08fef718",
   "metadata": {
    "ExecuteTime": {
     "end_time": "2024-09-17T02:11:09.255300Z",
     "start_time": "2024-09-17T02:11:09.239998Z"
    }
   },
   "outputs": [],
   "source": [
    "dict_parameters = yaml.safe_load(open(\"../parameters/july_2024_data_parameters.yaml\", \"r\"))"
   ]
  },
  {
   "cell_type": "code",
   "execution_count": null,
   "id": "449798204b14c8a8",
   "metadata": {
    "ExecuteTime": {
     "end_time": "2024-09-17T02:11:09.290714Z",
     "start_time": "2024-09-17T02:11:09.257753Z"
    }
   },
   "outputs": [],
   "source": [
    "pd_df_estimated_concentrations = pd.read_csv(\n",
    "        open(\n",
    "            os.path.join(\n",
    "                dict_parameters[\"output directory path\"],\n",
    "                dict_parameters[\"estimated concentrations file name\"]\n",
    "            ),\n",
    "            \"rb\"\n",
    "        ),\n",
    "    )"
   ]
  },
  {
   "cell_type": "code",
   "execution_count": null,
   "id": "f9238eb2fa3f02ca",
   "metadata": {
    "ExecuteTime": {
     "end_time": "2024-09-17T02:11:09.321712Z",
     "start_time": "2024-09-17T02:11:09.292707Z"
    }
   },
   "outputs": [],
   "source": [
    "pd_df_estimated_concentrations"
   ]
  },
  {
   "cell_type": "code",
   "execution_count": null,
   "id": "671eb83199669758",
   "metadata": {
    "ExecuteTime": {
     "end_time": "2024-09-17T02:11:09.357223Z",
     "start_time": "2024-09-17T02:11:09.323389Z"
    }
   },
   "outputs": [],
   "source": [
    "pd_df_plate_data_with_calibration_concentrations = pd.read_csv(\n",
    "        open(\n",
    "            os.path.join(\n",
    "                dict_parameters[\"output directory path\"],\n",
    "                dict_parameters[\"plate data with locations and calibration concentrations file name\"]\n",
    "            ),\n",
    "            \"rb\"\n",
    "        ),\n",
    "    index_col = 0,\n",
    "    )"
   ]
  },
  {
   "cell_type": "code",
   "execution_count": null,
   "id": "b948b35de3456281",
   "metadata": {
    "ExecuteTime": {
     "end_time": "2024-09-17T02:11:09.629877Z",
     "start_time": "2024-09-17T02:11:09.358749Z"
    }
   },
   "outputs": [],
   "source": [
    "pd_df_calibration_concentrations = plate_util.read_and_clean_calibration_concentrations(dict_parameters)"
   ]
  },
  {
   "cell_type": "code",
   "execution_count": null,
   "id": "1f3a67db518aa67f",
   "metadata": {
    "ExecuteTime": {
     "end_time": "2024-09-17T02:11:09.758680Z",
     "start_time": "2024-09-17T02:11:09.631609Z"
    }
   },
   "outputs": [],
   "source": [
    "dict_fitted_calibration_curves = yaml.safe_load(\n",
    "    open(\n",
    "            os.path.join(\n",
    "                dict_parameters[\"output directory path\"],\n",
    "                dict_parameters[\"fitted calibration curves file name\"]\n",
    "            ),\n",
    "            \"r\"\n",
    "        )\n",
    ")"
   ]
  },
  {
   "cell_type": "code",
   "execution_count": null,
   "id": "ec3a070d78cf7246",
   "metadata": {
    "ExecuteTime": {
     "end_time": "2024-09-17T02:11:09.810625Z",
     "start_time": "2024-09-17T02:11:09.761652Z"
    }
   },
   "outputs": [],
   "source": [
    "dash_app_object = dash.Dash(__name__)\n",
    "\n",
    "# Define the layout\n",
    "dash_app_object.layout = html.Div([\n",
    "    html.H1(\"Calibration Curve Inspection Plots\"),\n",
    "    \n",
    "    html.Div([\n",
    "        html.Label(\"Plate:\"),\n",
    "        dcc.Dropdown(\n",
    "            id='plate-number-dropdown',\n",
    "            options=[\n",
    "                {'label': col, 'value': col} \n",
    "                for col in dict_parameters[\"plate number to file associations\"].keys()\n",
    "            ],\n",
    "            value=list(dict_parameters[\"plate number to file associations\"].keys())[0]\n",
    "        ),\n",
    "    ], style={'width': '20%', 'display': 'inline-block'}),\n",
    "\n",
    "    html.Div([\n",
    "        html.Label(\"Sample:\"),\n",
    "        dcc.Dropdown(\n",
    "            id='sample-dropdown',\n",
    "        ),\n",
    "    ], style={'width': '20%', 'display': 'inline-block'}),\n",
    "\n",
    "    html.Div([\n",
    "        html.Label(\"Analyte:\"),\n",
    "        dcc.Dropdown(\n",
    "            id='analyte-dropdown',\n",
    "            options=[{'label': col, 'value': col} for col in dict_parameters[\"list of analytes\"]],\n",
    "            value=dict_parameters[\"list of analytes\"][0]\n",
    "        ),\n",
    "    ], style={'width': '20%', 'display': 'inline-block'}),\n",
    "\n",
    "    dcc.Graph(id='scatter-plot')\n",
    "], style={'backgroundColor': 'white', 'padding': '20px'})\n",
    "\n",
    "@dash_app_object.callback(\n",
    "    Output('sample-dropdown', 'options'),\n",
    "    Input('plate-number-dropdown', 'value')\n",
    ")\n",
    "def set_plate_number_options(selected_plate_number):\n",
    "    \n",
    "    pd_df_subset = (\n",
    "        pd_df_estimated_concentrations[\n",
    "            pd_df_estimated_concentrations[\"plate number\"] == selected_plate_number\n",
    "        ]\n",
    "    )\n",
    "    \n",
    "    return [\n",
    "        {'label': sample_name, 'value': sample_name} \n",
    "        for sample_name in pd_df_subset[\"sample name annotations\"].unique()\n",
    "    ]\n",
    "\n",
    "@dash_app_object.callback(\n",
    "    Output('scatter-plot', 'figure'),\n",
    "    Input('plate-number-dropdown', 'value'),\n",
    "    Input('analyte-dropdown', 'value'),\n",
    "    Input('sample-dropdown', 'value'),\n",
    ")\n",
    "def update_graph(plate_number, str_analyte, str_sample_name):\n",
    "    \n",
    "    dict_fit_results = (\n",
    "        dict_fitted_calibration_curves[\"calibration curves by plate\"][plate_number][str_analyte]\n",
    "    )\n",
    "    pd_df_one_plates_data = (\n",
    "        pd_df_plate_data_with_calibration_concentrations[\n",
    "            pd_df_plate_data_with_calibration_concentrations[\"plate number\"] == plate_number\n",
    "        ]\n",
    "    )\n",
    "    pd_df_one_plates_data = pd_df_one_plates_data[pd_df_one_plates_data[\"sample name annotations\"].str.contains(\"Std\")]\n",
    "    #pd_df_one_plates_data = pd_df_one_plates_data[~pd_df_one_plates_data[\"sample name annotations\"].str.contains(\"Std 0\")]\n",
    "    \n",
    "    np_curve_plot_points = np.logspace(\n",
    "        0,\n",
    "        np.log(max(pd_df_one_plates_data[str_analyte + \" Expected\"]))/np.log(10),\n",
    "        1000,\n",
    "        base = 10,\n",
    "        endpoint = False,\n",
    "    )\n",
    "    logging.debug(pd_df_one_plates_data[str_analyte + \" Expected\"])\n",
    "    #logging.debug(min(pd_df_one_plates_data[str_analyte + \" Expected\"]))\n",
    "    #logging.debug(np_curve_plot_points)\n",
    "    logging.debug(str_sample_name)\n",
    "\n",
    "    dict_marker_properties = {\"size\": 7}\n",
    "    \n",
    "    fig = go.Figure()\n",
    "    fig.add_traces(\n",
    "        go.Scatter(\n",
    "            x=pd_df_one_plates_data[str_analyte + \" Expected\"], \n",
    "            y=pd_df_one_plates_data[str_analyte + \" \" + dict_parameters[\"quantity for estimation\"]],\n",
    "            error_y={\n",
    "                    'type': 'data',\n",
    "                    'array': (\n",
    "                        pd_df_one_plates_data[str_analyte + \" Std Dev\"] /\n",
    "                        np.sqrt(pd_df_one_plates_data[str_analyte + \" Count\"])\n",
    "                    ),\n",
    "                    'visible': True\n",
    "                },\n",
    "            mode='markers', \n",
    "            name='calibration concentrations',\n",
    "            marker=dict_marker_properties,\n",
    "        )\n",
    "    )\n",
    "    fig.add_traces(\n",
    "        go.Scatter(\n",
    "            x=np_curve_plot_points, \n",
    "            y=calibration_curves.get_calibration_curve_function(dict_parameters)(\n",
    "                np_curve_plot_points, \n",
    "                *dict_fit_results[\"fitted parameters\"],\n",
    "            ),\n",
    "            mode='lines', \n",
    "            name='calibration curve',\n",
    "            line = {\"width\": 2},\n",
    "        )\n",
    "    )\n",
    "    if str_sample_name:\n",
    "        pd_df_estimations_for_selection = (\n",
    "            pd_df_estimated_concentrations[\n",
    "                (pd_df_estimated_concentrations[\"plate number\"] == plate_number) &\n",
    "                (pd_df_estimated_concentrations[\"sample name annotations\"] == str_sample_name)\n",
    "            ] \n",
    "        )\n",
    "        fig.add_traces(\n",
    "            go.Scatter(\n",
    "                x=pd_df_estimations_for_selection[\n",
    "                    dict_parameters[\"column name prefix for estimated concentrations\"] + str_analyte\n",
    "                ], \n",
    "                y=pd_df_estimations_for_selection[str_analyte + \" \" + dict_parameters[\"quantity for estimation\"]],\n",
    "                error_y={\n",
    "                    'type': 'data',\n",
    "                    'array': (\n",
    "                        pd_df_estimations_for_selection[str_analyte + \" Std Dev\"] /\n",
    "                        np.sqrt(pd_df_estimations_for_selection[str_analyte + \" Count\"])\n",
    "                    ),\n",
    "                    'visible': True\n",
    "                },\n",
    "                mode='markers', \n",
    "                name='estimated concentrations',\n",
    "                marker=dict_marker_properties,\n",
    "            )\n",
    "    )\n",
    "    fig.update_layout(\n",
    "        plot_bgcolor='white',\n",
    "        paper_bgcolor='white',\n",
    "        xaxis_type=\"log\",\n",
    "        xaxis_title=\"concentration\",\n",
    "        yaxis_title=\"fluorescent intensity\",\n",
    "        font=dict(\n",
    "            family=\"Arial\",\n",
    "            size=16,\n",
    "            color=\"black\"\n",
    "        )\n",
    "    )\n",
    "    return fig\n",
    "\n",
    "# Run the app\n",
    "if __name__ == '__main__':\n",
    "    dash_app_object.run(jupyter_mode=\"inline\", debug = True)"
   ]
  },
  {
   "cell_type": "markdown",
   "id": "47d78e2c5d759252",
   "metadata": {},
   "source": [
    "In the above plot, the error bars are the standard error of the estimate of the mean. That is, they are the figure reported as `Std Dev` divided by the square root of the figure reported as `Count` "
   ]
  }
 ],
 "metadata": {
  "kernelspec": {
   "display_name": "Python 3 (ipykernel)",
   "language": "python",
   "name": "python3"
  },
  "language_info": {
   "codemirror_mode": {
    "name": "ipython",
    "version": 3
   },
   "file_extension": ".py",
   "mimetype": "text/x-python",
   "name": "python",
   "nbconvert_exporter": "python",
   "pygments_lexer": "ipython3",
   "version": "3.11.9"
  }
 },
 "nbformat": 4,
 "nbformat_minor": 5
}
